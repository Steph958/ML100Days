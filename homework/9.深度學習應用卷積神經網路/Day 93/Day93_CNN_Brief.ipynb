{
  "nbformat": 4,
  "nbformat_minor": 0,
  "metadata": {
    "kernelspec": {
      "display_name": "Python 3",
      "language": "python",
      "name": "python3"
    },
    "language_info": {
      "codemirror_mode": {
        "name": "ipython",
        "version": 3
      },
      "file_extension": ".py",
      "mimetype": "text/x-python",
      "name": "python",
      "nbconvert_exporter": "python",
      "pygments_lexer": "ipython3",
      "version": "3.6.8"
    },
    "colab": {
      "name": "Day93-CNN_Brief.ipynb",
      "provenance": [],
      "collapsed_sections": []
    }
  },
  "cells": [
    {
      "cell_type": "markdown",
      "metadata": {
        "id": "8MfFyianUokA"
      },
      "source": [
        "# 目標:\n",
        "    運用 Keras 模組建構CNN, 了解 CNN 的架構\n",
        "    \n",
        "    "
      ]
    },
    {
      "cell_type": "markdown",
      "metadata": {
        "id": "l8H4nUpGUokA"
      },
      "source": [
        "# 範例重點\n",
        "    CNN 模型必要的: Convolution, Pooling, Flatten, Fully connection, Output, "
      ]
    },
    {
      "cell_type": "code",
      "metadata": {
        "colab": {
          "base_uri": "https://localhost:8080/"
        },
        "id": "0Acg4gBFUokA",
        "outputId": "54c0404d-0a23-496e-f52f-07f59c54f8e7"
      },
      "source": [
        "#導入相關模組\n",
        "import keras\n",
        "from keras import layers\n",
        "from keras import models\n",
        "from keras.models import Sequential\n",
        "from keras.layers import Conv2D, Activation, MaxPooling2D, Flatten, Dense\n",
        "\n",
        "#確認keras 版本\n",
        "print(keras.__version__)"
      ],
      "execution_count": 1,
      "outputs": [
        {
          "output_type": "stream",
          "text": [
            "2.4.3\n"
          ],
          "name": "stdout"
        }
      ]
    },
    {
      "cell_type": "code",
      "metadata": {
        "id": "TnF7yIriUokB"
      },
      "source": [
        "#建立一個序列模型\n",
        "model = models.Sequential()\n",
        "\n",
        "#建立一個卷績層, 32 個內核, 內核大小 3x3, \n",
        "#輸入影像大小 28x28x1\n",
        "model.add(layers.Conv2D(32, (3, 3), input_shape=(28, 28, 1)))\n",
        "\n",
        "#此層輸出 >> 26x26x32"
      ],
      "execution_count": 8,
      "outputs": []
    },
    {
      "cell_type": "code",
      "metadata": {
        "id": "B-neY00nUokB"
      },
      "source": [
        "#新增一池化層, 採用maxpooling\n",
        "model.add(MaxPooling2D(2,2))\n",
        "\n",
        "#此層輸出 >> 13x13x32"
      ],
      "execution_count": 9,
      "outputs": []
    },
    {
      "cell_type": "code",
      "metadata": {
        "id": "H5zDoE1ZUokB"
      },
      "source": [
        "#建立第二個卷績層, 池化層, \n",
        "#請注意, 不需要再輸入 input_shape\n",
        "\n",
        "model.add(layers.Conv2D(25,(3,3)))\n",
        "#此層輸出 >> 11x11x25\n",
        "\n",
        "model.add(MaxPooling2D(2,2))\n",
        "#此層輸出 >> 5x5x25"
      ],
      "execution_count": 10,
      "outputs": []
    },
    {
      "cell_type": "code",
      "metadata": {
        "id": "xUlB5_pUUokB"
      },
      "source": [
        "#新增平坦層\n",
        "model.add(Flatten())\n",
        "#此層輸出 >> 5x5x25=625"
      ],
      "execution_count": 11,
      "outputs": []
    },
    {
      "cell_type": "code",
      "metadata": {
        "id": "4naINQHYUokB"
      },
      "source": [
        "#建立一個全連接層\n",
        "model.add(Dense(units=100))\n",
        "model.add(Activation('relu'))\n",
        "\n",
        "#此層輸出 >> 100\n",
        "\n",
        "#建立一個輸出層, 並採用softmax\n",
        "model.add(Dense(units=10))\n",
        "model.add(Activation('softmax'))\n",
        "\n",
        "\n",
        "#此層輸出 >> 10"
      ],
      "execution_count": 12,
      "outputs": []
    },
    {
      "cell_type": "code",
      "metadata": {
        "colab": {
          "base_uri": "https://localhost:8080/"
        },
        "id": "mU2St3V3VZAP",
        "outputId": "28f46a90-c866-45ac-e1a9-bdede90388e7"
      },
      "source": [
        "model.summary()"
      ],
      "execution_count": 13,
      "outputs": [
        {
          "output_type": "stream",
          "text": [
            "Model: \"sequential_1\"\n",
            "_________________________________________________________________\n",
            "Layer (type)                 Output Shape              Param #   \n",
            "=================================================================\n",
            "conv2d_3 (Conv2D)            (None, 26, 26, 32)        320       \n",
            "_________________________________________________________________\n",
            "max_pooling2d_4 (MaxPooling2 (None, 13, 13, 32)        0         \n",
            "_________________________________________________________________\n",
            "conv2d_4 (Conv2D)            (None, 11, 11, 25)        7225      \n",
            "_________________________________________________________________\n",
            "max_pooling2d_5 (MaxPooling2 (None, 5, 5, 25)          0         \n",
            "_________________________________________________________________\n",
            "flatten (Flatten)            (None, 625)               0         \n",
            "_________________________________________________________________\n",
            "dense (Dense)                (None, 100)               62600     \n",
            "_________________________________________________________________\n",
            "activation (Activation)      (None, 100)               0         \n",
            "_________________________________________________________________\n",
            "dense_1 (Dense)              (None, 10)                1010      \n",
            "_________________________________________________________________\n",
            "activation_1 (Activation)    (None, 10)                0         \n",
            "=================================================================\n",
            "Total params: 71,155\n",
            "Trainable params: 71,155\n",
            "Non-trainable params: 0\n",
            "_________________________________________________________________\n"
          ],
          "name": "stdout"
        }
      ]
    },
    {
      "cell_type": "markdown",
      "metadata": {
        "id": "_5LhMYUhUokB"
      },
      "source": [
        "網路模型\n",
        "![Layers.png](attachment:Layers.png)"
      ]
    }
  ]
}