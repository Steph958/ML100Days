{
  "nbformat": 4,
  "nbformat_minor": 0,
  "metadata": {
    "kernelspec": {
      "display_name": "Python 3",
      "language": "python",
      "name": "python3"
    },
    "language_info": {
      "codemirror_mode": {
        "name": "ipython",
        "version": 3
      },
      "file_extension": ".py",
      "mimetype": "text/x-python",
      "name": "python",
      "nbconvert_exporter": "python",
      "pygments_lexer": "ipython3",
      "version": "3.6.8"
    },
    "colab": {
      "name": "Day95-CNN_Pooling_Padding_HW2.ipynb",
      "provenance": [],
      "collapsed_sections": []
    }
  },
  "cells": [
    {
      "cell_type": "markdown",
      "metadata": {
        "id": "29cmYokU1rfq"
      },
      "source": [
        "# 作業目標:\n",
        "    了解 Padding 的作法\n",
        "    \n",
        "    了解 Pooling 的作法"
      ]
    },
    {
      "cell_type": "markdown",
      "metadata": {
        "id": "SaMq-GFU1rfr"
      },
      "source": [
        "# 作業重點:\n",
        "    (1) 調整Padding 的設定, 看 Pad 後的結果\n",
        "    \n",
        "    (2) 調整Pooling 的設定, 看 Poolin 後的結果"
      ]
    },
    {
      "cell_type": "code",
      "metadata": {
        "id": "URN3rjxE1rfr"
      },
      "source": [
        "import numpy as np\n",
        "import h5py\n",
        "import matplotlib.pyplot as plt\n",
        "\n",
        "# 繪圖結果直接顯示在Jupyter cell 之內\n",
        "%matplotlib inline  \n",
        "plt.rcParams['figure.figsize'] = (5.0, 4.0) #  設定繪圖板的大小\n",
        "plt.rcParams['image.interpolation'] = 'nearest'\n",
        "plt.rcParams['image.cmap'] = 'gray'\n",
        "plt.show()\n",
        "\n",
        "# autoreload。可以讓我們不退出IPython就動態修改代碼，在執行代碼前IPython會幫我們自動重載改動的模塊\n",
        "%load_ext autoreload\n",
        "%autoreload 2\n",
        "np.random.seed(1)"
      ],
      "execution_count": 1,
      "outputs": []
    },
    {
      "cell_type": "code",
      "metadata": {
        "id": "KpdOSHmS1rfs"
      },
      "source": [
        "# GRADED FUNCTION: zero_pad\n",
        "def zero_pad(X, pad):\n",
        "    \"\"\"\n",
        "    對image X 做 zero-padding. \n",
        "    參數定義如下:\n",
        "    X -- python numpy array, 呈現維度 (m, n_H, n_W, n_C), 代表一批 m 個圖像\n",
        "         n_H: 圖高, n_W: 圖寬, n_C: color channels 數\n",
        "    pad -- 整數, 加幾圈的 zero padding.\n",
        "    Returns:\n",
        "    X_pad -- image of shape (m, n_H + 2*pad, n_W + 2*pad, n_C) 做完zero-padding 的結果\n",
        "    \"\"\"\n",
        "    \n",
        "    X_pad = np.pad(X, ((0, 0), (pad, pad), (pad, pad), (0, 0)), 'constant', constant_values=(0, 0))\n",
        "  \n",
        "    return X_pad"
      ],
      "execution_count": 2,
      "outputs": []
    },
    {
      "cell_type": "code",
      "metadata": {
        "colab": {
          "base_uri": "https://localhost:8080/",
          "height": 607
        },
        "id": "rBRqHoB91rfs",
        "outputId": "d09d8636-de34-42f0-8bf7-7b76625c596f"
      },
      "source": [
        "\n",
        "#作業修改\n",
        "np.random.seed(1)\n",
        "\n",
        "x = np.random.randn(10,10,8,6) #產生gray image\n",
        "x_pad = zero_pad(x,1) #加上1圈padding\n",
        "\n",
        "\n",
        "print (\"x.shape =\", x.shape)\n",
        "print (\"x_pad.shape =\", x_pad.shape)\n",
        "print (\"x[1,1] =\", x[1,1])\n",
        "print (\"x_pad[1,1] =\", x_pad[1,1])\n",
        "\n",
        "fig, axarr = plt.subplots(1, 2)\n",
        "axarr[0].set_title('x')\n",
        "axarr[0].imshow(x[0,:,:,0])\n",
        "axarr[1].set_title('x_pad')\n",
        "axarr[1].imshow(x_pad[0,:,:,0])"
      ],
      "execution_count": 3,
      "outputs": [
        {
          "output_type": "stream",
          "text": [
            "x.shape = (10, 10, 8, 6)\n",
            "x_pad.shape = (10, 12, 10, 6)\n",
            "x[1,1] = [[ 0.63658341  1.40925339  1.62091229 -0.80618482 -0.25167421  0.38271517]\n",
            " [-0.28899734 -0.39181624  0.68400133 -0.35340998 -1.78791289  0.36184732]\n",
            " [-0.42449279 -0.73153098 -1.56573815  1.01382247 -2.22711263 -1.6993336 ]\n",
            " [-0.27584606  1.22895559  1.30970591 -1.15498263 -0.1776322  -1.51045638]\n",
            " [ 1.01120706 -1.47656266 -0.14319575  1.03298378 -0.22241403  1.47016034]\n",
            " [-0.87000822  0.36919047  0.85328219 -0.13971173  1.38631426  0.54812958]\n",
            " [-1.63744959  3.9586027   0.64864364  0.10734329 -1.39881282  0.08176782]\n",
            " [-0.45994283  0.64435367  0.37167029  1.85300949  0.14225137  0.51350548]]\n",
            "x_pad[1,1] = [[ 0.          0.          0.          0.          0.          0.        ]\n",
            " [ 0.5154138  -1.11487105 -0.76730983  0.67457071  1.46089238  0.5924728 ]\n",
            " [ 1.19783084  1.70459417  1.04008915 -0.91844004 -0.10534471  0.63019567]\n",
            " [-0.4148469   0.45194604 -1.57915629 -0.82862798  0.52887975 -2.23708651]\n",
            " [-1.1077125  -0.01771832 -1.71939447  0.057121   -0.79954749 -0.2915946 ]\n",
            " [-0.25898285  0.1892932  -0.56378873  0.08968641 -0.6011568   0.55607351]\n",
            " [ 1.69380911  0.19686978  0.16986926 -1.16400797  0.69336623 -0.75806733]\n",
            " [-0.8088472   0.55743945  0.18103874  1.10717545  1.44287693 -0.53968156]\n",
            " [ 0.12837699  1.76041518  0.96653925  0.71304905  1.30620607 -0.60460297]\n",
            " [ 0.          0.          0.          0.          0.          0.        ]]\n"
          ],
          "name": "stdout"
        },
        {
          "output_type": "execute_result",
          "data": {
            "text/plain": [
              "<matplotlib.image.AxesImage at 0x7f54cb789e48>"
            ]
          },
          "metadata": {
            "tags": []
          },
          "execution_count": 3
        },
        {
          "output_type": "display_data",
          "data": {
            "image/png": "[encoded data removed]",
            "text/plain": [
              "<Figure size 432x288 with 2 Axes>"
            ]
          },
          "metadata": {
            "tags": [],
            "needs_background": "light"
          }
        }
      ]
    },
    {
      "cell_type": "code",
      "metadata": {
        "id": "_28d8Aml1rft"
      },
      "source": [
        "# GRADED FUNCTION: pool_forward\n",
        "\n",
        "def pool_forward(A_prev, hparameters, mode = \"max\"):\n",
        "    \"\"\"\n",
        "    設計一個前行網路的池化層\n",
        "    參數定義如下:\n",
        "    A_prev -- 輸入的numpy 陣列, 維度 (m, n_H_prev, n_W_prev, n_C_prev)\n",
        "    hparameter 超參數 --  \"f\" and \"stride\" 所形成的python 字典\n",
        "    mode -- 池化的模式: \"max\" or \"average\"\n",
        "    \n",
        "    返回:\n",
        "        A -- 輸出的池化層, 維度為 (m, n_H, n_W, n_C) 的 numpy 陣列\n",
        "        cache -- 可以應用在 backward pass pooling layer 資料, 包含 input and hparameter\n",
        "    \"\"\"\n",
        "\n",
        "    # 檢索尺寸 from the input shape\n",
        "    (m, n_H_prev, n_W_prev, n_C_prev) = A_prev.shape\n",
        " \n",
        "    # 檢索超參數 from \"hparameters\"\n",
        "    f = hparameters[\"f\"]\n",
        "    stride = hparameters[\"stride\"]\n",
        "\n",
        "    # 定義輸出的dimensions\n",
        "    n_H = int(1 + (n_H_prev - f) / stride)\n",
        "    n_W = int(1 + (n_W_prev - f) / stride)\n",
        "    n_C = n_C_prev\n",
        "\n",
        "    # 初始化輸出的 matrix A\n",
        "    A = np.zeros((m, n_H, n_W, n_C))\n",
        "\n",
        "    ### 程式起始位置  ###\n",
        "    for i in range(m): # 訓練樣本的for 迴圈\n",
        "        for h in range(n_H): # 輸出樣本的for 迴圈, 針對vertical axis\n",
        "            for w in range(n_W): #  輸出樣本的for 迴圈, 針對 horizontal axis\n",
        "                for c in range (n_C): #  輸出樣本的for 迴圈, 針對channels\n",
        "\n",
        "                     # 找出特徵圖的寬度跟高度四個點\n",
        "                    vert_start = h * stride\n",
        "                    vert_end = h * stride+ f\n",
        "                    horiz_start = w * stride\n",
        "                    horiz_end = w * stride + f\n",
        "\n",
        "                    # 定義第i個訓練示例\n",
        "                    a_prev_slice = A_prev[i, vert_start:vert_end, horiz_start:horiz_end,c]\n",
        "\n",
        "                    # 計算輸入data 的池化結果. 使用 if statment 去做分類\n",
        "                    if mode == \"max\":\n",
        "                        A[i, h, w, c] = np.max(a_prev_slice)\n",
        "                    elif mode == \"average\":\n",
        "                        A[i, h, w, c] = np.mean(a_prev_slice)\n",
        "\n",
        "                        ### 程式結束  ###\n",
        "    \n",
        "    # 儲存輸入的特徵圖跟所設定的超參數, 可以用在 pool_backward()\n",
        "    cache = (A_prev, hparameters)\n",
        "    \n",
        "    # 確認輸出的資料維度\n",
        "    assert(A.shape == (m, n_H, n_W, n_C))\n",
        "    return A, cache"
      ],
      "execution_count": 4,
      "outputs": []
    },
    {
      "cell_type": "code",
      "metadata": {
        "id": "4-W6E3K71rft",
        "colab": {
          "base_uri": "https://localhost:8080/"
        },
        "outputId": "2fccc612-6153-4f68-e270-fa810cb321b4"
      },
      "source": [
        "#作業修改\n",
        "\n",
        "np.random.seed(1)\n",
        "\n",
        "A_prev = np.random.randn(5,4,3,2)\n",
        "hparameters = {\"stride\":3, \"f\":1}\n",
        "\n",
        "\n",
        "A, cache = pool_forward(A_prev, hparameters)\n",
        "print(\"mode = max\")\n",
        "print(\"A =\", A)\n",
        "print()\n",
        "A, cache = pool_forward(A_prev, hparameters, mode = \"average\")\n",
        "print(\"mode = average\")\n",
        "print(\"A =\", A)"
      ],
      "execution_count": 7,
      "outputs": [
        {
          "output_type": "stream",
          "text": [
            "mode = max\n",
            "A = [[[[ 1.62434536 -0.61175641]]\n",
            "\n",
            "  [[ 0.04221375  0.58281521]]]\n",
            "\n",
            "\n",
            " [[[ 0.90085595 -0.68372786]]\n",
            "\n",
            "  [[-0.74715829  1.6924546 ]]]\n",
            "\n",
            "\n",
            " [[[ 0.12015895  0.61720311]]\n",
            "\n",
            "  [[ 1.13162939  1.51981682]]]\n",
            "\n",
            "\n",
            " [[[ 0.16003707  0.87616892]]\n",
            "\n",
            "  [[ 1.19891788  0.18515642]]]\n",
            "\n",
            "\n",
            " [[[-0.34385368  0.04359686]]\n",
            "\n",
            "  [[ 0.35054598 -1.31228341]]]]\n",
            "\n",
            "mode = average\n",
            "A = [[[[ 1.62434536 -0.61175641]]\n",
            "\n",
            "  [[ 0.04221375  0.58281521]]]\n",
            "\n",
            "\n",
            " [[[ 0.90085595 -0.68372786]]\n",
            "\n",
            "  [[-0.74715829  1.6924546 ]]]\n",
            "\n",
            "\n",
            " [[[ 0.12015895  0.61720311]]\n",
            "\n",
            "  [[ 1.13162939  1.51981682]]]\n",
            "\n",
            "\n",
            " [[[ 0.16003707  0.87616892]]\n",
            "\n",
            "  [[ 1.19891788  0.18515642]]]\n",
            "\n",
            "\n",
            " [[[-0.34385368  0.04359686]]\n",
            "\n",
            "  [[ 0.35054598 -1.31228341]]]]\n"
          ],
          "name": "stdout"
        }
      ]
    },
    {
      "cell_type": "code",
      "metadata": {
        "id": "Px4PAYJa1rft"
      },
      "source": [
        ""
      ],
      "execution_count": null,
      "outputs": []
    }
  ]
}