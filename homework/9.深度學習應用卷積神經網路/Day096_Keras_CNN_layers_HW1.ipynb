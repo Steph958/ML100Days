{
  "nbformat": 4,
  "nbformat_minor": 0,
  "metadata": {
    "kernelspec": {
      "display_name": "Python 3",
      "language": "python",
      "name": "python3"
    },
    "language_info": {
      "codemirror_mode": {
        "name": "ipython",
        "version": 3
      },
      "file_extension": ".py",
      "mimetype": "text/x-python",
      "name": "python",
      "nbconvert_exporter": "python",
      "pygments_lexer": "ipython3",
      "version": "3.6.2"
    },
    "colab": {
      "name": "Day096_Keras_CNN_layers_HW1.ipynb",
      "provenance": []
    }
  },
  "cells": [
    {
      "cell_type": "code",
      "metadata": {
        "id": "QQjfqKVkCCfQ"
      },
      "source": [
        "from keras.layers import Conv2D, SeparableConv2D, Input\n",
        "from keras.models import Model"
      ],
      "execution_count": 2,
      "outputs": []
    },
    {
      "cell_type": "code",
      "metadata": {
        "id": "gey4z3pHCCfR"
      },
      "source": [
        "input_image = Input((224, 224, 3))\n",
        "feature_maps = Conv2D(filters=32, kernel_size=(3,3))(input_image)\n",
        "feature_maps2 = Conv2D(filters=64, kernel_size=(3,3))(feature_maps)\n",
        "model = Model(inputs=input_image, outputs=feature_maps2)"
      ],
      "execution_count": 3,
      "outputs": []
    },
    {
      "cell_type": "code",
      "metadata": {
        "colab": {
          "base_uri": "https://localhost:8080/"
        },
        "id": "sPNYidRcCCfR",
        "outputId": "5aa4851b-9f7c-4628-eeb7-cfac959fc301"
      },
      "source": [
        "model.summary()"
      ],
      "execution_count": 4,
      "outputs": [
        {
          "output_type": "stream",
          "text": [
            "Model: \"functional_1\"\n",
            "_________________________________________________________________\n",
            "Layer (type)                 Output Shape              Param #   \n",
            "=================================================================\n",
            "input_1 (InputLayer)         [(None, 224, 224, 3)]     0         \n",
            "_________________________________________________________________\n",
            "conv2d (Conv2D)              (None, 222, 222, 32)      896       \n",
            "_________________________________________________________________\n",
            "conv2d_1 (Conv2D)            (None, 220, 220, 64)      18496     \n",
            "=================================================================\n",
            "Total params: 19,392\n",
            "Trainable params: 19,392\n",
            "Non-trainable params: 0\n",
            "_________________________________________________________________\n"
          ],
          "name": "stdout"
        }
      ]
    },
    {
      "cell_type": "markdown",
      "metadata": {
        "id": "Kr5jcO0ID8nI"
      },
      "source": [
        "# 同樣模型，改用序列式建立:"
      ]
    },
    {
      "cell_type": "code",
      "metadata": {
        "colab": {
          "base_uri": "https://localhost:8080/"
        },
        "id": "AOaQr0m0CXGO",
        "outputId": "250f94c2-545b-4bb7-858a-48688940ce20"
      },
      "source": [
        "#CNN相關套件模組\n",
        "import keras\n",
        "from keras import layers\n",
        "from keras import models\n",
        "from keras.models import Sequential\n",
        "from keras.layers import Conv2D, Activation, MaxPooling2D, Flatten, Dense\n",
        "\n",
        "model = models.Sequential()\n",
        "model.add(Conv2D(32,(3,3),input_shape=(224,224,3)))\n",
        "model.add(Conv2D(64,(3,3)))\n",
        "\n",
        "model.summary()"
      ],
      "execution_count": 7,
      "outputs": [
        {
          "output_type": "stream",
          "text": [
            "Model: \"sequential_1\"\n",
            "_________________________________________________________________\n",
            "Layer (type)                 Output Shape              Param #   \n",
            "=================================================================\n",
            "conv2d_4 (Conv2D)            (None, 222, 222, 32)      896       \n",
            "_________________________________________________________________\n",
            "conv2d_5 (Conv2D)            (None, 220, 220, 64)      18496     \n",
            "=================================================================\n",
            "Total params: 19,392\n",
            "Trainable params: 19,392\n",
            "Non-trainable params: 0\n",
            "_________________________________________________________________\n"
          ],
          "name": "stdout"
        }
      ]
    },
    {
      "cell_type": "markdown",
      "metadata": {
        "id": "iKFbEOJnCCfT"
      },
      "source": [
        "## 可以看到經過兩次 Conv2D，如果沒有設定 padding=\"SAME\"，圖就會越來越小，同時特徵圖的 channel 數與 filters 的數量一致"
      ]
    },
    {
      "cell_type": "markdown",
      "metadata": {
        "id": "Sm7eO-VoE8Pb"
      },
      "source": [
        "# SeparableConv2D:\n",
        "\n",
        "全名稱做 Depthwise Separable Convolution，與常用的 Conv2D 效果類似，但是參數量可以大幅減少，減輕對硬體的需求\n",
        "\n",
        "對影像做兩次卷積，第一次稱為 DetphWise Conv，對影像的三個通道獨立做卷積，得到三張特徵圖；第二次稱為 PointWise Conv，使用 1x1 的 filter 尺寸做卷積。兩次卷積結合起來可以跟常用的卷積達到接近的效果，但參數量卻遠少於常見的卷積\n"
      ]
    },
    {
      "cell_type": "code",
      "metadata": {
        "colab": {
          "base_uri": "https://localhost:8080/"
        },
        "id": "ptmz4FpUCCfT",
        "outputId": "797fcc8a-2f7f-4bb0-9c68-9a190e38717b"
      },
      "source": [
        "input_image = Input((224, 224, 3))\n",
        "feature_maps = SeparableConv2D(filters=32, kernel_size=(3,3))(input_image)\n",
        "feature_maps2 = SeparableConv2D(filters=64, kernel_size=(3,3))(feature_maps)\n",
        "model = Model(inputs=input_image, outputs=feature_maps2)\n",
        "\n",
        "model.summary()"
      ],
      "execution_count": 9,
      "outputs": [
        {
          "output_type": "stream",
          "text": [
            "Model: \"functional_5\"\n",
            "_________________________________________________________________\n",
            "Layer (type)                 Output Shape              Param #   \n",
            "=================================================================\n",
            "input_3 (InputLayer)         [(None, 224, 224, 3)]     0         \n",
            "_________________________________________________________________\n",
            "separable_conv2d_2 (Separabl (None, 222, 222, 32)      155       \n",
            "_________________________________________________________________\n",
            "separable_conv2d_3 (Separabl (None, 220, 220, 64)      2400      \n",
            "=================================================================\n",
            "Total params: 2,555\n",
            "Trainable params: 2,555\n",
            "Non-trainable params: 0\n",
            "_________________________________________________________________\n"
          ],
          "name": "stdout"
        }
      ]
    },
    {
      "cell_type": "markdown",
      "metadata": {
        "id": "yo8cY1mmETnK"
      },
      "source": [
        "# 也用序列式建立看看:"
      ]
    },
    {
      "cell_type": "code",
      "metadata": {
        "colab": {
          "base_uri": "https://localhost:8080/"
        },
        "id": "o9K5j4UnEQfC",
        "outputId": "5b4adb29-62fc-485a-d945-f437b1bc86cf"
      },
      "source": [
        "#CNN相關套件模組\n",
        "import keras\n",
        "from keras import layers\n",
        "from keras import models\n",
        "from keras.models import Sequential\n",
        "from keras.layers import Conv2D, Activation, MaxPooling2D, Flatten, Dense\n",
        "\n",
        "model = models.Sequential()\n",
        "model.add(SeparableConv2D(32,(3,3),input_shape=(224,224,3)))\n",
        "model.add(SeparableConv2D(64,(3,3)))\n",
        "\n",
        "model.summary()"
      ],
      "execution_count": 11,
      "outputs": [
        {
          "output_type": "stream",
          "text": [
            "Model: \"sequential_2\"\n",
            "_________________________________________________________________\n",
            "Layer (type)                 Output Shape              Param #   \n",
            "=================================================================\n",
            "separable_conv2d_4 (Separabl (None, 222, 222, 32)      155       \n",
            "_________________________________________________________________\n",
            "separable_conv2d_5 (Separabl (None, 220, 220, 64)      2400      \n",
            "=================================================================\n",
            "Total params: 2,555\n",
            "Trainable params: 2,555\n",
            "Non-trainable params: 0\n",
            "_________________________________________________________________\n"
          ],
          "name": "stdout"
        }
      ]
    },
    {
      "cell_type": "markdown",
      "metadata": {
        "id": "cd9mM5DdCCfT"
      },
      "source": [
        "## 可以看到使用 Seperable Conv2D，即使模型設置都一模一樣，但是參數量明顯減少非常多！"
      ]
    },
    {
      "cell_type": "markdown",
      "metadata": {
        "id": "oUIMBo9_CCfT"
      },
      "source": [
        "## 作業"
      ]
    },
    {
      "cell_type": "markdown",
      "metadata": {
        "id": "ZF_FRwl6CCfT"
      },
      "source": [
        "請閱讀 Keras 官方範例 [mnist_cnn.py](https://github.com/keras-team/keras/blob/master/examples/mnist_cnn.py)  \n",
        "\n",
        "並回答下列問題。僅有 70 行程式碼，請確保每一行的程式碼你都能夠理解目的\n",
        "\n",
        "1. 是否有對資料做標準化 (normalization)? 如果有，在哪幾行?\n",
        "2. 使用的優化器 Optimizer 為何?\n",
        "3. 模型總共疊了幾層卷積層?\n",
        "4. 模型的參數量是多少?\n"
      ]
    },
    {
      "cell_type": "code",
      "metadata": {
        "colab": {
          "base_uri": "https://localhost:8080/"
        },
        "id": "sfwMBm2FCCfT",
        "outputId": "cfe38417-a49e-4ccf-c252-ea806fa594f3"
      },
      "source": [
        "'''Trains a simple convnet on the MNIST dataset.\n",
        "Gets to 98.97% test accuracy after 12 epochs\n",
        "'''\n",
        "\n",
        "from __future__ import print_function\n",
        "import keras\n",
        "from keras.datasets import mnist\n",
        "from keras.models import Sequential\n",
        "from keras.layers import Dense, Dropout, Flatten\n",
        "from keras.layers import Conv2D, MaxPooling2D\n",
        "from keras import backend as K\n",
        "\n",
        "# 基本設定:\n",
        "batch_size = 128\n",
        "num_classes = 10\n",
        "epochs = 12\n",
        "\n",
        "# input image dimensions\n",
        "img_rows, img_cols = 28, 28\n",
        "\n",
        "# the data, shuffled and split between train and test sets\n",
        "(x_train, y_train), (x_test, y_test) = mnist.load_data()\n",
        "\n",
        "print(x_train.shape)\n",
        "print(x_test.shape)\n",
        "print(y_train.shape)\n",
        "print(y_test.shape)\n"
      ],
      "execution_count": 14,
      "outputs": [
        {
          "output_type": "stream",
          "text": [
            "(60000, 28, 28)\n",
            "(10000, 28, 28)\n",
            "(60000,)\n",
            "(10000,)\n"
          ],
          "name": "stdout"
        }
      ]
    },
    {
      "cell_type": "code",
      "metadata": {
        "colab": {
          "base_uri": "https://localhost:8080/"
        },
        "id": "nKMMRMLLF98T",
        "outputId": "fa7c5667-3349-42d4-b08e-89e31701c595"
      },
      "source": [
        "#改為適合的資料維度:\n",
        "if K.image_data_format() == 'channels_first':\n",
        "    x_train = x_train.reshape(x_train.shape[0], 1, img_rows, img_cols)\n",
        "    x_test = x_test.reshape(x_test.shape[0], 1, img_rows, img_cols)\n",
        "    input_shape = (1, img_rows, img_cols)\n",
        "else:\n",
        "    x_train = x_train.reshape(x_train.shape[0], img_rows, img_cols, 1)\n",
        "    x_test = x_test.reshape(x_test.shape[0], img_rows, img_cols, 1)\n",
        "    input_shape = (img_rows, img_cols, 1)\n",
        "\n",
        "print(x_train.shape)\n",
        "print(x_test.shape)\n",
        "#print(y_train.shape)\n",
        "#print(y_test.shape)"
      ],
      "execution_count": 16,
      "outputs": [
        {
          "output_type": "stream",
          "text": [
            "(60000, 28, 28, 1)\n",
            "(10000, 28, 28, 1)\n"
          ],
          "name": "stdout"
        }
      ]
    },
    {
      "cell_type": "code",
      "metadata": {
        "colab": {
          "base_uri": "https://localhost:8080/"
        },
        "id": "3wR-xFj_F9_w",
        "outputId": "7daa10a5-0c87-4290-a0e7-4a2ce46e9c7a"
      },
      "source": [
        "#資料標準化\n",
        "x_train = x_train.astype('float32')\n",
        "x_test = x_test.astype('float32')\n",
        "x_train /= 255\n",
        "x_test /= 255\n",
        "\n",
        "print('x_train shape:', x_train.shape)\n",
        "print(x_train.shape[0], 'train samples')\n",
        "print(x_test.shape[0], 'test samples')"
      ],
      "execution_count": 17,
      "outputs": [
        {
          "output_type": "stream",
          "text": [
            "x_train shape: (60000, 28, 28, 1)\n",
            "60000 train samples\n",
            "10000 test samples\n"
          ],
          "name": "stdout"
        }
      ]
    },
    {
      "cell_type": "code",
      "metadata": {
        "id": "UG-CxD6KF-DH"
      },
      "source": [
        "# convert class vectors to binary class matrices\n",
        "y_train = keras.utils.to_categorical(y_train, num_classes)\n",
        "y_test = keras.utils.to_categorical(y_test, num_classes)"
      ],
      "execution_count": 18,
      "outputs": []
    },
    {
      "cell_type": "code",
      "metadata": {
        "colab": {
          "base_uri": "https://localhost:8080/"
        },
        "id": "0nMdPjLUF5oy",
        "outputId": "054a1348-325f-4361-b0e7-57fc3ec334af"
      },
      "source": [
        "#建立序列式模型:\n",
        "model = Sequential()\n",
        "\n",
        "model.add(Conv2D(32, kernel_size=(3, 3),\n",
        "                 activation='relu',\n",
        "                 input_shape=input_shape)) #輸入層 & 卷積層1\n",
        "\n",
        "model.add(Conv2D(64, (3, 3), activation='relu')) #卷積層2\n",
        "\n",
        "model.add(MaxPooling2D(pool_size=(2, 2))) #池化層1\n",
        "\n",
        "model.add(Dropout(0.25)) #隨機丟棄\n",
        "\n",
        "model.add(Flatten()) #維度拉平\n",
        "\n",
        "model.add(Dense(128, activation='relu')) #全連接層\n",
        "\n",
        "model.add(Dropout(0.5)) #隨機丟棄\n",
        "\n",
        "model.add(Dense(num_classes, activation='softmax')) #全連接層 & 輸出層\n",
        "\n",
        "model.compile(loss=keras.losses.categorical_crossentropy,\n",
        "              optimizer=keras.optimizers.Adadelta(),\n",
        "              metrics=['accuracy'])\n",
        "\n",
        "model.fit(x_train, y_train,\n",
        "          batch_size=batch_size,\n",
        "          epochs=epochs,\n",
        "          verbose=1,\n",
        "          validation_data=(x_test, y_test))\n",
        "\n",
        "model.summary()"
      ],
      "execution_count": 19,
      "outputs": [
        {
          "output_type": "stream",
          "text": [
            "Epoch 1/12\n",
            "469/469 [==============================] - 140s 299ms/step - loss: 2.2849 - accuracy: 0.1382 - val_loss: 2.2457 - val_accuracy: 0.2931\n",
            "Epoch 2/12\n",
            "469/469 [==============================] - 140s 300ms/step - loss: 2.2246 - accuracy: 0.2388 - val_loss: 2.1732 - val_accuracy: 0.4391\n",
            "Epoch 3/12\n",
            "469/469 [==============================] - 145s 308ms/step - loss: 2.1501 - accuracy: 0.3338 - val_loss: 2.0785 - val_accuracy: 0.5605\n",
            "Epoch 4/12\n",
            "469/469 [==============================] - 140s 299ms/step - loss: 2.0519 - accuracy: 0.4121 - val_loss: 1.9531 - val_accuracy: 0.6352\n",
            "Epoch 5/12\n",
            "469/469 [==============================] - 141s 300ms/step - loss: 1.9264 - accuracy: 0.4798 - val_loss: 1.7928 - val_accuracy: 0.6886\n",
            "Epoch 6/12\n",
            "469/469 [==============================] - 141s 300ms/step - loss: 1.7749 - accuracy: 0.5387 - val_loss: 1.6025 - val_accuracy: 0.7233\n",
            "Epoch 7/12\n",
            "469/469 [==============================] - 141s 300ms/step - loss: 1.6078 - accuracy: 0.5784 - val_loss: 1.4008 - val_accuracy: 0.7490\n",
            "Epoch 8/12\n",
            "469/469 [==============================] - 146s 311ms/step - loss: 1.4450 - accuracy: 0.6143 - val_loss: 1.2133 - val_accuracy: 0.7686\n",
            "Epoch 9/12\n",
            "469/469 [==============================] - 140s 298ms/step - loss: 1.3019 - accuracy: 0.6379 - val_loss: 1.0562 - val_accuracy: 0.7858\n",
            "Epoch 10/12\n",
            "469/469 [==============================] - 141s 300ms/step - loss: 1.1855 - accuracy: 0.6611 - val_loss: 0.9306 - val_accuracy: 0.8017\n",
            "Epoch 11/12\n",
            "469/469 [==============================] - 140s 299ms/step - loss: 1.0898 - accuracy: 0.6809 - val_loss: 0.8335 - val_accuracy: 0.8132\n",
            "Epoch 12/12\n",
            "469/469 [==============================] - 141s 301ms/step - loss: 1.0125 - accuracy: 0.6986 - val_loss: 0.7567 - val_accuracy: 0.8254\n",
            "Model: \"sequential_3\"\n",
            "_________________________________________________________________\n",
            "Layer (type)                 Output Shape              Param #   \n",
            "=================================================================\n",
            "conv2d_6 (Conv2D)            (None, 26, 26, 32)        320       \n",
            "_________________________________________________________________\n",
            "conv2d_7 (Conv2D)            (None, 24, 24, 64)        18496     \n",
            "_________________________________________________________________\n",
            "max_pooling2d (MaxPooling2D) (None, 12, 12, 64)        0         \n",
            "_________________________________________________________________\n",
            "dropout (Dropout)            (None, 12, 12, 64)        0         \n",
            "_________________________________________________________________\n",
            "flatten (Flatten)            (None, 9216)              0         \n",
            "_________________________________________________________________\n",
            "dense (Dense)                (None, 128)               1179776   \n",
            "_________________________________________________________________\n",
            "dropout_1 (Dropout)          (None, 128)               0         \n",
            "_________________________________________________________________\n",
            "dense_1 (Dense)              (None, 10)                1290      \n",
            "=================================================================\n",
            "Total params: 1,199,882\n",
            "Trainable params: 1,199,882\n",
            "Non-trainable params: 0\n",
            "_________________________________________________________________\n"
          ],
          "name": "stdout"
        }
      ]
    },
    {
      "cell_type": "code",
      "metadata": {
        "id": "aTeenn_qHy60"
      },
      "source": [
        "作業１：是否有對資料做標準化 (normalization)？ 如果有，在哪幾行？\n",
        "\n",
        "Ans:有，除以255的那段\n",
        "\n",
        "作業２：使用的優化器 Optimizer 為何？ \n",
        "\n",
        "Ans:使用Adadelta\n",
        "\n",
        "作業３：模型總共疊了幾層卷積層？ \n",
        "\n",
        "Ans:2層\n",
        "\n",
        "作業４：模型的參數量是多少？\n",
        "\n",
        "Ans:一共1,199,882個參數"
      ],
      "execution_count": null,
      "outputs": []
    },
    {
      "cell_type": "markdown",
      "metadata": {
        "id": "a7-47qdbPB_z"
      },
      "source": [
        "# 作業１：是否有對資料做標準化 (normalization)？ 如果有，在哪幾行？\n",
        "\n",
        "  Ans:有，除以255的那段\n",
        "\n",
        "# 作業２：使用的優化器 Optimizer 為何？ \n",
        "\n",
        "  Ans:使用Adadelta\n",
        "\n",
        "# 作業３：模型總共疊了幾層卷積層？ \n",
        "\n",
        "  Ans:2層\n",
        "\n",
        "# 作業４：模型的參數量是多少？\n",
        "\n",
        "  Ans:一共1,199,882個參數"
      ]
    },
    {
      "cell_type": "code",
      "metadata": {
        "colab": {
          "base_uri": "https://localhost:8080/"
        },
        "id": "RUj0yM09Hzx0",
        "outputId": "05e1b2e1-5135-470a-93f3-ed6acf97c855"
      },
      "source": [
        "#模型準確率評估:\n",
        "score = model.evaluate(x_test, y_test, verbose=0)\n",
        "\n",
        "print('Test loss:', score[0])\n",
        "print('Test accuracy:', score[1])"
      ],
      "execution_count": 20,
      "outputs": [
        {
          "output_type": "stream",
          "text": [
            "Test loss: 0.7566702365875244\n",
            "Test accuracy: 0.8253999948501587\n"
          ],
          "name": "stdout"
        }
      ]
    },
    {
      "cell_type": "code",
      "metadata": {
        "id": "Lq14J_BjPXnF"
      },
      "source": [
        ""
      ],
      "execution_count": null,
      "outputs": []
    }
  ]
}