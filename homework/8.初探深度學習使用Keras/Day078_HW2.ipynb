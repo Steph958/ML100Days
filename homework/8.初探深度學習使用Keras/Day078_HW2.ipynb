{
  "nbformat": 4,
  "nbformat_minor": 0,
  "metadata": {
    "kernelspec": {
      "display_name": "Python 3",
      "language": "python",
      "name": "python3"
    },
    "language_info": {
      "codemirror_mode": {
        "name": "ipython",
        "version": 3
      },
      "file_extension": ".py",
      "mimetype": "text/x-python",
      "name": "python",
      "nbconvert_exporter": "python",
      "pygments_lexer": "ipython3",
      "version": "3.6.5"
    },
    "colab": {
      "name": "Day078_HW2.ipynb",
      "provenance": [],
      "collapsed_sections": []
    }
  },
  "cells": [
    {
      "cell_type": "markdown",
      "metadata": {
        "id": "FKFwpQzCqdRK"
      },
      "source": [
        "## Work\n",
        "1. 請嘗試將 preproc_x 替換成以每筆資料的 min/max 進行標準化至 -1 ~ 1 間，再進行訓練\n",
        "2. 請嘗試將 mlp 疊更深 (e.g 5~10 層)，進行訓練後觀察 learning curve 的走勢\n",
        "3. (optional) 請改用 GPU 進行訓練 (如果你有 GPU 的話)，比較使用 CPU 與 GPU 的訓練速度"
      ]
    },
    {
      "cell_type": "code",
      "metadata": {
        "id": "KBiOxXkbqdRO"
      },
      "source": [
        "## 確認硬體資源 (如果你是在 Linux)\n",
        "#!nvidia-smi\n",
        "\n",
        "# 若是在 Windows, 請參考 https://blog.csdn.net/idwtwt/article/details/78017565)\n",
        "\n",
        "#或直接在命令提示字元中察看:\n",
        "#nvidia-smi\n",
        "#nvidia-smi.exe -h\n",
        "\n"
      ],
      "execution_count": 7,
      "outputs": []
    },
    {
      "cell_type": "code",
      "metadata": {
        "id": "OlyMcY08qdRR"
      },
      "source": [
        "import os\n",
        "import keras\n",
        "\n",
        "# 請嘗試設定 GPU：os.environ\n",
        "os.environ[\"CUDA_VISIBLE_DEVICES\"] = \"GPU\""
      ],
      "execution_count": 8,
      "outputs": []
    },
    {
      "cell_type": "code",
      "metadata": {
        "id": "SWp4PkdjqdRT",
        "outputId": "a8fd6b53-52c4-4436-d51a-0e97a85fd6f2",
        "colab": {
          "base_uri": "https://localhost:8080/"
        }
      },
      "source": [
        "train, test = keras.datasets.cifar10.load_data()"
      ],
      "execution_count": 9,
      "outputs": [
        {
          "output_type": "stream",
          "text": [
            "Downloading data from https://www.cs.toronto.edu/~kriz/cifar-10-python.tar.gz\n",
            "170500096/170498071 [==============================] - 11s 0us/step\n"
          ],
          "name": "stdout"
        }
      ]
    },
    {
      "cell_type": "code",
      "metadata": {
        "id": "Pf6S3OwVqdRW"
      },
      "source": [
        "## 資料前處理\n",
        "\"\"\"\n",
        "Your code here\n",
        "\"\"\"\n",
        "def preproc_x(x, flatten=True):\n",
        "    x = x / 255.\n",
        "    if flatten:\n",
        "        x = x.reshape((len(x), -1))\n",
        "    return x\n",
        "\n",
        "def preproc_y(y, num_classes=10):\n",
        "    if y.shape[-1] == 1:\n",
        "        y = keras.utils.to_categorical(y, num_classes)\n",
        "    return y "
      ],
      "execution_count": 10,
      "outputs": []
    },
    {
      "cell_type": "code",
      "metadata": {
        "id": "H32GWrkjqdRY"
      },
      "source": [
        "x_train, y_train = train\n",
        "x_test, y_test = test\n",
        "\n",
        "# Preproc the inputs\n",
        "x_train = preproc_x(x_train)\n",
        "x_test = preproc_x(x_test)\n",
        "\n",
        "# Preprc the outputs\n",
        "y_train = preproc_y(y_train)\n",
        "y_test = preproc_y(y_test)"
      ],
      "execution_count": 11,
      "outputs": []
    },
    {
      "cell_type": "code",
      "metadata": {
        "id": "zir77YUJqdRb"
      },
      "source": [
        "\"\"\"Code Here\n",
        "建立你的神經網路\n",
        "\"\"\"\n",
        "def build_mlp(input_shape, output_units=10, num_neurons=[512, 256, 256, 128,128, 64, 64, 32]): \n",
        "  #第一層隱藏層有512個神經元、第二層有256個、第三層有256個......\n",
        "    \n",
        "    input_layer = keras.layers.Input(input_shape)\n",
        "    \n",
        "    for i, n_units in enumerate(num_neurons): #設定隱藏層\n",
        "        if i == 0:\n",
        "            x = keras.layers.Dense(units=n_units, activation=\"relu\", name=\"hidden_layer\"+str(i+1))(input_layer)#第一層\n",
        "        else:\n",
        "            x = keras.layers.Dense(units=n_units, activation=\"relu\", name=\"hidden_layer\"+str(i+1))(x) #第二層、第三層....\n",
        "    \n",
        "    out = keras.layers.Dense(units=output_units, activation=\"softmax\", name=\"output\")(x)\n",
        "    \n",
        "    model = keras.Model(inputs=[input_layer], outputs=[out])\n",
        "    \n",
        "    return model\n"
      ],
      "execution_count": 19,
      "outputs": []
    },
    {
      "cell_type": "code",
      "metadata": {
        "id": "M8HF1DTNuWpf",
        "outputId": "1471426f-8d05-485e-9e69-a775f45afeb9",
        "colab": {
          "base_uri": "https://localhost:8080/"
        }
      },
      "source": [
        "print(x_train.shape)\n",
        "print(x_train.shape[1:])"
      ],
      "execution_count": 20,
      "outputs": [
        {
          "output_type": "stream",
          "text": [
            "(50000, 3072)\n",
            "(3072,)\n"
          ],
          "name": "stdout"
        }
      ]
    },
    {
      "cell_type": "code",
      "metadata": {
        "id": "wLXjE0jstexC",
        "outputId": "86e4eb75-b9a0-4522-e5dc-3cc488e14ee3",
        "colab": {
          "base_uri": "https://localhost:8080/"
        }
      },
      "source": [
        "model = build_mlp(input_shape=x_train.shape[1:])\n",
        "model.summary()"
      ],
      "execution_count": 21,
      "outputs": [
        {
          "output_type": "stream",
          "text": [
            "Model: \"functional_3\"\n",
            "_________________________________________________________________\n",
            "Layer (type)                 Output Shape              Param #   \n",
            "=================================================================\n",
            "input_2 (InputLayer)         [(None, 3072)]            0         \n",
            "_________________________________________________________________\n",
            "hidden_layer1 (Dense)        (None, 512)               1573376   \n",
            "_________________________________________________________________\n",
            "hidden_layer2 (Dense)        (None, 256)               131328    \n",
            "_________________________________________________________________\n",
            "hidden_layer3 (Dense)        (None, 256)               65792     \n",
            "_________________________________________________________________\n",
            "hidden_layer4 (Dense)        (None, 128)               32896     \n",
            "_________________________________________________________________\n",
            "hidden_layer5 (Dense)        (None, 128)               16512     \n",
            "_________________________________________________________________\n",
            "hidden_layer6 (Dense)        (None, 64)                8256      \n",
            "_________________________________________________________________\n",
            "hidden_layer7 (Dense)        (None, 64)                4160      \n",
            "_________________________________________________________________\n",
            "hidden_layer8 (Dense)        (None, 32)                2080      \n",
            "_________________________________________________________________\n",
            "output (Dense)               (None, 10)                330       \n",
            "=================================================================\n",
            "Total params: 1,834,730\n",
            "Trainable params: 1,834,730\n",
            "Non-trainable params: 0\n",
            "_________________________________________________________________\n"
          ],
          "name": "stdout"
        }
      ]
    },
    {
      "cell_type": "code",
      "metadata": {
        "id": "pSjkR1lpqdRd"
      },
      "source": [
        "## 超參數設定\n",
        "LEARNING_RATE = 0.001\n",
        "EPOCHS = 100\n",
        "BATCH_SIZE = 256"
      ],
      "execution_count": 22,
      "outputs": []
    },
    {
      "cell_type": "code",
      "metadata": {
        "id": "w2-cQrICqdRm"
      },
      "source": [
        "optimizer = keras.optimizers.Adam(lr=LEARNING_RATE)\n",
        "model.compile(loss=\"categorical_crossentropy\", metrics=[\"accuracy\"], optimizer=optimizer)"
      ],
      "execution_count": 23,
      "outputs": []
    },
    {
      "cell_type": "code",
      "metadata": {
        "id": "DSde7WtbqdRq",
        "outputId": "90c3cf61-bf98-4706-d4fe-081699deb125",
        "colab": {
          "base_uri": "https://localhost:8080/"
        }
      },
      "source": [
        "model.fit(x_train, y_train, \n",
        "          epochs=EPOCHS, \n",
        "          batch_size=BATCH_SIZE, \n",
        "          validation_data=(x_test, y_test), \n",
        "          shuffle=True)"
      ],
      "execution_count": 24,
      "outputs": [
        {
          "output_type": "stream",
          "text": [
            "Epoch 1/100\n",
            "196/196 [==============================] - 10s 52ms/step - loss: 2.0112 - accuracy: 0.2461 - val_loss: 1.8644 - val_accuracy: 0.3237\n",
            "Epoch 2/100\n",
            "196/196 [==============================] - 10s 53ms/step - loss: 1.7953 - accuracy: 0.3473 - val_loss: 1.7587 - val_accuracy: 0.3465\n",
            "Epoch 3/100\n",
            "196/196 [==============================] - 12s 61ms/step - loss: 1.7003 - accuracy: 0.3853 - val_loss: 1.7041 - val_accuracy: 0.3865\n",
            "Epoch 4/100\n",
            "196/196 [==============================] - 11s 58ms/step - loss: 1.6303 - accuracy: 0.4149 - val_loss: 1.5801 - val_accuracy: 0.4341\n",
            "Epoch 5/100\n",
            "196/196 [==============================] - 10s 51ms/step - loss: 1.5803 - accuracy: 0.4319 - val_loss: 1.5236 - val_accuracy: 0.4553\n",
            "Epoch 6/100\n",
            "196/196 [==============================] - 11s 54ms/step - loss: 1.5179 - accuracy: 0.4575 - val_loss: 1.5198 - val_accuracy: 0.4567\n",
            "Epoch 7/100\n",
            "196/196 [==============================] - 11s 54ms/step - loss: 1.4863 - accuracy: 0.4676 - val_loss: 1.5319 - val_accuracy: 0.4559\n",
            "Epoch 8/100\n",
            "196/196 [==============================] - 10s 53ms/step - loss: 1.4506 - accuracy: 0.4780 - val_loss: 1.5104 - val_accuracy: 0.4660\n",
            "Epoch 9/100\n",
            "196/196 [==============================] - 11s 54ms/step - loss: 1.4180 - accuracy: 0.4922 - val_loss: 1.4729 - val_accuracy: 0.4738\n",
            "Epoch 10/100\n",
            "196/196 [==============================] - 10s 52ms/step - loss: 1.3970 - accuracy: 0.5022 - val_loss: 1.4363 - val_accuracy: 0.4859\n",
            "Epoch 11/100\n",
            "196/196 [==============================] - 10s 52ms/step - loss: 1.3726 - accuracy: 0.5095 - val_loss: 1.4572 - val_accuracy: 0.4857\n",
            "Epoch 12/100\n",
            "196/196 [==============================] - 10s 53ms/step - loss: 1.3375 - accuracy: 0.5205 - val_loss: 1.4451 - val_accuracy: 0.4866\n",
            "Epoch 13/100\n",
            "196/196 [==============================] - 10s 53ms/step - loss: 1.3168 - accuracy: 0.5298 - val_loss: 1.4159 - val_accuracy: 0.4988\n",
            "Epoch 14/100\n",
            "196/196 [==============================] - 10s 53ms/step - loss: 1.2862 - accuracy: 0.5409 - val_loss: 1.4020 - val_accuracy: 0.5062\n",
            "Epoch 15/100\n",
            "196/196 [==============================] - 10s 53ms/step - loss: 1.2652 - accuracy: 0.5485 - val_loss: 1.4063 - val_accuracy: 0.5002\n",
            "Epoch 16/100\n",
            "196/196 [==============================] - 11s 54ms/step - loss: 1.2494 - accuracy: 0.5518 - val_loss: 1.3890 - val_accuracy: 0.5133\n",
            "Epoch 17/100\n",
            "196/196 [==============================] - 11s 54ms/step - loss: 1.2152 - accuracy: 0.5652 - val_loss: 1.4031 - val_accuracy: 0.5077\n",
            "Epoch 18/100\n",
            "196/196 [==============================] - 10s 52ms/step - loss: 1.1981 - accuracy: 0.5711 - val_loss: 1.4327 - val_accuracy: 0.4983\n",
            "Epoch 19/100\n",
            "196/196 [==============================] - 10s 53ms/step - loss: 1.1854 - accuracy: 0.5754 - val_loss: 1.3921 - val_accuracy: 0.5107\n",
            "Epoch 20/100\n",
            "196/196 [==============================] - 10s 53ms/step - loss: 1.1620 - accuracy: 0.5839 - val_loss: 1.3893 - val_accuracy: 0.5176\n",
            "Epoch 21/100\n",
            "196/196 [==============================] - 10s 52ms/step - loss: 1.1310 - accuracy: 0.5947 - val_loss: 1.4185 - val_accuracy: 0.5104\n",
            "Epoch 22/100\n",
            "196/196 [==============================] - 10s 53ms/step - loss: 1.1129 - accuracy: 0.5989 - val_loss: 1.4241 - val_accuracy: 0.5072\n",
            "Epoch 23/100\n",
            "196/196 [==============================] - 10s 53ms/step - loss: 1.0894 - accuracy: 0.6114 - val_loss: 1.3934 - val_accuracy: 0.5252\n",
            "Epoch 24/100\n",
            "196/196 [==============================] - 11s 54ms/step - loss: 1.0761 - accuracy: 0.6130 - val_loss: 1.3908 - val_accuracy: 0.5247\n",
            "Epoch 25/100\n",
            "196/196 [==============================] - 10s 53ms/step - loss: 1.0497 - accuracy: 0.6225 - val_loss: 1.4430 - val_accuracy: 0.5077\n",
            "Epoch 26/100\n",
            "196/196 [==============================] - 11s 55ms/step - loss: 1.0275 - accuracy: 0.6303 - val_loss: 1.4087 - val_accuracy: 0.5225\n",
            "Epoch 27/100\n",
            "196/196 [==============================] - 11s 54ms/step - loss: 1.0148 - accuracy: 0.6350 - val_loss: 1.4393 - val_accuracy: 0.5209\n",
            "Epoch 28/100\n",
            "196/196 [==============================] - 10s 54ms/step - loss: 0.9907 - accuracy: 0.6451 - val_loss: 1.4698 - val_accuracy: 0.5093\n",
            "Epoch 29/100\n",
            "196/196 [==============================] - 10s 52ms/step - loss: 0.9629 - accuracy: 0.6546 - val_loss: 1.5006 - val_accuracy: 0.5090\n",
            "Epoch 30/100\n",
            "196/196 [==============================] - 10s 51ms/step - loss: 0.9543 - accuracy: 0.6567 - val_loss: 1.4524 - val_accuracy: 0.5281\n",
            "Epoch 31/100\n",
            "196/196 [==============================] - 10s 51ms/step - loss: 0.9296 - accuracy: 0.6638 - val_loss: 1.5336 - val_accuracy: 0.5080\n",
            "Epoch 32/100\n",
            "196/196 [==============================] - 10s 52ms/step - loss: 0.9118 - accuracy: 0.6734 - val_loss: 1.5602 - val_accuracy: 0.5021\n",
            "Epoch 33/100\n",
            "196/196 [==============================] - 12s 60ms/step - loss: 0.8935 - accuracy: 0.6789 - val_loss: 1.5049 - val_accuracy: 0.5190\n",
            "Epoch 34/100\n",
            "196/196 [==============================] - 10s 52ms/step - loss: 0.8716 - accuracy: 0.6854 - val_loss: 1.5503 - val_accuracy: 0.5140\n",
            "Epoch 35/100\n",
            "196/196 [==============================] - 10s 51ms/step - loss: 0.8510 - accuracy: 0.6935 - val_loss: 1.5355 - val_accuracy: 0.5160\n",
            "Epoch 36/100\n",
            "196/196 [==============================] - 10s 51ms/step - loss: 0.8309 - accuracy: 0.7001 - val_loss: 1.6002 - val_accuracy: 0.5220\n",
            "Epoch 37/100\n",
            "196/196 [==============================] - 10s 51ms/step - loss: 0.8038 - accuracy: 0.7102 - val_loss: 1.6441 - val_accuracy: 0.5068\n",
            "Epoch 38/100\n",
            "196/196 [==============================] - 10s 52ms/step - loss: 0.7932 - accuracy: 0.7144 - val_loss: 1.6459 - val_accuracy: 0.5220\n",
            "Epoch 39/100\n",
            "196/196 [==============================] - 10s 53ms/step - loss: 0.7680 - accuracy: 0.7238 - val_loss: 1.6856 - val_accuracy: 0.5098\n",
            "Epoch 40/100\n",
            "196/196 [==============================] - 10s 53ms/step - loss: 0.7672 - accuracy: 0.7267 - val_loss: 1.6439 - val_accuracy: 0.5149\n",
            "Epoch 41/100\n",
            "196/196 [==============================] - 10s 53ms/step - loss: 0.7294 - accuracy: 0.7387 - val_loss: 1.7124 - val_accuracy: 0.5119\n",
            "Epoch 42/100\n",
            "196/196 [==============================] - 10s 53ms/step - loss: 0.7118 - accuracy: 0.7427 - val_loss: 1.7363 - val_accuracy: 0.5140\n",
            "Epoch 43/100\n",
            "196/196 [==============================] - 10s 53ms/step - loss: 0.6932 - accuracy: 0.7520 - val_loss: 1.7168 - val_accuracy: 0.5218\n",
            "Epoch 44/100\n",
            "196/196 [==============================] - 10s 53ms/step - loss: 0.6789 - accuracy: 0.7575 - val_loss: 1.8593 - val_accuracy: 0.5060\n",
            "Epoch 45/100\n",
            "196/196 [==============================] - 10s 52ms/step - loss: 0.6864 - accuracy: 0.7526 - val_loss: 1.7687 - val_accuracy: 0.5140\n",
            "Epoch 46/100\n",
            "196/196 [==============================] - 10s 52ms/step - loss: 0.6582 - accuracy: 0.7633 - val_loss: 1.8051 - val_accuracy: 0.5116\n",
            "Epoch 47/100\n",
            "196/196 [==============================] - 10s 53ms/step - loss: 0.6411 - accuracy: 0.7707 - val_loss: 1.7107 - val_accuracy: 0.5135\n",
            "Epoch 48/100\n",
            "196/196 [==============================] - 11s 54ms/step - loss: 0.6177 - accuracy: 0.7791 - val_loss: 1.9333 - val_accuracy: 0.4979\n",
            "Epoch 49/100\n",
            "196/196 [==============================] - 10s 53ms/step - loss: 0.6322 - accuracy: 0.7733 - val_loss: 1.8609 - val_accuracy: 0.5089\n",
            "Epoch 50/100\n",
            "196/196 [==============================] - 10s 53ms/step - loss: 0.5979 - accuracy: 0.7845 - val_loss: 1.9187 - val_accuracy: 0.5124\n",
            "Epoch 51/100\n",
            "196/196 [==============================] - 11s 54ms/step - loss: 0.5724 - accuracy: 0.7948 - val_loss: 2.0053 - val_accuracy: 0.5132\n",
            "Epoch 52/100\n",
            "196/196 [==============================] - 11s 54ms/step - loss: 0.5755 - accuracy: 0.7929 - val_loss: 2.0022 - val_accuracy: 0.5082\n",
            "Epoch 53/100\n",
            "196/196 [==============================] - 11s 54ms/step - loss: 0.5718 - accuracy: 0.7956 - val_loss: 1.9909 - val_accuracy: 0.5044\n",
            "Epoch 54/100\n",
            "196/196 [==============================] - 11s 54ms/step - loss: 0.5623 - accuracy: 0.7992 - val_loss: 2.0746 - val_accuracy: 0.5087\n",
            "Epoch 55/100\n",
            "196/196 [==============================] - 10s 54ms/step - loss: 0.5368 - accuracy: 0.8077 - val_loss: 2.0985 - val_accuracy: 0.5074\n",
            "Epoch 56/100\n",
            "196/196 [==============================] - 10s 53ms/step - loss: 0.5518 - accuracy: 0.8031 - val_loss: 2.0764 - val_accuracy: 0.5047\n",
            "Epoch 57/100\n",
            "196/196 [==============================] - 11s 54ms/step - loss: 0.5109 - accuracy: 0.8179 - val_loss: 2.0944 - val_accuracy: 0.5075\n",
            "Epoch 58/100\n",
            "196/196 [==============================] - 11s 54ms/step - loss: 0.5153 - accuracy: 0.8170 - val_loss: 2.1590 - val_accuracy: 0.5033\n",
            "Epoch 59/100\n",
            "196/196 [==============================] - 10s 53ms/step - loss: 0.4981 - accuracy: 0.8207 - val_loss: 2.2528 - val_accuracy: 0.5096\n",
            "Epoch 60/100\n",
            "196/196 [==============================] - 11s 54ms/step - loss: 0.4905 - accuracy: 0.8247 - val_loss: 2.2063 - val_accuracy: 0.5065\n",
            "Epoch 61/100\n",
            "196/196 [==============================] - 11s 55ms/step - loss: 0.4801 - accuracy: 0.8278 - val_loss: 2.2917 - val_accuracy: 0.4986\n",
            "Epoch 62/100\n",
            "196/196 [==============================] - 11s 56ms/step - loss: 0.4634 - accuracy: 0.8345 - val_loss: 2.3362 - val_accuracy: 0.5047\n",
            "Epoch 63/100\n",
            "196/196 [==============================] - 11s 59ms/step - loss: 0.4590 - accuracy: 0.8362 - val_loss: 2.3617 - val_accuracy: 0.5066\n",
            "Epoch 64/100\n",
            "196/196 [==============================] - 12s 59ms/step - loss: 0.4619 - accuracy: 0.8362 - val_loss: 2.3240 - val_accuracy: 0.5017\n",
            "Epoch 65/100\n",
            "196/196 [==============================] - 10s 52ms/step - loss: 0.4341 - accuracy: 0.8461 - val_loss: 2.4411 - val_accuracy: 0.5182\n",
            "Epoch 66/100\n",
            "196/196 [==============================] - 10s 52ms/step - loss: 0.4699 - accuracy: 0.8320 - val_loss: 2.3726 - val_accuracy: 0.5068\n",
            "Epoch 67/100\n",
            "196/196 [==============================] - 10s 52ms/step - loss: 0.4305 - accuracy: 0.8466 - val_loss: 2.4188 - val_accuracy: 0.4990\n",
            "Epoch 68/100\n",
            "196/196 [==============================] - 10s 52ms/step - loss: 0.4251 - accuracy: 0.8486 - val_loss: 2.4954 - val_accuracy: 0.4984\n",
            "Epoch 69/100\n",
            "196/196 [==============================] - 10s 52ms/step - loss: 0.4252 - accuracy: 0.8498 - val_loss: 2.5030 - val_accuracy: 0.5039\n",
            "Epoch 70/100\n",
            "196/196 [==============================] - 10s 53ms/step - loss: 0.3863 - accuracy: 0.8625 - val_loss: 2.6103 - val_accuracy: 0.4987\n",
            "Epoch 71/100\n",
            "196/196 [==============================] - 11s 55ms/step - loss: 0.3957 - accuracy: 0.8586 - val_loss: 2.5124 - val_accuracy: 0.4964\n",
            "Epoch 72/100\n",
            "196/196 [==============================] - 11s 55ms/step - loss: 0.3950 - accuracy: 0.8580 - val_loss: 2.5273 - val_accuracy: 0.5006\n",
            "Epoch 73/100\n",
            "196/196 [==============================] - 11s 54ms/step - loss: 0.3923 - accuracy: 0.8616 - val_loss: 2.4906 - val_accuracy: 0.5077\n",
            "Epoch 74/100\n",
            "196/196 [==============================] - 11s 55ms/step - loss: 0.3871 - accuracy: 0.8639 - val_loss: 2.6311 - val_accuracy: 0.5000\n",
            "Epoch 75/100\n",
            "196/196 [==============================] - 11s 54ms/step - loss: 0.3912 - accuracy: 0.8612 - val_loss: 2.5939 - val_accuracy: 0.5035\n",
            "Epoch 76/100\n",
            "196/196 [==============================] - 11s 54ms/step - loss: 0.3639 - accuracy: 0.8704 - val_loss: 2.6801 - val_accuracy: 0.4952\n",
            "Epoch 77/100\n",
            "196/196 [==============================] - 10s 53ms/step - loss: 0.3498 - accuracy: 0.8761 - val_loss: 2.8371 - val_accuracy: 0.5032\n",
            "Epoch 78/100\n",
            "196/196 [==============================] - 10s 54ms/step - loss: 0.3683 - accuracy: 0.8689 - val_loss: 2.9046 - val_accuracy: 0.4870\n",
            "Epoch 79/100\n",
            "196/196 [==============================] - 10s 53ms/step - loss: 0.3537 - accuracy: 0.8751 - val_loss: 2.9137 - val_accuracy: 0.4962\n",
            "Epoch 80/100\n",
            "196/196 [==============================] - 11s 54ms/step - loss: 0.3417 - accuracy: 0.8793 - val_loss: 2.8213 - val_accuracy: 0.5016\n",
            "Epoch 81/100\n",
            "196/196 [==============================] - 13s 67ms/step - loss: 0.3454 - accuracy: 0.8777 - val_loss: 2.7545 - val_accuracy: 0.4974\n",
            "Epoch 82/100\n",
            "196/196 [==============================] - 11s 56ms/step - loss: 0.3552 - accuracy: 0.8737 - val_loss: 2.7602 - val_accuracy: 0.4974\n",
            "Epoch 83/100\n",
            "196/196 [==============================] - 11s 56ms/step - loss: 0.3354 - accuracy: 0.8817 - val_loss: 2.8834 - val_accuracy: 0.5023\n",
            "Epoch 84/100\n",
            "196/196 [==============================] - 11s 55ms/step - loss: 0.3205 - accuracy: 0.8866 - val_loss: 2.8751 - val_accuracy: 0.5034\n",
            "Epoch 85/100\n",
            "196/196 [==============================] - 11s 56ms/step - loss: 0.3128 - accuracy: 0.8890 - val_loss: 2.9151 - val_accuracy: 0.5030\n",
            "Epoch 86/100\n",
            "196/196 [==============================] - 11s 54ms/step - loss: 0.3345 - accuracy: 0.8829 - val_loss: 3.0062 - val_accuracy: 0.5054\n",
            "Epoch 87/100\n",
            "196/196 [==============================] - 11s 54ms/step - loss: 0.3052 - accuracy: 0.8908 - val_loss: 3.0572 - val_accuracy: 0.4982\n",
            "Epoch 88/100\n",
            "196/196 [==============================] - 11s 54ms/step - loss: 0.3254 - accuracy: 0.8839 - val_loss: 2.8478 - val_accuracy: 0.5083\n",
            "Epoch 89/100\n",
            "196/196 [==============================] - 11s 54ms/step - loss: 0.3072 - accuracy: 0.8903 - val_loss: 3.0517 - val_accuracy: 0.5004\n",
            "Epoch 90/100\n",
            "196/196 [==============================] - 11s 55ms/step - loss: 0.3189 - accuracy: 0.8880 - val_loss: 3.0522 - val_accuracy: 0.5002\n",
            "Epoch 91/100\n",
            "196/196 [==============================] - 11s 58ms/step - loss: 0.3013 - accuracy: 0.8936 - val_loss: 3.0163 - val_accuracy: 0.5022\n",
            "Epoch 92/100\n",
            "196/196 [==============================] - 11s 55ms/step - loss: 0.2863 - accuracy: 0.8995 - val_loss: 3.0538 - val_accuracy: 0.4881\n",
            "Epoch 93/100\n",
            "196/196 [==============================] - 12s 61ms/step - loss: 0.3157 - accuracy: 0.8886 - val_loss: 3.0584 - val_accuracy: 0.5068\n",
            "Epoch 94/100\n",
            "196/196 [==============================] - 11s 54ms/step - loss: 0.2835 - accuracy: 0.8996 - val_loss: 3.1274 - val_accuracy: 0.5034\n",
            "Epoch 95/100\n",
            "196/196 [==============================] - 11s 55ms/step - loss: 0.3044 - accuracy: 0.8928 - val_loss: 3.2560 - val_accuracy: 0.4985\n",
            "Epoch 96/100\n",
            "196/196 [==============================] - 11s 54ms/step - loss: 0.2778 - accuracy: 0.9023 - val_loss: 3.1677 - val_accuracy: 0.4991\n",
            "Epoch 97/100\n",
            "196/196 [==============================] - 10s 53ms/step - loss: 0.2815 - accuracy: 0.9018 - val_loss: 3.1639 - val_accuracy: 0.5050\n",
            "Epoch 98/100\n",
            "196/196 [==============================] - 10s 52ms/step - loss: 0.2606 - accuracy: 0.9087 - val_loss: 3.0271 - val_accuracy: 0.4966\n",
            "Epoch 99/100\n",
            "196/196 [==============================] - 10s 52ms/step - loss: 0.2941 - accuracy: 0.8962 - val_loss: 3.1894 - val_accuracy: 0.4886\n",
            "Epoch 100/100\n",
            "196/196 [==============================] - 10s 52ms/step - loss: 0.2671 - accuracy: 0.9055 - val_loss: 3.2402 - val_accuracy: 0.5054\n"
          ],
          "name": "stdout"
        },
        {
          "output_type": "execute_result",
          "data": {
            "text/plain": [
              "<tensorflow.python.keras.callbacks.History at 0x7f706326bf98>"
            ]
          },
          "metadata": {
            "tags": []
          },
          "execution_count": 24
        }
      ]
    },
    {
      "cell_type": "code",
      "metadata": {
        "id": "aLA8ybZtqdRs",
        "outputId": "d4e73d51-49da-4270-8f6c-abb3275c4124",
        "colab": {
          "base_uri": "https://localhost:8080/",
          "height": 545
        }
      },
      "source": [
        "import matplotlib.pyplot as plt\n",
        "\n",
        "\n",
        "train_loss = model.history.history[\"loss\"]\n",
        "valid_loss = model.history.history[\"val_loss\"]\n",
        "\n",
        "train_acc = model.history.history[\"accuracy\"]\n",
        "valid_acc = model.history.history[\"val_accuracy\"]\n",
        "\n",
        "plt.plot(range(len(train_loss)), train_loss, label=\"train loss\")\n",
        "plt.plot(range(len(valid_loss)), valid_loss, label=\"valid loss\")\n",
        "plt.legend()\n",
        "plt.title(\"Loss\")\n",
        "plt.show()\n",
        "\n",
        "plt.plot(range(len(train_acc)), train_acc, label=\"train accuracy\")\n",
        "plt.plot(range(len(valid_acc)), valid_acc, label=\"valid accuracy\")\n",
        "plt.legend()\n",
        "plt.title(\"Accuracy\")\n",
        "plt.show()"
      ],
      "execution_count": 25,
      "outputs": [
        {
          "output_type": "display_data",
          "data": {
            "image/png": "[encoded data removed]",
            "text/plain": [
              "<Figure size 432x288 with 1 Axes>"
            ]
          },
          "metadata": {
            "tags": [],
            "needs_background": "light"
          }
        },
        {
          "output_type": "display_data",
          "data": {
            "image/png": "[encoded data removed]",
            "text/plain": [
              "<Figure size 432x288 with 1 Axes>"
            ]
          },
          "metadata": {
            "tags": [],
            "needs_background": "light"
          }
        }
      ]
    }
  ]
}