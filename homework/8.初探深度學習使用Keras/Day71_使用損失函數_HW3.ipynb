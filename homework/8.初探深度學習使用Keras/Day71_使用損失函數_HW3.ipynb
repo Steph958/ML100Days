{
  "nbformat": 4,
  "nbformat_minor": 0,
  "metadata": {
    "colab": {
      "name": "Day71-使用損失函數_HW.ipynb",
      "provenance": [],
      "collapsed_sections": []
    },
    "kernelspec": {
      "display_name": "Python 3",
      "language": "python",
      "name": "python3"
    },
    "language_info": {
      "codemirror_mode": {
        "name": "ipython",
        "version": 3
      },
      "file_extension": ".py",
      "mimetype": "text/x-python",
      "name": "python",
      "nbconvert_exporter": "python",
      "pygments_lexer": "ipython3",
      "version": "3.7.4"
    }
  },
  "cells": [
    {
      "cell_type": "markdown",
      "metadata": {
        "id": "cj4tE8e8iUtO"
      },
      "source": [
        "#   \n",
        "\n",
        "# 作業目標:\n",
        "\n",
        "    1. 藉由固定的 dataset, 來驗證不同loss function\n",
        "    2. Dataset 的特性跟我們選用的loss function 對accrancy 的影響\n",
        "    \n",
        "    \n",
        "# 作業重點: \n",
        "    請分別選用 \"MSE\", \"binary _crossentropy\"\n",
        "    查看Train/test accurancy and loss rate\n",
        "    "
      ]
    },
    {
      "cell_type": "markdown",
      "metadata": {
        "id": "R51J4KyyiUsL"
      },
      "source": [
        "# 導入必要的函數"
      ]
    },
    {
      "cell_type": "code",
      "metadata": {
        "id": "Qd68OQjciUsM"
      },
      "source": [
        "from keras.datasets import cifar10\n",
        "import numpy as np\n",
        "np.random.seed(10)"
      ],
      "execution_count": 1,
      "outputs": []
    },
    {
      "cell_type": "markdown",
      "metadata": {
        "id": "GxKuzQLQiUsP"
      },
      "source": [
        "# 資料準備"
      ]
    },
    {
      "cell_type": "code",
      "metadata": {
        "id": "MIbFZdTCiUsQ",
        "outputId": "fc67107f-2466-4a94-c346-efdbea6fde21",
        "colab": {
          "base_uri": "https://localhost:8080/"
        }
      },
      "source": [
        "#取得Keras Dataset\n",
        "(x_img_train,y_label_train),(x_img_test,y_label_test)=cifar10.load_data()"
      ],
      "execution_count": 2,
      "outputs": [
        {
          "output_type": "stream",
          "text": [
            "Downloading data from https://www.cs.toronto.edu/~kriz/cifar-10-python.tar.gz\n",
            "170500096/170498071 [==============================] - 4s 0us/step\n"
          ],
          "name": "stdout"
        }
      ]
    },
    {
      "cell_type": "code",
      "metadata": {
        "id": "J8CJVjNOiUsS",
        "outputId": "3a02ca1a-067c-4b65-8007-d891aae0ffcc",
        "colab": {
          "base_uri": "https://localhost:8080/"
        }
      },
      "source": [
        "#確認 CIFAR10 Dataset 資料維度\n",
        "print(\"train data:\",'images:',x_img_train.shape,\n",
        "      \" labels:\",y_label_train.shape) \n",
        "\n",
        "print(\"test  data:\",'images:',x_img_test.shape ,\n",
        "      \" labels:\",y_label_test.shape) "
      ],
      "execution_count": 3,
      "outputs": [
        {
          "output_type": "stream",
          "text": [
            "train data: images: (50000, 32, 32, 3)  labels: (50000, 1)\n",
            "test  data: images: (10000, 32, 32, 3)  labels: (10000, 1)\n"
          ],
          "name": "stdout"
        }
      ]
    },
    {
      "cell_type": "code",
      "metadata": {
        "id": "V3P6P4DXiUsV"
      },
      "source": [
        "#資料正規化\n",
        "x_img_train_normalize = x_img_train.astype('float32') / 255.0\n",
        "x_img_test_normalize = x_img_test.astype('float32') / 255.0"
      ],
      "execution_count": 4,
      "outputs": []
    },
    {
      "cell_type": "code",
      "metadata": {
        "id": "vsDyjKYliUsX",
        "outputId": "790aebed-8990-430f-9d28-dc9167a1cb80",
        "colab": {
          "base_uri": "https://localhost:8080/"
        }
      },
      "source": [
        "#針對Label 做 ONE HOT ENCODE\n",
        "from keras.utils import np_utils\n",
        "y_label_train_OneHot = np_utils.to_categorical(y_label_train)\n",
        "y_label_test_OneHot = np_utils.to_categorical(y_label_test)\n",
        "\n",
        "print(y_label_train_OneHot.shape)\n",
        "print(y_label_test_OneHot.shape)"
      ],
      "execution_count": 7,
      "outputs": [
        {
          "output_type": "stream",
          "text": [
            "(50000, 10)\n",
            "(10000, 10)\n"
          ],
          "name": "stdout"
        }
      ]
    },
    {
      "cell_type": "markdown",
      "metadata": {
        "id": "RutW2OtgiUsZ"
      },
      "source": [
        "# 建立模型"
      ]
    },
    {
      "cell_type": "code",
      "metadata": {
        "id": "aHz592aXiUsa"
      },
      "source": [
        "from keras.models import Sequential\n",
        "from keras.layers import Dense, Dropout, Activation, Flatten\n",
        "from keras.layers import Conv2D, MaxPooling2D, ZeroPadding2D"
      ],
      "execution_count": 8,
      "outputs": []
    },
    {
      "cell_type": "code",
      "metadata": {
        "id": "hslqrIp0iUse"
      },
      "source": [
        "model = Sequential()"
      ],
      "execution_count": 9,
      "outputs": []
    },
    {
      "cell_type": "code",
      "metadata": {
        "id": "Hqe35hs2iUsi"
      },
      "source": [
        "#卷積層1"
      ],
      "execution_count": null,
      "outputs": []
    },
    {
      "cell_type": "code",
      "metadata": {
        "id": "ED7dqe1YiUsm"
      },
      "source": [
        "model.add(Conv2D(filters=32,\n",
        "                 kernel_size=(3,3),\n",
        "                 input_shape=(32, 32,3), \n",
        "                 activation='relu', \n",
        "                 padding='same'))"
      ],
      "execution_count": 15,
      "outputs": []
    },
    {
      "cell_type": "code",
      "metadata": {
        "id": "n-GRKmPViUso"
      },
      "source": [
        "model.add(Dropout(rate=0.25))"
      ],
      "execution_count": 16,
      "outputs": []
    },
    {
      "cell_type": "code",
      "metadata": {
        "id": "196Om-UtQTds"
      },
      "source": [
        "#池化層1:"
      ],
      "execution_count": 12,
      "outputs": []
    },
    {
      "cell_type": "code",
      "metadata": {
        "id": "GlWnnD1uiUsw"
      },
      "source": [
        "model.add(MaxPooling2D(pool_size=(2, 2)))"
      ],
      "execution_count": 17,
      "outputs": []
    },
    {
      "cell_type": "code",
      "metadata": {
        "id": "nawlkt55iUsy"
      },
      "source": [
        "#卷積層2與池化層2"
      ],
      "execution_count": null,
      "outputs": []
    },
    {
      "cell_type": "code",
      "metadata": {
        "id": "xxyETiKNiUs1"
      },
      "source": [
        "model.add(Conv2D(filters=64,\n",
        "                 kernel_size=(3, 3), \n",
        "                 activation='relu',\n",
        "                 padding='same'))"
      ],
      "execution_count": 18,
      "outputs": []
    },
    {
      "cell_type": "code",
      "metadata": {
        "id": "RqcKWtqGiUs2"
      },
      "source": [
        "model.add(Dropout(0.25))"
      ],
      "execution_count": 19,
      "outputs": []
    },
    {
      "cell_type": "code",
      "metadata": {
        "id": "BUOOzlqfiUs4"
      },
      "source": [
        "model.add(MaxPooling2D(pool_size=(2, 2)))"
      ],
      "execution_count": 20,
      "outputs": []
    },
    {
      "cell_type": "code",
      "metadata": {
        "id": "LpkppB2siUs7"
      },
      "source": [
        "#建立神經網路(平坦層、隱藏層、輸出層)"
      ],
      "execution_count": null,
      "outputs": []
    },
    {
      "cell_type": "code",
      "metadata": {
        "id": "UQOfU54_iUs_"
      },
      "source": [
        "model.add(Flatten())\n",
        "model.add(Dropout(rate=0.25))"
      ],
      "execution_count": 21,
      "outputs": []
    },
    {
      "cell_type": "code",
      "metadata": {
        "id": "F_obqNVSQoPz"
      },
      "source": [
        "#建立全網路連接層"
      ],
      "execution_count": null,
      "outputs": []
    },
    {
      "cell_type": "code",
      "metadata": {
        "id": "_NV-8sq4iUtD"
      },
      "source": [
        "model.add(Dense(1024, activation='relu'))\n",
        "model.add(Dropout(rate=0.25))"
      ],
      "execution_count": 23,
      "outputs": []
    },
    {
      "cell_type": "code",
      "metadata": {
        "id": "qVK77krOiUtF"
      },
      "source": [
        "model.add(Dense(10, activation='softmax'))"
      ],
      "execution_count": 24,
      "outputs": []
    },
    {
      "cell_type": "code",
      "metadata": {
        "id": "ZxzRIjR0iUtH",
        "outputId": "f3714bad-297c-4df2-b1bd-b302ea258f92",
        "colab": {
          "base_uri": "https://localhost:8080/"
        }
      },
      "source": [
        "#檢查model 的STACK\n",
        "print(model.summary())"
      ],
      "execution_count": 25,
      "outputs": [
        {
          "output_type": "stream",
          "text": [
            "Model: \"sequential\"\n",
            "_________________________________________________________________\n",
            "Layer (type)                 Output Shape              Param #   \n",
            "=================================================================\n",
            "conv2d (Conv2D)              (None, 32, 32, 32)        896       \n",
            "_________________________________________________________________\n",
            "max_pooling2d (MaxPooling2D) (None, 16, 16, 32)        0         \n",
            "_________________________________________________________________\n",
            "max_pooling2d_1 (MaxPooling2 (None, 8, 8, 32)          0         \n",
            "_________________________________________________________________\n",
            "conv2d_1 (Conv2D)            (None, 8, 8, 64)          18496     \n",
            "_________________________________________________________________\n",
            "conv2d_2 (Conv2D)            (None, 8, 8, 32)          18464     \n",
            "_________________________________________________________________\n",
            "dropout (Dropout)            (None, 8, 8, 32)          0         \n",
            "_________________________________________________________________\n",
            "max_pooling2d_2 (MaxPooling2 (None, 4, 4, 32)          0         \n",
            "_________________________________________________________________\n",
            "conv2d_3 (Conv2D)            (None, 4, 4, 64)          18496     \n",
            "_________________________________________________________________\n",
            "dropout_1 (Dropout)          (None, 4, 4, 64)          0         \n",
            "_________________________________________________________________\n",
            "max_pooling2d_3 (MaxPooling2 (None, 2, 2, 64)          0         \n",
            "_________________________________________________________________\n",
            "flatten (Flatten)            (None, 256)               0         \n",
            "_________________________________________________________________\n",
            "dropout_2 (Dropout)          (None, 256)               0         \n",
            "_________________________________________________________________\n",
            "dense (Dense)                (None, 1024)              263168    \n",
            "_________________________________________________________________\n",
            "dropout_3 (Dropout)          (None, 1024)              0         \n",
            "_________________________________________________________________\n",
            "dense_1 (Dense)              (None, 1024)              1049600   \n",
            "_________________________________________________________________\n",
            "dropout_4 (Dropout)          (None, 1024)              0         \n",
            "_________________________________________________________________\n",
            "dense_2 (Dense)              (None, 10)                10250     \n",
            "=================================================================\n",
            "Total params: 1,379,370\n",
            "Trainable params: 1,379,370\n",
            "Non-trainable params: 0\n",
            "_________________________________________________________________\n",
            "None\n"
          ],
          "name": "stdout"
        }
      ]
    },
    {
      "cell_type": "markdown",
      "metadata": {
        "id": "QJCtpJM0iUtJ"
      },
      "source": [
        "# 載入之前訓練的模型"
      ]
    },
    {
      "cell_type": "code",
      "metadata": {
        "id": "JU3A6NzQiUtK",
        "outputId": "543c0d18-f312-4b48-85bb-00587c8a7056",
        "colab": {
          "base_uri": "https://localhost:8080/"
        }
      },
      "source": [
        "try:\n",
        "    model.load_weights(\"SaveModel/cifarCnnModel.h5\")\n",
        "    print(\"載入模型成功!繼續訓練模型\")\n",
        "except :    \n",
        "    print(\"載入模型失敗!開始訓練一個新模型\")"
      ],
      "execution_count": 26,
      "outputs": [
        {
          "output_type": "stream",
          "text": [
            "載入模型失敗!開始訓練一個新模型\n"
          ],
          "name": "stdout"
        }
      ]
    },
    {
      "cell_type": "markdown",
      "metadata": {
        "id": "qBbCuziziUtM"
      },
      "source": [
        "# 訓練模型"
      ]
    },
    {
      "cell_type": "code",
      "metadata": {
        "id": "Q6BiBcseiUtP"
      },
      "source": [
        "model.compile(loss='mse',\n",
        "              optimizer='sgd',\n",
        "              metrics=['accuracy'])"
      ],
      "execution_count": 28,
      "outputs": []
    },
    {
      "cell_type": "markdown",
      "metadata": {
        "id": "WHJ1w99mRPVY"
      },
      "source": [
        "\n",
        "#作業:\n",
        "請分別選用 \"MSE\", \"binary _crossentropy\"\n",
        "查看Train/test accuracy and loss rate\n"
      ]
    },
    {
      "cell_type": "code",
      "metadata": {
        "id": "DSXxg34YRTdr",
        "outputId": "01ca55f6-9201-4275-ce8e-cedda67ee2cb",
        "colab": {
          "base_uri": "https://localhost:8080/"
        }
      },
      "source": [
        "train_history = model.fit(x_img_train_normalize,y_label_train_OneHot,\n",
        "                          validation_split=0.25,\n",
        "                          epochs=12,\n",
        "                          batch_size=128,\n",
        "                          verbose=1)"
      ],
      "execution_count": 29,
      "outputs": [
        {
          "output_type": "stream",
          "text": [
            "Epoch 1/12\n",
            "293/293 [==============================] - 57s 193ms/step - loss: 0.0900 - accuracy: 0.0992 - val_loss: 0.0900 - val_accuracy: 0.1156\n",
            "Epoch 2/12\n",
            "293/293 [==============================] - 56s 192ms/step - loss: 0.0900 - accuracy: 0.0983 - val_loss: 0.0900 - val_accuracy: 0.1142\n",
            "Epoch 3/12\n",
            "293/293 [==============================] - 56s 192ms/step - loss: 0.0900 - accuracy: 0.0993 - val_loss: 0.0900 - val_accuracy: 0.1168\n",
            "Epoch 4/12\n",
            "293/293 [==============================] - 56s 192ms/step - loss: 0.0900 - accuracy: 0.0982 - val_loss: 0.0900 - val_accuracy: 0.1168\n",
            "Epoch 5/12\n",
            "293/293 [==============================] - 57s 193ms/step - loss: 0.0900 - accuracy: 0.0996 - val_loss: 0.0900 - val_accuracy: 0.1158\n",
            "Epoch 6/12\n",
            "293/293 [==============================] - 56s 191ms/step - loss: 0.0900 - accuracy: 0.1010 - val_loss: 0.0900 - val_accuracy: 0.1146\n",
            "Epoch 7/12\n",
            "293/293 [==============================] - 56s 192ms/step - loss: 0.0900 - accuracy: 0.1011 - val_loss: 0.0900 - val_accuracy: 0.1128\n",
            "Epoch 8/12\n",
            "293/293 [==============================] - 56s 192ms/step - loss: 0.0900 - accuracy: 0.1018 - val_loss: 0.0900 - val_accuracy: 0.1120\n",
            "Epoch 9/12\n",
            "293/293 [==============================] - 56s 193ms/step - loss: 0.0900 - accuracy: 0.1018 - val_loss: 0.0900 - val_accuracy: 0.1105\n",
            "Epoch 10/12\n",
            "293/293 [==============================] - 57s 194ms/step - loss: 0.0900 - accuracy: 0.1023 - val_loss: 0.0900 - val_accuracy: 0.1101\n",
            "Epoch 11/12\n",
            "293/293 [==============================] - 57s 195ms/step - loss: 0.0900 - accuracy: 0.1036 - val_loss: 0.0900 - val_accuracy: 0.1098\n",
            "Epoch 12/12\n",
            "293/293 [==============================] - 57s 194ms/step - loss: 0.0900 - accuracy: 0.1034 - val_loss: 0.0900 - val_accuracy: 0.1099\n"
          ],
          "name": "stdout"
        }
      ]
    },
    {
      "cell_type": "code",
      "metadata": {
        "id": "MUscsq6YRyTk"
      },
      "source": [
        "import matplotlib.pyplot as plt\n",
        "%matplotlib inline\n",
        "\n",
        "#定義一個繪圖函數\n",
        "def show_train_history_acc(train_acc,test_acc):\n",
        "    plt.plot(train_history.history[train_acc])\n",
        "    plt.plot(train_history.history[test_acc])\n",
        "    plt.title('Train History')\n",
        "    plt.ylabel('Accuracy')\n",
        "    plt.xlabel('Epoch')\n",
        "    plt.legend(['train_acc', 'val_acc'], loc='upper left')\n",
        "    plt.show()"
      ],
      "execution_count": 46,
      "outputs": []
    },
    {
      "cell_type": "code",
      "metadata": {
        "id": "XShNg6UjVrf-",
        "outputId": "93a48b12-767f-4479-ab2d-4b8f0a385f3d",
        "colab": {
          "base_uri": "https://localhost:8080/",
          "height": 295
        }
      },
      "source": [
        "show_train_history_acc('accuracy','val_accuracy')"
      ],
      "execution_count": 48,
      "outputs": [
        {
          "output_type": "display_data",
          "data": {
            "image/png": "[encoded data removed]",
            "text/plain": [
              "<Figure size 432x288 with 1 Axes>"
            ]
          },
          "metadata": {
            "tags": [],
            "needs_background": "light"
          }
        }
      ]
    },
    {
      "cell_type": "code",
      "metadata": {
        "id": "16GFHNQpbgta"
      },
      "source": [
        "#定義一個繪圖函數\n",
        "def show_train_history_loss(loss,val_loss):\n",
        "    plt.plot(train_history.history[loss])\n",
        "    plt.plot(train_history.history[val_loss])\n",
        "    plt.title('Train History')\n",
        "    plt.ylabel('Loss')\n",
        "    plt.xlabel('Epoch')\n",
        "    plt.legend(['train', 'test'], loc='upper left')\n",
        "    plt.show()"
      ],
      "execution_count": 49,
      "outputs": []
    },
    {
      "cell_type": "code",
      "metadata": {
        "id": "yrWvy2Kjaoa_",
        "outputId": "2b26ab30-1ea1-4cf7-9e59-d40a2b05599e",
        "colab": {
          "base_uri": "https://localhost:8080/",
          "height": 295
        }
      },
      "source": [
        "show_train_history_loss('loss','val_loss')"
      ],
      "execution_count": 50,
      "outputs": [
        {
          "output_type": "display_data",
          "data": {
            "image/png": "[encoded data removed]",
            "text/plain": [
              "<Figure size 432x288 with 1 Axes>"
            ]
          },
          "metadata": {
            "tags": [],
            "needs_background": "light"
          }
        }
      ]
    },
    {
      "cell_type": "code",
      "metadata": {
        "id": "89z4VS54Wils"
      },
      "source": [
        "model.compile(loss='binary_crossentropy',\n",
        "              optimizer='sgd',\n",
        "              metrics=['accuracy'])"
      ],
      "execution_count": 35,
      "outputs": []
    },
    {
      "cell_type": "code",
      "metadata": {
        "id": "qTIYYiFoVvMe",
        "outputId": "b36f222e-1c2e-4f89-fa54-ee309c2933f4",
        "colab": {
          "base_uri": "https://localhost:8080/"
        }
      },
      "source": [
        "train_history2 = model.fit(x_img_train_normalize,y_label_train_OneHot,\n",
        "                          validation_split=0.25,\n",
        "                          epochs=12,\n",
        "                          batch_size=128,\n",
        "                          verbose=1)"
      ],
      "execution_count": 36,
      "outputs": [
        {
          "output_type": "stream",
          "text": [
            "Epoch 1/12\n",
            "293/293 [==============================] - 57s 195ms/step - loss: 0.3251 - accuracy: 0.1026 - val_loss: 0.3248 - val_accuracy: 0.1135\n",
            "Epoch 2/12\n",
            "293/293 [==============================] - 56s 193ms/step - loss: 0.3249 - accuracy: 0.1058 - val_loss: 0.3248 - val_accuracy: 0.1249\n",
            "Epoch 3/12\n",
            "293/293 [==============================] - 56s 193ms/step - loss: 0.3248 - accuracy: 0.1069 - val_loss: 0.3247 - val_accuracy: 0.1377\n",
            "Epoch 4/12\n",
            "293/293 [==============================] - 57s 193ms/step - loss: 0.3247 - accuracy: 0.1098 - val_loss: 0.3246 - val_accuracy: 0.1480\n",
            "Epoch 5/12\n",
            "293/293 [==============================] - 57s 193ms/step - loss: 0.3246 - accuracy: 0.1115 - val_loss: 0.3246 - val_accuracy: 0.1551\n",
            "Epoch 6/12\n",
            "293/293 [==============================] - 57s 193ms/step - loss: 0.3246 - accuracy: 0.1129 - val_loss: 0.3245 - val_accuracy: 0.1620\n",
            "Epoch 7/12\n",
            "293/293 [==============================] - 57s 193ms/step - loss: 0.3245 - accuracy: 0.1146 - val_loss: 0.3244 - val_accuracy: 0.1665\n",
            "Epoch 8/12\n",
            "293/293 [==============================] - 56s 192ms/step - loss: 0.3243 - accuracy: 0.1169 - val_loss: 0.3243 - val_accuracy: 0.1720\n",
            "Epoch 9/12\n",
            "293/293 [==============================] - 57s 193ms/step - loss: 0.3243 - accuracy: 0.1182 - val_loss: 0.3242 - val_accuracy: 0.1798\n",
            "Epoch 10/12\n",
            "293/293 [==============================] - 57s 194ms/step - loss: 0.3241 - accuracy: 0.1230 - val_loss: 0.3241 - val_accuracy: 0.1841\n",
            "Epoch 11/12\n",
            "293/293 [==============================] - 56s 193ms/step - loss: 0.3240 - accuracy: 0.1210 - val_loss: 0.3239 - val_accuracy: 0.1866\n",
            "Epoch 12/12\n",
            "293/293 [==============================] - 57s 193ms/step - loss: 0.3238 - accuracy: 0.1258 - val_loss: 0.3237 - val_accuracy: 0.1914\n"
          ],
          "name": "stdout"
        }
      ]
    },
    {
      "cell_type": "code",
      "metadata": {
        "id": "eRdRX6NAWrk1"
      },
      "source": [
        "#定義一個繪圖函數\n",
        "def show_train_history_acc2(train_acc,test_acc):\n",
        "    plt.plot(train_history2.history[train_acc])\n",
        "    plt.plot(train_history2.history[test_acc])\n",
        "    plt.title('Train History')\n",
        "    plt.ylabel('Accuracy')\n",
        "    plt.xlabel('Epoch')\n",
        "    plt.legend(['train_acc', 'val_acc'], loc='upper left')\n",
        "    plt.show()"
      ],
      "execution_count": 51,
      "outputs": []
    },
    {
      "cell_type": "code",
      "metadata": {
        "id": "I69KQSp8Zhjv",
        "outputId": "347c9514-a228-4efa-dd56-8b0888af74b4",
        "colab": {
          "base_uri": "https://localhost:8080/",
          "height": 295
        }
      },
      "source": [
        "show_train_history_acc2('accuracy','val_accuracy')"
      ],
      "execution_count": 52,
      "outputs": [
        {
          "output_type": "display_data",
          "data": {
            "image/png": "[encoded data removed]",
            "text/plain": [
              "<Figure size 432x288 with 1 Axes>"
            ]
          },
          "metadata": {
            "tags": [],
            "needs_background": "light"
          }
        }
      ]
    },
    {
      "cell_type": "code",
      "metadata": {
        "id": "V1f6sQY8cRQz"
      },
      "source": [
        "#定義一個繪圖函數\n",
        "def show_train_history_loss2(loss,val_loss):\n",
        "    plt.plot(train_history2.history[loss])\n",
        "    plt.plot(train_history2.history[val_loss])\n",
        "    plt.title('Train History')\n",
        "    plt.ylabel('Loss')\n",
        "    plt.xlabel('Epoch')\n",
        "    plt.legend(['train', 'test'], loc='upper left')\n",
        "    plt.show()"
      ],
      "execution_count": 53,
      "outputs": []
    },
    {
      "cell_type": "code",
      "metadata": {
        "id": "2J_gNRE4ZkH0",
        "outputId": "bd1393ed-c56b-470f-b57c-5afd75740f48",
        "colab": {
          "base_uri": "https://localhost:8080/",
          "height": 295
        }
      },
      "source": [
        "show_train_history_loss2('loss','val_loss')"
      ],
      "execution_count": 54,
      "outputs": [
        {
          "output_type": "display_data",
          "data": {
            "image/png": "[encoded data removed]",
            "text/plain": [
              "<Figure size 432x288 with 1 Axes>"
            ]
          },
          "metadata": {
            "tags": [],
            "needs_background": "light"
          }
        }
      ]
    },
    {
      "cell_type": "code",
      "metadata": {
        "id": "loVS2FztazA6"
      },
      "source": [
        ""
      ],
      "execution_count": null,
      "outputs": []
    }
  ]
}