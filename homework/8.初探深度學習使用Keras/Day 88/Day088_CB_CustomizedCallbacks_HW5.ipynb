{
  "nbformat": 4,
  "nbformat_minor": 0,
  "metadata": {
    "kernelspec": {
      "display_name": "Python 3",
      "language": "python",
      "name": "python3"
    },
    "language_info": {
      "codemirror_mode": {
        "name": "ipython",
        "version": 3
      },
      "file_extension": ".py",
      "mimetype": "text/x-python",
      "name": "python",
      "nbconvert_exporter": "python",
      "pygments_lexer": "ipython3",
      "version": "3.6.5"
    },
    "colab": {
      "name": "Day088_CB_CustomizedCallbacks_HW5.ipynb",
      "provenance": [],
      "collapsed_sections": []
    }
  },
  "cells": [
    {
      "cell_type": "markdown",
      "metadata": {
        "id": "YRN8cBOeWa7p"
      },
      "source": [
        "## Work\n",
        "1. 請嘗試寫一個 callback 用來記錄各類別在訓練過程中，對驗證集的 True Positive 與 True Negative"
      ]
    },
    {
      "cell_type": "code",
      "metadata": {
        "id": "B_J5VsqIWa7p"
      },
      "source": [
        "import os\n",
        "import keras\n",
        "\n",
        "# Disable GPU\n",
        "os.environ[\"CUDA_VISIBLE_DEVICES\"] = \"\""
      ],
      "execution_count": 1,
      "outputs": []
    },
    {
      "cell_type": "code",
      "metadata": {
        "colab": {
          "base_uri": "https://localhost:8080/"
        },
        "id": "2ARUflIyWa7s",
        "outputId": "8942c6ff-97f6-4010-8649-013c6c91dd82"
      },
      "source": [
        "train, test = keras.datasets.cifar10.load_data()"
      ],
      "execution_count": 2,
      "outputs": [
        {
          "output_type": "stream",
          "text": [
            "Downloading data from https://www.cs.toronto.edu/~kriz/cifar-10-python.tar.gz\n",
            "170500096/170498071 [==============================] - 11s 0us/step\n"
          ],
          "name": "stdout"
        }
      ]
    },
    {
      "cell_type": "code",
      "metadata": {
        "id": "RinvJS8-Wa7s"
      },
      "source": [
        "## 資料前處理\n",
        "def preproc_x(x, flatten=True):\n",
        "    x = x / 255.\n",
        "    if flatten:\n",
        "        x = x.reshape((len(x), -1))\n",
        "    return x\n",
        "\n",
        "def preproc_y(y, num_classes=10):\n",
        "    if y.shape[-1] == 1:\n",
        "        y = keras.utils.to_categorical(y, num_classes)\n",
        "    return y    "
      ],
      "execution_count": 3,
      "outputs": []
    },
    {
      "cell_type": "code",
      "metadata": {
        "id": "YZaleqx8Wa7s"
      },
      "source": [
        "x_train, y_train = train\n",
        "x_test, y_test = test\n",
        "\n",
        "# Preproc the inputs\n",
        "x_train = preproc_x(x_train)\n",
        "x_test = preproc_x(x_test)\n",
        "\n",
        "# Preprc the outputs\n",
        "y_train = preproc_y(y_train)\n",
        "y_test = preproc_y(y_test)"
      ],
      "execution_count": 4,
      "outputs": []
    },
    {
      "cell_type": "code",
      "metadata": {
        "id": "ALsL265BWa7s"
      },
      "source": [
        "from keras.layers import BatchNormalization\n",
        "def build_mlp(input_shape, output_units=10, num_neurons=[256, 256, 256]):\n",
        "    input_layer = keras.layers.Input(input_shape)\n",
        "    \n",
        "    for i, n_units in enumerate(num_neurons):\n",
        "        if i == 0:\n",
        "            x = keras.layers.Dense(units=n_units, \n",
        "                                   activation=\"relu\", \n",
        "                                   name=\"hidden_layer\"+str(i+1))(input_layer)\n",
        "            x = BatchNormalization()(x)\n",
        "        else:\n",
        "            x = keras.layers.Dense(units=n_units, \n",
        "                                   activation=\"relu\", \n",
        "                                   name=\"hidden_layer\"+str(i+1))(x)\n",
        "            x = BatchNormalization()(x)\n",
        "    \n",
        "    out = keras.layers.Dense(units=output_units, activation=\"softmax\", name=\"output\")(x)\n",
        "    \n",
        "    model = keras.models.Model(inputs=[input_layer], outputs=[out])\n",
        "    return model"
      ],
      "execution_count": 16,
      "outputs": []
    },
    {
      "cell_type": "code",
      "metadata": {
        "id": "csJ2lfx3Wa7s"
      },
      "source": [
        "## 超參數設定\n",
        "LEARNING_RATE = 1e-3\n",
        "EPOCHS = 25\n",
        "BATCH_SIZE = 1024\n",
        "MOMENTUM = 0.95"
      ],
      "execution_count": 17,
      "outputs": []
    },
    {
      "cell_type": "code",
      "metadata": {
        "id": "no-GGDsdcwTg"
      },
      "source": [
        "url = 'https://www.cupoy.com/qa/club/ai_tw/0000016D6BA22D97000000016375706F795F72656C656173654B5741535354434C5542/0000017389BC397E000000196375706F795F72656C656173655155455354'\n",
        "\n",
        "# 載入 Callbacks\n",
        "from keras.callbacks import Callback\n",
        "\n",
        "class Record_tp_tn(keras.callbacks.Callback):\n",
        "    \n",
        "    def __init__(self, val_data=(x_test, y_test)):\n",
        "        self.validation_data = val_data\n",
        "    \n",
        "    def on_train_begin(self, epoch, logs = {}):\n",
        "        logs = logs or {}\n",
        "        record_items = [\"val_auc\", \"val_f1sc\", \"val_fp\", \"val_fn\", \"val_tp\", \"val_tn\"]\n",
        "        for i in record_items:\n",
        "            try:\n",
        "                if i not in self.params['metrics']:\n",
        "                    self.params['metrics'].append(i)\n",
        "            except:\n",
        "                self.params['metrics']=i\n",
        "    \n",
        "    def on_epoch_end(self, epoch, logs = {}, thres=0.5):\n",
        "        logs = logs or {}\n",
        "        y_true = self.validation_data[1].argmax(axis = 1)\n",
        "        y_pred = self.model.predict(self.validation_data[0])\n",
        "        y_pred = (y_pred[:, 1] >= thres) * 1\n",
        "        \n",
        "        #logs[\"val_f1sc\"] = f1_score(y_true = y_true, y_pred = y_pred, average=\"weighted\")\n",
        "        val_tp = sum(y_true*y_pred)\n",
        "        val_tn = sum((y_true==0) & (y_pred==0))\n",
        "        \n",
        "        logs[\"val_tp\"] = val_tp\n",
        "        logs[\"val_tn\"] = val_tn\n",
        "        \n",
        " \n",
        "rec_tptn = Record_tp_tn()     "
      ],
      "execution_count": 22,
      "outputs": []
    },
    {
      "cell_type": "code",
      "metadata": {
        "scrolled": true,
        "colab": {
          "base_uri": "https://localhost:8080/"
        },
        "id": "KEsFtfZgWa7s",
        "outputId": "d72719cc-4ec7-4d35-af48-ddf916a3fd4e"
      },
      "source": [
        "model = build_mlp(input_shape=x_train.shape[1:])\n",
        "model.summary()\n",
        "optimizer = keras.optimizers.SGD(lr=LEARNING_RATE, nesterov=True, momentum=MOMENTUM)\n",
        "model.compile(loss=\"categorical_crossentropy\", metrics=[\"accuracy\"], optimizer=optimizer)\n",
        "\n",
        "model.fit(x_train, y_train, \n",
        "          epochs=EPOCHS, \n",
        "          batch_size=BATCH_SIZE, \n",
        "          validation_data=(x_test, y_test), \n",
        "          shuffle=True,\n",
        "          callbacks=[rec_tptn]\n",
        "         )\n",
        "\n",
        "# Collect results\n",
        "train_loss = model.history.history[\"loss\"]\n",
        "valid_loss = model.history.history[\"val_loss\"]\n",
        "train_acc = model.history.history[\"accuracy\"]\n",
        "valid_acc = model.history.history[\"val_accuracy\"]\n",
        "\n",
        "valid_tp = model.history.history['val_tp']\n",
        "valid_tn = model.history.history['val_tn']"
      ],
      "execution_count": 23,
      "outputs": [
        {
          "output_type": "stream",
          "text": [
            "Model: \"functional_13\"\n",
            "_________________________________________________________________\n",
            "Layer (type)                 Output Shape              Param #   \n",
            "=================================================================\n",
            "input_7 (InputLayer)         [(None, 3072)]            0         \n",
            "_________________________________________________________________\n",
            "hidden_layer1 (Dense)        (None, 256)               786688    \n",
            "_________________________________________________________________\n",
            "batch_normalization_18 (Batc (None, 256)               1024      \n",
            "_________________________________________________________________\n",
            "hidden_layer2 (Dense)        (None, 256)               65792     \n",
            "_________________________________________________________________\n",
            "batch_normalization_19 (Batc (None, 256)               1024      \n",
            "_________________________________________________________________\n",
            "hidden_layer3 (Dense)        (None, 256)               65792     \n",
            "_________________________________________________________________\n",
            "batch_normalization_20 (Batc (None, 256)               1024      \n",
            "_________________________________________________________________\n",
            "output (Dense)               (None, 10)                2570      \n",
            "=================================================================\n",
            "Total params: 923,914\n",
            "Trainable params: 922,378\n",
            "Non-trainable params: 1,536\n",
            "_________________________________________________________________\n",
            "Epoch 1/25\n",
            "49/49 [==============================] - 6s 122ms/step - loss: 2.2497 - accuracy: 0.2663 - val_loss: 2.1425 - val_accuracy: 0.1925\n",
            "Epoch 2/25\n",
            "49/49 [==============================] - 6s 119ms/step - loss: 1.7658 - accuracy: 0.3835 - val_loss: 1.9841 - val_accuracy: 0.2950\n",
            "Epoch 3/25\n",
            "49/49 [==============================] - 6s 123ms/step - loss: 1.6411 - accuracy: 0.4257 - val_loss: 1.8259 - val_accuracy: 0.3729\n",
            "Epoch 4/25\n",
            "49/49 [==============================] - 6s 118ms/step - loss: 1.5670 - accuracy: 0.4515 - val_loss: 1.7104 - val_accuracy: 0.4102\n",
            "Epoch 5/25\n",
            "49/49 [==============================] - 6s 117ms/step - loss: 1.5137 - accuracy: 0.4709 - val_loss: 1.6401 - val_accuracy: 0.4284\n",
            "Epoch 6/25\n",
            "49/49 [==============================] - 6s 117ms/step - loss: 1.4690 - accuracy: 0.4866 - val_loss: 1.5908 - val_accuracy: 0.4433\n",
            "Epoch 7/25\n",
            "49/49 [==============================] - 6s 117ms/step - loss: 1.4301 - accuracy: 0.5019 - val_loss: 1.5608 - val_accuracy: 0.4518\n",
            "Epoch 8/25\n",
            "49/49 [==============================] - 6s 117ms/step - loss: 1.3950 - accuracy: 0.5127 - val_loss: 1.5285 - val_accuracy: 0.4622\n",
            "Epoch 9/25\n",
            "49/49 [==============================] - 6s 117ms/step - loss: 1.3642 - accuracy: 0.5248 - val_loss: 1.5102 - val_accuracy: 0.4644\n",
            "Epoch 10/25\n",
            "49/49 [==============================] - 6s 118ms/step - loss: 1.3385 - accuracy: 0.5327 - val_loss: 1.4968 - val_accuracy: 0.4756\n",
            "Epoch 11/25\n",
            "49/49 [==============================] - 6s 119ms/step - loss: 1.3111 - accuracy: 0.5441 - val_loss: 1.4918 - val_accuracy: 0.4727\n",
            "Epoch 12/25\n",
            "49/49 [==============================] - 6s 118ms/step - loss: 1.2868 - accuracy: 0.5528 - val_loss: 1.4787 - val_accuracy: 0.4808\n",
            "Epoch 13/25\n",
            "49/49 [==============================] - 6s 117ms/step - loss: 1.2631 - accuracy: 0.5606 - val_loss: 1.4781 - val_accuracy: 0.4823\n",
            "Epoch 14/25\n",
            "49/49 [==============================] - 6s 117ms/step - loss: 1.2421 - accuracy: 0.5684 - val_loss: 1.4713 - val_accuracy: 0.4877\n",
            "Epoch 15/25\n",
            "49/49 [==============================] - 6s 118ms/step - loss: 1.2203 - accuracy: 0.5769 - val_loss: 1.4568 - val_accuracy: 0.4922\n",
            "Epoch 16/25\n",
            "49/49 [==============================] - 6s 119ms/step - loss: 1.1998 - accuracy: 0.5847 - val_loss: 1.4599 - val_accuracy: 0.4907\n",
            "Epoch 17/25\n",
            "49/49 [==============================] - 6s 118ms/step - loss: 1.1811 - accuracy: 0.5909 - val_loss: 1.4560 - val_accuracy: 0.4922\n",
            "Epoch 18/25\n",
            "49/49 [==============================] - 6s 117ms/step - loss: 1.1616 - accuracy: 0.5975 - val_loss: 1.4492 - val_accuracy: 0.4944\n",
            "Epoch 19/25\n",
            "49/49 [==============================] - 6s 117ms/step - loss: 1.1434 - accuracy: 0.6054 - val_loss: 1.4669 - val_accuracy: 0.4899\n",
            "Epoch 20/25\n",
            "49/49 [==============================] - 6s 117ms/step - loss: 1.1245 - accuracy: 0.6111 - val_loss: 1.4467 - val_accuracy: 0.4947\n",
            "Epoch 21/25\n",
            "49/49 [==============================] - 6s 117ms/step - loss: 1.1062 - accuracy: 0.6192 - val_loss: 1.4468 - val_accuracy: 0.4979\n",
            "Epoch 22/25\n",
            "49/49 [==============================] - 6s 119ms/step - loss: 1.0885 - accuracy: 0.6273 - val_loss: 1.4450 - val_accuracy: 0.4993\n",
            "Epoch 23/25\n",
            "49/49 [==============================] - 6s 116ms/step - loss: 1.0714 - accuracy: 0.6319 - val_loss: 1.4501 - val_accuracy: 0.4924\n",
            "Epoch 24/25\n",
            "49/49 [==============================] - 6s 118ms/step - loss: 1.0559 - accuracy: 0.6382 - val_loss: 1.4510 - val_accuracy: 0.4956\n",
            "Epoch 25/25\n",
            "49/49 [==============================] - 6s 117ms/step - loss: 1.0361 - accuracy: 0.6474 - val_loss: 1.4499 - val_accuracy: 0.5004\n"
          ],
          "name": "stdout"
        }
      ]
    },
    {
      "cell_type": "code",
      "metadata": {
        "colab": {
          "base_uri": "https://localhost:8080/",
          "height": 809
        },
        "id": "b-vcBLDcWa7t",
        "outputId": "9a83546e-c0b2-4fe7-9e67-8b3774492843"
      },
      "source": [
        "import matplotlib.pyplot as plt\n",
        "%matplotlib inline\n",
        "\n",
        "plt.plot(range(len(train_loss)), train_loss, label=\"train loss\")\n",
        "plt.plot(range(len(valid_loss)), valid_loss, label=\"valid loss\")\n",
        "plt.legend()\n",
        "plt.title(\"Loss\")\n",
        "plt.show()\n",
        "\n",
        "plt.plot(range(len(train_acc)), train_acc, label=\"train accuracy\")\n",
        "plt.plot(range(len(valid_acc)), valid_acc, label=\"valid accuracy\")\n",
        "plt.legend()\n",
        "plt.title(\"Accuracy\")\n",
        "plt.show()\n",
        "\n",
        "plt.plot(range(len(valid_tp)), valid_tp, label=\"valid tp\", color=\"navy\")\n",
        "plt.plot(range(len(valid_tn)), valid_tn, label=\"valid tn\", color=\"red\")\n",
        "plt.legend()\n",
        "plt.title(\"True positives and True Negatives\")\n",
        "plt.show()\n"
      ],
      "execution_count": 24,
      "outputs": [
        {
          "output_type": "display_data",
          "data": {
            "image/png": "[encoded data removed]",
            "text/plain": [
              "<Figure size 432x288 with 1 Axes>"
            ]
          },
          "metadata": {
            "tags": [],
            "needs_background": "light"
          }
        },
        {
          "output_type": "display_data",
          "data": {
            "image/png": "[encoded data removed]",
            "text/plain": [
              "<Figure size 432x288 with 1 Axes>"
            ]
          },
          "metadata": {
            "tags": [],
            "needs_background": "light"
          }
        },
        {
          "output_type": "display_data",
          "data": {
            "image/png": "[encoded data removed]",
            "text/plain": [
              "<Figure size 432x288 with 1 Axes>"
            ]
          },
          "metadata": {
            "tags": [],
            "needs_background": "light"
          }
        }
      ]
    }
  ]
}