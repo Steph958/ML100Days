{
  "nbformat": 4,
  "nbformat_minor": 0,
  "metadata": {
    "kernelspec": {
      "display_name": "Python 3",
      "language": "python",
      "name": "python3"
    },
    "language_info": {
      "codemirror_mode": {
        "name": "ipython",
        "version": 3
      },
      "file_extension": ".py",
      "mimetype": "text/x-python",
      "name": "python",
      "nbconvert_exporter": "python",
      "pygments_lexer": "ipython3",
      "version": "3.7.0"
    },
    "colab": {
      "name": "Day69-keras_Module_API_HW.ipynb",
      "provenance": []
    }
  },
  "cells": [
    {
      "cell_type": "markdown",
      "metadata": {
        "id": "ZKWWJ5xXCQD5"
      },
      "source": [
        "# 作業目標:\n",
        "    \n",
        "    建立一個網路模型"
      ]
    },
    {
      "cell_type": "markdown",
      "metadata": {
        "id": "4a3l02coCQD7"
      },
      "source": [
        "# 作業重點:\n",
        "\n",
        "請修改 Name 中, 自定義的 Layer 名稱\n",
        "\n",
        "增加一層全連階層\n",
        "\n",
        "宣告 MODEL API, 分別採用自行定義的 Input/Output Layer\n",
        "\n",
        "model.summary 查看 Layers stack"
      ]
    },
    {
      "cell_type": "markdown",
      "metadata": {
        "id": "vE9q5iTbEyr6"
      },
      "source": [
        "# 主輸入"
      ]
    },
    {
      "cell_type": "code",
      "metadata": {
        "id": "yM0FHEqCCQD8"
      },
      "source": [
        "from keras.layers import Input, Embedding, LSTM, Dense\n",
        "from keras.models import Model\n",
        "\n",
        "#主要輸入接收新聞標題本身，即一個整數序列（每個整數編碼一個詞）。\n",
        "#這些整數在1 到10,000 之間（10,000 個詞的詞彙表），且序列長度為100 個詞\n",
        "#宣告一個 NAME 去定義Input\n",
        "main_input = Input(shape=(100,), dtype='int32', name='main_input')\n",
        "\n",
        "\n",
        "# Embedding 層將輸入序列編碼為一個稠密向量的序列，\n",
        "# 每個向量維度為 512。\n",
        "x = Embedding(output_dim=512, input_dim=10000, input_length=100)(main_input)\n",
        "\n",
        "# LSTM 層把向量序列轉換成單個向量，\n",
        "# 它包含整個序列的上下文信息\n",
        "lstm_out = LSTM(32)(x)"
      ],
      "execution_count": 1,
      "outputs": []
    },
    {
      "cell_type": "markdown",
      "metadata": {
        "id": "6KnwQCwOE16q"
      },
      "source": [
        "# 副輸出"
      ]
    },
    {
      "cell_type": "code",
      "metadata": {
        "id": "ed_Hu91jCQD_"
      },
      "source": [
        "#插入輔助損失，使得即使在模型主損失很高的情況下，LSTM 層和Embedding 層都能被平穩地訓練\n",
        "news_output = Dense(1, activation='sigmoid', name='news_out')(lstm_out)"
      ],
      "execution_count": 2,
      "outputs": []
    },
    {
      "cell_type": "markdown",
      "metadata": {
        "id": "iVzTDtsBE5vn"
      },
      "source": [
        "# 主輸出 & 副輸入"
      ]
    },
    {
      "cell_type": "code",
      "metadata": {
        "id": "F5VrCxHdCQEC"
      },
      "source": [
        "#輔助輸入數據與LSTM 層的輸出連接起來，輸入到模型\n",
        "import keras\n",
        "news_input = Input(shape=(5,), name='news_in')\n",
        "x = keras.layers.concatenate([lstm_out, news_input])\n",
        "\n",
        "\n",
        "# 堆疊多個全連接網路層\n",
        "x = Dense(64, activation='relu')(x)\n",
        "x = Dense(64, activation='relu')(x)\n",
        "#作業解答: 新增兩層\n",
        "x = Dense(64, activation='relu')(x)\n",
        "x = Dense(64, activation='relu')(x)\n",
        "\n",
        "# 最後添加主要的邏輯回歸層\n",
        "main_output = Dense(1, activation='sigmoid', name='main_output')(x)"
      ],
      "execution_count": 3,
      "outputs": []
    },
    {
      "cell_type": "code",
      "metadata": {
        "id": "Ug2mgLa2EX5y"
      },
      "source": [
        "# 宣告 MODEL API, 分別採用自行定義的 Input/Output Layer\n",
        "model = Model(inputs=[main_input, news_input], outputs=[main_output, news_output])"
      ],
      "execution_count": 4,
      "outputs": []
    },
    {
      "cell_type": "markdown",
      "metadata": {
        "id": "211eLartF-om"
      },
      "source": [
        "# 編譯"
      ]
    },
    {
      "cell_type": "code",
      "metadata": {
        "id": "XNswWswuFEFS"
      },
      "source": [
        "model.compile(optimizer='rmsprop',\n",
        "              loss={'main_output':'binary_crossentrophy',\n",
        "                    'news_out':'binary_crossentrophy'},\n",
        "              loss_weights={'main_output':1.,\n",
        "                            'new_out':0.2}\n",
        "              )"
      ],
      "execution_count": 6,
      "outputs": []
    },
    {
      "cell_type": "code",
      "metadata": {
        "id": "a8_y29dWFxpa",
        "outputId": "296a4a9d-8a40-4a2d-dc46-334b795a7ba8",
        "colab": {
          "base_uri": "https://localhost:8080/"
        }
      },
      "source": [
        "model.summary()"
      ],
      "execution_count": 7,
      "outputs": [
        {
          "output_type": "stream",
          "text": [
            "Model: \"functional_1\"\n",
            "__________________________________________________________________________________________________\n",
            "Layer (type)                    Output Shape         Param #     Connected to                     \n",
            "==================================================================================================\n",
            "main_input (InputLayer)         [(None, 100)]        0                                            \n",
            "__________________________________________________________________________________________________\n",
            "embedding (Embedding)           (None, 100, 512)     5120000     main_input[0][0]                 \n",
            "__________________________________________________________________________________________________\n",
            "lstm (LSTM)                     (None, 32)           69760       embedding[0][0]                  \n",
            "__________________________________________________________________________________________________\n",
            "news_in (InputLayer)            [(None, 5)]          0                                            \n",
            "__________________________________________________________________________________________________\n",
            "concatenate (Concatenate)       (None, 37)           0           lstm[0][0]                       \n",
            "                                                                 news_in[0][0]                    \n",
            "__________________________________________________________________________________________________\n",
            "dense (Dense)                   (None, 64)           2432        concatenate[0][0]                \n",
            "__________________________________________________________________________________________________\n",
            "dense_1 (Dense)                 (None, 64)           4160        dense[0][0]                      \n",
            "__________________________________________________________________________________________________\n",
            "dense_2 (Dense)                 (None, 64)           4160        dense_1[0][0]                    \n",
            "__________________________________________________________________________________________________\n",
            "dense_3 (Dense)                 (None, 64)           4160        dense_2[0][0]                    \n",
            "__________________________________________________________________________________________________\n",
            "main_output (Dense)             (None, 1)            65          dense_3[0][0]                    \n",
            "__________________________________________________________________________________________________\n",
            "news_out (Dense)                (None, 1)            33          lstm[0][0]                       \n",
            "==================================================================================================\n",
            "Total params: 5,204,770\n",
            "Trainable params: 5,204,770\n",
            "Non-trainable params: 0\n",
            "__________________________________________________________________________________________________\n"
          ],
          "name": "stdout"
        }
      ]
    },
    {
      "cell_type": "code",
      "metadata": {
        "id": "HYPZX8fFFz4m"
      },
      "source": [
        ""
      ],
      "execution_count": null,
      "outputs": []
    }
  ]
}