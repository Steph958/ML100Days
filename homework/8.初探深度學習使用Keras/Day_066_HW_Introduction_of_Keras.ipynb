{
  "nbformat": 4,
  "nbformat_minor": 0,
  "metadata": {
    "colab": {
      "name": "Day_066_HW_Introduction_of_Keras.ipynb",
      "provenance": []
    },
    "kernelspec": {
      "name": "python3",
      "display_name": "Python 3"
    }
  },
  "cells": [
    {
      "cell_type": "code",
      "metadata": {
        "id": "9m1Xy1RXRYd2"
      },
      "source": [
        "# 載入套件\n",
        "import keras\n",
        "from keras import backend as K\n",
        "from keras.layers import Layer\n",
        "\n",
        "import tensorflow"
      ],
      "execution_count": 3,
      "outputs": []
    },
    {
      "cell_type": "code",
      "metadata": {
        "id": "F7BfkcMkRhD8",
        "outputId": "7d07a320-197f-4def-abaa-ad6b6d50d393",
        "colab": {
          "base_uri": "https://localhost:8080/"
        }
      },
      "source": [
        "# 檢查版本\n",
        "print(keras.__version__)\n",
        "print(tensorflow.__version__)"
      ],
      "execution_count": 4,
      "outputs": [
        {
          "output_type": "stream",
          "text": [
            "2.4.3\n",
            "2.3.0\n"
          ],
          "name": "stdout"
        }
      ]
    },
    {
      "cell_type": "code",
      "metadata": {
        "id": "5_58ulsRRorM",
        "outputId": "a846fe8e-c200-4eed-843f-71064858e2fc",
        "colab": {
          "base_uri": "https://localhost:8080/"
        }
      },
      "source": [
        "# GPU加速测试, True - Windows用戶得到True也沒有關係，因為Anaconda中已經內置了MKL加速庫\n",
        "import numpy \n",
        "id(numpy.dot) == id(numpy.core.multiarray.dot) "
      ],
      "execution_count": 5,
      "outputs": [
        {
          "output_type": "execute_result",
          "data": {
            "text/plain": [
              "True"
            ]
          },
          "metadata": {
            "tags": []
          },
          "execution_count": 5
        }
      ]
    },
    {
      "cell_type": "code",
      "metadata": {
        "id": "tzNkReSeR9vT",
        "outputId": "f6a30f50-ecbf-4d18-bd4e-a0a33e5ab07b",
        "colab": {
          "base_uri": "https://localhost:8080/",
          "height": 35
        }
      },
      "source": [
        "#檢查Keras float \n",
        "K.floatx()"
      ],
      "execution_count": 6,
      "outputs": [
        {
          "output_type": "execute_result",
          "data": {
            "application/vnd.google.colaboratory.intrinsic+json": {
              "type": "string"
            },
            "text/plain": [
              "'float32'"
            ]
          },
          "metadata": {
            "tags": []
          },
          "execution_count": 6
        }
      ]
    },
    {
      "cell_type": "code",
      "metadata": {
        "id": "P6qioqfKSLxh",
        "outputId": "4efa7a06-25ba-4980-a4ef-b0a3f6be28a0",
        "colab": {
          "base_uri": "https://localhost:8080/"
        }
      },
      "source": [
        "from keras.utils import multi_gpu_model\n",
        "from keras.models import Model\n",
        "from keras.layers import Input, Dense\n",
        "\n",
        "a = Input(shape=(32,))\n",
        "b = Dense(32)(a)\n",
        "model = Model(inputs=a, outputs=b)\n",
        "\n",
        "config = model.get_config()\n",
        "print(config)"
      ],
      "execution_count": 7,
      "outputs": [
        {
          "output_type": "stream",
          "text": [
            "{'name': 'functional_1', 'layers': [{'class_name': 'InputLayer', 'config': {'batch_input_shape': (None, 32), 'dtype': 'float32', 'sparse': False, 'ragged': False, 'name': 'input_1'}, 'name': 'input_1', 'inbound_nodes': []}, {'class_name': 'Dense', 'config': {'name': 'dense', 'trainable': True, 'dtype': 'float32', 'units': 32, 'activation': 'linear', 'use_bias': True, 'kernel_initializer': {'class_name': 'GlorotUniform', 'config': {'seed': None}}, 'bias_initializer': {'class_name': 'Zeros', 'config': {}}, 'kernel_regularizer': None, 'bias_regularizer': None, 'activity_regularizer': None, 'kernel_constraint': None, 'bias_constraint': None}, 'name': 'dense', 'inbound_nodes': [[['input_1', 0, 0, {}]]]}], 'input_layers': [['input_1', 0, 0]], 'output_layers': [['dense', 0, 0]]}\n"
          ],
          "name": "stdout"
        }
      ]
    },
    {
      "cell_type": "code",
      "metadata": {
        "id": "0SVTF6BqSUAo",
        "outputId": "5dd12e7e-1801-4c4f-a295-f9022738bee6",
        "colab": {
          "base_uri": "https://localhost:8080/"
        }
      },
      "source": [
        "model.summary()"
      ],
      "execution_count": 8,
      "outputs": [
        {
          "output_type": "stream",
          "text": [
            "Model: \"functional_1\"\n",
            "_________________________________________________________________\n",
            "Layer (type)                 Output Shape              Param #   \n",
            "=================================================================\n",
            "input_1 (InputLayer)         [(None, 32)]              0         \n",
            "_________________________________________________________________\n",
            "dense (Dense)                (None, 32)                1056      \n",
            "=================================================================\n",
            "Total params: 1,056\n",
            "Trainable params: 1,056\n",
            "Non-trainable params: 0\n",
            "_________________________________________________________________\n"
          ],
          "name": "stdout"
        }
      ]
    },
    {
      "cell_type": "markdown",
      "metadata": {
        "id": "IVDZZis-Sa1j"
      },
      "source": [
        "# 作業:\n",
        "\n",
        "\n",
        "檢查 backend\n",
        "\n",
        "檢查 fuzz factor\n",
        "\n",
        "設定 Keras 浮點運算為float16\n"
      ]
    },
    {
      "cell_type": "markdown",
      "metadata": {
        "id": "qb3fjlyAXNQa"
      },
      "source": [
        "# 參考:\n",
        "\n",
        "官方文檔:https://keras.io/zh/\n",
        "\n",
        "第三方文檔:https://keras-cn.readthedocs.io/en/latest/"
      ]
    },
    {
      "cell_type": "code",
      "metadata": {
        "id": "TcKbLlubSfIZ",
        "outputId": "4ace2358-cf60-46a9-ea25-83ed78185bc1",
        "colab": {
          "base_uri": "https://localhost:8080/"
        }
      },
      "source": [
        "#查看當前後端:\n",
        "K"
      ],
      "execution_count": 19,
      "outputs": [
        {
          "output_type": "execute_result",
          "data": {
            "text/plain": [
              "<module 'keras.backend' from '/usr/local/lib/python3.6/dist-packages/keras/backend.py'>"
            ]
          },
          "metadata": {
            "tags": []
          },
          "execution_count": 19
        }
      ]
    },
    {
      "cell_type": "code",
      "metadata": {
        "id": "Btprg6spTr9K",
        "outputId": "cef0059f-88c9-4616-cfcb-a1066d6fc515",
        "colab": {
          "base_uri": "https://localhost:8080/"
        }
      },
      "source": [
        "#檢查 fuzz factor:\n",
        "keras.backend.epsilon()\n",
        "\n",
        "# returns the value of the fuzz factor used in numeric expressions. \n"
      ],
      "execution_count": 20,
      "outputs": [
        {
          "output_type": "execute_result",
          "data": {
            "text/plain": [
              "1e-07"
            ]
          },
          "metadata": {
            "tags": []
          },
          "execution_count": 20
        }
      ]
    },
    {
      "cell_type": "markdown",
      "metadata": {
        "id": "KmxudGJPVwFr"
      },
      "source": [
        "https://stats.stackexchange.com/questions/342892/what-is-the-meaning-of-fuzz-factor\n",
        "\n",
        "The epsilon in Keras is a small floating point number used to generally avoid mistakes like divide by zero. \n",
        "\n",
        "An example of its usage is here in the Keras code for calculation of mean absolute percentage error:"
      ]
    },
    {
      "cell_type": "code",
      "metadata": {
        "id": "VL5EzBk1VzFy"
      },
      "source": [
        "from keras import backend as K\n",
        "\n",
        "def mean_absolute_percentage_error(y_true, y_pred):\n",
        "   diff = K.abs((y_true - y_pred) / K.clip(K.abs(y_true),\n",
        "                                        K.epsilon(),\n",
        "                                        None))\n",
        "\n",
        "   return 100. * K.mean(diff, axis=-1)"
      ],
      "execution_count": 24,
      "outputs": []
    },
    {
      "cell_type": "code",
      "metadata": {
        "id": "k3m0-3NoSjR7",
        "outputId": "baf93af8-8e6a-4bc8-d226-6c09055bf795",
        "colab": {
          "base_uri": "https://localhost:8080/"
        }
      },
      "source": [
        "from keras.utils import multi_gpu_model\n",
        "from keras.models import Model\n",
        "from keras.layers import Input, Dense\n",
        "\n",
        "a = Input(shape=(16,))\n",
        "b = Dense(16)(a)\n",
        "model = Model(inputs=a, outputs=b)\n",
        "\n",
        "config = model.get_config()\n",
        "print(config)"
      ],
      "execution_count": 14,
      "outputs": [
        {
          "output_type": "stream",
          "text": [
            "{'name': 'functional_7', 'layers': [{'class_name': 'InputLayer', 'config': {'batch_input_shape': (None, 16), 'dtype': 'float32', 'sparse': False, 'ragged': False, 'name': 'input_4'}, 'name': 'input_4', 'inbound_nodes': []}, {'class_name': 'Dense', 'config': {'name': 'dense_3', 'trainable': True, 'dtype': 'float32', 'units': 16, 'activation': 'linear', 'use_bias': True, 'kernel_initializer': {'class_name': 'GlorotUniform', 'config': {'seed': None}}, 'bias_initializer': {'class_name': 'Zeros', 'config': {}}, 'kernel_regularizer': None, 'bias_regularizer': None, 'activity_regularizer': None, 'kernel_constraint': None, 'bias_constraint': None}, 'name': 'dense_3', 'inbound_nodes': [[['input_4', 0, 0, {}]]]}], 'input_layers': [['input_4', 0, 0]], 'output_layers': [['dense_3', 0, 0]]}\n"
          ],
          "name": "stdout"
        }
      ]
    },
    {
      "cell_type": "code",
      "metadata": {
        "id": "wC4GwIg_WQDc",
        "outputId": "c33a4752-530c-467a-8613-b12078d63d2c",
        "colab": {
          "base_uri": "https://localhost:8080/",
          "height": 35
        }
      },
      "source": [
        "#設定 Keras 浮點運算為float16:\n",
        "from keras import backend as K\n",
        "K.floatx()"
      ],
      "execution_count": 25,
      "outputs": [
        {
          "output_type": "execute_result",
          "data": {
            "application/vnd.google.colaboratory.intrinsic+json": {
              "type": "string"
            },
            "text/plain": [
              "'float32'"
            ]
          },
          "metadata": {
            "tags": []
          },
          "execution_count": 25
        }
      ]
    },
    {
      "cell_type": "code",
      "metadata": {
        "id": "v4JSho2YW4XL",
        "outputId": "5717c226-a04c-434b-8ff9-57e306224cc2",
        "colab": {
          "base_uri": "https://localhost:8080/",
          "height": 35
        }
      },
      "source": [
        "K.set_floatx('float16')\n",
        "K.floatx()"
      ],
      "execution_count": 26,
      "outputs": [
        {
          "output_type": "execute_result",
          "data": {
            "application/vnd.google.colaboratory.intrinsic+json": {
              "type": "string"
            },
            "text/plain": [
              "'float16'"
            ]
          },
          "metadata": {
            "tags": []
          },
          "execution_count": 26
        }
      ]
    }
  ]
}