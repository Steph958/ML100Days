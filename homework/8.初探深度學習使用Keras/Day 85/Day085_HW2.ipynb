{
  "nbformat": 4,
  "nbformat_minor": 0,
  "metadata": {
    "kernelspec": {
      "display_name": "Python 3",
      "language": "python",
      "name": "python3"
    },
    "language_info": {
      "codemirror_mode": {
        "name": "ipython",
        "version": 3
      },
      "file_extension": ".py",
      "mimetype": "text/x-python",
      "name": "python",
      "nbconvert_exporter": "python",
      "pygments_lexer": "ipython3",
      "version": "3.6.5"
    },
    "colab": {
      "name": "Day085_HW2.ipynb",
      "provenance": [],
      "collapsed_sections": []
    }
  },
  "cells": [
    {
      "cell_type": "markdown",
      "metadata": {
        "id": "bcJKf--LIkRP"
      },
      "source": [
        "## Work\n",
        "1. 試改變 monitor \"Validation Accuracy\" 並比較結果\n",
        "2. 調整 earlystop 的等待次數至 10, 25 並比較結果"
      ]
    },
    {
      "cell_type": "code",
      "metadata": {
        "id": "N7eljjU-IkRY"
      },
      "source": [
        "import os\n",
        "import keras\n",
        "import matplotlib.pyplot as plt\n",
        "%matplotlib inline\n",
        "\n",
        "\n",
        "# Disable GPU\n",
        "os.environ[\"CUDA_VISIBLE_DEVICES\"] = \"\""
      ],
      "execution_count": 6,
      "outputs": []
    },
    {
      "cell_type": "code",
      "metadata": {
        "id": "oUNgzf0fKOdT",
        "outputId": "b30f4ca3-a826-4c5c-a84e-f31144181f47",
        "colab": {
          "base_uri": "https://localhost:8080/"
        }
      },
      "source": [
        "train, test = keras.datasets.cifar10.load_data()"
      ],
      "execution_count": 7,
      "outputs": [
        {
          "output_type": "stream",
          "text": [
            "Downloading data from https://www.cs.toronto.edu/~kriz/cifar-10-python.tar.gz\n",
            "170500096/170498071 [==============================] - 11s 0us/step\n"
          ],
          "name": "stdout"
        }
      ]
    },
    {
      "cell_type": "code",
      "metadata": {
        "id": "6ONp3522IkRp"
      },
      "source": [
        "## 資料前處理\n",
        "def preproc_x(x, flatten=True):\n",
        "    x = x / 255.\n",
        "    if flatten:\n",
        "        x = x.reshape((len(x), -1))\n",
        "    return x\n",
        "\n",
        "def preproc_y(y, num_classes=10):\n",
        "    if y.shape[-1] == 1:\n",
        "        y = keras.utils.to_categorical(y, num_classes)\n",
        "    return y    "
      ],
      "execution_count": 8,
      "outputs": []
    },
    {
      "cell_type": "code",
      "metadata": {
        "id": "nwmQ3C4sIkRu"
      },
      "source": [
        "x_train, y_train = train\n",
        "x_test, y_test = test\n",
        "\n",
        "# Preproc the inputs\n",
        "x_train = preproc_x(x_train)\n",
        "x_test = preproc_x(x_test)\n",
        "\n",
        "# Preprc the outputs\n",
        "y_train = preproc_y(y_train)\n",
        "y_test = preproc_y(y_test)"
      ],
      "execution_count": 9,
      "outputs": []
    },
    {
      "cell_type": "code",
      "metadata": {
        "id": "5BUVT2_-IkRz"
      },
      "source": [
        "from keras.layers import BatchNormalization\n",
        "\n",
        "\"\"\"\n",
        "建立神經網路，並加入 BN layer\n",
        "\"\"\"\n",
        "def build_mlp(input_shape, output_units=10, num_neurons=[512, 256, 128]):\n",
        "    \n",
        "    input_layer = keras.layers.Input(input_shape)\n",
        "    \n",
        "    for i, n_units in enumerate(num_neurons):\n",
        "        if i == 0:\n",
        "            x = keras.layers.Dense(units=n_units, \n",
        "                                   activation=\"relu\", \n",
        "                                   name=\"hidden_layer\"+str(i+1))(input_layer)\n",
        "            x = BatchNormalization()(x)\n",
        "        else:\n",
        "            x = keras.layers.Dense(units=n_units, \n",
        "                                   activation=\"relu\", \n",
        "                                   name=\"hidden_layer\"+str(i+1))(x)\n",
        "            x = BatchNormalization()(x)\n",
        "    \n",
        "    out = keras.layers.Dense(units=output_units, activation=\"softmax\", name=\"output\")(x)\n",
        "    \n",
        "    model = keras.models.Model(inputs=[input_layer], outputs=[out])\n",
        "    \n",
        "    return model"
      ],
      "execution_count": 10,
      "outputs": []
    },
    {
      "cell_type": "code",
      "metadata": {
        "id": "MCb28cIbIkR4"
      },
      "source": [
        "## 超參數設定\n",
        "LEARNING_RATE = 1e-3\n",
        "EPOCHS = 50\n",
        "BATCH_SIZE = 1024\n",
        "MOMENTUM = 0.95"
      ],
      "execution_count": 11,
      "outputs": []
    },
    {
      "cell_type": "markdown",
      "metadata": {
        "id": "ic4yVE8CVXol"
      },
      "source": [
        "# 先對EarlyStopping設置patience=10\n"
      ]
    },
    {
      "cell_type": "code",
      "metadata": {
        "id": "LL2O-Jq6IkR7"
      },
      "source": [
        "# 載入 Callbacks, 並將 monitor 設定為監控 validation loss\n",
        "\n",
        "from keras.callbacks import EarlyStopping\n",
        "\n",
        "earlystop = EarlyStopping(monitor=\"val_acc\", \n",
        "              patience=10, \n",
        "              verbose=1)"
      ],
      "execution_count": 13,
      "outputs": []
    },
    {
      "cell_type": "code",
      "metadata": {
        "id": "qKVGmFutKpN8",
        "outputId": "05d35902-4e55-42a3-bb81-24996bcbd9f0",
        "colab": {
          "base_uri": "https://localhost:8080/"
        }
      },
      "source": [
        "results = {}\n",
        "\n",
        "\"\"\"Code Here\n",
        "撰寫你的訓練流程並將結果用 dictionary 紀錄\n",
        "\"\"\"\n",
        "\n",
        "model = build_mlp(input_shape=x_train.shape[1:])\n",
        "model.summary()\n",
        "\n",
        "optimizer = keras.optimizers.SGD(lr=LEARNING_RATE, nesterov=True, momentum=MOMENTUM)\n",
        "model.compile(loss=\"categorical_crossentropy\", metrics=[\"accuracy\"], optimizer=optimizer)\n",
        "\n",
        "model.fit(x_train, y_train, \n",
        "          epochs=EPOCHS, \n",
        "          batch_size=BATCH_SIZE, \n",
        "          validation_data=(x_test, y_test), \n",
        "          shuffle=True,\n",
        "          callbacks=[earlystop]\n",
        "         )\n",
        "\n",
        "# Collect results\n",
        "train_loss = model.history.history[\"loss\"]\n",
        "valid_loss = model.history.history[\"val_loss\"]\n",
        "train_acc = model.history.history[\"accuracy\"]\n",
        "valid_acc = model.history.history[\"val_accuracy\"]"
      ],
      "execution_count": 14,
      "outputs": [
        {
          "output_type": "stream",
          "text": [
            "Model: \"functional_3\"\n",
            "_________________________________________________________________\n",
            "Layer (type)                 Output Shape              Param #   \n",
            "=================================================================\n",
            "input_2 (InputLayer)         [(None, 3072)]            0         \n",
            "_________________________________________________________________\n",
            "hidden_layer1 (Dense)        (None, 512)               1573376   \n",
            "_________________________________________________________________\n",
            "batch_normalization_3 (Batch (None, 512)               2048      \n",
            "_________________________________________________________________\n",
            "hidden_layer2 (Dense)        (None, 256)               131328    \n",
            "_________________________________________________________________\n",
            "batch_normalization_4 (Batch (None, 256)               1024      \n",
            "_________________________________________________________________\n",
            "hidden_layer3 (Dense)        (None, 128)               32896     \n",
            "_________________________________________________________________\n",
            "batch_normalization_5 (Batch (None, 128)               512       \n",
            "_________________________________________________________________\n",
            "output (Dense)               (None, 10)                1290      \n",
            "=================================================================\n",
            "Total params: 1,742,474\n",
            "Trainable params: 1,740,682\n",
            "Non-trainable params: 1,792\n",
            "_________________________________________________________________\n",
            "Epoch 1/50\n",
            "49/49 [==============================] - ETA: 0s - loss: 2.2089 - accuracy: 0.2665WARNING:tensorflow:Early stopping conditioned on metric `val_acc` which is not available. Available metrics are: loss,accuracy,val_loss,val_accuracy\n",
            "49/49 [==============================] - 8s 171ms/step - loss: 2.2089 - accuracy: 0.2665 - val_loss: 2.1175 - val_accuracy: 0.2205\n",
            "Epoch 2/50\n",
            "49/49 [==============================] - ETA: 0s - loss: 1.7420 - accuracy: 0.3949WARNING:tensorflow:Early stopping conditioned on metric `val_acc` which is not available. Available metrics are: loss,accuracy,val_loss,val_accuracy\n",
            "49/49 [==============================] - 8s 168ms/step - loss: 1.7420 - accuracy: 0.3949 - val_loss: 1.9599 - val_accuracy: 0.3133\n",
            "Epoch 3/50\n",
            "49/49 [==============================] - ETA: 0s - loss: 1.6115 - accuracy: 0.4385WARNING:tensorflow:Early stopping conditioned on metric `val_acc` which is not available. Available metrics are: loss,accuracy,val_loss,val_accuracy\n",
            "49/49 [==============================] - 8s 169ms/step - loss: 1.6115 - accuracy: 0.4385 - val_loss: 1.8323 - val_accuracy: 0.3609\n",
            "Epoch 4/50\n",
            "49/49 [==============================] - ETA: 0s - loss: 1.5353 - accuracy: 0.4654WARNING:tensorflow:Early stopping conditioned on metric `val_acc` which is not available. Available metrics are: loss,accuracy,val_loss,val_accuracy\n",
            "49/49 [==============================] - 8s 167ms/step - loss: 1.5353 - accuracy: 0.4654 - val_loss: 1.7277 - val_accuracy: 0.3938\n",
            "Epoch 5/50\n",
            "49/49 [==============================] - ETA: 0s - loss: 1.4788 - accuracy: 0.4855WARNING:tensorflow:Early stopping conditioned on metric `val_acc` which is not available. Available metrics are: loss,accuracy,val_loss,val_accuracy\n",
            "49/49 [==============================] - 8s 166ms/step - loss: 1.4788 - accuracy: 0.4855 - val_loss: 1.6453 - val_accuracy: 0.4253\n",
            "Epoch 6/50\n",
            "49/49 [==============================] - ETA: 0s - loss: 1.4323 - accuracy: 0.5023WARNING:tensorflow:Early stopping conditioned on metric `val_acc` which is not available. Available metrics are: loss,accuracy,val_loss,val_accuracy\n",
            "49/49 [==============================] - 8s 168ms/step - loss: 1.4323 - accuracy: 0.5023 - val_loss: 1.5765 - val_accuracy: 0.4488\n",
            "Epoch 7/50\n",
            "49/49 [==============================] - ETA: 0s - loss: 1.3929 - accuracy: 0.5174WARNING:tensorflow:Early stopping conditioned on metric `val_acc` which is not available. Available metrics are: loss,accuracy,val_loss,val_accuracy\n",
            "49/49 [==============================] - 8s 168ms/step - loss: 1.3929 - accuracy: 0.5174 - val_loss: 1.5432 - val_accuracy: 0.4642\n",
            "Epoch 8/50\n",
            "49/49 [==============================] - ETA: 0s - loss: 1.3577 - accuracy: 0.5275WARNING:tensorflow:Early stopping conditioned on metric `val_acc` which is not available. Available metrics are: loss,accuracy,val_loss,val_accuracy\n",
            "49/49 [==============================] - 8s 171ms/step - loss: 1.3577 - accuracy: 0.5275 - val_loss: 1.5080 - val_accuracy: 0.4704\n",
            "Epoch 9/50\n",
            "49/49 [==============================] - ETA: 0s - loss: 1.3257 - accuracy: 0.5390WARNING:tensorflow:Early stopping conditioned on metric `val_acc` which is not available. Available metrics are: loss,accuracy,val_loss,val_accuracy\n",
            "49/49 [==============================] - 8s 169ms/step - loss: 1.3257 - accuracy: 0.5390 - val_loss: 1.4895 - val_accuracy: 0.4797\n",
            "Epoch 10/50\n",
            "49/49 [==============================] - ETA: 0s - loss: 1.2948 - accuracy: 0.5497WARNING:tensorflow:Early stopping conditioned on metric `val_acc` which is not available. Available metrics are: loss,accuracy,val_loss,val_accuracy\n",
            "49/49 [==============================] - 8s 170ms/step - loss: 1.2948 - accuracy: 0.5497 - val_loss: 1.4770 - val_accuracy: 0.4840\n",
            "Epoch 11/50\n",
            "49/49 [==============================] - ETA: 0s - loss: 1.2664 - accuracy: 0.5598WARNING:tensorflow:Early stopping conditioned on metric `val_acc` which is not available. Available metrics are: loss,accuracy,val_loss,val_accuracy\n",
            "49/49 [==============================] - 8s 166ms/step - loss: 1.2664 - accuracy: 0.5598 - val_loss: 1.4814 - val_accuracy: 0.4809\n",
            "Epoch 12/50\n",
            "49/49 [==============================] - ETA: 0s - loss: 1.2415 - accuracy: 0.5692WARNING:tensorflow:Early stopping conditioned on metric `val_acc` which is not available. Available metrics are: loss,accuracy,val_loss,val_accuracy\n",
            "49/49 [==============================] - 8s 171ms/step - loss: 1.2415 - accuracy: 0.5692 - val_loss: 1.4595 - val_accuracy: 0.4838\n",
            "Epoch 13/50\n",
            "49/49 [==============================] - ETA: 0s - loss: 1.2136 - accuracy: 0.5804WARNING:tensorflow:Early stopping conditioned on metric `val_acc` which is not available. Available metrics are: loss,accuracy,val_loss,val_accuracy\n",
            "49/49 [==============================] - 8s 173ms/step - loss: 1.2136 - accuracy: 0.5804 - val_loss: 1.4566 - val_accuracy: 0.4844\n",
            "Epoch 14/50\n",
            "49/49 [==============================] - ETA: 0s - loss: 1.1907 - accuracy: 0.5882WARNING:tensorflow:Early stopping conditioned on metric `val_acc` which is not available. Available metrics are: loss,accuracy,val_loss,val_accuracy\n",
            "49/49 [==============================] - 8s 173ms/step - loss: 1.1907 - accuracy: 0.5882 - val_loss: 1.4533 - val_accuracy: 0.4966\n",
            "Epoch 15/50\n",
            "49/49 [==============================] - ETA: 0s - loss: 1.1650 - accuracy: 0.5989WARNING:tensorflow:Early stopping conditioned on metric `val_acc` which is not available. Available metrics are: loss,accuracy,val_loss,val_accuracy\n",
            "49/49 [==============================] - 8s 172ms/step - loss: 1.1650 - accuracy: 0.5989 - val_loss: 1.4525 - val_accuracy: 0.4918\n",
            "Epoch 16/50\n",
            "49/49 [==============================] - ETA: 0s - loss: 1.1401 - accuracy: 0.6070WARNING:tensorflow:Early stopping conditioned on metric `val_acc` which is not available. Available metrics are: loss,accuracy,val_loss,val_accuracy\n",
            "49/49 [==============================] - 8s 170ms/step - loss: 1.1401 - accuracy: 0.6070 - val_loss: 1.4441 - val_accuracy: 0.4928\n",
            "Epoch 17/50\n",
            "49/49 [==============================] - ETA: 0s - loss: 1.1205 - accuracy: 0.6126WARNING:tensorflow:Early stopping conditioned on metric `val_acc` which is not available. Available metrics are: loss,accuracy,val_loss,val_accuracy\n",
            "49/49 [==============================] - 9s 175ms/step - loss: 1.1205 - accuracy: 0.6126 - val_loss: 1.4539 - val_accuracy: 0.4926\n",
            "Epoch 18/50\n",
            "49/49 [==============================] - ETA: 0s - loss: 1.0987 - accuracy: 0.6217WARNING:tensorflow:Early stopping conditioned on metric `val_acc` which is not available. Available metrics are: loss,accuracy,val_loss,val_accuracy\n",
            "49/49 [==============================] - 8s 172ms/step - loss: 1.0987 - accuracy: 0.6217 - val_loss: 1.4563 - val_accuracy: 0.4919\n",
            "Epoch 19/50\n",
            "49/49 [==============================] - ETA: 0s - loss: 1.0735 - accuracy: 0.6333WARNING:tensorflow:Early stopping conditioned on metric `val_acc` which is not available. Available metrics are: loss,accuracy,val_loss,val_accuracy\n",
            "49/49 [==============================] - 9s 178ms/step - loss: 1.0735 - accuracy: 0.6333 - val_loss: 1.4427 - val_accuracy: 0.4960\n",
            "Epoch 20/50\n",
            "49/49 [==============================] - ETA: 0s - loss: 1.0535 - accuracy: 0.6407WARNING:tensorflow:Early stopping conditioned on metric `val_acc` which is not available. Available metrics are: loss,accuracy,val_loss,val_accuracy\n",
            "49/49 [==============================] - 8s 173ms/step - loss: 1.0535 - accuracy: 0.6407 - val_loss: 1.4394 - val_accuracy: 0.4973\n",
            "Epoch 21/50\n",
            "49/49 [==============================] - ETA: 0s - loss: 1.0314 - accuracy: 0.6486WARNING:tensorflow:Early stopping conditioned on metric `val_acc` which is not available. Available metrics are: loss,accuracy,val_loss,val_accuracy\n",
            "49/49 [==============================] - 8s 170ms/step - loss: 1.0314 - accuracy: 0.6486 - val_loss: 1.4381 - val_accuracy: 0.5005\n",
            "Epoch 22/50\n",
            "49/49 [==============================] - ETA: 0s - loss: 1.0111 - accuracy: 0.6544WARNING:tensorflow:Early stopping conditioned on metric `val_acc` which is not available. Available metrics are: loss,accuracy,val_loss,val_accuracy\n",
            "49/49 [==============================] - 8s 173ms/step - loss: 1.0111 - accuracy: 0.6544 - val_loss: 1.4583 - val_accuracy: 0.4893\n",
            "Epoch 23/50\n",
            "49/49 [==============================] - ETA: 0s - loss: 0.9929 - accuracy: 0.6616WARNING:tensorflow:Early stopping conditioned on metric `val_acc` which is not available. Available metrics are: loss,accuracy,val_loss,val_accuracy\n",
            "49/49 [==============================] - 8s 169ms/step - loss: 0.9929 - accuracy: 0.6616 - val_loss: 1.4560 - val_accuracy: 0.4969\n",
            "Epoch 24/50\n",
            "49/49 [==============================] - ETA: 0s - loss: 0.9695 - accuracy: 0.6719WARNING:tensorflow:Early stopping conditioned on metric `val_acc` which is not available. Available metrics are: loss,accuracy,val_loss,val_accuracy\n",
            "49/49 [==============================] - 8s 171ms/step - loss: 0.9695 - accuracy: 0.6719 - val_loss: 1.4486 - val_accuracy: 0.4999\n",
            "Epoch 25/50\n",
            "49/49 [==============================] - ETA: 0s - loss: 0.9500 - accuracy: 0.6795WARNING:tensorflow:Early stopping conditioned on metric `val_acc` which is not available. Available metrics are: loss,accuracy,val_loss,val_accuracy\n",
            "49/49 [==============================] - 8s 170ms/step - loss: 0.9500 - accuracy: 0.6795 - val_loss: 1.4657 - val_accuracy: 0.4964\n",
            "Epoch 26/50\n",
            "49/49 [==============================] - ETA: 0s - loss: 0.9300 - accuracy: 0.6872WARNING:tensorflow:Early stopping conditioned on metric `val_acc` which is not available. Available metrics are: loss,accuracy,val_loss,val_accuracy\n",
            "49/49 [==============================] - 8s 172ms/step - loss: 0.9300 - accuracy: 0.6872 - val_loss: 1.4589 - val_accuracy: 0.5000\n",
            "Epoch 27/50\n",
            "49/49 [==============================] - ETA: 0s - loss: 0.9087 - accuracy: 0.6956WARNING:tensorflow:Early stopping conditioned on metric `val_acc` which is not available. Available metrics are: loss,accuracy,val_loss,val_accuracy\n",
            "49/49 [==============================] - 8s 170ms/step - loss: 0.9087 - accuracy: 0.6956 - val_loss: 1.4641 - val_accuracy: 0.5026\n",
            "Epoch 28/50\n",
            "49/49 [==============================] - ETA: 0s - loss: 0.8902 - accuracy: 0.7021WARNING:tensorflow:Early stopping conditioned on metric `val_acc` which is not available. Available metrics are: loss,accuracy,val_loss,val_accuracy\n",
            "49/49 [==============================] - 9s 181ms/step - loss: 0.8902 - accuracy: 0.7021 - val_loss: 1.4680 - val_accuracy: 0.5024\n",
            "Epoch 29/50\n",
            "49/49 [==============================] - ETA: 0s - loss: 0.8694 - accuracy: 0.7119WARNING:tensorflow:Early stopping conditioned on metric `val_acc` which is not available. Available metrics are: loss,accuracy,val_loss,val_accuracy\n",
            "49/49 [==============================] - 8s 173ms/step - loss: 0.8694 - accuracy: 0.7119 - val_loss: 1.4737 - val_accuracy: 0.4974\n",
            "Epoch 30/50\n",
            "49/49 [==============================] - ETA: 0s - loss: 0.8504 - accuracy: 0.7164WARNING:tensorflow:Early stopping conditioned on metric `val_acc` which is not available. Available metrics are: loss,accuracy,val_loss,val_accuracy\n",
            "49/49 [==============================] - 8s 169ms/step - loss: 0.8504 - accuracy: 0.7164 - val_loss: 1.4968 - val_accuracy: 0.4962\n",
            "Epoch 31/50\n",
            "49/49 [==============================] - ETA: 0s - loss: 0.8312 - accuracy: 0.7255WARNING:tensorflow:Early stopping conditioned on metric `val_acc` which is not available. Available metrics are: loss,accuracy,val_loss,val_accuracy\n",
            "49/49 [==============================] - 8s 169ms/step - loss: 0.8312 - accuracy: 0.7255 - val_loss: 1.4826 - val_accuracy: 0.4965\n",
            "Epoch 32/50\n",
            "49/49 [==============================] - ETA: 0s - loss: 0.8128 - accuracy: 0.7334WARNING:tensorflow:Early stopping conditioned on metric `val_acc` which is not available. Available metrics are: loss,accuracy,val_loss,val_accuracy\n",
            "49/49 [==============================] - 8s 169ms/step - loss: 0.8128 - accuracy: 0.7334 - val_loss: 1.4947 - val_accuracy: 0.4959\n",
            "Epoch 33/50\n",
            "49/49 [==============================] - ETA: 0s - loss: 0.7918 - accuracy: 0.7407WARNING:tensorflow:Early stopping conditioned on metric `val_acc` which is not available. Available metrics are: loss,accuracy,val_loss,val_accuracy\n",
            "49/49 [==============================] - 8s 168ms/step - loss: 0.7918 - accuracy: 0.7407 - val_loss: 1.4955 - val_accuracy: 0.4986\n",
            "Epoch 34/50\n",
            "49/49 [==============================] - ETA: 0s - loss: 0.7748 - accuracy: 0.7478WARNING:tensorflow:Early stopping conditioned on metric `val_acc` which is not available. Available metrics are: loss,accuracy,val_loss,val_accuracy\n",
            "49/49 [==============================] - 9s 174ms/step - loss: 0.7748 - accuracy: 0.7478 - val_loss: 1.5079 - val_accuracy: 0.5020\n",
            "Epoch 35/50\n",
            "49/49 [==============================] - ETA: 0s - loss: 0.7553 - accuracy: 0.7547WARNING:tensorflow:Early stopping conditioned on metric `val_acc` which is not available. Available metrics are: loss,accuracy,val_loss,val_accuracy\n",
            "49/49 [==============================] - 9s 178ms/step - loss: 0.7553 - accuracy: 0.7547 - val_loss: 1.5224 - val_accuracy: 0.4880\n",
            "Epoch 36/50\n",
            "49/49 [==============================] - ETA: 0s - loss: 0.7354 - accuracy: 0.7623WARNING:tensorflow:Early stopping conditioned on metric `val_acc` which is not available. Available metrics are: loss,accuracy,val_loss,val_accuracy\n",
            "49/49 [==============================] - 8s 170ms/step - loss: 0.7354 - accuracy: 0.7623 - val_loss: 1.5076 - val_accuracy: 0.5059\n",
            "Epoch 37/50\n",
            "49/49 [==============================] - ETA: 0s - loss: 0.7181 - accuracy: 0.7717WARNING:tensorflow:Early stopping conditioned on metric `val_acc` which is not available. Available metrics are: loss,accuracy,val_loss,val_accuracy\n",
            "49/49 [==============================] - 8s 167ms/step - loss: 0.7181 - accuracy: 0.7717 - val_loss: 1.5350 - val_accuracy: 0.4941\n",
            "Epoch 38/50\n",
            "49/49 [==============================] - ETA: 0s - loss: 0.6996 - accuracy: 0.7768WARNING:tensorflow:Early stopping conditioned on metric `val_acc` which is not available. Available metrics are: loss,accuracy,val_loss,val_accuracy\n",
            "49/49 [==============================] - 8s 168ms/step - loss: 0.6996 - accuracy: 0.7768 - val_loss: 1.5312 - val_accuracy: 0.4980\n",
            "Epoch 39/50\n",
            "49/49 [==============================] - ETA: 0s - loss: 0.6814 - accuracy: 0.7839WARNING:tensorflow:Early stopping conditioned on metric `val_acc` which is not available. Available metrics are: loss,accuracy,val_loss,val_accuracy\n",
            "49/49 [==============================] - 8s 168ms/step - loss: 0.6814 - accuracy: 0.7839 - val_loss: 1.5444 - val_accuracy: 0.4961\n",
            "Epoch 40/50\n",
            "49/49 [==============================] - ETA: 0s - loss: 0.6638 - accuracy: 0.7919WARNING:tensorflow:Early stopping conditioned on metric `val_acc` which is not available. Available metrics are: loss,accuracy,val_loss,val_accuracy\n",
            "49/49 [==============================] - 8s 168ms/step - loss: 0.6638 - accuracy: 0.7919 - val_loss: 1.5612 - val_accuracy: 0.4911\n",
            "Epoch 41/50\n",
            "49/49 [==============================] - ETA: 0s - loss: 0.6463 - accuracy: 0.7991WARNING:tensorflow:Early stopping conditioned on metric `val_acc` which is not available. Available metrics are: loss,accuracy,val_loss,val_accuracy\n",
            "49/49 [==============================] - 8s 168ms/step - loss: 0.6463 - accuracy: 0.7991 - val_loss: 1.5721 - val_accuracy: 0.4966\n",
            "Epoch 42/50\n",
            "49/49 [==============================] - ETA: 0s - loss: 0.6291 - accuracy: 0.8058WARNING:tensorflow:Early stopping conditioned on metric `val_acc` which is not available. Available metrics are: loss,accuracy,val_loss,val_accuracy\n",
            "49/49 [==============================] - 8s 168ms/step - loss: 0.6291 - accuracy: 0.8058 - val_loss: 1.5822 - val_accuracy: 0.4896\n",
            "Epoch 43/50\n",
            "49/49 [==============================] - ETA: 0s - loss: 0.6107 - accuracy: 0.8126WARNING:tensorflow:Early stopping conditioned on metric `val_acc` which is not available. Available metrics are: loss,accuracy,val_loss,val_accuracy\n",
            "49/49 [==============================] - 8s 170ms/step - loss: 0.6107 - accuracy: 0.8126 - val_loss: 1.5893 - val_accuracy: 0.4932\n",
            "Epoch 44/50\n",
            "49/49 [==============================] - ETA: 0s - loss: 0.5926 - accuracy: 0.8206WARNING:tensorflow:Early stopping conditioned on metric `val_acc` which is not available. Available metrics are: loss,accuracy,val_loss,val_accuracy\n",
            "49/49 [==============================] - 8s 172ms/step - loss: 0.5926 - accuracy: 0.8206 - val_loss: 1.6051 - val_accuracy: 0.4896\n",
            "Epoch 45/50\n",
            "49/49 [==============================] - ETA: 0s - loss: 0.5777 - accuracy: 0.8258WARNING:tensorflow:Early stopping conditioned on metric `val_acc` which is not available. Available metrics are: loss,accuracy,val_loss,val_accuracy\n",
            "49/49 [==============================] - 8s 171ms/step - loss: 0.5777 - accuracy: 0.8258 - val_loss: 1.6031 - val_accuracy: 0.4942\n",
            "Epoch 46/50\n",
            "49/49 [==============================] - ETA: 0s - loss: 0.5585 - accuracy: 0.8340WARNING:tensorflow:Early stopping conditioned on metric `val_acc` which is not available. Available metrics are: loss,accuracy,val_loss,val_accuracy\n",
            "49/49 [==============================] - 8s 168ms/step - loss: 0.5585 - accuracy: 0.8340 - val_loss: 1.6196 - val_accuracy: 0.4917\n",
            "Epoch 47/50\n",
            "49/49 [==============================] - ETA: 0s - loss: 0.5425 - accuracy: 0.8408WARNING:tensorflow:Early stopping conditioned on metric `val_acc` which is not available. Available metrics are: loss,accuracy,val_loss,val_accuracy\n",
            "49/49 [==============================] - 8s 168ms/step - loss: 0.5425 - accuracy: 0.8408 - val_loss: 1.6350 - val_accuracy: 0.4898\n",
            "Epoch 48/50\n",
            "49/49 [==============================] - ETA: 0s - loss: 0.5254 - accuracy: 0.8472WARNING:tensorflow:Early stopping conditioned on metric `val_acc` which is not available. Available metrics are: loss,accuracy,val_loss,val_accuracy\n",
            "49/49 [==============================] - 8s 169ms/step - loss: 0.5254 - accuracy: 0.8472 - val_loss: 1.6500 - val_accuracy: 0.4917\n",
            "Epoch 49/50\n",
            "49/49 [==============================] - ETA: 0s - loss: 0.5070 - accuracy: 0.8540WARNING:tensorflow:Early stopping conditioned on metric `val_acc` which is not available. Available metrics are: loss,accuracy,val_loss,val_accuracy\n",
            "49/49 [==============================] - 8s 172ms/step - loss: 0.5070 - accuracy: 0.8540 - val_loss: 1.6687 - val_accuracy: 0.4874\n",
            "Epoch 50/50\n",
            "49/49 [==============================] - ETA: 0s - loss: 0.4938 - accuracy: 0.8596WARNING:tensorflow:Early stopping conditioned on metric `val_acc` which is not available. Available metrics are: loss,accuracy,val_loss,val_accuracy\n",
            "49/49 [==============================] - 8s 171ms/step - loss: 0.4938 - accuracy: 0.8596 - val_loss: 1.6632 - val_accuracy: 0.4933\n"
          ],
          "name": "stdout"
        }
      ]
    },
    {
      "cell_type": "code",
      "metadata": {
        "id": "JmGt1B_dIkR-",
        "outputId": "1f2f360f-4855-416a-a63e-58fde4076498",
        "colab": {
          "base_uri": "https://localhost:8080/",
          "height": 545
        }
      },
      "source": [
        "import matplotlib.pyplot as plt\n",
        "%matplotlib inline\n",
        "\n",
        "plt.plot(range(len(train_loss)), train_loss, label=\"train loss\")\n",
        "plt.plot(range(len(valid_loss)), valid_loss, label=\"valid loss\")\n",
        "plt.legend()\n",
        "plt.title(\"Loss\")\n",
        "plt.show()\n",
        "\n",
        "plt.plot(range(len(train_acc)), train_acc, label=\"train accuracy\")\n",
        "plt.plot(range(len(valid_acc)), valid_acc, label=\"valid accuracy\")\n",
        "plt.legend()\n",
        "plt.title(\"Accuracy\")\n",
        "plt.show()"
      ],
      "execution_count": 15,
      "outputs": [
        {
          "output_type": "display_data",
          "data": {
            "image/png": "[encoded data removed]",
            "text/plain": [
              "<Figure size 432x288 with 1 Axes>"
            ]
          },
          "metadata": {
            "tags": [],
            "needs_background": "light"
          }
        },
        {
          "output_type": "display_data",
          "data": {
            "image/png": "[encoded data removed]",
            "text/plain": [
              "<Figure size 432x288 with 1 Axes>"
            ]
          },
          "metadata": {
            "tags": [],
            "needs_background": "light"
          }
        }
      ]
    },
    {
      "cell_type": "markdown",
      "metadata": {
        "id": "k5hAdSh7Vmh7"
      },
      "source": [
        "# 對EarlyStopping設置patience=25\n"
      ]
    },
    {
      "cell_type": "code",
      "metadata": {
        "id": "_9HBi20MVJgJ"
      },
      "source": [
        "# 載入 Callbacks, 並將 monitor 設定為監控 validation loss\n",
        "\n",
        "from keras.callbacks import EarlyStopping\n",
        "\n",
        "earlystop = EarlyStopping(monitor=\"val_acc\", \n",
        "              patience=25, \n",
        "              verbose=1)"
      ],
      "execution_count": 16,
      "outputs": []
    },
    {
      "cell_type": "code",
      "metadata": {
        "id": "QEQp47g4VLNU",
        "outputId": "0f9cabdd-3347-48e7-b037-fa156403423f",
        "colab": {
          "base_uri": "https://localhost:8080/"
        }
      },
      "source": [
        "results = {}\n",
        "\n",
        "\"\"\"Code Here\n",
        "撰寫你的訓練流程並將結果用 dictionary 紀錄\n",
        "\"\"\"\n",
        "\n",
        "model = build_mlp(input_shape=x_train.shape[1:])\n",
        "model.summary()\n",
        "\n",
        "optimizer = keras.optimizers.SGD(lr=LEARNING_RATE, nesterov=True, momentum=MOMENTUM)\n",
        "model.compile(loss=\"categorical_crossentropy\", metrics=[\"accuracy\"], optimizer=optimizer)\n",
        "\n",
        "model.fit(x_train, y_train, \n",
        "          epochs=EPOCHS, \n",
        "          batch_size=BATCH_SIZE, \n",
        "          validation_data=(x_test, y_test), \n",
        "          shuffle=True,\n",
        "          callbacks=[earlystop]\n",
        "         )\n",
        "\n",
        "# Collect results\n",
        "train_loss = model.history.history[\"loss\"]\n",
        "valid_loss = model.history.history[\"val_loss\"]\n",
        "train_acc = model.history.history[\"accuracy\"]\n",
        "valid_acc = model.history.history[\"val_accuracy\"]"
      ],
      "execution_count": 17,
      "outputs": [
        {
          "output_type": "stream",
          "text": [
            "Model: \"functional_5\"\n",
            "_________________________________________________________________\n",
            "Layer (type)                 Output Shape              Param #   \n",
            "=================================================================\n",
            "input_3 (InputLayer)         [(None, 3072)]            0         \n",
            "_________________________________________________________________\n",
            "hidden_layer1 (Dense)        (None, 512)               1573376   \n",
            "_________________________________________________________________\n",
            "batch_normalization_6 (Batch (None, 512)               2048      \n",
            "_________________________________________________________________\n",
            "hidden_layer2 (Dense)        (None, 256)               131328    \n",
            "_________________________________________________________________\n",
            "batch_normalization_7 (Batch (None, 256)               1024      \n",
            "_________________________________________________________________\n",
            "hidden_layer3 (Dense)        (None, 128)               32896     \n",
            "_________________________________________________________________\n",
            "batch_normalization_8 (Batch (None, 128)               512       \n",
            "_________________________________________________________________\n",
            "output (Dense)               (None, 10)                1290      \n",
            "=================================================================\n",
            "Total params: 1,742,474\n",
            "Trainable params: 1,740,682\n",
            "Non-trainable params: 1,792\n",
            "_________________________________________________________________\n",
            "Epoch 1/50\n",
            "49/49 [==============================] - ETA: 0s - loss: 2.2415 - accuracy: 0.2735WARNING:tensorflow:Early stopping conditioned on metric `val_acc` which is not available. Available metrics are: loss,accuracy,val_loss,val_accuracy\n",
            "49/49 [==============================] - 11s 229ms/step - loss: 2.2415 - accuracy: 0.2735 - val_loss: 2.1942 - val_accuracy: 0.1919\n",
            "Epoch 2/50\n",
            "49/49 [==============================] - ETA: 0s - loss: 1.7476 - accuracy: 0.3934WARNING:tensorflow:Early stopping conditioned on metric `val_acc` which is not available. Available metrics are: loss,accuracy,val_loss,val_accuracy\n",
            "49/49 [==============================] - 8s 167ms/step - loss: 1.7476 - accuracy: 0.3934 - val_loss: 1.9993 - val_accuracy: 0.2843\n",
            "Epoch 3/50\n",
            "49/49 [==============================] - ETA: 0s - loss: 1.6200 - accuracy: 0.4352WARNING:tensorflow:Early stopping conditioned on metric `val_acc` which is not available. Available metrics are: loss,accuracy,val_loss,val_accuracy\n",
            "49/49 [==============================] - 8s 169ms/step - loss: 1.6200 - accuracy: 0.4352 - val_loss: 1.8412 - val_accuracy: 0.3700\n",
            "Epoch 4/50\n",
            "49/49 [==============================] - ETA: 0s - loss: 1.5449 - accuracy: 0.4610WARNING:tensorflow:Early stopping conditioned on metric `val_acc` which is not available. Available metrics are: loss,accuracy,val_loss,val_accuracy\n",
            "49/49 [==============================] - 8s 167ms/step - loss: 1.5449 - accuracy: 0.4610 - val_loss: 1.7285 - val_accuracy: 0.3956\n",
            "Epoch 5/50\n",
            "49/49 [==============================] - ETA: 0s - loss: 1.4904 - accuracy: 0.4776WARNING:tensorflow:Early stopping conditioned on metric `val_acc` which is not available. Available metrics are: loss,accuracy,val_loss,val_accuracy\n",
            "49/49 [==============================] - 8s 167ms/step - loss: 1.4904 - accuracy: 0.4776 - val_loss: 1.6505 - val_accuracy: 0.4279\n",
            "Epoch 6/50\n",
            "49/49 [==============================] - ETA: 0s - loss: 1.4436 - accuracy: 0.4958WARNING:tensorflow:Early stopping conditioned on metric `val_acc` which is not available. Available metrics are: loss,accuracy,val_loss,val_accuracy\n",
            "49/49 [==============================] - 8s 169ms/step - loss: 1.4436 - accuracy: 0.4958 - val_loss: 1.5942 - val_accuracy: 0.4454\n",
            "Epoch 7/50\n",
            "49/49 [==============================] - ETA: 0s - loss: 1.4051 - accuracy: 0.5098WARNING:tensorflow:Early stopping conditioned on metric `val_acc` which is not available. Available metrics are: loss,accuracy,val_loss,val_accuracy\n",
            "49/49 [==============================] - 9s 182ms/step - loss: 1.4051 - accuracy: 0.5098 - val_loss: 1.5607 - val_accuracy: 0.4559\n",
            "Epoch 8/50\n",
            "49/49 [==============================] - ETA: 0s - loss: 1.3707 - accuracy: 0.5227WARNING:tensorflow:Early stopping conditioned on metric `val_acc` which is not available. Available metrics are: loss,accuracy,val_loss,val_accuracy\n",
            "49/49 [==============================] - 8s 172ms/step - loss: 1.3707 - accuracy: 0.5227 - val_loss: 1.5312 - val_accuracy: 0.4663\n",
            "Epoch 9/50\n",
            "49/49 [==============================] - ETA: 0s - loss: 1.3398 - accuracy: 0.5335WARNING:tensorflow:Early stopping conditioned on metric `val_acc` which is not available. Available metrics are: loss,accuracy,val_loss,val_accuracy\n",
            "49/49 [==============================] - 8s 166ms/step - loss: 1.3398 - accuracy: 0.5335 - val_loss: 1.5258 - val_accuracy: 0.4654\n",
            "Epoch 10/50\n",
            "49/49 [==============================] - ETA: 0s - loss: 1.3074 - accuracy: 0.5474WARNING:tensorflow:Early stopping conditioned on metric `val_acc` which is not available. Available metrics are: loss,accuracy,val_loss,val_accuracy\n",
            "49/49 [==============================] - 8s 168ms/step - loss: 1.3074 - accuracy: 0.5474 - val_loss: 1.5046 - val_accuracy: 0.4748\n",
            "Epoch 11/50\n",
            "49/49 [==============================] - ETA: 0s - loss: 1.2797 - accuracy: 0.5573WARNING:tensorflow:Early stopping conditioned on metric `val_acc` which is not available. Available metrics are: loss,accuracy,val_loss,val_accuracy\n",
            "49/49 [==============================] - 8s 172ms/step - loss: 1.2797 - accuracy: 0.5573 - val_loss: 1.5013 - val_accuracy: 0.4726\n",
            "Epoch 12/50\n",
            "49/49 [==============================] - ETA: 0s - loss: 1.2530 - accuracy: 0.5667WARNING:tensorflow:Early stopping conditioned on metric `val_acc` which is not available. Available metrics are: loss,accuracy,val_loss,val_accuracy\n",
            "49/49 [==============================] - 8s 168ms/step - loss: 1.2530 - accuracy: 0.5667 - val_loss: 1.4952 - val_accuracy: 0.4765\n",
            "Epoch 13/50\n",
            "49/49 [==============================] - ETA: 0s - loss: 1.2280 - accuracy: 0.5758WARNING:tensorflow:Early stopping conditioned on metric `val_acc` which is not available. Available metrics are: loss,accuracy,val_loss,val_accuracy\n",
            "49/49 [==============================] - 8s 168ms/step - loss: 1.2280 - accuracy: 0.5758 - val_loss: 1.4914 - val_accuracy: 0.4828\n",
            "Epoch 14/50\n",
            "49/49 [==============================] - ETA: 0s - loss: 1.2023 - accuracy: 0.5856WARNING:tensorflow:Early stopping conditioned on metric `val_acc` which is not available. Available metrics are: loss,accuracy,val_loss,val_accuracy\n",
            "49/49 [==============================] - 8s 167ms/step - loss: 1.2023 - accuracy: 0.5856 - val_loss: 1.4833 - val_accuracy: 0.4865\n",
            "Epoch 15/50\n",
            "49/49 [==============================] - ETA: 0s - loss: 1.1799 - accuracy: 0.5938WARNING:tensorflow:Early stopping conditioned on metric `val_acc` which is not available. Available metrics are: loss,accuracy,val_loss,val_accuracy\n",
            "49/49 [==============================] - 8s 169ms/step - loss: 1.1799 - accuracy: 0.5938 - val_loss: 1.4714 - val_accuracy: 0.4908\n",
            "Epoch 16/50\n",
            "49/49 [==============================] - ETA: 0s - loss: 1.1577 - accuracy: 0.6014WARNING:tensorflow:Early stopping conditioned on metric `val_acc` which is not available. Available metrics are: loss,accuracy,val_loss,val_accuracy\n",
            "49/49 [==============================] - 8s 171ms/step - loss: 1.1577 - accuracy: 0.6014 - val_loss: 1.4734 - val_accuracy: 0.4867\n",
            "Epoch 17/50\n",
            "49/49 [==============================] - ETA: 0s - loss: 1.1362 - accuracy: 0.6086WARNING:tensorflow:Early stopping conditioned on metric `val_acc` which is not available. Available metrics are: loss,accuracy,val_loss,val_accuracy\n",
            "49/49 [==============================] - 8s 169ms/step - loss: 1.1362 - accuracy: 0.6086 - val_loss: 1.4620 - val_accuracy: 0.4948\n",
            "Epoch 18/50\n",
            "49/49 [==============================] - ETA: 0s - loss: 1.1112 - accuracy: 0.6193WARNING:tensorflow:Early stopping conditioned on metric `val_acc` which is not available. Available metrics are: loss,accuracy,val_loss,val_accuracy\n",
            "49/49 [==============================] - 8s 167ms/step - loss: 1.1112 - accuracy: 0.6193 - val_loss: 1.4712 - val_accuracy: 0.4938\n",
            "Epoch 19/50\n",
            "49/49 [==============================] - ETA: 0s - loss: 1.0902 - accuracy: 0.6278WARNING:tensorflow:Early stopping conditioned on metric `val_acc` which is not available. Available metrics are: loss,accuracy,val_loss,val_accuracy\n",
            "49/49 [==============================] - 8s 166ms/step - loss: 1.0902 - accuracy: 0.6278 - val_loss: 1.4753 - val_accuracy: 0.4879\n",
            "Epoch 20/50\n",
            "49/49 [==============================] - ETA: 0s - loss: 1.0680 - accuracy: 0.6354WARNING:tensorflow:Early stopping conditioned on metric `val_acc` which is not available. Available metrics are: loss,accuracy,val_loss,val_accuracy\n",
            "49/49 [==============================] - 8s 165ms/step - loss: 1.0680 - accuracy: 0.6354 - val_loss: 1.4666 - val_accuracy: 0.4959\n",
            "Epoch 21/50\n",
            "49/49 [==============================] - ETA: 0s - loss: 1.0460 - accuracy: 0.6433WARNING:tensorflow:Early stopping conditioned on metric `val_acc` which is not available. Available metrics are: loss,accuracy,val_loss,val_accuracy\n",
            "49/49 [==============================] - 8s 171ms/step - loss: 1.0460 - accuracy: 0.6433 - val_loss: 1.4763 - val_accuracy: 0.4925\n",
            "Epoch 22/50\n",
            "49/49 [==============================] - ETA: 0s - loss: 1.0256 - accuracy: 0.6509WARNING:tensorflow:Early stopping conditioned on metric `val_acc` which is not available. Available metrics are: loss,accuracy,val_loss,val_accuracy\n",
            "49/49 [==============================] - 8s 169ms/step - loss: 1.0256 - accuracy: 0.6509 - val_loss: 1.4630 - val_accuracy: 0.4952\n",
            "Epoch 23/50\n",
            "49/49 [==============================] - ETA: 0s - loss: 1.0048 - accuracy: 0.6586WARNING:tensorflow:Early stopping conditioned on metric `val_acc` which is not available. Available metrics are: loss,accuracy,val_loss,val_accuracy\n",
            "49/49 [==============================] - 8s 170ms/step - loss: 1.0048 - accuracy: 0.6586 - val_loss: 1.4664 - val_accuracy: 0.5005\n",
            "Epoch 24/50\n",
            "49/49 [==============================] - ETA: 0s - loss: 0.9845 - accuracy: 0.6680WARNING:tensorflow:Early stopping conditioned on metric `val_acc` which is not available. Available metrics are: loss,accuracy,val_loss,val_accuracy\n",
            "49/49 [==============================] - 8s 170ms/step - loss: 0.9845 - accuracy: 0.6680 - val_loss: 1.4611 - val_accuracy: 0.5026\n",
            "Epoch 25/50\n",
            "49/49 [==============================] - ETA: 0s - loss: 0.9637 - accuracy: 0.6744WARNING:tensorflow:Early stopping conditioned on metric `val_acc` which is not available. Available metrics are: loss,accuracy,val_loss,val_accuracy\n",
            "49/49 [==============================] - 8s 169ms/step - loss: 0.9637 - accuracy: 0.6744 - val_loss: 1.4831 - val_accuracy: 0.4932\n",
            "Epoch 26/50\n",
            "49/49 [==============================] - ETA: 0s - loss: 0.9436 - accuracy: 0.6837WARNING:tensorflow:Early stopping conditioned on metric `val_acc` which is not available. Available metrics are: loss,accuracy,val_loss,val_accuracy\n",
            "49/49 [==============================] - 8s 169ms/step - loss: 0.9436 - accuracy: 0.6837 - val_loss: 1.4808 - val_accuracy: 0.4949\n",
            "Epoch 27/50\n",
            "49/49 [==============================] - ETA: 0s - loss: 0.9250 - accuracy: 0.6898WARNING:tensorflow:Early stopping conditioned on metric `val_acc` which is not available. Available metrics are: loss,accuracy,val_loss,val_accuracy\n",
            "49/49 [==============================] - 8s 169ms/step - loss: 0.9250 - accuracy: 0.6898 - val_loss: 1.4833 - val_accuracy: 0.4957\n",
            "Epoch 28/50\n",
            "49/49 [==============================] - ETA: 0s - loss: 0.9035 - accuracy: 0.6976WARNING:tensorflow:Early stopping conditioned on metric `val_acc` which is not available. Available metrics are: loss,accuracy,val_loss,val_accuracy\n",
            "49/49 [==============================] - 8s 169ms/step - loss: 0.9035 - accuracy: 0.6976 - val_loss: 1.4922 - val_accuracy: 0.4992\n",
            "Epoch 29/50\n",
            "49/49 [==============================] - ETA: 0s - loss: 0.8838 - accuracy: 0.7071WARNING:tensorflow:Early stopping conditioned on metric `val_acc` which is not available. Available metrics are: loss,accuracy,val_loss,val_accuracy\n",
            "49/49 [==============================] - 8s 170ms/step - loss: 0.8838 - accuracy: 0.7071 - val_loss: 1.4880 - val_accuracy: 0.4941\n",
            "Epoch 30/50\n",
            "49/49 [==============================] - ETA: 0s - loss: 0.8637 - accuracy: 0.7138WARNING:tensorflow:Early stopping conditioned on metric `val_acc` which is not available. Available metrics are: loss,accuracy,val_loss,val_accuracy\n",
            "49/49 [==============================] - 8s 169ms/step - loss: 0.8637 - accuracy: 0.7138 - val_loss: 1.4942 - val_accuracy: 0.4970\n",
            "Epoch 31/50\n",
            "49/49 [==============================] - ETA: 0s - loss: 0.8420 - accuracy: 0.7245WARNING:tensorflow:Early stopping conditioned on metric `val_acc` which is not available. Available metrics are: loss,accuracy,val_loss,val_accuracy\n",
            "49/49 [==============================] - 8s 169ms/step - loss: 0.8420 - accuracy: 0.7245 - val_loss: 1.5102 - val_accuracy: 0.4945\n",
            "Epoch 32/50\n",
            "49/49 [==============================] - ETA: 0s - loss: 0.8239 - accuracy: 0.7301WARNING:tensorflow:Early stopping conditioned on metric `val_acc` which is not available. Available metrics are: loss,accuracy,val_loss,val_accuracy\n",
            "49/49 [==============================] - 8s 168ms/step - loss: 0.8239 - accuracy: 0.7301 - val_loss: 1.5114 - val_accuracy: 0.4942\n",
            "Epoch 33/50\n",
            "49/49 [==============================] - ETA: 0s - loss: 0.8065 - accuracy: 0.7371WARNING:tensorflow:Early stopping conditioned on metric `val_acc` which is not available. Available metrics are: loss,accuracy,val_loss,val_accuracy\n",
            "49/49 [==============================] - 8s 169ms/step - loss: 0.8065 - accuracy: 0.7371 - val_loss: 1.5207 - val_accuracy: 0.4979\n",
            "Epoch 34/50\n",
            "49/49 [==============================] - ETA: 0s - loss: 0.7871 - accuracy: 0.7454WARNING:tensorflow:Early stopping conditioned on metric `val_acc` which is not available. Available metrics are: loss,accuracy,val_loss,val_accuracy\n",
            "49/49 [==============================] - 8s 171ms/step - loss: 0.7871 - accuracy: 0.7454 - val_loss: 1.5182 - val_accuracy: 0.4958\n",
            "Epoch 35/50\n",
            "49/49 [==============================] - ETA: 0s - loss: 0.7674 - accuracy: 0.7529WARNING:tensorflow:Early stopping conditioned on metric `val_acc` which is not available. Available metrics are: loss,accuracy,val_loss,val_accuracy\n",
            "49/49 [==============================] - 8s 170ms/step - loss: 0.7674 - accuracy: 0.7529 - val_loss: 1.5239 - val_accuracy: 0.4984\n",
            "Epoch 36/50\n",
            "49/49 [==============================] - ETA: 0s - loss: 0.7475 - accuracy: 0.7593WARNING:tensorflow:Early stopping conditioned on metric `val_acc` which is not available. Available metrics are: loss,accuracy,val_loss,val_accuracy\n",
            "49/49 [==============================] - 9s 175ms/step - loss: 0.7475 - accuracy: 0.7593 - val_loss: 1.5363 - val_accuracy: 0.4925\n",
            "Epoch 37/50\n",
            "49/49 [==============================] - ETA: 0s - loss: 0.7287 - accuracy: 0.7675WARNING:tensorflow:Early stopping conditioned on metric `val_acc` which is not available. Available metrics are: loss,accuracy,val_loss,val_accuracy\n",
            "49/49 [==============================] - 8s 172ms/step - loss: 0.7287 - accuracy: 0.7675 - val_loss: 1.5719 - val_accuracy: 0.4886\n",
            "Epoch 38/50\n",
            "49/49 [==============================] - ETA: 0s - loss: 0.7097 - accuracy: 0.7755WARNING:tensorflow:Early stopping conditioned on metric `val_acc` which is not available. Available metrics are: loss,accuracy,val_loss,val_accuracy\n",
            "49/49 [==============================] - 8s 168ms/step - loss: 0.7097 - accuracy: 0.7755 - val_loss: 1.5599 - val_accuracy: 0.4915\n",
            "Epoch 39/50\n",
            "49/49 [==============================] - ETA: 0s - loss: 0.6926 - accuracy: 0.7823WARNING:tensorflow:Early stopping conditioned on metric `val_acc` which is not available. Available metrics are: loss,accuracy,val_loss,val_accuracy\n",
            "49/49 [==============================] - 8s 167ms/step - loss: 0.6926 - accuracy: 0.7823 - val_loss: 1.5730 - val_accuracy: 0.4950\n",
            "Epoch 40/50\n",
            "49/49 [==============================] - ETA: 0s - loss: 0.6729 - accuracy: 0.7897WARNING:tensorflow:Early stopping conditioned on metric `val_acc` which is not available. Available metrics are: loss,accuracy,val_loss,val_accuracy\n",
            "49/49 [==============================] - 8s 170ms/step - loss: 0.6729 - accuracy: 0.7897 - val_loss: 1.5876 - val_accuracy: 0.4942\n",
            "Epoch 41/50\n",
            "49/49 [==============================] - ETA: 0s - loss: 0.6550 - accuracy: 0.7964WARNING:tensorflow:Early stopping conditioned on metric `val_acc` which is not available. Available metrics are: loss,accuracy,val_loss,val_accuracy\n",
            "49/49 [==============================] - 8s 169ms/step - loss: 0.6550 - accuracy: 0.7964 - val_loss: 1.5845 - val_accuracy: 0.4917\n",
            "Epoch 42/50\n",
            "49/49 [==============================] - ETA: 0s - loss: 0.6377 - accuracy: 0.8038WARNING:tensorflow:Early stopping conditioned on metric `val_acc` which is not available. Available metrics are: loss,accuracy,val_loss,val_accuracy\n",
            "49/49 [==============================] - 8s 172ms/step - loss: 0.6377 - accuracy: 0.8038 - val_loss: 1.5993 - val_accuracy: 0.4972\n",
            "Epoch 43/50\n",
            "49/49 [==============================] - ETA: 0s - loss: 0.6195 - accuracy: 0.8131WARNING:tensorflow:Early stopping conditioned on metric `val_acc` which is not available. Available metrics are: loss,accuracy,val_loss,val_accuracy\n",
            "49/49 [==============================] - 8s 172ms/step - loss: 0.6195 - accuracy: 0.8131 - val_loss: 1.6198 - val_accuracy: 0.4879\n",
            "Epoch 44/50\n",
            "49/49 [==============================] - ETA: 0s - loss: 0.6013 - accuracy: 0.8186WARNING:tensorflow:Early stopping conditioned on metric `val_acc` which is not available. Available metrics are: loss,accuracy,val_loss,val_accuracy\n",
            "49/49 [==============================] - 9s 185ms/step - loss: 0.6013 - accuracy: 0.8186 - val_loss: 1.6289 - val_accuracy: 0.4902\n",
            "Epoch 45/50\n",
            "49/49 [==============================] - ETA: 0s - loss: 0.5841 - accuracy: 0.8264WARNING:tensorflow:Early stopping conditioned on metric `val_acc` which is not available. Available metrics are: loss,accuracy,val_loss,val_accuracy\n",
            "49/49 [==============================] - 9s 181ms/step - loss: 0.5841 - accuracy: 0.8264 - val_loss: 1.6444 - val_accuracy: 0.4890\n",
            "Epoch 46/50\n",
            "49/49 [==============================] - ETA: 0s - loss: 0.5677 - accuracy: 0.8334WARNING:tensorflow:Early stopping conditioned on metric `val_acc` which is not available. Available metrics are: loss,accuracy,val_loss,val_accuracy\n",
            "49/49 [==============================] - 8s 173ms/step - loss: 0.5677 - accuracy: 0.8334 - val_loss: 1.6734 - val_accuracy: 0.4866\n",
            "Epoch 47/50\n",
            "49/49 [==============================] - ETA: 0s - loss: 0.5503 - accuracy: 0.8399WARNING:tensorflow:Early stopping conditioned on metric `val_acc` which is not available. Available metrics are: loss,accuracy,val_loss,val_accuracy\n",
            "49/49 [==============================] - 8s 168ms/step - loss: 0.5503 - accuracy: 0.8399 - val_loss: 1.6570 - val_accuracy: 0.4863\n",
            "Epoch 48/50\n",
            "49/49 [==============================] - ETA: 0s - loss: 0.5336 - accuracy: 0.8452WARNING:tensorflow:Early stopping conditioned on metric `val_acc` which is not available. Available metrics are: loss,accuracy,val_loss,val_accuracy\n",
            "49/49 [==============================] - 8s 168ms/step - loss: 0.5336 - accuracy: 0.8452 - val_loss: 1.7035 - val_accuracy: 0.4772\n",
            "Epoch 49/50\n",
            "49/49 [==============================] - ETA: 0s - loss: 0.5173 - accuracy: 0.8524WARNING:tensorflow:Early stopping conditioned on metric `val_acc` which is not available. Available metrics are: loss,accuracy,val_loss,val_accuracy\n",
            "49/49 [==============================] - 8s 170ms/step - loss: 0.5173 - accuracy: 0.8524 - val_loss: 1.6994 - val_accuracy: 0.4846\n",
            "Epoch 50/50\n",
            "49/49 [==============================] - ETA: 0s - loss: 0.5002 - accuracy: 0.8607WARNING:tensorflow:Early stopping conditioned on metric `val_acc` which is not available. Available metrics are: loss,accuracy,val_loss,val_accuracy\n",
            "49/49 [==============================] - 8s 169ms/step - loss: 0.5002 - accuracy: 0.8607 - val_loss: 1.7303 - val_accuracy: 0.4819\n"
          ],
          "name": "stdout"
        }
      ]
    },
    {
      "cell_type": "code",
      "metadata": {
        "id": "-P3x4YVGVLU2",
        "outputId": "79e365b4-b0bf-4d6f-a927-51c876058140",
        "colab": {
          "base_uri": "https://localhost:8080/",
          "height": 545
        }
      },
      "source": [
        "import matplotlib.pyplot as plt\n",
        "%matplotlib inline\n",
        "\n",
        "plt.plot(range(len(train_loss)), train_loss, label=\"train loss\")\n",
        "plt.plot(range(len(valid_loss)), valid_loss, label=\"valid loss\")\n",
        "plt.legend()\n",
        "plt.title(\"Loss\")\n",
        "plt.show()\n",
        "\n",
        "plt.plot(range(len(train_acc)), train_acc, label=\"train accuracy\")\n",
        "plt.plot(range(len(valid_acc)), valid_acc, label=\"valid accuracy\")\n",
        "plt.legend()\n",
        "plt.title(\"Accuracy\")\n",
        "plt.show()"
      ],
      "execution_count": 18,
      "outputs": [
        {
          "output_type": "display_data",
          "data": {
            "image/png": "[encoded data removed]",
            "text/plain": [
              "<Figure size 432x288 with 1 Axes>"
            ]
          },
          "metadata": {
            "tags": [],
            "needs_background": "light"
          }
        },
        {
          "output_type": "display_data",
          "data": {
            "image/png": "[encoded data removed]",
            "text/plain": [
              "<Figure size 432x288 with 1 Axes>"
            ]
          },
          "metadata": {
            "tags": [],
            "needs_background": "light"
          }
        }
      ]
    }
  ]
}