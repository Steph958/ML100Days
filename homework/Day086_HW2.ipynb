{
  "nbformat": 4,
  "nbformat_minor": 0,
  "metadata": {
    "kernelspec": {
      "display_name": "Python 3",
      "language": "python",
      "name": "python3"
    },
    "language_info": {
      "codemirror_mode": {
        "name": "ipython",
        "version": 3
      },
      "file_extension": ".py",
      "mimetype": "text/x-python",
      "name": "python",
      "nbconvert_exporter": "python",
      "pygments_lexer": "ipython3",
      "version": "3.6.5"
    },
    "colab": {
      "name": "Day086_HW2.ipynb",
      "provenance": []
    }
  },
  "cells": [
    {
      "cell_type": "markdown",
      "metadata": {
        "id": "b5kSOw7CaHDg"
      },
      "source": [
        "## Work\n",
        "1. 試比較 save_best_only 與否的差異\n",
        "2. 請僅存入將 save_weights_only 設定為 True, 並嘗試 reset ipynb 並將模型與權重重新建回並預測 x_test"
      ]
    },
    {
      "cell_type": "code",
      "metadata": {
        "id": "VCpFid-EaHDp"
      },
      "source": [
        "import os\n",
        "import keras\n",
        "\n",
        "# Disable GPU\n",
        "os.environ[\"CUDA_VISIBLE_DEVICES\"] = \"\""
      ],
      "execution_count": 1,
      "outputs": []
    },
    {
      "cell_type": "code",
      "metadata": {
        "id": "nsaskmUXaHDz",
        "outputId": "66126903-00be-48b2-e337-8883c4456eb0",
        "colab": {
          "base_uri": "https://localhost:8080/"
        }
      },
      "source": [
        "train, test = keras.datasets.cifar10.load_data()"
      ],
      "execution_count": 2,
      "outputs": [
        {
          "output_type": "stream",
          "text": [
            "Downloading data from https://www.cs.toronto.edu/~kriz/cifar-10-python.tar.gz\n",
            "170500096/170498071 [==============================] - 11s 0us/step\n"
          ],
          "name": "stdout"
        }
      ]
    },
    {
      "cell_type": "code",
      "metadata": {
        "id": "OLl-t-KvaHD5"
      },
      "source": [
        "## 資料前處理\n",
        "def preproc_x(x, flatten=True):\n",
        "    \n",
        "    x = x / 255.\n",
        "    \n",
        "    if flatten:\n",
        "        x = x.reshape((len(x), -1))\n",
        "    return x\n",
        "\n",
        "def preproc_y(y, num_classes=10):\n",
        "    if y.shape[-1] == 1:\n",
        "        y = keras.utils.to_categorical(y, num_classes)\n",
        "    return y    "
      ],
      "execution_count": 3,
      "outputs": []
    },
    {
      "cell_type": "code",
      "metadata": {
        "id": "gvoM4dQCaHEB"
      },
      "source": [
        "x_train, y_train = train\n",
        "x_test, y_test = test\n",
        "\n",
        "# Preproc the inputs\n",
        "x_train = preproc_x(x_train)\n",
        "x_test = preproc_x(x_test)\n",
        "\n",
        "# Preprc the outputs\n",
        "y_train = preproc_y(y_train)\n",
        "y_test = preproc_y(y_test)"
      ],
      "execution_count": 4,
      "outputs": []
    },
    {
      "cell_type": "code",
      "metadata": {
        "id": "VDgdMATLaHEF"
      },
      "source": [
        "from keras.layers import BatchNormalization\n",
        "\n",
        "def build_mlp(input_shape, output_units=10, num_neurons=[512, 256, 128]):\n",
        "    \n",
        "    input_layer = keras.layers.Input(input_shape)\n",
        "    \n",
        "    for i, n_units in enumerate(num_neurons):\n",
        "        if i == 0:\n",
        "            x = keras.layers.Dense(units=n_units, \n",
        "                                   activation=\"relu\", \n",
        "                                   name=\"hidden_layer\"+str(i+1))(input_layer)\n",
        "            x = BatchNormalization()(x)\n",
        "        else:\n",
        "            x = keras.layers.Dense(units=n_units, \n",
        "                                   activation=\"relu\", \n",
        "                                   name=\"hidden_layer\"+str(i+1))(x)\n",
        "            x = BatchNormalization()(x)\n",
        "    \n",
        "    out = keras.layers.Dense(units=output_units, activation=\"softmax\", name=\"output\")(x)\n",
        "    \n",
        "    model = keras.models.Model(inputs=[input_layer], outputs=[out])\n",
        "    return model"
      ],
      "execution_count": 10,
      "outputs": []
    },
    {
      "cell_type": "code",
      "metadata": {
        "id": "Mf9FO0QwaHEI"
      },
      "source": [
        "## 超參數設定\n",
        "LEARNING_RATE = 1e-3\n",
        "EPOCHS = 50\n",
        "BATCH_SIZE = 1024\n",
        "MOMENTUM = 0.95"
      ],
      "execution_count": 11,
      "outputs": []
    },
    {
      "cell_type": "markdown",
      "metadata": {
        "id": "9Ks-khWPkHQK"
      },
      "source": [
        "# \"save_best_only\" is True:\n",
        " "
      ]
    },
    {
      "cell_type": "code",
      "metadata": {
        "id": "KBQ5ks6EaHEL"
      },
      "source": [
        "# 載入 Callbacks, 並將監控目標設為 validation loss, 且只存最佳參數時的模型\n",
        "\n",
        "from keras.callbacks import ModelCheckpoint\n",
        "\n",
        "model_ckpt = ModelCheckpoint(filepath=\"./tmp.h5\", \n",
        "                             monitor=\"val_loss\", \n",
        "                             save_best_only=True)"
      ],
      "execution_count": 12,
      "outputs": []
    },
    {
      "cell_type": "code",
      "metadata": {
        "id": "K9D1xDSsjLa9",
        "outputId": "c3c8b1b0-bc8b-497d-fc7c-6044fca580d7",
        "colab": {
          "base_uri": "https://localhost:8080/"
        }
      },
      "source": [
        "results = {}\n",
        "\n",
        "\"\"\"Code Here\n",
        "撰寫你的訓練流程並將結果用 dictionary 紀錄\n",
        "\"\"\"\n",
        "\n",
        "model = build_mlp(input_shape=x_train.shape[1:])\n",
        "model.summary()\n",
        "\n",
        "optimizer = keras.optimizers.SGD(lr=LEARNING_RATE, nesterov=True, momentum=MOMENTUM)\n",
        "model.compile(loss=\"categorical_crossentropy\", metrics=[\"accuracy\"], optimizer=optimizer)\n",
        "\n",
        "model.fit(x_train, y_train, \n",
        "          epochs=EPOCHS, \n",
        "          batch_size=BATCH_SIZE, \n",
        "          validation_data=(x_test, y_test), \n",
        "          shuffle=True,\n",
        "          callbacks=[model_ckpt]\n",
        "         )\n",
        "\n",
        "# Collect results\n",
        "train_loss = model.history.history[\"loss\"]\n",
        "valid_loss = model.history.history[\"val_loss\"]\n",
        "train_acc = model.history.history[\"accuracy\"]\n",
        "valid_acc = model.history.history[\"val_accuracy\"]\n",
        "\n",
        "# Load back\n",
        "model = keras.models.load_model(\"./tmp.h5\")\n",
        "loss_loadback, acc_loadback = model.evaluate(x_test, y_test)"
      ],
      "execution_count": 14,
      "outputs": [
        {
          "output_type": "stream",
          "text": [
            "Model: \"functional_3\"\n",
            "_________________________________________________________________\n",
            "Layer (type)                 Output Shape              Param #   \n",
            "=================================================================\n",
            "input_2 (InputLayer)         [(None, 3072)]            0         \n",
            "_________________________________________________________________\n",
            "hidden_layer1 (Dense)        (None, 512)               1573376   \n",
            "_________________________________________________________________\n",
            "batch_normalization_3 (Batch (None, 512)               2048      \n",
            "_________________________________________________________________\n",
            "hidden_layer2 (Dense)        (None, 256)               131328    \n",
            "_________________________________________________________________\n",
            "batch_normalization_4 (Batch (None, 256)               1024      \n",
            "_________________________________________________________________\n",
            "hidden_layer3 (Dense)        (None, 128)               32896     \n",
            "_________________________________________________________________\n",
            "batch_normalization_5 (Batch (None, 128)               512       \n",
            "_________________________________________________________________\n",
            "output (Dense)               (None, 10)                1290      \n",
            "=================================================================\n",
            "Total params: 1,742,474\n",
            "Trainable params: 1,740,682\n",
            "Non-trainable params: 1,792\n",
            "_________________________________________________________________\n",
            "Epoch 1/50\n",
            "49/49 [==============================] - 8s 159ms/step - loss: 2.1814 - accuracy: 0.2758 - val_loss: 2.1256 - val_accuracy: 0.2192\n",
            "Epoch 2/50\n",
            "49/49 [==============================] - 8s 155ms/step - loss: 1.7368 - accuracy: 0.3929 - val_loss: 1.9520 - val_accuracy: 0.3240\n",
            "Epoch 3/50\n",
            "49/49 [==============================] - 8s 156ms/step - loss: 1.6149 - accuracy: 0.4337 - val_loss: 1.8126 - val_accuracy: 0.3762\n",
            "Epoch 4/50\n",
            "49/49 [==============================] - 8s 155ms/step - loss: 1.5450 - accuracy: 0.4601 - val_loss: 1.7166 - val_accuracy: 0.4139\n",
            "Epoch 5/50\n",
            "49/49 [==============================] - 8s 157ms/step - loss: 1.4898 - accuracy: 0.4807 - val_loss: 1.6425 - val_accuracy: 0.4276\n",
            "Epoch 6/50\n",
            "49/49 [==============================] - 8s 155ms/step - loss: 1.4460 - accuracy: 0.4962 - val_loss: 1.5825 - val_accuracy: 0.4457\n",
            "Epoch 7/50\n",
            "49/49 [==============================] - 8s 156ms/step - loss: 1.4081 - accuracy: 0.5099 - val_loss: 1.5527 - val_accuracy: 0.4575\n",
            "Epoch 8/50\n",
            "49/49 [==============================] - 8s 157ms/step - loss: 1.3737 - accuracy: 0.5218 - val_loss: 1.5261 - val_accuracy: 0.4618\n",
            "Epoch 9/50\n",
            "49/49 [==============================] - 8s 156ms/step - loss: 1.3412 - accuracy: 0.5348 - val_loss: 1.5078 - val_accuracy: 0.4666\n",
            "Epoch 10/50\n",
            "49/49 [==============================] - 8s 156ms/step - loss: 1.3096 - accuracy: 0.5469 - val_loss: 1.5025 - val_accuracy: 0.4707\n",
            "Epoch 11/50\n",
            "49/49 [==============================] - 8s 156ms/step - loss: 1.2822 - accuracy: 0.5551 - val_loss: 1.4798 - val_accuracy: 0.4791\n",
            "Epoch 12/50\n",
            "49/49 [==============================] - 8s 155ms/step - loss: 1.2548 - accuracy: 0.5647 - val_loss: 1.4770 - val_accuracy: 0.4824\n",
            "Epoch 13/50\n",
            "49/49 [==============================] - 8s 155ms/step - loss: 1.2269 - accuracy: 0.5753 - val_loss: 1.4875 - val_accuracy: 0.4781\n",
            "Epoch 14/50\n",
            "49/49 [==============================] - 8s 156ms/step - loss: 1.2023 - accuracy: 0.5845 - val_loss: 1.4811 - val_accuracy: 0.4772\n",
            "Epoch 15/50\n",
            "49/49 [==============================] - 8s 155ms/step - loss: 1.1796 - accuracy: 0.5918 - val_loss: 1.4576 - val_accuracy: 0.4885\n",
            "Epoch 16/50\n",
            "49/49 [==============================] - 8s 155ms/step - loss: 1.1541 - accuracy: 0.6018 - val_loss: 1.4629 - val_accuracy: 0.4857\n",
            "Epoch 17/50\n",
            "49/49 [==============================] - 8s 155ms/step - loss: 1.1306 - accuracy: 0.6109 - val_loss: 1.4570 - val_accuracy: 0.4906\n",
            "Epoch 18/50\n",
            "49/49 [==============================] - 8s 155ms/step - loss: 1.1075 - accuracy: 0.6202 - val_loss: 1.4526 - val_accuracy: 0.4889\n",
            "Epoch 19/50\n",
            "49/49 [==============================] - 8s 155ms/step - loss: 1.0850 - accuracy: 0.6279 - val_loss: 1.4630 - val_accuracy: 0.4893\n",
            "Epoch 20/50\n",
            "49/49 [==============================] - 8s 155ms/step - loss: 1.0635 - accuracy: 0.6363 - val_loss: 1.4538 - val_accuracy: 0.4920\n",
            "Epoch 21/50\n",
            "49/49 [==============================] - 8s 155ms/step - loss: 1.0422 - accuracy: 0.6458 - val_loss: 1.4471 - val_accuracy: 0.4945\n",
            "Epoch 22/50\n",
            "49/49 [==============================] - 8s 156ms/step - loss: 1.0206 - accuracy: 0.6522 - val_loss: 1.4492 - val_accuracy: 0.4965\n",
            "Epoch 23/50\n",
            "49/49 [==============================] - 8s 156ms/step - loss: 0.9997 - accuracy: 0.6609 - val_loss: 1.4587 - val_accuracy: 0.4960\n",
            "Epoch 24/50\n",
            "49/49 [==============================] - 8s 156ms/step - loss: 0.9799 - accuracy: 0.6697 - val_loss: 1.4587 - val_accuracy: 0.4980\n",
            "Epoch 25/50\n",
            "49/49 [==============================] - 8s 156ms/step - loss: 0.9602 - accuracy: 0.6763 - val_loss: 1.4683 - val_accuracy: 0.4947\n",
            "Epoch 26/50\n",
            "49/49 [==============================] - 8s 155ms/step - loss: 0.9404 - accuracy: 0.6832 - val_loss: 1.4676 - val_accuracy: 0.4998\n",
            "Epoch 27/50\n",
            "49/49 [==============================] - 8s 156ms/step - loss: 0.9190 - accuracy: 0.6937 - val_loss: 1.4963 - val_accuracy: 0.4889\n",
            "Epoch 28/50\n",
            "49/49 [==============================] - 8s 155ms/step - loss: 0.9004 - accuracy: 0.6995 - val_loss: 1.4801 - val_accuracy: 0.4972\n",
            "Epoch 29/50\n",
            "49/49 [==============================] - 8s 155ms/step - loss: 0.8798 - accuracy: 0.7077 - val_loss: 1.4867 - val_accuracy: 0.4911\n",
            "Epoch 30/50\n",
            "49/49 [==============================] - 8s 155ms/step - loss: 0.8587 - accuracy: 0.7162 - val_loss: 1.4911 - val_accuracy: 0.4937\n",
            "Epoch 31/50\n",
            "49/49 [==============================] - 8s 155ms/step - loss: 0.8404 - accuracy: 0.7222 - val_loss: 1.4863 - val_accuracy: 0.4930\n",
            "Epoch 32/50\n",
            "49/49 [==============================] - 8s 155ms/step - loss: 0.8215 - accuracy: 0.7288 - val_loss: 1.4977 - val_accuracy: 0.4987\n",
            "Epoch 33/50\n",
            "49/49 [==============================] - 8s 155ms/step - loss: 0.8005 - accuracy: 0.7397 - val_loss: 1.5054 - val_accuracy: 0.4969\n",
            "Epoch 34/50\n",
            "49/49 [==============================] - 8s 155ms/step - loss: 0.7824 - accuracy: 0.7462 - val_loss: 1.5338 - val_accuracy: 0.4919\n",
            "Epoch 35/50\n",
            "49/49 [==============================] - 8s 155ms/step - loss: 0.7626 - accuracy: 0.7539 - val_loss: 1.4986 - val_accuracy: 0.5044\n",
            "Epoch 36/50\n",
            "49/49 [==============================] - 8s 156ms/step - loss: 0.7453 - accuracy: 0.7618 - val_loss: 1.5216 - val_accuracy: 0.5019\n",
            "Epoch 37/50\n",
            "49/49 [==============================] - 8s 155ms/step - loss: 0.7268 - accuracy: 0.7675 - val_loss: 1.5412 - val_accuracy: 0.4908\n",
            "Epoch 38/50\n",
            "49/49 [==============================] - 8s 156ms/step - loss: 0.7091 - accuracy: 0.7737 - val_loss: 1.5452 - val_accuracy: 0.5026\n",
            "Epoch 39/50\n",
            "49/49 [==============================] - 8s 155ms/step - loss: 0.6887 - accuracy: 0.7831 - val_loss: 1.5535 - val_accuracy: 0.4951\n",
            "Epoch 40/50\n",
            "49/49 [==============================] - 8s 155ms/step - loss: 0.6717 - accuracy: 0.7890 - val_loss: 1.5751 - val_accuracy: 0.4946\n",
            "Epoch 41/50\n",
            "49/49 [==============================] - 8s 155ms/step - loss: 0.6513 - accuracy: 0.7983 - val_loss: 1.5611 - val_accuracy: 0.5001\n",
            "Epoch 42/50\n",
            "49/49 [==============================] - 8s 156ms/step - loss: 0.6345 - accuracy: 0.8052 - val_loss: 1.5788 - val_accuracy: 0.4946\n",
            "Epoch 43/50\n",
            "49/49 [==============================] - 8s 156ms/step - loss: 0.6168 - accuracy: 0.8110 - val_loss: 1.6104 - val_accuracy: 0.4951\n",
            "Epoch 44/50\n",
            "49/49 [==============================] - 8s 156ms/step - loss: 0.5997 - accuracy: 0.8176 - val_loss: 1.5981 - val_accuracy: 0.4953\n",
            "Epoch 45/50\n",
            "49/49 [==============================] - 8s 158ms/step - loss: 0.5803 - accuracy: 0.8265 - val_loss: 1.6282 - val_accuracy: 0.4935\n",
            "Epoch 46/50\n",
            "49/49 [==============================] - 8s 158ms/step - loss: 0.5662 - accuracy: 0.8317 - val_loss: 1.6337 - val_accuracy: 0.4944\n",
            "Epoch 47/50\n",
            "49/49 [==============================] - 8s 158ms/step - loss: 0.5474 - accuracy: 0.8384 - val_loss: 1.6309 - val_accuracy: 0.4972\n",
            "Epoch 48/50\n",
            "49/49 [==============================] - 8s 157ms/step - loss: 0.5319 - accuracy: 0.8458 - val_loss: 1.6392 - val_accuracy: 0.4949\n",
            "Epoch 49/50\n",
            "49/49 [==============================] - 8s 156ms/step - loss: 0.5138 - accuracy: 0.8528 - val_loss: 1.6719 - val_accuracy: 0.4922\n",
            "Epoch 50/50\n",
            "49/49 [==============================] - 8s 155ms/step - loss: 0.4982 - accuracy: 0.8589 - val_loss: 1.6871 - val_accuracy: 0.4893\n",
            "313/313 [==============================] - 1s 4ms/step - loss: 1.4387 - accuracy: 0.4949\n"
          ],
          "name": "stdout"
        }
      ]
    },
    {
      "cell_type": "code",
      "metadata": {
        "scrolled": true,
        "id": "hhBXVsojaHEN",
        "outputId": "a49625cf-c4b4-489f-da35-b54b519b6770",
        "colab": {
          "base_uri": "https://localhost:8080/",
          "height": 545
        }
      },
      "source": [
        "import matplotlib.pyplot as plt\n",
        "%matplotlib inline\n",
        "\n",
        "plt.plot(range(len(train_loss)), train_loss, label=\"train loss\")\n",
        "plt.plot(range(len(valid_loss)), valid_loss, label=\"valid loss\")\n",
        "plt.hlines(y=loss_loadback, xmin=0, xmax=len(train_loss), colors='r', linestyles='--')\n",
        "plt.legend()\n",
        "plt.title(\"Loss\")\n",
        "plt.show()\n",
        "\n",
        "plt.plot(range(len(train_acc)), train_acc, label=\"train accuracy\")\n",
        "plt.plot(range(len(valid_acc)), valid_acc, label=\"valid accuracy\")\n",
        "plt.hlines(y=acc_loadback, xmin=0, xmax=len(train_loss), colors='r', linestyles='--')\n",
        "plt.legend()\n",
        "plt.title(\"Accuracy\")\n",
        "plt.show()"
      ],
      "execution_count": 15,
      "outputs": [
        {
          "output_type": "display_data",
          "data": {
            "image/png": "[encoded data removed]",
            "text/plain": [
              "<Figure size 432x288 with 1 Axes>"
            ]
          },
          "metadata": {
            "tags": [],
            "needs_background": "light"
          }
        },
        {
          "output_type": "display_data",
          "data": {
            "image/png": "[encoded data removed]",
            "text/plain": [
              "<Figure size 432x288 with 1 Axes>"
            ]
          },
          "metadata": {
            "tags": [],
            "needs_background": "light"
          }
        }
      ]
    },
    {
      "cell_type": "markdown",
      "metadata": {
        "id": "4Qm1vwJekNwH"
      },
      "source": [
        "# \"save_best_only\" is False:\n",
        " "
      ]
    },
    {
      "cell_type": "code",
      "metadata": {
        "id": "8iyIzcUYkpS2"
      },
      "source": [
        "# 載入 Callbacks, 並將監控目標設為 validation loss, 且只存最佳參數時的模型\n",
        "\n",
        "from keras.callbacks import ModelCheckpoint\n",
        "\n",
        "model_ckpt = ModelCheckpoint(filepath=\"./tmp.h5\", \n",
        "                             monitor=\"val_loss\", \n",
        "                             save_best_only=False)"
      ],
      "execution_count": 16,
      "outputs": []
    },
    {
      "cell_type": "code",
      "metadata": {
        "id": "3XOBW8dIkRXT",
        "outputId": "95bc603a-4db3-4500-cabb-bd0bb5a82156",
        "colab": {
          "base_uri": "https://localhost:8080/"
        }
      },
      "source": [
        "results = {}\n",
        "\n",
        "\"\"\"Code Here\n",
        "撰寫你的訓練流程並將結果用 dictionary 紀錄\n",
        "\"\"\"\n",
        "\n",
        "model = build_mlp(input_shape=x_train.shape[1:])\n",
        "model.summary()\n",
        "\n",
        "optimizer = keras.optimizers.SGD(lr=LEARNING_RATE, nesterov=True, momentum=MOMENTUM)\n",
        "model.compile(loss=\"categorical_crossentropy\", metrics=[\"accuracy\"], optimizer=optimizer)\n",
        "\n",
        "model.fit(x_train, y_train, \n",
        "          epochs=EPOCHS, \n",
        "          batch_size=BATCH_SIZE, \n",
        "          validation_data=(x_test, y_test), \n",
        "          shuffle=True,\n",
        "          callbacks=[model_ckpt]\n",
        "         )\n",
        "\n",
        "# Collect results\n",
        "train_loss = model.history.history[\"loss\"]\n",
        "valid_loss = model.history.history[\"val_loss\"]\n",
        "train_acc = model.history.history[\"accuracy\"]\n",
        "valid_acc = model.history.history[\"val_accuracy\"]\n",
        "\n",
        "# Load back\n",
        "model = keras.models.load_model(\"./tmp.h5\")\n",
        "loss_loadback, acc_loadback = model.evaluate(x_test, y_test)"
      ],
      "execution_count": 17,
      "outputs": [
        {
          "output_type": "stream",
          "text": [
            "Model: \"functional_5\"\n",
            "_________________________________________________________________\n",
            "Layer (type)                 Output Shape              Param #   \n",
            "=================================================================\n",
            "input_3 (InputLayer)         [(None, 3072)]            0         \n",
            "_________________________________________________________________\n",
            "hidden_layer1 (Dense)        (None, 512)               1573376   \n",
            "_________________________________________________________________\n",
            "batch_normalization_6 (Batch (None, 512)               2048      \n",
            "_________________________________________________________________\n",
            "hidden_layer2 (Dense)        (None, 256)               131328    \n",
            "_________________________________________________________________\n",
            "batch_normalization_7 (Batch (None, 256)               1024      \n",
            "_________________________________________________________________\n",
            "hidden_layer3 (Dense)        (None, 128)               32896     \n",
            "_________________________________________________________________\n",
            "batch_normalization_8 (Batch (None, 128)               512       \n",
            "_________________________________________________________________\n",
            "output (Dense)               (None, 10)                1290      \n",
            "=================================================================\n",
            "Total params: 1,742,474\n",
            "Trainable params: 1,740,682\n",
            "Non-trainable params: 1,792\n",
            "_________________________________________________________________\n",
            "Epoch 1/50\n",
            "49/49 [==============================] - 8s 163ms/step - loss: 2.2398 - accuracy: 0.2708 - val_loss: 2.1182 - val_accuracy: 0.2161\n",
            "Epoch 2/50\n",
            "49/49 [==============================] - 8s 156ms/step - loss: 1.7503 - accuracy: 0.3938 - val_loss: 1.9920 - val_accuracy: 0.2644\n",
            "Epoch 3/50\n",
            "49/49 [==============================] - 8s 155ms/step - loss: 1.6261 - accuracy: 0.4350 - val_loss: 1.8618 - val_accuracy: 0.3311\n",
            "Epoch 4/50\n",
            "49/49 [==============================] - 8s 156ms/step - loss: 1.5501 - accuracy: 0.4605 - val_loss: 1.7503 - val_accuracy: 0.3755\n",
            "Epoch 5/50\n",
            "49/49 [==============================] - 8s 155ms/step - loss: 1.4949 - accuracy: 0.4775 - val_loss: 1.6713 - val_accuracy: 0.4107\n",
            "Epoch 6/50\n",
            "49/49 [==============================] - 8s 156ms/step - loss: 1.4502 - accuracy: 0.4922 - val_loss: 1.6234 - val_accuracy: 0.4274\n",
            "Epoch 7/50\n",
            "49/49 [==============================] - 8s 156ms/step - loss: 1.4090 - accuracy: 0.5089 - val_loss: 1.5594 - val_accuracy: 0.4526\n",
            "Epoch 8/50\n",
            "49/49 [==============================] - 8s 156ms/step - loss: 1.3734 - accuracy: 0.5210 - val_loss: 1.5376 - val_accuracy: 0.4566\n",
            "Epoch 9/50\n",
            "49/49 [==============================] - 8s 155ms/step - loss: 1.3409 - accuracy: 0.5340 - val_loss: 1.5161 - val_accuracy: 0.4696\n",
            "Epoch 10/50\n",
            "49/49 [==============================] - 8s 156ms/step - loss: 1.3102 - accuracy: 0.5459 - val_loss: 1.5180 - val_accuracy: 0.4662\n",
            "Epoch 11/50\n",
            "49/49 [==============================] - 8s 156ms/step - loss: 1.2827 - accuracy: 0.5563 - val_loss: 1.4969 - val_accuracy: 0.4766\n",
            "Epoch 12/50\n",
            "49/49 [==============================] - 8s 157ms/step - loss: 1.2540 - accuracy: 0.5640 - val_loss: 1.4884 - val_accuracy: 0.4767\n",
            "Epoch 13/50\n",
            "49/49 [==============================] - 8s 156ms/step - loss: 1.2282 - accuracy: 0.5754 - val_loss: 1.4869 - val_accuracy: 0.4760\n",
            "Epoch 14/50\n",
            "49/49 [==============================] - 8s 156ms/step - loss: 1.2035 - accuracy: 0.5843 - val_loss: 1.4757 - val_accuracy: 0.4829\n",
            "Epoch 15/50\n",
            "49/49 [==============================] - 8s 157ms/step - loss: 1.1802 - accuracy: 0.5932 - val_loss: 1.4706 - val_accuracy: 0.4855\n",
            "Epoch 16/50\n",
            "49/49 [==============================] - 8s 156ms/step - loss: 1.1578 - accuracy: 0.6030 - val_loss: 1.4803 - val_accuracy: 0.4804\n",
            "Epoch 17/50\n",
            "49/49 [==============================] - 8s 156ms/step - loss: 1.1339 - accuracy: 0.6100 - val_loss: 1.4756 - val_accuracy: 0.4862\n",
            "Epoch 18/50\n",
            "49/49 [==============================] - 8s 157ms/step - loss: 1.1120 - accuracy: 0.6196 - val_loss: 1.5201 - val_accuracy: 0.4786\n",
            "Epoch 19/50\n",
            "49/49 [==============================] - 8s 159ms/step - loss: 1.0906 - accuracy: 0.6271 - val_loss: 1.4734 - val_accuracy: 0.4873\n",
            "Epoch 20/50\n",
            "49/49 [==============================] - 8s 160ms/step - loss: 1.0685 - accuracy: 0.6358 - val_loss: 1.4713 - val_accuracy: 0.4891\n",
            "Epoch 21/50\n",
            "49/49 [==============================] - 8s 156ms/step - loss: 1.0472 - accuracy: 0.6432 - val_loss: 1.4796 - val_accuracy: 0.4866\n",
            "Epoch 22/50\n",
            "49/49 [==============================] - 8s 158ms/step - loss: 1.0276 - accuracy: 0.6517 - val_loss: 1.4744 - val_accuracy: 0.4902\n",
            "Epoch 23/50\n",
            "49/49 [==============================] - 8s 156ms/step - loss: 1.0054 - accuracy: 0.6588 - val_loss: 1.4730 - val_accuracy: 0.4907\n",
            "Epoch 24/50\n",
            "49/49 [==============================] - 9s 180ms/step - loss: 0.9856 - accuracy: 0.6642 - val_loss: 1.4744 - val_accuracy: 0.4864\n",
            "Epoch 25/50\n",
            "49/49 [==============================] - 9s 180ms/step - loss: 0.9644 - accuracy: 0.6749 - val_loss: 1.5003 - val_accuracy: 0.4842\n",
            "Epoch 26/50\n",
            "49/49 [==============================] - 8s 156ms/step - loss: 0.9441 - accuracy: 0.6845 - val_loss: 1.4753 - val_accuracy: 0.4900\n",
            "Epoch 27/50\n",
            "49/49 [==============================] - 8s 157ms/step - loss: 0.9251 - accuracy: 0.6897 - val_loss: 1.4866 - val_accuracy: 0.4885\n",
            "Epoch 28/50\n",
            "49/49 [==============================] - 8s 156ms/step - loss: 0.9060 - accuracy: 0.6973 - val_loss: 1.4962 - val_accuracy: 0.4870\n",
            "Epoch 29/50\n",
            "49/49 [==============================] - 8s 157ms/step - loss: 0.8849 - accuracy: 0.7038 - val_loss: 1.4943 - val_accuracy: 0.4922\n",
            "Epoch 30/50\n",
            "49/49 [==============================] - 8s 157ms/step - loss: 0.8671 - accuracy: 0.7123 - val_loss: 1.4984 - val_accuracy: 0.4949\n",
            "Epoch 31/50\n",
            "49/49 [==============================] - 8s 157ms/step - loss: 0.8458 - accuracy: 0.7214 - val_loss: 1.4985 - val_accuracy: 0.4907\n",
            "Epoch 32/50\n",
            "49/49 [==============================] - 8s 156ms/step - loss: 0.8298 - accuracy: 0.7265 - val_loss: 1.5070 - val_accuracy: 0.4928\n",
            "Epoch 33/50\n",
            "49/49 [==============================] - 8s 157ms/step - loss: 0.8098 - accuracy: 0.7360 - val_loss: 1.5243 - val_accuracy: 0.4917\n",
            "Epoch 34/50\n",
            "49/49 [==============================] - 8s 156ms/step - loss: 0.7884 - accuracy: 0.7441 - val_loss: 1.5235 - val_accuracy: 0.4907\n",
            "Epoch 35/50\n",
            "49/49 [==============================] - 8s 156ms/step - loss: 0.7709 - accuracy: 0.7528 - val_loss: 1.5291 - val_accuracy: 0.4925\n",
            "Epoch 36/50\n",
            "49/49 [==============================] - 8s 156ms/step - loss: 0.7529 - accuracy: 0.7568 - val_loss: 1.5367 - val_accuracy: 0.4898\n",
            "Epoch 37/50\n",
            "49/49 [==============================] - 8s 157ms/step - loss: 0.7351 - accuracy: 0.7645 - val_loss: 1.5648 - val_accuracy: 0.4906\n",
            "Epoch 38/50\n",
            "49/49 [==============================] - 8s 157ms/step - loss: 0.7158 - accuracy: 0.7722 - val_loss: 1.5585 - val_accuracy: 0.4842\n",
            "Epoch 39/50\n",
            "49/49 [==============================] - 8s 157ms/step - loss: 0.6966 - accuracy: 0.7811 - val_loss: 1.5762 - val_accuracy: 0.4877\n",
            "Epoch 40/50\n",
            "49/49 [==============================] - 8s 160ms/step - loss: 0.6791 - accuracy: 0.7873 - val_loss: 1.5742 - val_accuracy: 0.4877\n",
            "Epoch 41/50\n",
            "49/49 [==============================] - 8s 157ms/step - loss: 0.6598 - accuracy: 0.7958 - val_loss: 1.5888 - val_accuracy: 0.4806\n",
            "Epoch 42/50\n",
            "49/49 [==============================] - 8s 157ms/step - loss: 0.6438 - accuracy: 0.8035 - val_loss: 1.6028 - val_accuracy: 0.4850\n",
            "Epoch 43/50\n",
            "49/49 [==============================] - 8s 157ms/step - loss: 0.6230 - accuracy: 0.8104 - val_loss: 1.5947 - val_accuracy: 0.4926\n",
            "Epoch 44/50\n",
            "49/49 [==============================] - 8s 157ms/step - loss: 0.6049 - accuracy: 0.8183 - val_loss: 1.6212 - val_accuracy: 0.4888\n",
            "Epoch 45/50\n",
            "49/49 [==============================] - 8s 157ms/step - loss: 0.5905 - accuracy: 0.8219 - val_loss: 1.6299 - val_accuracy: 0.4935\n",
            "Epoch 46/50\n",
            "49/49 [==============================] - 8s 157ms/step - loss: 0.5732 - accuracy: 0.8308 - val_loss: 1.6374 - val_accuracy: 0.4878\n",
            "Epoch 47/50\n",
            "49/49 [==============================] - 8s 157ms/step - loss: 0.5555 - accuracy: 0.8371 - val_loss: 1.6509 - val_accuracy: 0.4896\n",
            "Epoch 48/50\n",
            "49/49 [==============================] - 8s 157ms/step - loss: 0.5398 - accuracy: 0.8452 - val_loss: 1.6782 - val_accuracy: 0.4850\n",
            "Epoch 49/50\n",
            "49/49 [==============================] - 8s 158ms/step - loss: 0.5228 - accuracy: 0.8510 - val_loss: 1.6824 - val_accuracy: 0.4867\n",
            "Epoch 50/50\n",
            "49/49 [==============================] - 8s 157ms/step - loss: 0.5072 - accuracy: 0.8552 - val_loss: 1.6949 - val_accuracy: 0.4864\n",
            "313/313 [==============================] - 1s 4ms/step - loss: 1.6949 - accuracy: 0.4864\n"
          ],
          "name": "stdout"
        }
      ]
    },
    {
      "cell_type": "code",
      "metadata": {
        "id": "dc0VSmZwkRca",
        "outputId": "7455c8f5-cda9-4485-8650-19bf0f401182",
        "colab": {
          "base_uri": "https://localhost:8080/",
          "height": 545
        }
      },
      "source": [
        "import matplotlib.pyplot as plt\n",
        "%matplotlib inline\n",
        "\n",
        "plt.plot(range(len(train_loss)), train_loss, label=\"train loss\")\n",
        "plt.plot(range(len(valid_loss)), valid_loss, label=\"valid loss\")\n",
        "plt.hlines(y=loss_loadback, xmin=0, xmax=len(train_loss), colors='r', linestyles='--')\n",
        "plt.legend()\n",
        "plt.title(\"Loss\")\n",
        "plt.show()\n",
        "\n",
        "plt.plot(range(len(train_acc)), train_acc, label=\"train accuracy\")\n",
        "plt.plot(range(len(valid_acc)), valid_acc, label=\"valid accuracy\")\n",
        "plt.hlines(y=acc_loadback, xmin=0, xmax=len(train_loss), colors='r', linestyles='--')\n",
        "plt.legend()\n",
        "plt.title(\"Accuracy\")\n",
        "plt.show()"
      ],
      "execution_count": 18,
      "outputs": [
        {
          "output_type": "display_data",
          "data": {
            "image/png": "[encoded data removed]",
            "text/plain": [
              "<Figure size 432x288 with 1 Axes>"
            ]
          },
          "metadata": {
            "tags": [],
            "needs_background": "light"
          }
        },
        {
          "output_type": "display_data",
          "data": {
            "image/png": "[encoded data removed]",
            "text/plain": [
              "<Figure size 432x288 with 1 Axes>"
            ]
          },
          "metadata": {
            "tags": [],
            "needs_background": "light"
          }
        }
      ]
    }
  ]
}