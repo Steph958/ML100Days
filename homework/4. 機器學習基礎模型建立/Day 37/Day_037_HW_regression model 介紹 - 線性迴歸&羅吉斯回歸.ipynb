{
 "cells": [
  {
   "cell_type": "markdown",
   "metadata": {},
   "source": [
    "## [作業重點]\n",
    "了解線性回歸的模型發展歷程，並了解優勢與劣勢，以及其使用情境"
   ]
  },
  {
   "cell_type": "markdown",
   "metadata": {},
   "source": [
    "## 作業"
   ]
  },
  {
   "cell_type": "markdown",
   "metadata": {},
   "source": [
    "請閱讀以下相關文獻，並回答以下問題\n",
    "\n",
    "[Linear Regression 詳細介紹](https://brohrer.mcknote.com/zh-Hant/how_machine_learning_works/how_linear_regression_works.html)\n",
    "\n",
    "[Logistics Regression 詳細介紹](https://medium.com/@yehjames/%E8%B3%87%E6%96%99%E5%88%86%E6%9E%90-%E6%A9%9F%E5%99%A8%E5%AD%B8%E7%BF%92-%E7%AC%AC3-3%E8%AC%9B-%E7%B7%9A%E6%80%A7%E5%88%86%E9%A1%9E-%E9%82%8F%E8%BC%AF%E6%96%AF%E5%9B%9E%E6%AD%B8-logistic-regression-%E4%BB%8B%E7%B4%B9-a1a5f47017e5)\n"
   ]
  },
  {
   "cell_type": "markdown",
   "metadata": {},
   "source": [
    "1. 線性回歸模型能夠準確預測非線性關係的資料集嗎?\n",
    "2. 回歸模型是否對資料分布有基本假設?\n"
   ]
  },
  {
   "cell_type": "markdown",
   "metadata": {},
   "source": [
    "\n",
    "\n",
    "Ans:\n",
    "\n"
   ]
  },
  {
   "cell_type": "markdown",
   "metadata": {},
   "source": [
    "線性迴歸模型當然很難準確預測非線性關係的資料集~~\n",
    "\n"
   ]
  },
  {
   "cell_type": "markdown",
   "metadata": {},
   "source": [
    "##回歸分析的5個基本假設，以及其影響、如何檢驗:\n",
    "    \n",
    "    "
   ]
  },
  {
   "cell_type": "markdown",
   "metadata": {},
   "source": [
    "#1.\n",
    "線性:因變數與應變數之間存在線性關係\n",
    "可加性:每一個因變數對應變數的影響是相互獨立的\n",
    "\n",
    "若未滿足此一假設的話，模型將出現很大的泛化誤差(generalization error)\n",
    "\n",
    "可透過觀察殘差/預測值的散佈圖來檢驗\n",
    "\n"
   ]
  },
  {
   "cell_type": "markdown",
   "metadata": {},
   "source": [
    "#2.誤差向(殘差)之間相互獨立\n",
    "\n",
    "若是未滿足此項假設則稱之為\"自相關\"(Autocorrelation)，經常發生在時間序列資料中，後項受到前項影響；當發生此狀況時，計算出的標準差經常偏小，導致信賴區間窄縮\n",
    "\n",
    "Durbin-Watson檢定統計，该统计量的值落在(0,4)内，DW=2意味着没有自相关性，0<DW<2表明残差间有正的相关性，2<DW<4表明残差间有负的相关性。经验上，如果DW<1或DW>3，则自相关性已经达到了需要示警的水平。\n",
    "\n"
   ]
  },
  {
   "cell_type": "markdown",
   "metadata": {},
   "source": [
    "#3.因變數之間互相獨立\n",
    "\n",
    "為滿足此以假設的情況稱之為多重共線性(又分為高度多重共線性&完全多重共線性)，會影響模型評判個別因變數對應變數的影響關係；常見徵象是多個因變數的估計係數變動極大\n",
    "\n",
    "首先，可以通过观察自变量的散点图（Scatter Plot）来进行初步判断。\n",
    "然后，针对可能存在多重共线性性的变量，我们观察其方差膨胀系数（VIF–Variance Inflation Factor）；若VIF<3，说明该变量基本不存在多重共线性性问题，若VIF>10，说明问题比较严重。\n",
    "\n"
   ]
  },
  {
   "cell_type": "markdown",
   "metadata": {},
   "source": [
    "#4.誤差項(殘差)滿足同質變異數假設\n",
    "\n",
    "此情況經常出現在有異常值/離群值的資料集中，計算出的標準差、信賴區建亦會失真\n",
    "\n",
    "可透過觀察殘差/預測值的散佈圖、或观察残差的标准差/估计值图來檢驗，若该图随着Y^的变化残差有规律的变大或变小，则说明存在明显的异方差性。\n",
    "\n"
   ]
  },
  {
   "cell_type": "markdown",
   "metadata": {},
   "source": [
    "#5.誤差項(殘差)應符合常態分佈\n",
    "\n",
    "信賴區間(本質是由隨機變數計算而來的)會變得高度不穩定\n",
    "\n",
    "方法一：观察Q-Q Plot (quantile-quantile plot)，如果误差项满足正态分布，Q-Q Plot里的散点会近似的落在一条直线上。若不满足正态分布，则散点会偏离该直线。\n",
    "\n",
    "方法二：进行正态检验–如Kolmogorov-Smirnov检验，Shapiro–Wilk检验\n",
    "\n"
   ]
  },
  {
   "cell_type": "markdown",
   "metadata": {},
   "source": [
    "#參考資料:\n",
    "https://blog.csdn.net/Noob_daniel/article/details/76087829\n",
    "    "
   ]
  }
 ],
 "metadata": {
  "kernelspec": {
   "display_name": "Python 3",
   "language": "python",
   "name": "python3"
  },
  "language_info": {
   "codemirror_mode": {
    "name": "ipython",
    "version": 3
   },
   "file_extension": ".py",
   "mimetype": "text/x-python",
   "name": "python",
   "nbconvert_exporter": "python",
   "pygments_lexer": "ipython3",
   "version": "3.7.4"
  }
 },
 "nbformat": 4,
 "nbformat_minor": 2
}
