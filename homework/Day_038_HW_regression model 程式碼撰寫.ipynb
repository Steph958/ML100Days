{
 "cells": [
  {
   "cell_type": "markdown",
   "metadata": {},
   "source": [
    "## [作業重點]\n",
    "使用 Sklearn 中的線性迴歸模型，來訓練各種資料集，務必了解送進去模型訓練的**資料型態**為何，也請了解模型中各項參數的意義"
   ]
  },
  {
   "cell_type": "markdown",
   "metadata": {},
   "source": [
    "## 作業\n",
    "試著使用 sklearn datasets 的其他資料集 (wine, boston, ...)，來訓練自己的線性迴歸模型。"
   ]
  },
  {
   "cell_type": "markdown",
   "metadata": {},
   "source": [
    "### HINT: 注意 label 的型態，確定資料集的目標是分類還是回歸，在使用正確的模型訓練！"
   ]
  },
  {
   "cell_type": "code",
   "execution_count": 73,
   "metadata": {},
   "outputs": [],
   "source": [
    "# STEP1:import 需要的套件\n",
    "\n",
    "from sklearn.datasets import load_boston, load_wine, load_breast_cancer #內建資料集\n",
    "from sklearn.linear_model import LinearRegression, LogisticRegression\n",
    "from sklearn.model_selection import train_test_split\n",
    "from sklearn.metrics import mean_squared_error, r2_score, accuracy_score"
   ]
  },
  {
   "cell_type": "code",
   "execution_count": 75,
   "metadata": {},
   "outputs": [],
   "source": [
    "#boston = load_boston()\n",
    "#wine = load_wine()\n",
    "#breast_cancer = load_breast_cancer"
   ]
  },
  {
   "cell_type": "code",
   "execution_count": 76,
   "metadata": {},
   "outputs": [],
   "source": [
    "# STEP2:讀取檔案\n",
    "wine = datasets.load_wine() \n",
    "# The wine dataset is a classic and very easy multi-class classification dataset.\n",
    "# https://scikit-learn.org/stable/modules/generated/sklearn.datasets.load_wine.html#sklearn.datasets.load_wine\n",
    "\n",
    "boston = datasets.load_boston()\n",
    "# Load and return the boston house-prices dataset (regression).\n",
    "# https://scikit-learn.org/stable/modules/generated/sklearn.datasets.load_boston.html\n",
    "\n",
    "breast_cancer = datasets.load_breast_cancer()\n",
    "# The breast cancer dataset is a classic and very easy binary classification dataset.\n",
    "# https://scikit-learn.org/stable/modules/generated/sklearn.datasets.load_breast_cancer.html"
   ]
  },
  {
   "cell_type": "markdown",
   "metadata": {},
   "source": [
    "#線性迴歸:波士頓房價問題"
   ]
  },
  {
   "cell_type": "code",
   "execution_count": 83,
   "metadata": {},
   "outputs": [
    {
     "name": "stdout",
     "output_type": "stream",
     "text": [
      "Coefficients:  [-1.25856659e-01  4.84257396e-02  1.84085281e-02  3.08509569e+00\n",
      " -1.73277018e+01  3.61674713e+00  2.19181853e-03 -1.49361132e+00\n",
      "  3.19979200e-01 -1.27294649e-02 -9.27469086e-01  9.50912468e-03\n",
      " -5.33592471e-01]\n",
      "Mean squared error: 17.04\n"
     ]
    }
   ],
   "source": [
    "# STEP3:因為是內建資料，跳過前處理和特徵工程，直接到切分資料集:\n",
    "x_train2, x_test2, y_train2, y_test2 = train_test_split(boston.data, boston.target, test_size=0.1, random_state=4)\n",
    "\n",
    "# STEP4:建立模型&擬合\n",
    "regr = linear_model.LinearRegression()\n",
    "regr.fit(x_train2, y_train2)\n",
    "\n",
    "# STEP5:預測&評估\n",
    "y_pred2 = regr.predict(x_test2)\n",
    "\n",
    "print('Coefficients: ', regr.coef_)\n",
    "\n",
    "print(\"Mean squared error: %.2f\"\n",
    "      % mean_squared_error(y_test2, y_pred2))\n"
   ]
  },
  {
   "cell_type": "code",
   "execution_count": null,
   "metadata": {},
   "outputs": [],
   "source": [
    "#羅吉斯迴歸:紅酒多元分類問題"
   ]
  },
  {
   "cell_type": "code",
   "execution_count": 84,
   "metadata": {},
   "outputs": [
    {
     "name": "stdout",
     "output_type": "stream",
     "text": [
      "Accuracy:  0.9444444444444444\n"
     ]
    },
    {
     "name": "stderr",
     "output_type": "stream",
     "text": [
      "C:\\Users\\USER\\Anaconda3\\lib\\site-packages\\sklearn\\linear_model\\logistic.py:432: FutureWarning: Default solver will be changed to 'lbfgs' in 0.22. Specify a solver to silence this warning.\n",
      "  FutureWarning)\n",
      "C:\\Users\\USER\\Anaconda3\\lib\\site-packages\\sklearn\\linear_model\\logistic.py:469: FutureWarning: Default multi_class will be changed to 'auto' in 0.22. Specify the multi_class option to silence this warning.\n",
      "  \"this warning.\", FutureWarning)\n"
     ]
    }
   ],
   "source": [
    "# STEP3:因為是內建資料，跳過前處理和特徵工程，直接到切分資料集:\n",
    "x_train1, x_test1, y_train1, y_test1 = train_test_split(wine.data, wine.target, test_size=0.1, random_state=4)\n",
    "\n",
    "# STEP4:建立模型&擬合\n",
    "logreg = linear_model.LogisticRegression()\n",
    "logreg.fit(x_train1, y_train1)\n",
    "\n",
    "# STEP5:預測&評估\n",
    "y_pred1 = logreg.predict(x_test1)\n",
    "\n",
    "acc = accuracy_score(y_test1, y_pred1)\n",
    "print(\"Accuracy: \", acc)"
   ]
  },
  {
   "cell_type": "code",
   "execution_count": null,
   "metadata": {},
   "outputs": [],
   "source": [
    "#羅吉斯迴歸:乳癌預測二元分類問題"
   ]
  },
  {
   "cell_type": "code",
   "execution_count": 85,
   "metadata": {},
   "outputs": [
    {
     "name": "stdout",
     "output_type": "stream",
     "text": [
      "Accuracy:  0.8421052631578947\n"
     ]
    },
    {
     "name": "stderr",
     "output_type": "stream",
     "text": [
      "C:\\Users\\USER\\Anaconda3\\lib\\site-packages\\sklearn\\linear_model\\logistic.py:432: FutureWarning: Default solver will be changed to 'lbfgs' in 0.22. Specify a solver to silence this warning.\n",
      "  FutureWarning)\n"
     ]
    }
   ],
   "source": [
    "# STEP3:因為是內建資料，跳過前處理和特徵工程，直接到切分資料集:\n",
    "x_train3, x_test3, y_train3, y_test3 = train_test_split(breast_cancer.data, breast_cancer.target, test_size=0.1, random_state=4)\n",
    "\n",
    "# STEP4:建立模型&擬合\n",
    "logreg = linear_model.LogisticRegression()\n",
    "logreg.fit(x_train3, y_train3)\n",
    "\n",
    "# STEP5:預測&評估\n",
    "y_pred1 = logreg.predict(x_test3)\n",
    "\n",
    "acc = accuracy_score(y_test3, y_pred3)\n",
    "print(\"Accuracy: \", acc)"
   ]
  },
  {
   "cell_type": "code",
   "execution_count": null,
   "metadata": {},
   "outputs": [],
   "source": []
  }
 ],
 "metadata": {
  "kernelspec": {
   "display_name": "Python 3",
   "language": "python",
   "name": "python3"
  },
  "language_info": {
   "codemirror_mode": {
    "name": "ipython",
    "version": 3
   },
   "file_extension": ".py",
   "mimetype": "text/x-python",
   "name": "python",
   "nbconvert_exporter": "python",
   "pygments_lexer": "ipython3",
   "version": "3.7.4"
  }
 },
 "nbformat": 4,
 "nbformat_minor": 2
}
