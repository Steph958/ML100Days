{
 "cells": [
  {
   "cell_type": "markdown",
   "metadata": {},
   "source": [
    "# 作業\n",
    "- 作業目標 : 用 iris (dataset.load_iris()) 資料嘗試跑 hierarchical clustering"
   ]
  },
  {
   "cell_type": "markdown",
   "metadata": {},
   "source": [
    "載入 相關套件 並 執行 hierarchical clustering 實驗 ..."
   ]
  },
  {
   "cell_type": "code",
   "execution_count": 2,
   "metadata": {},
   "outputs": [
    {
     "name": "stdout",
     "output_type": "stream",
     "text": [
      "[1 1 1 1 1 1 1 1 1 1 1 1 1 1 1 1 1 1 1 1 1 1 1 1 1 1 1 1 1 1 1 1 1 1 1 1 1\n",
      " 1 1 1 1 1 1 1 1 1 1 1 1 1 0 0 0 0 0 0 0 0 0 0 0 0 0 0 0 0 0 0 0 0 0 0 0 0\n",
      " 0 0 0 2 0 0 0 0 0 0 0 0 0 0 0 0 0 0 0 0 0 0 0 0 0 0 2 0 2 2 2 2 0 2 2 2 2\n",
      " 2 2 0 0 2 2 2 2 0 2 0 2 0 2 2 0 0 2 2 2 2 2 0 0 2 2 2 0 2 2 2 0 2 2 2 0 2\n",
      " 2 0]\n",
      "---\n",
      "[0 0 0 0 0 0 0 0 0 0 0 0 0 0 0 0 0 0 0 0 0 0 0 0 0 0 0 0 0 0 0 0 0 0 0 0 0\n",
      " 0 0 0 0 0 0 0 0 0 0 0 0 0 1 1 1 1 1 1 1 1 1 1 1 1 1 1 1 1 1 1 1 1 1 1 1 1\n",
      " 1 1 1 1 1 1 1 1 1 1 1 1 1 1 1 1 1 1 1 1 1 1 1 1 1 1 2 2 2 2 2 2 2 2 2 2 2\n",
      " 2 2 2 2 2 2 2 2 2 2 2 2 2 2 2 2 2 2 2 2 2 2 2 2 2 2 2 2 2 2 2 2 2 2 2 2 2\n",
      " 2 2]\n"
     ]
    }
   ],
   "source": [
    "url='https://ithelp.ithome.com.tw/articles/10187314'\n",
    "\n",
    "from sklearn import cluster, datasets\n",
    "\n",
    "# 讀入鳶尾花資料\n",
    "iris = datasets.load_iris()\n",
    "iris_X = iris.data\n",
    "\n",
    "# Hierarchical Clustering 演算法\n",
    "hclust = cluster.AgglomerativeClustering(linkage = 'ward',\n",
    "                                         affinity = 'euclidean',\n",
    "                                         n_clusters = 3)\n",
    "\n",
    "# 印出分群結果\n",
    "hclust.fit(iris_X)\n",
    "cluster_labels = hclust.labels_\n",
    "print(cluster_labels)\n",
    "print(\"---\")\n",
    "\n",
    "# 印出品種看看\n",
    "iris_y = iris.target\n",
    "print(iris_y)"
   ]
  },
  {
   "cell_type": "code",
   "execution_count": 3,
   "metadata": {},
   "outputs": [
    {
     "name": "stdout",
     "output_type": "stream",
     "text": [
      "0.5543236611296415\n"
     ]
    }
   ],
   "source": [
    "#績效\n",
    "from sklearn import metrics\n",
    "\n",
    "# 印出績效\n",
    "silhouette_avg = metrics.silhouette_score(iris_X, cluster_labels)\n",
    "print(silhouette_avg)"
   ]
  },
  {
   "cell_type": "markdown",
   "metadata": {},
   "source": [
    "# 使用Sklearn.cluster.AgglomerativeClustering套件\n",
    "\n",
    "https://medium.com/ai-academy-taiwan/clustering-method-4-ed927a5b4377\n"
   ]
  },
  {
   "cell_type": "code",
   "execution_count": 8,
   "metadata": {},
   "outputs": [
    {
     "name": "stdout",
     "output_type": "stream",
     "text": [
      "[[-11.44498115   1.71015151]\n",
      " [  1.95578355   4.85385147]\n",
      " [ -9.89656543   6.0062622 ]\n",
      " [ -8.31256304   4.56625608]\n",
      " [  0.57459084   6.69072266]\n",
      " [  3.44281441   9.95344187]\n",
      " [  6.92715256   8.63384209]\n",
      " [  6.99783589   6.31901239]\n",
      " [  2.24780754   7.21415824]\n",
      " [  6.58757543   6.48782095]\n",
      " [  2.51726128   8.56389626]\n",
      " [-10.72553226   3.11147527]\n",
      " [  8.62121917   3.99009844]\n",
      " [ -9.13402537   3.49267009]\n",
      " [  8.62220729   6.55050688]\n",
      " [  9.78275869   4.82454668]\n",
      " [  0.36020908   5.53478923]\n",
      " [  1.50964687   3.16972037]\n",
      " [  0.13536714   8.79381899]\n",
      " [ -9.06677434   4.96059853]\n",
      " [  8.57077044   2.26020167]\n",
      " [  3.33927904   8.5638272 ]\n",
      " [ -7.63905826   3.33483596]\n",
      " [  7.32287868   6.79820572]\n",
      " [ -9.88900932   5.55853916]\n",
      " [  8.3250346    4.61195974]\n",
      " [-10.86646179   4.66656403]\n",
      " [  9.11625531   8.53846502]\n",
      " [-10.08032716   5.52378992]\n",
      " [  0.43437629   6.29740533]\n",
      " [-10.7072353    5.12215066]\n",
      " [  2.2989208    4.4393817 ]\n",
      " [-10.56437152   3.06543398]\n",
      " [  5.60703701   5.03250322]\n",
      " [  1.59908996  10.28855422]\n",
      " [ -0.15663797   8.32284731]\n",
      " [  8.86711777   4.08817013]\n",
      " [ -9.64141292   4.52476798]\n",
      " [  9.6373815    8.34444383]\n",
      " [-11.72646056   1.11226792]\n",
      " [  7.50112291   8.57184678]\n",
      " [  8.80116571   7.20657537]\n",
      " [  1.39760787   7.75922849]\n",
      " [  1.69632382  10.30572339]\n",
      " [  3.16191554  11.04403156]\n",
      " [  8.48765134   8.35343307]\n",
      " [-10.69057402   0.98295556]\n",
      " [ 10.9726126    6.85589304]\n",
      " [ -9.22491958   5.31938147]\n",
      " [  3.17182005   6.486553  ]]\n",
      "[-11.44498115   1.95578355  -9.89656543  -8.31256304   0.57459084\n",
      "   3.44281441   6.92715256   6.99783589   2.24780754   6.58757543\n",
      "   2.51726128 -10.72553226   8.62121917  -9.13402537   8.62220729\n",
      "   9.78275869   0.36020908   1.50964687   0.13536714  -9.06677434\n",
      "   8.57077044   3.33927904  -7.63905826   7.32287868  -9.88900932\n",
      "   8.3250346  -10.86646179   9.11625531 -10.08032716   0.43437629\n",
      " -10.7072353    2.2989208  -10.56437152   5.60703701   1.59908996\n",
      "  -0.15663797   8.86711777  -9.64141292   9.6373815  -11.72646056\n",
      "   7.50112291   8.80116571   1.39760787   1.69632382   3.16191554\n",
      "   8.48765134 -10.69057402  10.9726126   -9.22491958   3.17182005]\n",
      "[ 1.71015151  4.85385147  6.0062622   4.56625608  6.69072266  9.95344187\n",
      "  8.63384209  6.31901239  7.21415824  6.48782095  8.56389626  3.11147527\n",
      "  3.99009844  3.49267009  6.55050688  4.82454668  5.53478923  3.16972037\n",
      "  8.79381899  4.96059853  2.26020167  8.5638272   3.33483596  6.79820572\n",
      "  5.55853916  4.61195974  4.66656403  8.53846502  5.52378992  6.29740533\n",
      "  5.12215066  4.4393817   3.06543398  5.03250322 10.28855422  8.32284731\n",
      "  4.08817013  4.52476798  8.34444383  1.11226792  8.57184678  7.20657537\n",
      "  7.75922849 10.30572339 11.04403156  8.35343307  0.98295556  6.85589304\n",
      "  5.31938147  6.486553  ]\n",
      "[2 0 2 2 0 0 1 1 0 1 0 2 1 2 1 1 0 0 0 2 1 0 2 1 2 1 2 1 2 0 2 0 2 1 0 0 1\n",
      " 2 1 2 1 1 0 0 0 1 2 1 2 0]\n"
     ]
    }
   ],
   "source": [
    "import numpy as np\n",
    "import matplotlib.pyplot as plt\n",
    "from sklearn.cluster import AgglomerativeClustering\n",
    "from sklearn import datasets\n",
    "\n",
    "#create datasets\n",
    "X,y = datasets.make_blobs(n_samples=50,\n",
    "                          centers=3,\n",
    "                          n_features=2,\n",
    "                          random_state= 20,\n",
    "                          cluster_std = 1.5)\n",
    "\n",
    "print(X)\n",
    "print(X[:,0])\n",
    "print(X[:,1])\n",
    "\n",
    "print(y)\n",
    "\n",
    "#parameter setting\n",
    "n = 3    #number of clusters (not essential)"
   ]
  },
  {
   "cell_type": "code",
   "execution_count": 5,
   "metadata": {},
   "outputs": [
    {
     "data": {
      "text/plain": [
       "array([1, 0, 1, 1, 0, 0, 2, 2, 0, 2, 0, 1, 2, 1, 2, 2, 0, 0, 0, 1, 2, 0,\n",
       "       1, 2, 1, 2, 1, 2, 1, 0, 1, 0, 1, 2, 0, 0, 2, 1, 2, 1, 2, 2, 0, 0,\n",
       "       0, 2, 1, 2, 1, 0], dtype=int64)"
      ]
     },
     "execution_count": 5,
     "metadata": {},
     "output_type": "execute_result"
    }
   ],
   "source": [
    "#Agglomerative Clustering method\n",
    "\n",
    "model = AgglomerativeClustering(n_clusters = n, linkage = 'ward')\n",
    "#linkage: ['ward', 'complete', 'average']\n",
    "\n",
    "model.fit(X)\n",
    "\n",
    "labels = model.fit_predict(X)\n",
    "labels"
   ]
  },
  {
   "cell_type": "code",
   "execution_count": 10,
   "metadata": {},
   "outputs": [
    {
     "data": {
      "image/png": "[encoded data removed]",
      "text/plain": [
       "<Figure size 432x288 with 1 Axes>"
      ]
     },
     "metadata": {
      "needs_background": "light"
     },
     "output_type": "display_data"
    }
   ],
   "source": [
    "#results visualization\n",
    "#階層式分群法利用 “ Ward’s method “ 計算\n",
    "\n",
    "plt.figure()\n",
    "\n",
    "plt.scatter(X[:,0], X[:,1], c = labels)\n",
    "\n",
    "plt.axis('equal')\n",
    "plt.title('Prediction')\n",
    "\n",
    "plt.show()"
   ]
  },
  {
   "cell_type": "code",
   "execution_count": 12,
   "metadata": {},
   "outputs": [
    {
     "data": {
      "text/plain": [
       "<matplotlib.collections.PathCollection at 0x29584eac248>"
      ]
     },
     "execution_count": 12,
     "metadata": {},
     "output_type": "execute_result"
    },
    {
     "data": {
      "image/png": "[encoded data removed]",
      "text/plain": [
       "<Figure size 432x288 with 1 Axes>"
      ]
     },
     "metadata": {
      "needs_background": "light"
     },
     "output_type": "display_data"
    }
   ],
   "source": [
    "#原始資料集\n",
    "plt.scatter(X[:,0], X[:,1], c = y)"
   ]
  },
  {
   "cell_type": "code",
   "execution_count": 15,
   "metadata": {},
   "outputs": [
    {
     "data": {
      "image/png": "[encoded data removed]",
      "text/plain": [
       "<Figure size 540x360 with 1 Axes>"
      ]
     },
     "metadata": {
      "needs_background": "light"
     },
     "output_type": "display_data"
    }
   ],
   "source": [
    "#利用樹狀圖來看分群的策略為何\n",
    "\n",
    "from scipy.cluster.hierarchy import dendrogram, linkage\n",
    "\n",
    "# Performs hierarchical/agglomerative clustering on X by using \"Ward's method\"\n",
    "linkage_matrix = linkage(X, 'ward')\n",
    "\n",
    "figure = plt.figure(figsize=(7.5, 5))\n",
    "\n",
    "# Plots the dendrogram\n",
    "dendrogram(linkage_matrix, labels = labels)\n",
    "\n",
    "plt.title('Hierarchical Clustering Dendrogram (Ward)')\n",
    "plt.xlabel('sample index')\n",
    "plt.ylabel('distance')\n",
    "plt.tight_layout()\n",
    "plt.show()"
   ]
  },
  {
   "cell_type": "code",
   "execution_count": null,
   "metadata": {},
   "outputs": [],
   "source": []
  }
 ],
 "metadata": {
  "kernelspec": {
   "display_name": "Python 3",
   "language": "python",
   "name": "python3"
  },
  "language_info": {
   "codemirror_mode": {
    "name": "ipython",
    "version": 3
   },
   "file_extension": ".py",
   "mimetype": "text/x-python",
   "name": "python",
   "nbconvert_exporter": "python",
   "pygments_lexer": "ipython3",
   "version": "3.7.4"
  }
 },
 "nbformat": 4,
 "nbformat_minor": 2
}
