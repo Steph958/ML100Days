def Silhouette analysis(range_n_clusters):
	
	for n_clusters in range_n_clusters:
		
		# 設定小圖排版為 1 row 2 columns
		fig, (ax1, ax2) = plt.subplots(1, 2)
		fig.set_size_inches(18, 7)

		# 左圖為輪廓分析(Silhouette analysis), 雖然輪廓係數範圍在(-1,1)區間, 但範例中都為正值, 因此我們把顯示範圍定在(-0.1,1)之間
		ax1.set_xlim([-0.1, 1])
		# (n_clusters+1)*10 這部分是用來在不同輪廓圖間塞入空白, 讓圖形看起來更清楚
		ax1.set_ylim([0, len(X) + (n_clusters + 1) * 10])

		# 宣告 KMean 分群器, 對 X 訓練並預測
		clusterer = KMeans(n_clusters=n_clusters, random_state=10)
		cluster_labels = clusterer.fit_predict(X)

		# 計算所有點的 silhouette_score 平均
		silhouette_avg = silhouette_score(X, cluster_labels)
		print("For n_clusters =", n_clusters,
			  "The average silhouette_score is :", silhouette_avg)

		# 計算所有樣本的 The silhouette_score
		sample_silhouette_values = silhouette_samples(X, cluster_labels)

		y_lower = 10
		for i in range(n_clusters):
			
			# 收集集群 i 樣本的輪廓分數，並對它們進行排序
			ith_cluster_silhouette_values = \
				sample_silhouette_values[cluster_labels == i]

			ith_cluster_silhouette_values.sort()

			size_cluster_i = ith_cluster_silhouette_values.shape[0]
			y_upper = y_lower + size_cluster_i

			color = cm.nipy_spectral(float(i) / n_clusters)
			ax1.fill_betweenx(np.arange(y_lower, y_upper),
							  0, ith_cluster_silhouette_values,
							  facecolor=color, edgecolor=color, alpha=0.7)

			# 在每個集群中間標上 i 的數值
			ax1.text(-0.05, y_lower + 0.5 * size_cluster_i, str(i))

			# 計算下一個 y_lower 的位置
			y_lower = y_upper + 10

		ax1.set_title("The silhouette plot for the various clusters.")
		ax1.set_xlabel("The silhouette coefficient values")
		ax1.set_ylabel("Cluster label")

		# 將 silhouette_score 平均所在位置, 畫上一條垂直線
		ax1.axvline(x=silhouette_avg, color="red", linestyle="--")

		ax1.set_yticks([])  # 清空 y 軸的格線
		ax1.set_xticks([-0.1, 0, 0.2, 0.4, 0.6, 0.8, 1])

		# 右圖我們用來畫上每個樣本點的分群狀態, 從另一個角度觀察分群是否洽當
		colors = cm.nipy_spectral(cluster_labels.astype(float) / n_clusters)
		ax2.scatter(X[:, 0], X[:, 1], marker='.', s=30, lw=0, alpha=0.7,
					c=colors, edgecolor='k')

		# 在右圖每一群的中心處, 畫上一個圓圈並標註對應的編號
		centers = clusterer.cluster_centers_
		ax2.scatter(centers[:, 0], centers[:, 1], marker='o',
					c="white", alpha=1, s=200, edgecolor='k')

		for i, c in enumerate(centers):
			ax2.scatter(c[0], c[1], marker='$%d$' % i, alpha=1,
						s=50, edgecolor='k')

		ax2.set_title("The visualization of the clustered data.")
		ax2.set_xlabel("Feature space for the 1st feature")
		ax2.set_ylabel("Feature space for the 2nd feature")

		plt.suptitle(("Silhouette analysis for KMeans clustering on sample data "
					  "with n_clusters = %d" % n_clusters),
					 fontsize=14, fontweight='bold')

	plt.show()