{
  "nbformat": 4,
  "nbformat_minor": 0,
  "metadata": {
    "kernelspec": {
      "display_name": "Python 3",
      "language": "python",
      "name": "python3"
    },
    "language_info": {
      "codemirror_mode": {
        "name": "ipython",
        "version": 3
      },
      "file_extension": ".py",
      "mimetype": "text/x-python",
      "name": "python",
      "nbconvert_exporter": "python",
      "pygments_lexer": "ipython3",
      "version": "3.7.0"
    },
    "colab": {
      "name": "Day72-Activation_function_HW.ipynb",
      "provenance": [],
      "collapsed_sections": []
    }
  },
  "cells": [
    {
      "cell_type": "markdown",
      "metadata": {
        "id": "y3zwsN2mteWR"
      },
      "source": [
        "# 作業目標:\n",
        "    寫出 ReLU & dReLU 一階導數\n",
        "    並列印\n"
      ]
    },
    {
      "cell_type": "markdown",
      "metadata": {
        "id": "PC85gKbdteWS"
      },
      "source": [
        "# 作業重點\n",
        "\n",
        "# Rectified Linear Unit- Relu \n",
        "\n",
        "f(x)=max(0,x)\n"
      ]
    },
    {
      "cell_type": "code",
      "metadata": {
        "id": "o3b6IqI1teWT",
        "outputId": "87642d9f-e2d7-4723-9750-0049736693e8",
        "colab": {
          "base_uri": "https://localhost:8080/",
          "height": 35
        }
      },
      "source": [
        "import numpy as np\n",
        "from numpy import *\n",
        "import matplotlib.pylab as plt\n",
        "%matplotlib inline\n",
        "\n",
        "'''\n",
        "作業:\n",
        "    寫出 ReLU & dReLU 一階導數\n",
        "    並列印\n",
        "'''"
      ],
      "execution_count": 1,
      "outputs": [
        {
          "output_type": "execute_result",
          "data": {
            "application/vnd.google.colaboratory.intrinsic+json": {
              "type": "string"
            },
            "text/plain": [
              "'\\n作業:\\n    寫出 ReLU & dReLU 一階導數\\n    並列印\\n'"
            ]
          },
          "metadata": {
            "tags": []
          },
          "execution_count": 1
        }
      ]
    },
    {
      "cell_type": "code",
      "metadata": {
        "id": "5bC_4FjBteWY"
      },
      "source": [
        "def ReLU(x):\n",
        "    return abs(x) * (x > 0)\n",
        "\n",
        "def dReLU(x):\n",
        "    return (1 * (x > 0))"
      ],
      "execution_count": 28,
      "outputs": []
    },
    {
      "cell_type": "code",
      "metadata": {
        "id": "G1zKdFMbumSt",
        "outputId": "139cd549-6bfc-4f84-f4b1-498e6f109c60",
        "colab": {
          "base_uri": "https://localhost:8080/",
          "height": 281
        }
      },
      "source": [
        "x = plt.linspace(-10,10,100) #-10~10範圍中隨機抽100個數\n",
        "#print(x)\n",
        "\n",
        "plt.plot(x, ReLU(x), 'r')\n",
        "plt.plot(x, dReLU(x), 'b')\n",
        "plt.grid()\n",
        "\n",
        "plt.title('ReLU Function')\n",
        "\n",
        "plt.text(1,8,r'$f(x)=(abs(x) * (x>0))$',fontsize=12)\n",
        " \n",
        "plt.show()"
      ],
      "execution_count": 37,
      "outputs": [
        {
          "output_type": "display_data",
          "data": {
            "image/png": "[encoded data removed]",
            "text/plain": [
              "<Figure size 432x288 with 1 Axes>"
            ]
          },
          "metadata": {
            "tags": [],
            "needs_background": "light"
          }
        }
      ]
    }
  ]
}