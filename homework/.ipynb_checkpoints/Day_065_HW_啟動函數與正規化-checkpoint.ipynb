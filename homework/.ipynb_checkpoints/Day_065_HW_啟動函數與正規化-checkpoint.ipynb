{
 "cells": [
  {
   "cell_type": "markdown",
   "metadata": {},
   "source": [
    "# 作業\n",
    "* 選擇分類資料集(右下)-螺旋雙臂 - 交錯六群，限定特徵只能使用前兩個，隱藏層 2 層滿 (共 8 * 2 =16 個神經元)，  \n",
    "  遞迴次數只允許跑到500次，但可以自由調整 批次大小、學習速率、啟動函數、正規化選項與參數\n",
    "* 在上述限制下，挑戰看看測試誤差 (Test Loss) 最低能到多少? 請回答你的上述幾項參數與 Test Loss 數"
   ]
  },
  {
   "cell_type": "markdown",
   "metadata": {
    "collapsed": true
   },
   "source": []
  },
  {
   "cell_type": "markdown",
   "metadata": {
    "collapsed": true
   },
   "source": [
    "# Trail 1\n",
    "Learning rate: 0.001\n",
    "Activation: ReLU\n",
    "Regularization: None\n",
    "Regularization rate: None\n",
    "Batch size:10\n",
    "epochs:506\n",
    "Test Loss:0.476\n",
    "Training Loss:0.470\n",
    "\n",
    "# Trail 2\n",
    "Learning rate: 0.001\n",
    "Activation: Tanh\n",
    "Regularization: None\n",
    "Regularization rate: None\n",
    "Batch size:10\n",
    "epochs:505\n",
    "Test Loss:0.475\n",
    "Training Loss:0.483\n",
    "\n",
    "# Trail 3\n",
    "Learning rate: 0.001\n",
    "Activation: Sigmoid\n",
    "Regularization: None\n",
    "Regularization rate: None\n",
    "Batch size:10\n",
    "epochs:508\n",
    "Test Loss:0.504\n",
    "Training Loss:0.500\n",
    "\n",
    "# Trail 4\n",
    "Learning rate: 0.01\n",
    "Activation: ReLU\n",
    "Regularization: None\n",
    "Regularization rate: None\n",
    "Batch size:10\n",
    "epochs:512\n",
    "Test Loss:0.320\n",
    "Training Loss:0.282\n",
    "\n",
    "# Trail 5\n",
    "Learning rate: 0.03\n",
    "Activation: ReLU\n",
    "Regularization: None\n",
    "Regularization rate: None\n",
    "Batch size:10\n",
    "epochs:507\n",
    "Test Loss:0.097\n",
    "Training Loss:0.027\n",
    "\n",
    "# Trail 6\n",
    "Learning rate: 0.1\n",
    "Activation: ReLU\n",
    "Regularization: None\n",
    "Regularization rate: None\n",
    "Batch size:10\n",
    "epochs:507\n",
    "Test Loss:0.015\n",
    "Training Loss:0.004\n",
    "\n"
   ]
  }
 ],
 "metadata": {
  "kernelspec": {
   "display_name": "Python 3",
   "language": "python",
   "name": "python3"
  },
  "language_info": {
   "codemirror_mode": {
    "name": "ipython",
    "version": 3
   },
   "file_extension": ".py",
   "mimetype": "text/x-python",
   "name": "python",
   "nbconvert_exporter": "python",
   "pygments_lexer": "ipython3",
   "version": "3.7.4"
  }
 },
 "nbformat": 4,
 "nbformat_minor": 2
}
