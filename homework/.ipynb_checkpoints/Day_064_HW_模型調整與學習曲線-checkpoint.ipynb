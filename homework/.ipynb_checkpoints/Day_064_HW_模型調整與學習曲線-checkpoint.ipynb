{
 "cells": [
  {
   "cell_type": "markdown",
   "metadata": {},
   "source": [
    "# 作業\n",
    "* 選擇迴歸資料集(右) - 交錯六群，在其他參數保持預設值的情況下，只允許調整隱藏層層數與神經元數量，且遵守下列限制   \n",
    "> * 隱藏層神經元總數最多 8 個 (即 : 可以單層 8 個，或兩層 5 個與 3 個)   \n",
    "> * 遞迴次數只允許跑到500次  \n",
    "* 在上述限制下，挑戰看看測試誤差 (Test Loss) 最低能到多少? 請回答你的神經元參數與 Test Loss 數"
   ]
  },
  {
   "cell_type": "markdown",
   "metadata": {
    "collapsed": true
   },
   "source": []
  },
  {
   "cell_type": "markdown",
   "metadata": {},
   "source": [
    "# Trail 1 \n",
    "hidden layers:3\n",
    "neurons:4+3+1=8\n",
    "epochs:517\n",
    "Test Loss: 0.021\n",
    "Training Loss: 0.016\n",
    "\n",
    "# Trail 2\n",
    "hidden layers:2\n",
    "neurons:4+3=7\n",
    "epochs:509\n",
    "Test Loss: 0.021\n",
    "Training Loss: 0.016\n",
    "\n",
    "# Trail 3\n",
    "hidden layers:3\n",
    "neurons:4+3+1=8\n",
    "epochs:517\n",
    "Test Loss: 0.021\n",
    "Training Loss: 0.016\n",
    "\n",
    "# Trail 4 \n",
    "hidden layers:2\n",
    "neurons:5+2=7\n",
    "epochs:514\n",
    "Test Loss: 0.017\n",
    "Training Loss: 0.014\n",
    "\n",
    "# Trail 5 \n",
    "hidden layers:2\n",
    "neurons:5+3=8\n",
    "epochs:506\n",
    "Test Loss: 0.019\n",
    "Training Loss: 0.015\n",
    "\n",
    "# Trail 6 \n",
    "hidden layers:3\n",
    "neurons:3+3+2=8\n",
    "epochs:508\n",
    "Test Loss: 0.017\n",
    "Training Loss: 0.014\n",
    "\n",
    "# Trail 7 \n",
    "hidden layers:3\n",
    "neurons:5+2+1=8\n",
    "epochs:505\n",
    "Test Loss: 0.016\n",
    "Training Loss: 0.013\n",
    "\n",
    "# Trail 8\n",
    "hidden layers:2\n",
    "neurons:6+2=8\n",
    "epochs:513\n",
    "Test Loss: 0.013\n",
    "Training Loss: 0.010\n",
    "\n",
    "\n",
    "\n",
    "使用2層隱藏層搭配6+2個神經元，可以達到最低的測試誤差0.013"
   ]
  }
 ],
 "metadata": {
  "kernelspec": {
   "display_name": "Python 3",
   "language": "python",
   "name": "python3"
  },
  "language_info": {
   "codemirror_mode": {
    "name": "ipython",
    "version": 3
   },
   "file_extension": ".py",
   "mimetype": "text/x-python",
   "name": "python",
   "nbconvert_exporter": "python",
   "pygments_lexer": "ipython3",
   "version": "3.7.4"
  }
 },
 "nbformat": 4,
 "nbformat_minor": 2
}
