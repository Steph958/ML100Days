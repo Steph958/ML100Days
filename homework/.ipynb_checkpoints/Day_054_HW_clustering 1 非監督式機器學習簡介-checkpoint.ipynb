{
 "cells": [
  {
   "cell_type": "markdown",
   "metadata": {},
   "source": [
    "# 作業\n",
    "* 試著想想看, 非監督學習是否有可能使用評價函數 (Metric) 來鑑別好壞呢?  \n",
    "(Hint : 可以分為 \"有目標值\" 與 \"無目標值\" 兩個方向思考)\n",
    "\n",
    "Unsupervised Learning: Introduction:\n",
    "\n",
    "https://sakura-gh.github.io/ML-notes/ML-notes-html/16_Unsupervised-Learning-Introduction.html\n",
    "\n",
    "Unsupervised Learning: PCA\n",
    "\n",
    "https://sakura-gh.github.io/ML-notes/ML-notes-html/17_Unsupervised-Learning-PCA-part1.html\n",
    "\n",
    "https://sakura-gh.github.io/ML-notes/ML-notes-html/18_Unsupervised-Learning-PCA-part2.html"
   ]
  },
  {
   "cell_type": "markdown",
   "metadata": {
    "collapsed": true
   },
   "source": [
    "在非監督式學習中，是無法透過評價函數來鑑別好壞的"
   ]
  }
 ],
 "metadata": {
  "kernelspec": {
   "display_name": "Python 3",
   "language": "python",
   "name": "python3"
  },
  "language_info": {
   "codemirror_mode": {
    "name": "ipython",
    "version": 3
   },
   "file_extension": ".py",
   "mimetype": "text/x-python",
   "name": "python",
   "nbconvert_exporter": "python",
   "pygments_lexer": "ipython3",
   "version": "3.7.4"
  }
 },
 "nbformat": 4,
 "nbformat_minor": 1
}
