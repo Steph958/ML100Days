{
 "cells": [
  {
   "cell_type": "markdown",
   "metadata": {},
   "source": [
    "# 作業\n",
    "* 在精簡深度學習的方式上 : 卷積類神經 (CNN) 採用像素遠近，而遞歸類神經 (RNN) 採用著則是時間遠近\n",
    "* 那麼，既然有著類似的設計精神，兩者是否有可能互換應用呢?"
   ]
  },
  {
   "cell_type": "markdown",
   "metadata": {
    "collapsed": true
   },
   "source": [
    "雖然維度並不相同 (圖像-2維, 時序問題-1維)，但實務上，兩者確實是存在互換空間的\n",
    "\n",
    "時序問題使用CNN\n",
    "\n",
    "CNN 既然可以採用 2 維的卷積方式，當然也存在對應的 1 維卷積 (稱為 1d-CNN) 但是 1d-CNN 就不適合再拿去做 2 維的圖像辨識了，而是專注抓取序列中重複出現的關鍵片段 常與進階版的 RNN-長短期記憶網路(LSTM) 搭配使用，用來預測股市等時序型問題\n",
    "\n",
    "圖像類問題使用RNN\n",
    "\n",
    "如果影像某個軸向有連續的現象，則RNN也可以處理這類較狹義的圖像問題"
   ]
  },
  {
   "cell_type": "markdown",
   "metadata": {},
   "source": [
    "# Supplement:\n",
    "\n",
    "事實上，各種神經網路在實際應用中經常都是混合搭配使用，例如CNN和RNN在上層輸出之前都會接上全連接層，很難說某個神經網路到底屬於哪一種類別；隨著深度學習的延續發展，可以想見有更多、更靈活的組合方式與神經網路結構還會被開發出來\n",
    "\n",
    "一文读懂 CNN、DNN、RNN 内部网络结构区别:\n",
    "https://www.leiphone.com/news/201702/ZwcjmiJ45aW27ULB.html\n",
    "\n",
    "CNN與RNN比較與組合:\n",
    "https://kknews.cc/zh-tw/code/p9exoyz.html\n"
   ]
  }
 ],
 "metadata": {
  "kernelspec": {
   "display_name": "Python 3",
   "language": "python",
   "name": "python3"
  },
  "language_info": {
   "codemirror_mode": {
    "name": "ipython",
    "version": 3
   },
   "file_extension": ".py",
   "mimetype": "text/x-python",
   "name": "python",
   "nbconvert_exporter": "python",
   "pygments_lexer": "ipython3",
   "version": "3.7.4"
  }
 },
 "nbformat": 4,
 "nbformat_minor": 2
}
