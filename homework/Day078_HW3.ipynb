{
  "nbformat": 4,
  "nbformat_minor": 0,
  "metadata": {
    "kernelspec": {
      "display_name": "Python 3",
      "language": "python",
      "name": "python3"
    },
    "language_info": {
      "codemirror_mode": {
        "name": "ipython",
        "version": 3
      },
      "file_extension": ".py",
      "mimetype": "text/x-python",
      "name": "python",
      "nbconvert_exporter": "python",
      "pygments_lexer": "ipython3",
      "version": "3.6.5"
    },
    "colab": {
      "name": "Day078_HW2.ipynb",
      "provenance": [],
      "collapsed_sections": []
    }
  },
  "cells": [
    {
      "cell_type": "markdown",
      "metadata": {
        "id": "FKFwpQzCqdRK"
      },
      "source": [
        "## Work\n",
        "1. 請嘗試將 preproc_x 替換成以每筆資料的 min/max 進行標準化至 -1 ~ 1 間，再進行訓練\n",
        "2. 請嘗試將 mlp 疊更深 (e.g 5~10 層)，進行訓練後觀察 learning curve 的走勢\n",
        "3. (optional) 請改用 GPU 進行訓練 (如果你有 GPU 的話)，比較使用 CPU 與 GPU 的訓練速度"
      ]
    },
    {
      "cell_type": "code",
      "metadata": {
        "id": "KBiOxXkbqdRO"
      },
      "source": [
        "## 確認硬體資源 (如果你是在 Linux)\n",
        "#!nvidia-smi\n",
        "\n",
        "# 若是在 Windows, 請參考 https://blog.csdn.net/idwtwt/article/details/78017565)\n",
        "\n",
        "#或直接在命令提示字元中察看:\n",
        "#nvidia-smi\n",
        "#nvidia-smi.exe -h\n",
        "\n"
      ],
      "execution_count": 7,
      "outputs": []
    },
    {
      "cell_type": "code",
      "metadata": {
        "id": "OlyMcY08qdRR"
      },
      "source": [
        "import os\n",
        "import keras\n",
        "\n",
        "# 請嘗試設定 GPU：os.environ\n",
        "os.environ[\"CUDA_VISIBLE_DEVICES\"] = \"1\""
      ],
      "execution_count": 26,
      "outputs": []
    },
    {
      "cell_type": "code",
      "metadata": {
        "id": "SWp4PkdjqdRT",
        "outputId": "a8fd6b53-52c4-4436-d51a-0e97a85fd6f2",
        "colab": {
          "base_uri": "https://localhost:8080/"
        }
      },
      "source": [
        "train, test = keras.datasets.cifar10.load_data()"
      ],
      "execution_count": 9,
      "outputs": [
        {
          "output_type": "stream",
          "text": [
            "Downloading data from https://www.cs.toronto.edu/~kriz/cifar-10-python.tar.gz\n",
            "170500096/170498071 [==============================] - 11s 0us/step\n"
          ],
          "name": "stdout"
        }
      ]
    },
    {
      "cell_type": "code",
      "metadata": {
        "id": "Pf6S3OwVqdRW"
      },
      "source": [
        "## 資料前處理\n",
        "## 每筆資料的 min/max 進行標準化至 -1 ~ 1 \n",
        "\"\"\"\n",
        "Your code here\n",
        "\"\"\"\n",
        "def preproc_x(x, flatten=True):\n",
        "\n",
        "    x = 2*(((x - x.min()) / (x.max() - x.min()))-0.5) \n",
        "  # 舉例來說，最大值100、最小值0時，標準化尺寸縮小至-1~1，即將本來的全距100縮至2\n",
        "  # 原本的值若為54，即本來與最小值的差距為54，今天縮至本來全距的0.02倍，此差距就變成了54*0.02=1.08\n",
        "  # 故新的值就是-1+1.08=0.08\n",
        "  # 寫成公式: -1 + (x - x.min()) * ((1 - (-1)) / (x.max() - x.min()))\n",
        "  # 對照公式: -1 + (54-0)*(2/(100-0))= (-1)+54*0.02=0.08\n",
        "  \n",
        "    if flatten:\n",
        "        x = x.reshape((len(x), -1))\n",
        "    return x\n",
        "\n",
        "def preproc_y(y, num_classes=10):\n",
        "    if y.shape[-1] == 1:\n",
        "        y = keras.utils.to_categorical(y, num_classes)\n",
        "    return y "
      ],
      "execution_count": 27,
      "outputs": []
    },
    {
      "cell_type": "code",
      "metadata": {
        "id": "H32GWrkjqdRY"
      },
      "source": [
        "x_train, y_train = train\n",
        "x_test, y_test = test\n",
        "\n",
        "# Preproc the inputs\n",
        "x_train = preproc_x(x_train)\n",
        "x_test = preproc_x(x_test)\n",
        "\n",
        "# Preprc the outputs\n",
        "y_train = preproc_y(y_train)\n",
        "y_test = preproc_y(y_test)"
      ],
      "execution_count": 28,
      "outputs": []
    },
    {
      "cell_type": "code",
      "metadata": {
        "id": "zir77YUJqdRb"
      },
      "source": [
        "\"\"\"Code Here\n",
        "建立你的神經網路\n",
        "\"\"\"\n",
        "def build_mlp(input_shape, output_units=10, num_neurons=[512, 256, 256, 128,128, 64, 64, 32]): \n",
        "  #第一層隱藏層有512個神經元、第二層有256個、第三層有256個......\n",
        "    \n",
        "    input_layer = keras.layers.Input(input_shape)\n",
        "    \n",
        "    for i, n_units in enumerate(num_neurons): #設定隱藏層\n",
        "        if i == 0:\n",
        "            x = keras.layers.Dense(units=n_units, activation=\"relu\", name=\"hidden_layer\"+str(i+1))(input_layer)#第一層\n",
        "        else:\n",
        "            x = keras.layers.Dense(units=n_units, activation=\"relu\", name=\"hidden_layer\"+str(i+1))(x) #第二層、第三層....\n",
        "    \n",
        "    out = keras.layers.Dense(units=output_units, activation=\"softmax\", name=\"output\")(x)\n",
        "    \n",
        "    model = keras.Model(inputs=[input_layer], outputs=[out])\n",
        "    \n",
        "    return model\n"
      ],
      "execution_count": 29,
      "outputs": []
    },
    {
      "cell_type": "code",
      "metadata": {
        "id": "M8HF1DTNuWpf",
        "outputId": "96253672-1f8b-43c4-a73c-1c3bfc69462a",
        "colab": {
          "base_uri": "https://localhost:8080/"
        }
      },
      "source": [
        "print(x_train.shape)\n",
        "print(x_train.shape[1:])"
      ],
      "execution_count": 30,
      "outputs": [
        {
          "output_type": "stream",
          "text": [
            "(50000, 3072)\n",
            "(3072,)\n"
          ],
          "name": "stdout"
        }
      ]
    },
    {
      "cell_type": "code",
      "metadata": {
        "id": "wLXjE0jstexC",
        "outputId": "e72e80a2-036d-437e-e644-ca6b7fe7e3b9",
        "colab": {
          "base_uri": "https://localhost:8080/"
        }
      },
      "source": [
        "model = build_mlp(input_shape=x_train.shape[1:])\n",
        "model.summary()"
      ],
      "execution_count": 31,
      "outputs": [
        {
          "output_type": "stream",
          "text": [
            "Model: \"functional_5\"\n",
            "_________________________________________________________________\n",
            "Layer (type)                 Output Shape              Param #   \n",
            "=================================================================\n",
            "input_3 (InputLayer)         [(None, 3072)]            0         \n",
            "_________________________________________________________________\n",
            "hidden_layer1 (Dense)        (None, 512)               1573376   \n",
            "_________________________________________________________________\n",
            "hidden_layer2 (Dense)        (None, 256)               131328    \n",
            "_________________________________________________________________\n",
            "hidden_layer3 (Dense)        (None, 256)               65792     \n",
            "_________________________________________________________________\n",
            "hidden_layer4 (Dense)        (None, 128)               32896     \n",
            "_________________________________________________________________\n",
            "hidden_layer5 (Dense)        (None, 128)               16512     \n",
            "_________________________________________________________________\n",
            "hidden_layer6 (Dense)        (None, 64)                8256      \n",
            "_________________________________________________________________\n",
            "hidden_layer7 (Dense)        (None, 64)                4160      \n",
            "_________________________________________________________________\n",
            "hidden_layer8 (Dense)        (None, 32)                2080      \n",
            "_________________________________________________________________\n",
            "output (Dense)               (None, 10)                330       \n",
            "=================================================================\n",
            "Total params: 1,834,730\n",
            "Trainable params: 1,834,730\n",
            "Non-trainable params: 0\n",
            "_________________________________________________________________\n"
          ],
          "name": "stdout"
        }
      ]
    },
    {
      "cell_type": "code",
      "metadata": {
        "id": "pSjkR1lpqdRd"
      },
      "source": [
        "## 超參數設定\n",
        "LEARNING_RATE = 0.001\n",
        "EPOCHS = 100\n",
        "BATCH_SIZE = 256"
      ],
      "execution_count": 32,
      "outputs": []
    },
    {
      "cell_type": "code",
      "metadata": {
        "id": "w2-cQrICqdRm"
      },
      "source": [
        "optimizer = keras.optimizers.Adam(lr=LEARNING_RATE)\n",
        "model.compile(loss=\"categorical_crossentropy\", metrics=[\"accuracy\"], optimizer=optimizer)"
      ],
      "execution_count": 33,
      "outputs": []
    },
    {
      "cell_type": "code",
      "metadata": {
        "id": "DSde7WtbqdRq",
        "outputId": "7e0fcfb5-2b32-4801-8378-89e09cdaaa59",
        "colab": {
          "base_uri": "https://localhost:8080/"
        }
      },
      "source": [
        "model.fit(x_train, y_train, \n",
        "          epochs=EPOCHS, \n",
        "          batch_size=BATCH_SIZE, \n",
        "          validation_data=(x_test, y_test), \n",
        "          shuffle=True)"
      ],
      "execution_count": 34,
      "outputs": [
        {
          "output_type": "stream",
          "text": [
            "Epoch 1/100\n",
            "196/196 [==============================] - 10s 53ms/step - loss: 1.7881 - accuracy: 0.3647 - val_loss: 1.5871 - val_accuracy: 0.4382\n",
            "Epoch 2/100\n",
            "196/196 [==============================] - 10s 51ms/step - loss: 1.5199 - accuracy: 0.4634 - val_loss: 1.4586 - val_accuracy: 0.4906\n",
            "Epoch 3/100\n",
            "196/196 [==============================] - 10s 52ms/step - loss: 1.3994 - accuracy: 0.5070 - val_loss: 1.4189 - val_accuracy: 0.4975\n",
            "Epoch 4/100\n",
            "196/196 [==============================] - 10s 53ms/step - loss: 1.2986 - accuracy: 0.5435 - val_loss: 1.3818 - val_accuracy: 0.5165\n",
            "Epoch 5/100\n",
            "196/196 [==============================] - 10s 51ms/step - loss: 1.2168 - accuracy: 0.5735 - val_loss: 1.3766 - val_accuracy: 0.5133\n",
            "Epoch 6/100\n",
            "196/196 [==============================] - 10s 51ms/step - loss: 1.1373 - accuracy: 0.6009 - val_loss: 1.3460 - val_accuracy: 0.5331\n",
            "Epoch 7/100\n",
            "196/196 [==============================] - 10s 52ms/step - loss: 1.0667 - accuracy: 0.6241 - val_loss: 1.3782 - val_accuracy: 0.5244\n",
            "Epoch 8/100\n",
            "196/196 [==============================] - 10s 50ms/step - loss: 0.9914 - accuracy: 0.6498 - val_loss: 1.3621 - val_accuracy: 0.5337\n",
            "Epoch 9/100\n",
            "196/196 [==============================] - 10s 50ms/step - loss: 0.9234 - accuracy: 0.6721 - val_loss: 1.4359 - val_accuracy: 0.5317\n",
            "Epoch 10/100\n",
            "196/196 [==============================] - 10s 51ms/step - loss: 0.8473 - accuracy: 0.6988 - val_loss: 1.4004 - val_accuracy: 0.5367\n",
            "Epoch 11/100\n",
            "196/196 [==============================] - 10s 51ms/step - loss: 0.7907 - accuracy: 0.7184 - val_loss: 1.4985 - val_accuracy: 0.5319\n",
            "Epoch 12/100\n",
            "196/196 [==============================] - 10s 51ms/step - loss: 0.7225 - accuracy: 0.7454 - val_loss: 1.5317 - val_accuracy: 0.5338\n",
            "Epoch 13/100\n",
            "196/196 [==============================] - 10s 51ms/step - loss: 0.6621 - accuracy: 0.7669 - val_loss: 1.6579 - val_accuracy: 0.5323\n",
            "Epoch 14/100\n",
            "196/196 [==============================] - 10s 51ms/step - loss: 0.6283 - accuracy: 0.7785 - val_loss: 1.6553 - val_accuracy: 0.5267\n",
            "Epoch 15/100\n",
            "196/196 [==============================] - 10s 52ms/step - loss: 0.5729 - accuracy: 0.7972 - val_loss: 1.7279 - val_accuracy: 0.5303\n",
            "Epoch 16/100\n",
            "196/196 [==============================] - 11s 56ms/step - loss: 0.5251 - accuracy: 0.8150 - val_loss: 1.9296 - val_accuracy: 0.5252\n",
            "Epoch 17/100\n",
            "196/196 [==============================] - 10s 51ms/step - loss: 0.4825 - accuracy: 0.8299 - val_loss: 1.8657 - val_accuracy: 0.5434\n",
            "Epoch 18/100\n",
            "196/196 [==============================] - 10s 51ms/step - loss: 0.4524 - accuracy: 0.8413 - val_loss: 1.9233 - val_accuracy: 0.5293\n",
            "Epoch 19/100\n",
            "196/196 [==============================] - 10s 52ms/step - loss: 0.4083 - accuracy: 0.8573 - val_loss: 2.0933 - val_accuracy: 0.5350\n",
            "Epoch 20/100\n",
            "196/196 [==============================] - 10s 51ms/step - loss: 0.3753 - accuracy: 0.8674 - val_loss: 2.1069 - val_accuracy: 0.5249\n",
            "Epoch 21/100\n",
            "196/196 [==============================] - 11s 54ms/step - loss: 0.3527 - accuracy: 0.8782 - val_loss: 2.1399 - val_accuracy: 0.5270\n",
            "Epoch 22/100\n",
            "196/196 [==============================] - 11s 55ms/step - loss: 0.3305 - accuracy: 0.8857 - val_loss: 2.3274 - val_accuracy: 0.5309\n",
            "Epoch 23/100\n",
            "196/196 [==============================] - 10s 51ms/step - loss: 0.3068 - accuracy: 0.8924 - val_loss: 2.3203 - val_accuracy: 0.5228\n",
            "Epoch 24/100\n",
            "196/196 [==============================] - 10s 51ms/step - loss: 0.2891 - accuracy: 0.9001 - val_loss: 2.3160 - val_accuracy: 0.5480\n",
            "Epoch 25/100\n",
            "196/196 [==============================] - 10s 52ms/step - loss: 0.2830 - accuracy: 0.9022 - val_loss: 2.4995 - val_accuracy: 0.5335\n",
            "Epoch 26/100\n",
            "196/196 [==============================] - 10s 51ms/step - loss: 0.2691 - accuracy: 0.9070 - val_loss: 2.4846 - val_accuracy: 0.5297\n",
            "Epoch 27/100\n",
            "196/196 [==============================] - 10s 52ms/step - loss: 0.2400 - accuracy: 0.9173 - val_loss: 2.5088 - val_accuracy: 0.5279\n",
            "Epoch 28/100\n",
            "196/196 [==============================] - 10s 52ms/step - loss: 0.2259 - accuracy: 0.9227 - val_loss: 2.6516 - val_accuracy: 0.5252\n",
            "Epoch 29/100\n",
            "196/196 [==============================] - 10s 52ms/step - loss: 0.2149 - accuracy: 0.9269 - val_loss: 2.6956 - val_accuracy: 0.5291\n",
            "Epoch 30/100\n",
            "196/196 [==============================] - 10s 51ms/step - loss: 0.1990 - accuracy: 0.9319 - val_loss: 2.7872 - val_accuracy: 0.5332\n",
            "Epoch 31/100\n",
            "196/196 [==============================] - 10s 52ms/step - loss: 0.2020 - accuracy: 0.9323 - val_loss: 2.7738 - val_accuracy: 0.5361\n",
            "Epoch 32/100\n",
            "196/196 [==============================] - 10s 51ms/step - loss: 0.1868 - accuracy: 0.9365 - val_loss: 2.8469 - val_accuracy: 0.5364\n",
            "Epoch 33/100\n",
            "196/196 [==============================] - 10s 53ms/step - loss: 0.1827 - accuracy: 0.9372 - val_loss: 3.0248 - val_accuracy: 0.5259\n",
            "Epoch 34/100\n",
            "196/196 [==============================] - 13s 68ms/step - loss: 0.1744 - accuracy: 0.9414 - val_loss: 2.9512 - val_accuracy: 0.5325\n",
            "Epoch 35/100\n",
            "196/196 [==============================] - 10s 52ms/step - loss: 0.1685 - accuracy: 0.9430 - val_loss: 3.0011 - val_accuracy: 0.5344\n",
            "Epoch 36/100\n",
            "196/196 [==============================] - 10s 52ms/step - loss: 0.1600 - accuracy: 0.9465 - val_loss: 2.8513 - val_accuracy: 0.5243\n",
            "Epoch 37/100\n",
            "196/196 [==============================] - 10s 52ms/step - loss: 0.1540 - accuracy: 0.9484 - val_loss: 3.1205 - val_accuracy: 0.5291\n",
            "Epoch 38/100\n",
            "196/196 [==============================] - 10s 53ms/step - loss: 0.1517 - accuracy: 0.9495 - val_loss: 2.9491 - val_accuracy: 0.5258\n",
            "Epoch 39/100\n",
            "196/196 [==============================] - 10s 53ms/step - loss: 0.1551 - accuracy: 0.9481 - val_loss: 2.9625 - val_accuracy: 0.5345\n",
            "Epoch 40/100\n",
            "196/196 [==============================] - 10s 52ms/step - loss: 0.1469 - accuracy: 0.9514 - val_loss: 3.1770 - val_accuracy: 0.5346\n",
            "Epoch 41/100\n",
            "196/196 [==============================] - 10s 53ms/step - loss: 0.1392 - accuracy: 0.9524 - val_loss: 3.0093 - val_accuracy: 0.5231\n",
            "Epoch 42/100\n",
            "196/196 [==============================] - 10s 53ms/step - loss: 0.1442 - accuracy: 0.9518 - val_loss: 2.9985 - val_accuracy: 0.5315\n",
            "Epoch 43/100\n",
            "196/196 [==============================] - 10s 53ms/step - loss: 0.1379 - accuracy: 0.9546 - val_loss: 3.1889 - val_accuracy: 0.5250\n",
            "Epoch 44/100\n",
            "196/196 [==============================] - 10s 51ms/step - loss: 0.1264 - accuracy: 0.9581 - val_loss: 3.1536 - val_accuracy: 0.5291\n",
            "Epoch 45/100\n",
            "196/196 [==============================] - 10s 53ms/step - loss: 0.1325 - accuracy: 0.9563 - val_loss: 3.0776 - val_accuracy: 0.5356\n",
            "Epoch 46/100\n",
            "196/196 [==============================] - 11s 54ms/step - loss: 0.1227 - accuracy: 0.9592 - val_loss: 3.2285 - val_accuracy: 0.5319\n",
            "Epoch 47/100\n",
            "196/196 [==============================] - 10s 52ms/step - loss: 0.1218 - accuracy: 0.9599 - val_loss: 3.2636 - val_accuracy: 0.5304\n",
            "Epoch 48/100\n",
            "196/196 [==============================] - 10s 52ms/step - loss: 0.1161 - accuracy: 0.9619 - val_loss: 3.2668 - val_accuracy: 0.5345\n",
            "Epoch 49/100\n",
            "196/196 [==============================] - 10s 51ms/step - loss: 0.1122 - accuracy: 0.9639 - val_loss: 3.2022 - val_accuracy: 0.5378\n",
            "Epoch 50/100\n",
            "196/196 [==============================] - 10s 51ms/step - loss: 0.1216 - accuracy: 0.9595 - val_loss: 3.1969 - val_accuracy: 0.5389\n",
            "Epoch 51/100\n",
            "196/196 [==============================] - 10s 53ms/step - loss: 0.1184 - accuracy: 0.9602 - val_loss: 3.2507 - val_accuracy: 0.5293\n",
            "Epoch 52/100\n",
            "196/196 [==============================] - 11s 54ms/step - loss: 0.1102 - accuracy: 0.9636 - val_loss: 3.2798 - val_accuracy: 0.5291\n",
            "Epoch 53/100\n",
            "196/196 [==============================] - 11s 54ms/step - loss: 0.1005 - accuracy: 0.9668 - val_loss: 3.4454 - val_accuracy: 0.5241\n",
            "Epoch 54/100\n",
            "196/196 [==============================] - 11s 55ms/step - loss: 0.1021 - accuracy: 0.9667 - val_loss: 3.2940 - val_accuracy: 0.5335\n",
            "Epoch 55/100\n",
            "196/196 [==============================] - 10s 53ms/step - loss: 0.1029 - accuracy: 0.9661 - val_loss: 3.2041 - val_accuracy: 0.5315\n",
            "Epoch 56/100\n",
            "196/196 [==============================] - 10s 54ms/step - loss: 0.1044 - accuracy: 0.9662 - val_loss: 3.2881 - val_accuracy: 0.5216\n",
            "Epoch 57/100\n",
            "196/196 [==============================] - 11s 56ms/step - loss: 0.0916 - accuracy: 0.9708 - val_loss: 3.3033 - val_accuracy: 0.5298\n",
            "Epoch 58/100\n",
            "196/196 [==============================] - 11s 54ms/step - loss: 0.1017 - accuracy: 0.9661 - val_loss: 3.4025 - val_accuracy: 0.5293\n",
            "Epoch 59/100\n",
            "196/196 [==============================] - 11s 54ms/step - loss: 0.0911 - accuracy: 0.9697 - val_loss: 3.5399 - val_accuracy: 0.5322\n",
            "Epoch 60/100\n",
            "196/196 [==============================] - 11s 54ms/step - loss: 0.0978 - accuracy: 0.9683 - val_loss: 3.4830 - val_accuracy: 0.5275\n",
            "Epoch 61/100\n",
            "196/196 [==============================] - 10s 53ms/step - loss: 0.0924 - accuracy: 0.9699 - val_loss: 3.5734 - val_accuracy: 0.5293\n",
            "Epoch 62/100\n",
            "196/196 [==============================] - 11s 54ms/step - loss: 0.0874 - accuracy: 0.9717 - val_loss: 3.1591 - val_accuracy: 0.5252\n",
            "Epoch 63/100\n",
            "196/196 [==============================] - 11s 54ms/step - loss: 0.0909 - accuracy: 0.9709 - val_loss: 3.5487 - val_accuracy: 0.5222\n",
            "Epoch 64/100\n",
            "196/196 [==============================] - 10s 54ms/step - loss: 0.0901 - accuracy: 0.9708 - val_loss: 3.4916 - val_accuracy: 0.5320\n",
            "Epoch 65/100\n",
            "196/196 [==============================] - 11s 54ms/step - loss: 0.0753 - accuracy: 0.9749 - val_loss: 3.5697 - val_accuracy: 0.5354\n",
            "Epoch 66/100\n",
            "196/196 [==============================] - 10s 53ms/step - loss: 0.0976 - accuracy: 0.9691 - val_loss: 3.4252 - val_accuracy: 0.5253\n",
            "Epoch 67/100\n",
            "196/196 [==============================] - 10s 52ms/step - loss: 0.0846 - accuracy: 0.9726 - val_loss: 3.2362 - val_accuracy: 0.5288\n",
            "Epoch 68/100\n",
            "196/196 [==============================] - 10s 52ms/step - loss: 0.0801 - accuracy: 0.9739 - val_loss: 3.3830 - val_accuracy: 0.5333\n",
            "Epoch 69/100\n",
            "196/196 [==============================] - 10s 52ms/step - loss: 0.0786 - accuracy: 0.9746 - val_loss: 3.6714 - val_accuracy: 0.5307\n",
            "Epoch 70/100\n",
            "196/196 [==============================] - 10s 51ms/step - loss: 0.0843 - accuracy: 0.9716 - val_loss: 3.5346 - val_accuracy: 0.5229\n",
            "Epoch 71/100\n",
            "196/196 [==============================] - 10s 52ms/step - loss: 0.0839 - accuracy: 0.9730 - val_loss: 3.5560 - val_accuracy: 0.5310\n",
            "Epoch 72/100\n",
            "196/196 [==============================] - 10s 51ms/step - loss: 0.0748 - accuracy: 0.9759 - val_loss: 3.4019 - val_accuracy: 0.5316\n",
            "Epoch 73/100\n",
            "196/196 [==============================] - 10s 50ms/step - loss: 0.0798 - accuracy: 0.9744 - val_loss: 3.5111 - val_accuracy: 0.5331\n",
            "Epoch 74/100\n",
            "196/196 [==============================] - 10s 51ms/step - loss: 0.0855 - accuracy: 0.9723 - val_loss: 3.4754 - val_accuracy: 0.5347\n",
            "Epoch 75/100\n",
            "196/196 [==============================] - 11s 55ms/step - loss: 0.0815 - accuracy: 0.9741 - val_loss: 3.3070 - val_accuracy: 0.5386\n",
            "Epoch 76/100\n",
            "196/196 [==============================] - 10s 52ms/step - loss: 0.0818 - accuracy: 0.9744 - val_loss: 3.4989 - val_accuracy: 0.5315\n",
            "Epoch 77/100\n",
            "196/196 [==============================] - 10s 53ms/step - loss: 0.0760 - accuracy: 0.9754 - val_loss: 3.6232 - val_accuracy: 0.5372\n",
            "Epoch 78/100\n",
            "196/196 [==============================] - 10s 52ms/step - loss: 0.0775 - accuracy: 0.9758 - val_loss: 3.4328 - val_accuracy: 0.5377\n",
            "Epoch 79/100\n",
            "196/196 [==============================] - 10s 53ms/step - loss: 0.0654 - accuracy: 0.9784 - val_loss: 3.5853 - val_accuracy: 0.5316\n",
            "Epoch 80/100\n",
            "196/196 [==============================] - 10s 53ms/step - loss: 0.0772 - accuracy: 0.9758 - val_loss: 3.2882 - val_accuracy: 0.5257\n",
            "Epoch 81/100\n",
            "196/196 [==============================] - 11s 55ms/step - loss: 0.0761 - accuracy: 0.9768 - val_loss: 3.4654 - val_accuracy: 0.5286\n",
            "Epoch 82/100\n",
            "196/196 [==============================] - 11s 58ms/step - loss: 0.0730 - accuracy: 0.9772 - val_loss: 3.5128 - val_accuracy: 0.5283\n",
            "Epoch 83/100\n",
            "196/196 [==============================] - 11s 55ms/step - loss: 0.0686 - accuracy: 0.9774 - val_loss: 3.5938 - val_accuracy: 0.5304\n",
            "Epoch 84/100\n",
            "196/196 [==============================] - 10s 53ms/step - loss: 0.0663 - accuracy: 0.9785 - val_loss: 3.3935 - val_accuracy: 0.5348\n",
            "Epoch 85/100\n",
            "196/196 [==============================] - 10s 53ms/step - loss: 0.0686 - accuracy: 0.9780 - val_loss: 3.5015 - val_accuracy: 0.5356\n",
            "Epoch 86/100\n",
            "196/196 [==============================] - 10s 52ms/step - loss: 0.0592 - accuracy: 0.9808 - val_loss: 3.6498 - val_accuracy: 0.5326\n",
            "Epoch 87/100\n",
            "196/196 [==============================] - 10s 52ms/step - loss: 0.0751 - accuracy: 0.9756 - val_loss: 3.4373 - val_accuracy: 0.5344\n",
            "Epoch 88/100\n",
            "196/196 [==============================] - 10s 51ms/step - loss: 0.0677 - accuracy: 0.9776 - val_loss: 3.4880 - val_accuracy: 0.5318\n",
            "Epoch 89/100\n",
            "196/196 [==============================] - 10s 52ms/step - loss: 0.0667 - accuracy: 0.9784 - val_loss: 3.4687 - val_accuracy: 0.5339\n",
            "Epoch 90/100\n",
            "196/196 [==============================] - 10s 52ms/step - loss: 0.0559 - accuracy: 0.9828 - val_loss: 3.5161 - val_accuracy: 0.5270\n",
            "Epoch 91/100\n",
            "196/196 [==============================] - 10s 51ms/step - loss: 0.0706 - accuracy: 0.9777 - val_loss: 3.3956 - val_accuracy: 0.5262\n",
            "Epoch 92/100\n",
            "196/196 [==============================] - 11s 55ms/step - loss: 0.0669 - accuracy: 0.9781 - val_loss: 3.4714 - val_accuracy: 0.5292\n",
            "Epoch 93/100\n",
            "196/196 [==============================] - 12s 62ms/step - loss: 0.0598 - accuracy: 0.9806 - val_loss: 3.6747 - val_accuracy: 0.5318\n",
            "Epoch 94/100\n",
            "196/196 [==============================] - 10s 51ms/step - loss: 0.0663 - accuracy: 0.9788 - val_loss: 3.5487 - val_accuracy: 0.5323\n",
            "Epoch 95/100\n",
            "196/196 [==============================] - 10s 51ms/step - loss: 0.0631 - accuracy: 0.9797 - val_loss: 3.4424 - val_accuracy: 0.5325\n",
            "Epoch 96/100\n",
            "196/196 [==============================] - 10s 51ms/step - loss: 0.0598 - accuracy: 0.9813 - val_loss: 3.2333 - val_accuracy: 0.5345\n",
            "Epoch 97/100\n",
            "196/196 [==============================] - 10s 53ms/step - loss: 0.0594 - accuracy: 0.9819 - val_loss: 3.7171 - val_accuracy: 0.5305\n",
            "Epoch 98/100\n",
            "196/196 [==============================] - 10s 53ms/step - loss: 0.0697 - accuracy: 0.9778 - val_loss: 3.3539 - val_accuracy: 0.5365\n",
            "Epoch 99/100\n",
            "196/196 [==============================] - 10s 51ms/step - loss: 0.0540 - accuracy: 0.9836 - val_loss: 3.3920 - val_accuracy: 0.5293\n",
            "Epoch 100/100\n",
            "196/196 [==============================] - 10s 51ms/step - loss: 0.0524 - accuracy: 0.9838 - val_loss: 3.6851 - val_accuracy: 0.5308\n"
          ],
          "name": "stdout"
        },
        {
          "output_type": "execute_result",
          "data": {
            "text/plain": [
              "<tensorflow.python.keras.callbacks.History at 0x7f705f528eb8>"
            ]
          },
          "metadata": {
            "tags": []
          },
          "execution_count": 34
        }
      ]
    },
    {
      "cell_type": "code",
      "metadata": {
        "id": "aLA8ybZtqdRs",
        "outputId": "c9715b5a-5cf9-4fe8-e817-4b7978be5986",
        "colab": {
          "base_uri": "https://localhost:8080/",
          "height": 545
        }
      },
      "source": [
        "import matplotlib.pyplot as plt\n",
        "\n",
        "\n",
        "train_loss = model.history.history[\"loss\"]\n",
        "valid_loss = model.history.history[\"val_loss\"]\n",
        "\n",
        "train_acc = model.history.history[\"accuracy\"]\n",
        "valid_acc = model.history.history[\"val_accuracy\"]\n",
        "\n",
        "plt.plot(range(len(train_loss)), train_loss, label=\"train loss\")\n",
        "plt.plot(range(len(valid_loss)), valid_loss, label=\"valid loss\")\n",
        "plt.legend()\n",
        "plt.title(\"Loss\")\n",
        "plt.show()\n",
        "\n",
        "plt.plot(range(len(train_acc)), train_acc, label=\"train accuracy\")\n",
        "plt.plot(range(len(valid_acc)), valid_acc, label=\"valid accuracy\")\n",
        "plt.legend()\n",
        "plt.title(\"Accuracy\")\n",
        "plt.show()"
      ],
      "execution_count": 35,
      "outputs": [
        {
          "output_type": "display_data",
          "data": {
            "image/png": "[encoded data removed]",
            "text/plain": [
              "<Figure size 432x288 with 1 Axes>"
            ]
          },
          "metadata": {
            "tags": [],
            "needs_background": "light"
          }
        },
        {
          "output_type": "display_data",
          "data": {
            "image/png": "[encoded data removed]",
            "text/plain": [
              "<Figure size 432x288 with 1 Axes>"
            ]
          },
          "metadata": {
            "tags": [],
            "needs_background": "light"
          }
        }
      ]
    }
  ]
}