{
  "nbformat": 4,
  "nbformat_minor": 0,
  "metadata": {
    "kernelspec": {
      "display_name": "Python 3",
      "language": "python",
      "name": "python3"
    },
    "language_info": {
      "codemirror_mode": {
        "name": "ipython",
        "version": 3
      },
      "file_extension": ".py",
      "mimetype": "text/x-python",
      "name": "python",
      "nbconvert_exporter": "python",
      "pygments_lexer": "ipython3",
      "version": "3.6.2"
    },
    "colab": {
      "name": "Day097_Keras_CNN_vs_DNN_HW2.ipynb",
      "provenance": [],
      "collapsed_sections": []
    }
  },
  "cells": [
    {
      "cell_type": "code",
      "metadata": {
        "id": "1o_qI2GdfMfA"
      },
      "source": [
        "import keras\n",
        "from keras.datasets import cifar10\n",
        "from keras.preprocessing.image import ImageDataGenerator\n",
        "from keras.models import Sequential\n",
        "from keras.layers import Dense, Dropout, Activation, Flatten\n",
        "from keras.layers import Conv2D, MaxPooling2D\n",
        "from keras.optimizers import RMSprop, Adam\n",
        "import os"
      ],
      "execution_count": null,
      "outputs": []
    },
    {
      "cell_type": "markdown",
      "metadata": {
        "id": "XxIxiBTcjQmJ"
      },
      "source": [
        "# 先做模型訓練的基本設定:"
      ]
    },
    {
      "cell_type": "code",
      "metadata": {
        "colab": {
          "base_uri": "https://localhost:8080/"
        },
        "id": "Z8BrPoLYfMfD",
        "outputId": "2d5bcfec-e205-4804-e3cb-6e36d6f59ca1"
      },
      "source": [
        "batch_size = 128 # batch 的大小，如果出現 OOM error，請降低這個值\n",
        "num_classes = 10 # 類別的數量，Cifar 10 共有 10 個類別\n",
        "epochs = 10 # 訓練的 epochs 數量\n",
        "\n",
        "# 讀取資料並檢視\n",
        "(x_train, y_train), (x_test, y_test) = cifar10.load_data()\n",
        "print('x_train shape:', x_train.shape)\n",
        "print(x_train.shape[0], 'train samples')\n",
        "print(x_test.shape[0], 'test samples')"
      ],
      "execution_count": null,
      "outputs": [
        {
          "output_type": "stream",
          "text": [
            "x_train shape: (50000, 32, 32, 3)\n",
            "50000 train samples\n",
            "10000 test samples\n"
          ],
          "name": "stdout"
        }
      ]
    },
    {
      "cell_type": "code",
      "metadata": {
        "id": "H_8EmjAkh3Sz"
      },
      "source": [
        "#print(x_train)\n",
        "#print(y_train)\n",
        "#print(x_test)\n",
        "#print(y_test)"
      ],
      "execution_count": null,
      "outputs": []
    },
    {
      "cell_type": "code",
      "metadata": {
        "colab": {
          "base_uri": "https://localhost:8080/"
        },
        "id": "01H5ZYg8hsbd",
        "outputId": "f7a63e1f-5d34-4da0-8ac4-5cc2a4fcc4c8"
      },
      "source": [
        "# 對 label 進行 one-hot encoding (y_trian 原本是純數字)\n",
        "y_train = keras.utils.to_categorical(y_train, num_classes)\n",
        "y_test = keras.utils.to_categorical(y_test, num_classes)\n",
        "\n",
        "print(y_train)\n",
        "print(y_test)"
      ],
      "execution_count": null,
      "outputs": [
        {
          "output_type": "stream",
          "text": [
            "[[0. 0. 0. ... 0. 0. 0.]\n",
            " [0. 0. 0. ... 0. 0. 1.]\n",
            " [0. 0. 0. ... 0. 0. 1.]\n",
            " ...\n",
            " [0. 0. 0. ... 0. 0. 1.]\n",
            " [0. 1. 0. ... 0. 0. 0.]\n",
            " [0. 1. 0. ... 0. 0. 0.]]\n",
            "[[0. 0. 0. ... 0. 0. 0.]\n",
            " [0. 0. 0. ... 0. 1. 0.]\n",
            " [0. 0. 0. ... 0. 1. 0.]\n",
            " ...\n",
            " [0. 0. 0. ... 0. 0. 0.]\n",
            " [0. 1. 0. ... 0. 0. 0.]\n",
            " [0. 0. 0. ... 1. 0. 0.]]\n"
          ],
          "name": "stdout"
        }
      ]
    },
    {
      "cell_type": "markdown",
      "metadata": {
        "id": "EI4L2XRGfMfD"
      },
      "source": [
        "## 首先我們使用一般的 DNN (MLP) 來訓練\n",
        "由於 DNN 只能輸入一維的資料，我們要先將影像進行攤平，若 (50000, 32, 32, 3) 的影像，攤平後會變成 (50000, 32 x 32 x \n",
        "3) = (50000, 3072)"
      ]
    },
    {
      "cell_type": "code",
      "metadata": {
        "colab": {
          "base_uri": "https://localhost:8080/"
        },
        "id": "lvM8br4sfMfD",
        "outputId": "b38e4dc7-278b-47be-f958-7b2763e2e144"
      },
      "source": [
        "# 將資料攤平成一維資料\n",
        "x_train = x_train.reshape(50000, 3072) \n",
        "x_test = x_test.reshape(10000, 3072)\n",
        "\n",
        "# 將資料變為 float32 並標準化\n",
        "x_train = x_train.astype('float32')\n",
        "x_test = x_test.astype('float32')\n",
        "x_train /= 255\n",
        "x_test /= 255\n",
        "print(x_train.shape[0], 'train samples')\n",
        "print(x_test.shape[0], 'test samples')\n",
        "print(x_train.shape)\n",
        "print(x_test.shape)"
      ],
      "execution_count": null,
      "outputs": [
        {
          "output_type": "stream",
          "text": [
            "50000 train samples\n",
            "10000 test samples\n",
            "(50000, 3072)\n",
            "(10000, 3072)\n"
          ],
          "name": "stdout"
        }
      ]
    },
    {
      "cell_type": "markdown",
      "metadata": {
        "id": "0SsxsjwvjDFz"
      },
      "source": [
        "# 建立模型:"
      ]
    },
    {
      "cell_type": "code",
      "metadata": {
        "colab": {
          "base_uri": "https://localhost:8080/"
        },
        "id": "lReVCCX5fMfD",
        "outputId": "1feca11c-d1ac-4e8b-cb4f-215d70e6d951"
      },
      "source": [
        "model = Sequential()\n",
        "\n",
        "model.add(Dense(512, activation='relu', input_shape=(3072,)))\n",
        "model.add(Dropout(0.2))\n",
        "model.add(Dense(512, activation='relu'))\n",
        "model.add(Dropout(0.2))\n",
        "model.add(Dense(num_classes, activation='softmax'))\n",
        "\n",
        "model.summary()\n",
        "\n",
        "model.compile(loss='categorical_crossentropy',\n",
        "              optimizer=RMSprop(),\n",
        "              metrics=['accuracy'])\n",
        "\n",
        "history = model.fit(x_train, y_train,\n",
        "                    batch_size=batch_size,\n",
        "                    epochs=epochs,\n",
        "                    verbose=1,\n",
        "                    validation_data=(x_test, y_test))\n",
        "\n",
        "score = model.evaluate(x_test, y_test, verbose=0)\n",
        "print('Test loss:', score[0])\n",
        "print('Test accuracy:', score[1])"
      ],
      "execution_count": null,
      "outputs": [
        {
          "output_type": "stream",
          "text": [
            "Model: \"sequential\"\n",
            "_________________________________________________________________\n",
            "Layer (type)                 Output Shape              Param #   \n",
            "=================================================================\n",
            "dense (Dense)                (None, 512)               1573376   \n",
            "_________________________________________________________________\n",
            "dropout (Dropout)            (None, 512)               0         \n",
            "_________________________________________________________________\n",
            "dense_1 (Dense)              (None, 512)               262656    \n",
            "_________________________________________________________________\n",
            "dropout_1 (Dropout)          (None, 512)               0         \n",
            "_________________________________________________________________\n",
            "dense_2 (Dense)              (None, 10)                5130      \n",
            "=================================================================\n",
            "Total params: 1,841,162\n",
            "Trainable params: 1,841,162\n",
            "Non-trainable params: 0\n",
            "_________________________________________________________________\n",
            "Epoch 1/10\n",
            "391/391 [==============================] - 16s 40ms/step - loss: 2.3029 - accuracy: 0.0988 - val_loss: 2.3027 - val_accuracy: 0.1000\n",
            "Epoch 2/10\n",
            "391/391 [==============================] - 15s 39ms/step - loss: 2.3027 - accuracy: 0.0995 - val_loss: 2.3026 - val_accuracy: 0.1000\n",
            "Epoch 3/10\n",
            "391/391 [==============================] - 15s 39ms/step - loss: 2.3027 - accuracy: 0.0978 - val_loss: 2.3026 - val_accuracy: 0.1000\n",
            "Epoch 4/10\n",
            "391/391 [==============================] - 15s 39ms/step - loss: 2.3027 - accuracy: 0.0991 - val_loss: 2.3026 - val_accuracy: 0.1000\n",
            "Epoch 5/10\n",
            "391/391 [==============================] - 15s 39ms/step - loss: 2.3027 - accuracy: 0.1000 - val_loss: 2.3026 - val_accuracy: 0.1000\n",
            "Epoch 6/10\n",
            "391/391 [==============================] - 15s 40ms/step - loss: 2.3027 - accuracy: 0.0989 - val_loss: 2.3026 - val_accuracy: 0.1000\n",
            "Epoch 7/10\n",
            "391/391 [==============================] - 16s 40ms/step - loss: 2.3027 - accuracy: 0.1003 - val_loss: 2.3026 - val_accuracy: 0.1000\n",
            "Epoch 8/10\n",
            "391/391 [==============================] - 16s 40ms/step - loss: 2.3027 - accuracy: 0.0977 - val_loss: 2.3026 - val_accuracy: 0.1000\n",
            "Epoch 9/10\n",
            "391/391 [==============================] - 15s 39ms/step - loss: 2.3027 - accuracy: 0.0986 - val_loss: 2.3026 - val_accuracy: 0.1000\n",
            "Epoch 10/10\n",
            "391/391 [==============================] - 16s 40ms/step - loss: 2.3027 - accuracy: 0.0968 - val_loss: 2.3026 - val_accuracy: 0.1000\n",
            "Test loss: 2.3025927543640137\n",
            "Test accuracy: 0.10000000149011612\n"
          ],
          "name": "stdout"
        }
      ]
    },
    {
      "cell_type": "markdown",
      "metadata": {
        "id": "y16NoaS17T8L"
      },
      "source": [
        "# 以DNN來說，1841162個參數建立模型，最終準確率僅有0.1\n"
      ]
    },
    {
      "cell_type": "markdown",
      "metadata": {
        "id": "ifwbiqhDfMfD"
      },
      "source": [
        "## 接下來我們使用 CNN 來訓練神經網路\n",
        "CNN 的原理非常適合處理影像類的資料，就讓我們來看看，同樣的訓練條件，CNN 是否顯著優於 DNN 呢?"
      ]
    },
    {
      "cell_type": "code",
      "metadata": {
        "colab": {
          "base_uri": "https://localhost:8080/"
        },
        "id": "CQu4jGNdfMfE",
        "outputId": "c2bd9535-8fb7-47e3-c65f-930adaa1a0c9"
      },
      "source": [
        "(x_train, y_train), (x_test, y_test) = cifar10.load_data()\n",
        "print('x_train shape:', x_train.shape)\n",
        "print(x_train.shape[0], 'train samples')\n",
        "print(x_test.shape[0], 'test samples')\n",
        "x_train = x_train.astype('float32')\n",
        "x_test = x_test.astype('float32')\n",
        "x_train /= 255\n",
        "x_test /= 255\n",
        "\n",
        "# Convert class vectors to binary class matrices.\n",
        "y_train = keras.utils.to_categorical(y_train, num_classes)\n",
        "y_test = keras.utils.to_categorical(y_test, num_classes)"
      ],
      "execution_count": null,
      "outputs": [
        {
          "output_type": "stream",
          "text": [
            "x_train shape: (50000, 32, 32, 3)\n",
            "50000 train samples\n",
            "10000 test samples\n"
          ],
          "name": "stdout"
        }
      ]
    },
    {
      "cell_type": "code",
      "metadata": {
        "colab": {
          "base_uri": "https://localhost:8080/"
        },
        "id": "-Md5czCsfMfE",
        "outputId": "767ab3b3-266a-4e5e-b165-16398a95ed9c"
      },
      "source": [
        "model = Sequential()\n",
        "model.add(Conv2D(32, (3, 3), padding='same',\n",
        "                 input_shape=x_train.shape[1:])) #卷積層1 #輸入層\n",
        "model.add(Activation('relu'))\n",
        "model.add(Conv2D(32, (3, 3))) #卷積層2\n",
        "model.add(Activation('relu'))\n",
        "model.add(MaxPooling2D(pool_size=(2, 2))) #池化層1\n",
        "model.add(Dropout(0.25))\n",
        "\n",
        "model.add(Conv2D(64, (3, 3), padding='same')) #卷積層3\n",
        "model.add(Activation('relu'))\n",
        "model.add(Conv2D(64, (3, 3))) #卷積層4\n",
        "model.add(Activation('relu'))\n",
        "model.add(MaxPooling2D(pool_size=(2, 2))) #池化層2\n",
        "model.add(Dropout(0.25))\n",
        "\n",
        "model.add(Flatten())\n",
        "model.add(Dense(512)) #全連接層1\n",
        "model.add(Activation('relu'))\n",
        "model.add(Dropout(0.5))\n",
        "model.add(Dense(num_classes)) #全連接層2 #輸出層\n",
        "model.add(Activation('softmax'))\n",
        "model.summary()\n",
        "\n",
        "model.compile(loss='categorical_crossentropy',\n",
        "              optimizer=RMSprop(),\n",
        "              metrics=['accuracy'])\n",
        "\n",
        "history = model.fit(x_train, y_train,\n",
        "                    batch_size=batch_size,\n",
        "                    epochs=epochs,\n",
        "                    verbose=1,\n",
        "                    validation_data=(x_test, y_test))\n",
        "\n",
        "score = model.evaluate(x_test, y_test, verbose=0)\n",
        "print('Test loss:', score[0])\n",
        "print('Test accuracy:', score[1])"
      ],
      "execution_count": null,
      "outputs": [
        {
          "output_type": "stream",
          "text": [
            "Model: \"sequential_1\"\n",
            "_________________________________________________________________\n",
            "Layer (type)                 Output Shape              Param #   \n",
            "=================================================================\n",
            "conv2d (Conv2D)              (None, 32, 32, 32)        896       \n",
            "_________________________________________________________________\n",
            "activation (Activation)      (None, 32, 32, 32)        0         \n",
            "_________________________________________________________________\n",
            "conv2d_1 (Conv2D)            (None, 30, 30, 32)        9248      \n",
            "_________________________________________________________________\n",
            "activation_1 (Activation)    (None, 30, 30, 32)        0         \n",
            "_________________________________________________________________\n",
            "max_pooling2d (MaxPooling2D) (None, 15, 15, 32)        0         \n",
            "_________________________________________________________________\n",
            "dropout_2 (Dropout)          (None, 15, 15, 32)        0         \n",
            "_________________________________________________________________\n",
            "conv2d_2 (Conv2D)            (None, 15, 15, 64)        18496     \n",
            "_________________________________________________________________\n",
            "activation_2 (Activation)    (None, 15, 15, 64)        0         \n",
            "_________________________________________________________________\n",
            "conv2d_3 (Conv2D)            (None, 13, 13, 64)        36928     \n",
            "_________________________________________________________________\n",
            "activation_3 (Activation)    (None, 13, 13, 64)        0         \n",
            "_________________________________________________________________\n",
            "max_pooling2d_1 (MaxPooling2 (None, 6, 6, 64)          0         \n",
            "_________________________________________________________________\n",
            "dropout_3 (Dropout)          (None, 6, 6, 64)          0         \n",
            "_________________________________________________________________\n",
            "flatten (Flatten)            (None, 2304)              0         \n",
            "_________________________________________________________________\n",
            "dense_3 (Dense)              (None, 512)               1180160   \n",
            "_________________________________________________________________\n",
            "activation_4 (Activation)    (None, 512)               0         \n",
            "_________________________________________________________________\n",
            "dropout_4 (Dropout)          (None, 512)               0         \n",
            "_________________________________________________________________\n",
            "dense_4 (Dense)              (None, 10)                5130      \n",
            "_________________________________________________________________\n",
            "activation_5 (Activation)    (None, 10)                0         \n",
            "=================================================================\n",
            "Total params: 1,250,858\n",
            "Trainable params: 1,250,858\n",
            "Non-trainable params: 0\n",
            "_________________________________________________________________\n",
            "Epoch 1/10\n",
            "391/391 [==============================] - 217s 555ms/step - loss: 1.7175 - accuracy: 0.3771 - val_loss: 1.3329 - val_accuracy: 0.5288\n",
            "Epoch 2/10\n",
            "391/391 [==============================] - 219s 559ms/step - loss: 1.2879 - accuracy: 0.5446 - val_loss: 1.2093 - val_accuracy: 0.5704\n",
            "Epoch 3/10\n",
            "391/391 [==============================] - 219s 561ms/step - loss: 1.0785 - accuracy: 0.6197 - val_loss: 0.9806 - val_accuracy: 0.6631\n",
            "Epoch 4/10\n",
            "391/391 [==============================] - 220s 562ms/step - loss: 0.9490 - accuracy: 0.6681 - val_loss: 0.9104 - val_accuracy: 0.6858\n",
            "Epoch 5/10\n",
            "391/391 [==============================] - 218s 558ms/step - loss: 0.8629 - accuracy: 0.7016 - val_loss: 0.8167 - val_accuracy: 0.7145\n",
            "Epoch 6/10\n",
            "391/391 [==============================] - 219s 560ms/step - loss: 0.7966 - accuracy: 0.7237 - val_loss: 0.7869 - val_accuracy: 0.7246\n",
            "Epoch 7/10\n",
            "391/391 [==============================] - 224s 573ms/step - loss: 0.7428 - accuracy: 0.7416 - val_loss: 0.7592 - val_accuracy: 0.7394\n",
            "Epoch 8/10\n",
            "391/391 [==============================] - 220s 563ms/step - loss: 0.7051 - accuracy: 0.7560 - val_loss: 0.7707 - val_accuracy: 0.7375\n",
            "Epoch 9/10\n",
            "391/391 [==============================] - 220s 563ms/step - loss: 0.6722 - accuracy: 0.7679 - val_loss: 0.7028 - val_accuracy: 0.7580\n",
            "Epoch 10/10\n",
            "391/391 [==============================] - 226s 578ms/step - loss: 0.6439 - accuracy: 0.7774 - val_loss: 0.6976 - val_accuracy: 0.7617\n",
            "Test loss: 0.6975571513175964\n",
            "Test accuracy: 0.7616999745368958\n"
          ],
          "name": "stdout"
        }
      ]
    },
    {
      "cell_type": "markdown",
      "metadata": {
        "id": "1Xis7w4ZfMfE"
      },
      "source": [
        "## 同樣運算 10 個 epochs，但 CNN 在 test data 的準確率顯著優於 DNN!"
      ]
    },
    {
      "cell_type": "markdown",
      "metadata": {
        "id": "UfPouM3ufMfE"
      },
      "source": [
        "## 作業\n",
        "1. 請試著調整各個超參數，並說明那些超參數對於結果有明顯的影響?\n",
        "2. CNN 與 DNN 哪個模型的參數數量比較多? 造成參數的數量不同的原因在哪?"
      ]
    },
    {
      "cell_type": "code",
      "metadata": {
        "colab": {
          "base_uri": "https://localhost:8080/"
        },
        "id": "GqyuOgcIfMfE",
        "outputId": "6ffbff25-d905-44fc-8314-59f6ff7edcc2"
      },
      "source": [
        "(x_train, y_train), (x_test, y_test) = cifar10.load_data()\n",
        "print('x_train shape:', x_train.shape)\n",
        "print(x_train.shape[0], 'train samples')\n",
        "print(x_test.shape[0], 'test samples')\n",
        "x_train = x_train.astype('float32')\n",
        "x_test = x_test.astype('float32')\n",
        "x_train /= 255\n",
        "x_test /= 255\n",
        "\n",
        "# Convert class vectors to binary class matrices.\n",
        "y_train = keras.utils.to_categorical(y_train, num_classes)\n",
        "y_test = keras.utils.to_categorical(y_test, num_classes)\n",
        "\n",
        "batch_size = 256 # batch 的大小，如果出現 OOM error，請降低這個值\n",
        "num_classes = 10 # 類別的數量，Cifar 10 共有 10 個類別\n",
        "epochs = 20 # 訓練的 epochs 數量"
      ],
      "execution_count": null,
      "outputs": [
        {
          "output_type": "stream",
          "text": [
            "x_train shape: (50000, 32, 32, 3)\n",
            "50000 train samples\n",
            "10000 test samples\n"
          ],
          "name": "stdout"
        }
      ]
    },
    {
      "cell_type": "code",
      "metadata": {
        "colab": {
          "base_uri": "https://localhost:8080/"
        },
        "id": "6YItME8GFT0C",
        "outputId": "ff7ce6f5-f929-42a2-b636-40cbd5075e1f"
      },
      "source": [
        "model = Sequential()\n",
        "model.add(Conv2D(32, (3, 3), padding='same',\n",
        "                 input_shape=x_train.shape[1:])) #卷積層1 #輸入層\n",
        "model.add(Activation('relu'))\n",
        "model.add(Conv2D(32, (3, 3))) #卷積層2\n",
        "model.add(Activation('relu'))\n",
        "model.add(MaxPooling2D(pool_size=(2, 2))) #池化層1\n",
        "model.add(Dropout(0.25))\n",
        "\n",
        "model.add(Conv2D(64, (3, 3), padding='same')) #卷積層3\n",
        "model.add(Activation('relu'))\n",
        "model.add(Conv2D(64, (3, 3))) #卷積層4\n",
        "model.add(Activation('relu'))\n",
        "model.add(MaxPooling2D(pool_size=(2, 2))) #池化層2\n",
        "model.add(Dropout(0.25))\n",
        "\n",
        "model.add(Flatten())\n",
        "model.add(Dense(512)) #全連接層1\n",
        "model.add(Activation('relu'))\n",
        "model.add(Dropout(0.5))\n",
        "model.add(Dense(num_classes)) #全連接層2 #輸出層\n",
        "model.add(Activation('softmax'))\n",
        "model.summary()\n",
        "\n",
        "model.compile(loss='categorical_crossentropy',\n",
        "              optimizer=RMSprop(),\n",
        "              metrics=['accuracy'])\n",
        "\n",
        "history = model.fit(x_train, y_train,\n",
        "                    batch_size=batch_size,\n",
        "                    epochs=epochs,\n",
        "                    verbose=1,\n",
        "                    validation_data=(x_test, y_test))\n",
        "\n",
        "score = model.evaluate(x_test, y_test, verbose=0)\n",
        "print('Test loss:', score[0])\n",
        "print('Test accuracy:', score[1])"
      ],
      "execution_count": null,
      "outputs": [
        {
          "output_type": "stream",
          "text": [
            "Model: \"sequential_2\"\n",
            "_________________________________________________________________\n",
            "Layer (type)                 Output Shape              Param #   \n",
            "=================================================================\n",
            "conv2d_4 (Conv2D)            (None, 32, 32, 32)        896       \n",
            "_________________________________________________________________\n",
            "activation_6 (Activation)    (None, 32, 32, 32)        0         \n",
            "_________________________________________________________________\n",
            "conv2d_5 (Conv2D)            (None, 30, 30, 32)        9248      \n",
            "_________________________________________________________________\n",
            "activation_7 (Activation)    (None, 30, 30, 32)        0         \n",
            "_________________________________________________________________\n",
            "max_pooling2d_2 (MaxPooling2 (None, 15, 15, 32)        0         \n",
            "_________________________________________________________________\n",
            "dropout_5 (Dropout)          (None, 15, 15, 32)        0         \n",
            "_________________________________________________________________\n",
            "conv2d_6 (Conv2D)            (None, 15, 15, 64)        18496     \n",
            "_________________________________________________________________\n",
            "activation_8 (Activation)    (None, 15, 15, 64)        0         \n",
            "_________________________________________________________________\n",
            "conv2d_7 (Conv2D)            (None, 13, 13, 64)        36928     \n",
            "_________________________________________________________________\n",
            "activation_9 (Activation)    (None, 13, 13, 64)        0         \n",
            "_________________________________________________________________\n",
            "max_pooling2d_3 (MaxPooling2 (None, 6, 6, 64)          0         \n",
            "_________________________________________________________________\n",
            "dropout_6 (Dropout)          (None, 6, 6, 64)          0         \n",
            "_________________________________________________________________\n",
            "flatten_1 (Flatten)          (None, 2304)              0         \n",
            "_________________________________________________________________\n",
            "dense_5 (Dense)              (None, 512)               1180160   \n",
            "_________________________________________________________________\n",
            "activation_10 (Activation)   (None, 512)               0         \n",
            "_________________________________________________________________\n",
            "dropout_7 (Dropout)          (None, 512)               0         \n",
            "_________________________________________________________________\n",
            "dense_6 (Dense)              (None, 10)                5130      \n",
            "_________________________________________________________________\n",
            "activation_11 (Activation)   (None, 10)                0         \n",
            "=================================================================\n",
            "Total params: 1,250,858\n",
            "Trainable params: 1,250,858\n",
            "Non-trainable params: 0\n",
            "_________________________________________________________________\n",
            "Epoch 1/20\n",
            "196/196 [==============================] - 214s 1s/step - loss: 1.8685 - accuracy: 0.3270 - val_loss: 1.5208 - val_accuracy: 0.4392\n",
            "Epoch 2/20\n",
            "196/196 [==============================] - 212s 1s/step - loss: 1.4820 - accuracy: 0.4705 - val_loss: 1.2828 - val_accuracy: 0.5372\n",
            "Epoch 3/20\n",
            "196/196 [==============================] - 212s 1s/step - loss: 1.2879 - accuracy: 0.5418 - val_loss: 1.1715 - val_accuracy: 0.5809\n",
            "Epoch 4/20\n",
            "196/196 [==============================] - 213s 1s/step - loss: 1.1504 - accuracy: 0.5930 - val_loss: 1.0296 - val_accuracy: 0.6356\n",
            "Epoch 5/20\n",
            "196/196 [==============================] - 212s 1s/step - loss: 1.0331 - accuracy: 0.6367 - val_loss: 0.9828 - val_accuracy: 0.6573\n",
            "Epoch 6/20\n",
            "196/196 [==============================] - 216s 1s/step - loss: 0.9421 - accuracy: 0.6713 - val_loss: 0.9136 - val_accuracy: 0.6789\n",
            "Epoch 7/20\n",
            "196/196 [==============================] - 213s 1s/step - loss: 0.8625 - accuracy: 0.6974 - val_loss: 0.7939 - val_accuracy: 0.7284\n",
            "Epoch 8/20\n",
            "196/196 [==============================] - 212s 1s/step - loss: 0.8163 - accuracy: 0.7158 - val_loss: 0.7902 - val_accuracy: 0.7242\n",
            "Epoch 9/20\n",
            "196/196 [==============================] - 214s 1s/step - loss: 0.7585 - accuracy: 0.7334 - val_loss: 0.7768 - val_accuracy: 0.7365\n",
            "Epoch 10/20\n",
            "196/196 [==============================] - 214s 1s/step - loss: 0.7115 - accuracy: 0.7536 - val_loss: 0.7162 - val_accuracy: 0.7542\n",
            "Epoch 11/20\n",
            "196/196 [==============================] - 213s 1s/step - loss: 0.6815 - accuracy: 0.7630 - val_loss: 0.8130 - val_accuracy: 0.7268\n",
            "Epoch 12/20\n",
            "196/196 [==============================] - 212s 1s/step - loss: 0.6439 - accuracy: 0.7745 - val_loss: 0.7703 - val_accuracy: 0.7368\n",
            "Epoch 13/20\n",
            "196/196 [==============================] - 212s 1s/step - loss: 0.6165 - accuracy: 0.7839 - val_loss: 0.7813 - val_accuracy: 0.7437\n",
            "Epoch 14/20\n",
            "196/196 [==============================] - 213s 1s/step - loss: 0.5882 - accuracy: 0.7939 - val_loss: 0.7469 - val_accuracy: 0.7517\n",
            "Epoch 15/20\n",
            "196/196 [==============================] - 213s 1s/step - loss: 0.5632 - accuracy: 0.8022 - val_loss: 0.7828 - val_accuracy: 0.7414\n",
            "Epoch 16/20\n",
            "196/196 [==============================] - 217s 1s/step - loss: 0.5451 - accuracy: 0.8089 - val_loss: 0.7040 - val_accuracy: 0.7616\n",
            "Epoch 17/20\n",
            "196/196 [==============================] - 215s 1s/step - loss: 0.5276 - accuracy: 0.8179 - val_loss: 0.6513 - val_accuracy: 0.7806\n",
            "Epoch 18/20\n",
            "196/196 [==============================] - 215s 1s/step - loss: 0.5144 - accuracy: 0.8206 - val_loss: 0.7787 - val_accuracy: 0.7640\n",
            "Epoch 19/20\n",
            "196/196 [==============================] - 215s 1s/step - loss: 0.4908 - accuracy: 0.8295 - val_loss: 0.6899 - val_accuracy: 0.7781\n",
            "Epoch 20/20\n",
            "196/196 [==============================] - 218s 1s/step - loss: 0.4799 - accuracy: 0.8322 - val_loss: 0.6797 - val_accuracy: 0.7733\n",
            "Test loss: 0.679688036441803\n",
            "Test accuracy: 0.7732999920845032\n"
          ],
          "name": "stdout"
        }
      ]
    },
    {
      "cell_type": "code",
      "metadata": {
        "id": "R4KlYuHGGDPm"
      },
      "source": [
        ""
      ],
      "execution_count": null,
      "outputs": []
    },
    {
      "cell_type": "markdown",
      "metadata": {
        "id": "5KM49M6CbqUY"
      },
      "source": [
        "# 可以調整的參數有: \n",
        "\n",
        "Conv2D 的層數、filters 數量、stride 大小、學習率的大小、優化器的選擇、Dropout 的比率等等。其中 Conv2D 的層數與優化器的選擇對結果會有較明顯的影響。\n",
        "\n",
        "DNN 的參數量較多，可以看出 CNN 在做卷積時，透過較小的參數量就可以逐步縮小影像大小，讓最後再接上 Dense 層時不要有過多的參數。"
      ]
    }
  ]
}