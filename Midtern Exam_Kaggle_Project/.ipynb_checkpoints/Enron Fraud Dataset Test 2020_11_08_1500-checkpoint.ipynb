{
 "cells": [
  {
   "cell_type": "code",
   "execution_count": 1,
   "metadata": {},
   "outputs": [],
   "source": [
    "### Importing Common Modules needed for project\n",
    "from time import time   # For calculating training time\n",
    "import pandas as pd    # Pandas is used for handling dataFrames\n",
    "import pickle      # Pickle is used to load .pkl dataset files\n",
    "import matplotlib.pyplot as plt    # Pyplot is used for visualizing the information\n",
    "from sklearn.feature_selection import SelectKBest, f_classif    # For Selecting K-Best features of availabel ones\n",
    "from sklearn.model_selection import train_test_split, GridSearchCV   # train_test_split for splitting up data\n",
    "                                                                     # into train and test\n",
    "                                                                     # GridSearchCV for finding best parameters tuned\n",
    "from sklearn.model_selection import StratifiedShuffleSplit   # For Cross-Validation\n",
    "from sklearn.metrics import accuracy_score, precision_score, recall_score, f1_score # For evaluating different algorithms\n",
    "import numpy as np     # Numpy is used to manipulate data operations,\n",
    "                       # Most of the sklearn libraries expects numpy ndarrays as its default arguments\n",
    "    \n",
    "### Importing Models from sklearn\n",
    "from sklearn.tree import DecisionTreeClassifier\n",
    "from sklearn.naive_bayes import GaussianNB\n",
    "from sklearn.ensemble import RandomForestClassifier\n",
    "from sklearn.svm import SVC\n",
    "from sklearn.neighbors import KNeighborsClassifier\n",
    "from sklearn.ensemble import AdaBoostClassifier\n",
    "from sklearn.linear_model import LogisticRegression"
   ]
  },
  {
   "cell_type": "code",
   "execution_count": 8,
   "metadata": {},
   "outputs": [
    {
     "name": "stdout",
     "output_type": "stream",
     "text": [
      "(113, 22)\n",
      "(33, 21)\n",
      "(146, 22)\n"
     ]
    }
   ],
   "source": [
    "train = pd.read_csv('C:/Users/USER/Desktop/Github/ML100Days/Midtern Exam_Kaggle_Project/train_data.csv')\n",
    "test = pd.read_csv('C:/Users/USER/Desktop/Github/ML100Days/Midtern Exam_Kaggle_Project/test_features.csv')\n",
    "sample_submission = pd.read_csv('C:/Users/USER/Desktop/Github/ML100Days/Midtern Exam_Kaggle_Project/sample_submission.csv')\n",
    "\n",
    "#train_Y = train['poi']\n",
    "#ids = test['name']  #最後繳交檔案時需要用到\n",
    "enron_data = pd.concat([train,test],sort=False)\n",
    "\n",
    "print(train.shape)\n",
    "print(test.shape)\n",
    "print(enron_data.shape)\n",
    "\n",
    "#enron_data.head()"
   ]
  },
  {
   "cell_type": "code",
   "execution_count": 6,
   "metadata": {},
   "outputs": [
    {
     "name": "stdout",
     "output_type": "stream",
     "text": [
      "There are total of 146 people in the dataset\n",
      "Out of which 13 are POI\n"
     ]
    }
   ],
   "source": [
    "### Getting slight information about that DataFrame\n",
    "print(\"There are total of {} people in the dataset\".format(len(enron_data.index)))\n",
    "print(\"Out of which {} are POI\".format(enron_data['poi'].value_counts()[True]))"
   ]
  },
  {
   "cell_type": "code",
   "execution_count": 10,
   "metadata": {},
   "outputs": [
    {
     "name": "stdout",
     "output_type": "stream",
     "text": [
      "<class 'pandas.core.frame.DataFrame'>\n",
      "Int64Index: 146 entries, 0 to 32\n",
      "Data columns (total 22 columns):\n",
      "name                         146 non-null object\n",
      "bonus                        82 non-null float64\n",
      "deferral_payments            39 non-null float64\n",
      "deferred_income              49 non-null float64\n",
      "director_fees                17 non-null float64\n",
      "email_address                111 non-null object\n",
      "exercised_stock_options      102 non-null float64\n",
      "expenses                     95 non-null float64\n",
      "from_messages                86 non-null float64\n",
      "from_poi_to_this_person      86 non-null float64\n",
      "from_this_person_to_poi      86 non-null float64\n",
      "loan_advances                4 non-null float64\n",
      "long_term_incentive          66 non-null float64\n",
      "other                        93 non-null float64\n",
      "poi                          113 non-null object\n",
      "restricted_stock             110 non-null float64\n",
      "restricted_stock_deferred    18 non-null float64\n",
      "salary                       95 non-null float64\n",
      "shared_receipt_with_poi      86 non-null float64\n",
      "to_messages                  86 non-null float64\n",
      "total_payments               125 non-null float64\n",
      "total_stock_value            126 non-null float64\n",
      "dtypes: float64(19), object(3)\n",
      "memory usage: 26.2+ KB\n"
     ]
    }
   ],
   "source": [
    "enron_data.info()"
   ]
  },
  {
   "cell_type": "code",
   "execution_count": 7,
   "metadata": {},
   "outputs": [
    {
     "data": {
      "text/html": [
       "<div>\n",
       "<style scoped>\n",
       "    .dataframe tbody tr th:only-of-type {\n",
       "        vertical-align: middle;\n",
       "    }\n",
       "\n",
       "    .dataframe tbody tr th {\n",
       "        vertical-align: top;\n",
       "    }\n",
       "\n",
       "    .dataframe thead th {\n",
       "        text-align: right;\n",
       "    }\n",
       "</style>\n",
       "<table border=\"1\" class=\"dataframe\">\n",
       "  <thead>\n",
       "    <tr style=\"text-align: right;\">\n",
       "      <th></th>\n",
       "      <th>count</th>\n",
       "      <th>mean</th>\n",
       "      <th>std</th>\n",
       "      <th>min</th>\n",
       "      <th>25%</th>\n",
       "      <th>50%</th>\n",
       "      <th>75%</th>\n",
       "      <th>max</th>\n",
       "    </tr>\n",
       "  </thead>\n",
       "  <tbody>\n",
       "    <tr>\n",
       "      <td>bonus</td>\n",
       "      <td>82.0</td>\n",
       "      <td>2.374235e+06</td>\n",
       "      <td>1.071333e+07</td>\n",
       "      <td>70000.0</td>\n",
       "      <td>431250.00</td>\n",
       "      <td>769375.0</td>\n",
       "      <td>1200000.00</td>\n",
       "      <td>97343619.0</td>\n",
       "    </tr>\n",
       "    <tr>\n",
       "      <td>deferral_payments</td>\n",
       "      <td>39.0</td>\n",
       "      <td>1.642674e+06</td>\n",
       "      <td>5.161930e+06</td>\n",
       "      <td>-102500.0</td>\n",
       "      <td>81573.00</td>\n",
       "      <td>227449.0</td>\n",
       "      <td>1002671.50</td>\n",
       "      <td>32083396.0</td>\n",
       "    </tr>\n",
       "    <tr>\n",
       "      <td>deferred_income</td>\n",
       "      <td>49.0</td>\n",
       "      <td>-1.140475e+06</td>\n",
       "      <td>4.025406e+06</td>\n",
       "      <td>-27992891.0</td>\n",
       "      <td>-694862.00</td>\n",
       "      <td>-159792.0</td>\n",
       "      <td>-38346.00</td>\n",
       "      <td>-833.0</td>\n",
       "    </tr>\n",
       "    <tr>\n",
       "      <td>director_fees</td>\n",
       "      <td>17.0</td>\n",
       "      <td>1.668049e+05</td>\n",
       "      <td>3.198914e+05</td>\n",
       "      <td>3285.0</td>\n",
       "      <td>98784.00</td>\n",
       "      <td>108579.0</td>\n",
       "      <td>113784.00</td>\n",
       "      <td>1398517.0</td>\n",
       "    </tr>\n",
       "    <tr>\n",
       "      <td>exercised_stock_options</td>\n",
       "      <td>102.0</td>\n",
       "      <td>5.987054e+06</td>\n",
       "      <td>3.106201e+07</td>\n",
       "      <td>3285.0</td>\n",
       "      <td>527886.25</td>\n",
       "      <td>1310813.5</td>\n",
       "      <td>2547724.00</td>\n",
       "      <td>311764000.0</td>\n",
       "    </tr>\n",
       "    <tr>\n",
       "      <td>expenses</td>\n",
       "      <td>95.0</td>\n",
       "      <td>1.087289e+05</td>\n",
       "      <td>5.335348e+05</td>\n",
       "      <td>148.0</td>\n",
       "      <td>22614.00</td>\n",
       "      <td>46950.0</td>\n",
       "      <td>79952.50</td>\n",
       "      <td>5235198.0</td>\n",
       "    </tr>\n",
       "    <tr>\n",
       "      <td>from_messages</td>\n",
       "      <td>86.0</td>\n",
       "      <td>6.087907e+02</td>\n",
       "      <td>1.841034e+03</td>\n",
       "      <td>12.0</td>\n",
       "      <td>22.75</td>\n",
       "      <td>41.0</td>\n",
       "      <td>145.50</td>\n",
       "      <td>14368.0</td>\n",
       "    </tr>\n",
       "    <tr>\n",
       "      <td>from_poi_to_this_person</td>\n",
       "      <td>86.0</td>\n",
       "      <td>6.489535e+01</td>\n",
       "      <td>8.697924e+01</td>\n",
       "      <td>0.0</td>\n",
       "      <td>10.00</td>\n",
       "      <td>35.0</td>\n",
       "      <td>72.25</td>\n",
       "      <td>528.0</td>\n",
       "    </tr>\n",
       "    <tr>\n",
       "      <td>from_this_person_to_poi</td>\n",
       "      <td>86.0</td>\n",
       "      <td>4.123256e+01</td>\n",
       "      <td>1.000731e+02</td>\n",
       "      <td>0.0</td>\n",
       "      <td>1.00</td>\n",
       "      <td>8.0</td>\n",
       "      <td>24.75</td>\n",
       "      <td>609.0</td>\n",
       "    </tr>\n",
       "    <tr>\n",
       "      <td>loan_advances</td>\n",
       "      <td>4.0</td>\n",
       "      <td>4.196250e+07</td>\n",
       "      <td>4.708321e+07</td>\n",
       "      <td>400000.0</td>\n",
       "      <td>1600000.00</td>\n",
       "      <td>41762500.0</td>\n",
       "      <td>82125000.00</td>\n",
       "      <td>83925000.0</td>\n",
       "    </tr>\n",
       "    <tr>\n",
       "      <td>long_term_incentive</td>\n",
       "      <td>66.0</td>\n",
       "      <td>1.470361e+06</td>\n",
       "      <td>5.942759e+06</td>\n",
       "      <td>69223.0</td>\n",
       "      <td>281250.00</td>\n",
       "      <td>442035.0</td>\n",
       "      <td>938672.00</td>\n",
       "      <td>48521928.0</td>\n",
       "    </tr>\n",
       "    <tr>\n",
       "      <td>other</td>\n",
       "      <td>93.0</td>\n",
       "      <td>9.190650e+05</td>\n",
       "      <td>4.589253e+06</td>\n",
       "      <td>2.0</td>\n",
       "      <td>1215.00</td>\n",
       "      <td>52382.0</td>\n",
       "      <td>362096.00</td>\n",
       "      <td>42667589.0</td>\n",
       "    </tr>\n",
       "    <tr>\n",
       "      <td>restricted_stock</td>\n",
       "      <td>110.0</td>\n",
       "      <td>2.321741e+06</td>\n",
       "      <td>1.251828e+07</td>\n",
       "      <td>-2604490.0</td>\n",
       "      <td>254018.00</td>\n",
       "      <td>451740.0</td>\n",
       "      <td>1002369.75</td>\n",
       "      <td>130322299.0</td>\n",
       "    </tr>\n",
       "    <tr>\n",
       "      <td>restricted_stock_deferred</td>\n",
       "      <td>18.0</td>\n",
       "      <td>1.664106e+05</td>\n",
       "      <td>4.201494e+06</td>\n",
       "      <td>-7576788.0</td>\n",
       "      <td>-389621.75</td>\n",
       "      <td>-146975.0</td>\n",
       "      <td>-75009.75</td>\n",
       "      <td>15456290.0</td>\n",
       "    </tr>\n",
       "    <tr>\n",
       "      <td>salary</td>\n",
       "      <td>95.0</td>\n",
       "      <td>5.621943e+05</td>\n",
       "      <td>2.716369e+06</td>\n",
       "      <td>477.0</td>\n",
       "      <td>211816.00</td>\n",
       "      <td>259996.0</td>\n",
       "      <td>312117.00</td>\n",
       "      <td>26704229.0</td>\n",
       "    </tr>\n",
       "    <tr>\n",
       "      <td>shared_receipt_with_poi</td>\n",
       "      <td>86.0</td>\n",
       "      <td>1.176465e+03</td>\n",
       "      <td>1.178318e+03</td>\n",
       "      <td>2.0</td>\n",
       "      <td>249.75</td>\n",
       "      <td>740.5</td>\n",
       "      <td>1888.25</td>\n",
       "      <td>5521.0</td>\n",
       "    </tr>\n",
       "    <tr>\n",
       "      <td>to_messages</td>\n",
       "      <td>86.0</td>\n",
       "      <td>2.073860e+03</td>\n",
       "      <td>2.582701e+03</td>\n",
       "      <td>57.0</td>\n",
       "      <td>541.25</td>\n",
       "      <td>1211.0</td>\n",
       "      <td>2634.75</td>\n",
       "      <td>15149.0</td>\n",
       "    </tr>\n",
       "    <tr>\n",
       "      <td>total_payments</td>\n",
       "      <td>125.0</td>\n",
       "      <td>5.081526e+06</td>\n",
       "      <td>2.906172e+07</td>\n",
       "      <td>148.0</td>\n",
       "      <td>394475.00</td>\n",
       "      <td>1101393.0</td>\n",
       "      <td>2093263.00</td>\n",
       "      <td>309886585.0</td>\n",
       "    </tr>\n",
       "    <tr>\n",
       "      <td>total_stock_value</td>\n",
       "      <td>126.0</td>\n",
       "      <td>6.773957e+06</td>\n",
       "      <td>3.895777e+07</td>\n",
       "      <td>-44093.0</td>\n",
       "      <td>494510.25</td>\n",
       "      <td>1102872.5</td>\n",
       "      <td>2949846.75</td>\n",
       "      <td>434509511.0</td>\n",
       "    </tr>\n",
       "  </tbody>\n",
       "</table>\n",
       "</div>"
      ],
      "text/plain": [
       "                           count          mean           std         min  \\\n",
       "bonus                       82.0  2.374235e+06  1.071333e+07     70000.0   \n",
       "deferral_payments           39.0  1.642674e+06  5.161930e+06   -102500.0   \n",
       "deferred_income             49.0 -1.140475e+06  4.025406e+06 -27992891.0   \n",
       "director_fees               17.0  1.668049e+05  3.198914e+05      3285.0   \n",
       "exercised_stock_options    102.0  5.987054e+06  3.106201e+07      3285.0   \n",
       "expenses                    95.0  1.087289e+05  5.335348e+05       148.0   \n",
       "from_messages               86.0  6.087907e+02  1.841034e+03        12.0   \n",
       "from_poi_to_this_person     86.0  6.489535e+01  8.697924e+01         0.0   \n",
       "from_this_person_to_poi     86.0  4.123256e+01  1.000731e+02         0.0   \n",
       "loan_advances                4.0  4.196250e+07  4.708321e+07    400000.0   \n",
       "long_term_incentive         66.0  1.470361e+06  5.942759e+06     69223.0   \n",
       "other                       93.0  9.190650e+05  4.589253e+06         2.0   \n",
       "restricted_stock           110.0  2.321741e+06  1.251828e+07  -2604490.0   \n",
       "restricted_stock_deferred   18.0  1.664106e+05  4.201494e+06  -7576788.0   \n",
       "salary                      95.0  5.621943e+05  2.716369e+06       477.0   \n",
       "shared_receipt_with_poi     86.0  1.176465e+03  1.178318e+03         2.0   \n",
       "to_messages                 86.0  2.073860e+03  2.582701e+03        57.0   \n",
       "total_payments             125.0  5.081526e+06  2.906172e+07       148.0   \n",
       "total_stock_value          126.0  6.773957e+06  3.895777e+07    -44093.0   \n",
       "\n",
       "                                  25%         50%          75%          max  \n",
       "bonus                       431250.00    769375.0   1200000.00   97343619.0  \n",
       "deferral_payments            81573.00    227449.0   1002671.50   32083396.0  \n",
       "deferred_income            -694862.00   -159792.0    -38346.00       -833.0  \n",
       "director_fees                98784.00    108579.0    113784.00    1398517.0  \n",
       "exercised_stock_options     527886.25   1310813.5   2547724.00  311764000.0  \n",
       "expenses                     22614.00     46950.0     79952.50    5235198.0  \n",
       "from_messages                   22.75        41.0       145.50      14368.0  \n",
       "from_poi_to_this_person         10.00        35.0        72.25        528.0  \n",
       "from_this_person_to_poi          1.00         8.0        24.75        609.0  \n",
       "loan_advances              1600000.00  41762500.0  82125000.00   83925000.0  \n",
       "long_term_incentive         281250.00    442035.0    938672.00   48521928.0  \n",
       "other                         1215.00     52382.0    362096.00   42667589.0  \n",
       "restricted_stock            254018.00    451740.0   1002369.75  130322299.0  \n",
       "restricted_stock_deferred  -389621.75   -146975.0    -75009.75   15456290.0  \n",
       "salary                      211816.00    259996.0    312117.00   26704229.0  \n",
       "shared_receipt_with_poi        249.75       740.5      1888.25       5521.0  \n",
       "to_messages                    541.25      1211.0      2634.75      15149.0  \n",
       "total_payments              394475.00   1101393.0   2093263.00  309886585.0  \n",
       "total_stock_value           494510.25   1102872.5   2949846.75  434509511.0  "
      ]
     },
     "execution_count": 7,
     "metadata": {},
     "output_type": "execute_result"
    }
   ],
   "source": [
    "### Describing the DataFrame\n",
    "enron_data.describe().transpose()"
   ]
  },
  {
   "cell_type": "code",
   "execution_count": 11,
   "metadata": {},
   "outputs": [],
   "source": [
    "### Replacing the missing values with 0\n",
    "enron_data.fillna(0, inplace=True)\n",
    "enron_data.replace(to_replace='NaN', value=0.0, inplace=True)"
   ]
  },
  {
   "cell_type": "code",
   "execution_count": 12,
   "metadata": {},
   "outputs": [
    {
     "name": "stdout",
     "output_type": "stream",
     "text": [
      "<class 'pandas.core.frame.DataFrame'>\n",
      "Int64Index: 146 entries, 0 to 32\n",
      "Data columns (total 22 columns):\n",
      "name                         146 non-null object\n",
      "bonus                        146 non-null float64\n",
      "deferral_payments            146 non-null float64\n",
      "deferred_income              146 non-null float64\n",
      "director_fees                146 non-null float64\n",
      "email_address                146 non-null object\n",
      "exercised_stock_options      146 non-null float64\n",
      "expenses                     146 non-null float64\n",
      "from_messages                146 non-null float64\n",
      "from_poi_to_this_person      146 non-null float64\n",
      "from_this_person_to_poi      146 non-null float64\n",
      "loan_advances                146 non-null float64\n",
      "long_term_incentive          146 non-null float64\n",
      "other                        146 non-null float64\n",
      "poi                          146 non-null object\n",
      "restricted_stock             146 non-null float64\n",
      "restricted_stock_deferred    146 non-null float64\n",
      "salary                       146 non-null float64\n",
      "shared_receipt_with_poi      146 non-null float64\n",
      "to_messages                  146 non-null float64\n",
      "total_payments               146 non-null float64\n",
      "total_stock_value            146 non-null float64\n",
      "dtypes: float64(19), object(3)\n",
      "memory usage: 26.2+ KB\n"
     ]
    }
   ],
   "source": [
    "enron_data.info()"
   ]
  },
  {
   "cell_type": "code",
   "execution_count": 16,
   "metadata": {},
   "outputs": [
    {
     "data": {
      "image/png": "[encoded data removed]",
      "text/plain": [
       "<Figure size 864x432 with 2 Axes>"
      ]
     },
     "metadata": {
      "needs_background": "light"
     },
     "output_type": "display_data"
    }
   ],
   "source": [
    "figure, (axes1, axes2) = plt.subplots(ncols=2, figsize=(12, 6))\n",
    "\n",
    "axes1.scatter(enron_data.salary, enron_data.bonus)\n",
    "axes1.set_xlabel(\"Salary ($)\", fontsize=15)\n",
    "axes1.set_ylabel(\"Bonus ($)\", fontsize=15)\n",
    "axes1.set_title(\"Before Outlier Removal\", fontsize=15)\n",
    "axes1.spines['right'].set_visible(False)\n",
    "axes1.spines['top'].set_visible(False)\n",
    "\n",
    "# Dropping the outliers\n",
    "#enron_data.drop(['TOTAL'], axis = 0, inplace=True)\n",
    "#enron_data.drop(['THE TRAVEL AGENCY IN THE PARK'], axis = 0, inplace= True)\n",
    "\n",
    "axes2.scatter(enron_data.salary, enron_data.bonus)\n",
    "axes2.set_xlabel(\"Salary ($)\", fontsize=15)\n",
    "axes2.set_ylabel(\"Bonus ($)\", fontsize=15)\n",
    "axes2.set_title(\"After Outlier Removal\", fontsize=15)\n",
    "axes2.spines['right'].set_visible(False)\n",
    "axes2.spines['top'].set_visible(False)\n",
    "\n",
    "figure.tight_layout()\n",
    "plt.show()"
   ]
  },
  {
   "cell_type": "code",
   "execution_count": 17,
   "metadata": {},
   "outputs": [
    {
     "data": {
      "text/plain": [
       "<matplotlib.axes._subplots.AxesSubplot at 0x1889b553a88>"
      ]
     },
     "execution_count": 17,
     "metadata": {},
     "output_type": "execute_result"
    },
    {
     "data": {
      "image/png": "[encoded data removed]",
      "text/plain": [
       "<Figure size 432x288 with 1 Axes>"
      ]
     },
     "metadata": {
      "needs_background": "light"
     },
     "output_type": "display_data"
    }
   ],
   "source": [
    "import seaborn as sns\n",
    "sns.boxplot(x='poi', y='salary', data=enron_data)"
   ]
  },
  {
   "cell_type": "code",
   "execution_count": 18,
   "metadata": {},
   "outputs": [
    {
     "data": {
      "text/plain": [
       "<matplotlib.axes._subplots.AxesSubplot at 0x1889b62e8c8>"
      ]
     },
     "execution_count": 18,
     "metadata": {},
     "output_type": "execute_result"
    },
    {
     "data": {
      "image/png": "[encoded data removed]",
      "text/plain": [
       "<Figure size 432x288 with 1 Axes>"
      ]
     },
     "metadata": {
      "needs_background": "light"
     },
     "output_type": "display_data"
    }
   ],
   "source": [
    "sns.boxplot(x='poi', y='bonus', data=enron_data)"
   ]
  },
  {
   "cell_type": "code",
   "execution_count": 19,
   "metadata": {},
   "outputs": [
    {
     "data": {
      "text/html": [
       "<div>\n",
       "<style scoped>\n",
       "    .dataframe tbody tr th:only-of-type {\n",
       "        vertical-align: middle;\n",
       "    }\n",
       "\n",
       "    .dataframe tbody tr th {\n",
       "        vertical-align: top;\n",
       "    }\n",
       "\n",
       "    .dataframe thead th {\n",
       "        text-align: right;\n",
       "    }\n",
       "</style>\n",
       "<table border=\"1\" class=\"dataframe\">\n",
       "  <thead>\n",
       "    <tr style=\"text-align: right;\">\n",
       "      <th></th>\n",
       "      <th>name</th>\n",
       "      <th>bonus</th>\n",
       "      <th>deferral_payments</th>\n",
       "      <th>deferred_income</th>\n",
       "      <th>director_fees</th>\n",
       "      <th>email_address</th>\n",
       "      <th>exercised_stock_options</th>\n",
       "      <th>expenses</th>\n",
       "      <th>from_messages</th>\n",
       "      <th>from_poi_to_this_person</th>\n",
       "      <th>...</th>\n",
       "      <th>long_term_incentive</th>\n",
       "      <th>other</th>\n",
       "      <th>poi</th>\n",
       "      <th>restricted_stock</th>\n",
       "      <th>restricted_stock_deferred</th>\n",
       "      <th>salary</th>\n",
       "      <th>shared_receipt_with_poi</th>\n",
       "      <th>to_messages</th>\n",
       "      <th>total_payments</th>\n",
       "      <th>total_stock_value</th>\n",
       "    </tr>\n",
       "  </thead>\n",
       "  <tbody>\n",
       "    <tr>\n",
       "      <td>20</td>\n",
       "      <td>TOTAL</td>\n",
       "      <td>97343619.0</td>\n",
       "      <td>32083396.0</td>\n",
       "      <td>-27992891.0</td>\n",
       "      <td>1398517.0</td>\n",
       "      <td>0</td>\n",
       "      <td>311764000.0</td>\n",
       "      <td>5235198.0</td>\n",
       "      <td>0.0</td>\n",
       "      <td>0.0</td>\n",
       "      <td>...</td>\n",
       "      <td>48521928.0</td>\n",
       "      <td>42667589.0</td>\n",
       "      <td>0</td>\n",
       "      <td>130322299.0</td>\n",
       "      <td>-7576788.0</td>\n",
       "      <td>26704229.0</td>\n",
       "      <td>0.0</td>\n",
       "      <td>0.0</td>\n",
       "      <td>309886585.0</td>\n",
       "      <td>434509511.0</td>\n",
       "    </tr>\n",
       "  </tbody>\n",
       "</table>\n",
       "<p>1 rows × 22 columns</p>\n",
       "</div>"
      ],
      "text/plain": [
       "     name       bonus  deferral_payments  deferred_income  director_fees  \\\n",
       "20  TOTAL  97343619.0         32083396.0      -27992891.0      1398517.0   \n",
       "\n",
       "   email_address  exercised_stock_options   expenses  from_messages  \\\n",
       "20             0              311764000.0  5235198.0            0.0   \n",
       "\n",
       "    from_poi_to_this_person  ...  long_term_incentive       other  poi  \\\n",
       "20                      0.0  ...           48521928.0  42667589.0    0   \n",
       "\n",
       "    restricted_stock restricted_stock_deferred      salary  \\\n",
       "20       130322299.0                -7576788.0  26704229.0   \n",
       "\n",
       "    shared_receipt_with_poi  to_messages  total_payments  total_stock_value  \n",
       "20                      0.0          0.0     309886585.0        434509511.0  \n",
       "\n",
       "[1 rows x 22 columns]"
      ]
     },
     "execution_count": 19,
     "metadata": {},
     "output_type": "execute_result"
    }
   ],
   "source": [
    "enron_data[enron_data['salary']>5000000]"
   ]
  },
  {
   "cell_type": "code",
   "execution_count": 20,
   "metadata": {},
   "outputs": [],
   "source": [
    "enron_data[enron_data['salary']>5000000]=None"
   ]
  },
  {
   "cell_type": "code",
   "execution_count": 24,
   "metadata": {},
   "outputs": [
    {
     "data": {
      "image/png": "[encoded data removed]",
      "text/plain": [
       "<Figure size 864x432 with 2 Axes>"
      ]
     },
     "metadata": {
      "needs_background": "light"
     },
     "output_type": "display_data"
    }
   ],
   "source": [
    "figure, (axes1, axes2) = plt.subplots(ncols=2, figsize=(12, 6))\n",
    "\n",
    "axes1.scatter(enron_data.salary, enron_data.bonus)\n",
    "axes1.set_xlabel(\"Salary ($)\", fontsize=15)\n",
    "axes1.set_ylabel(\"Bonus ($)\", fontsize=15)\n",
    "axes1.set_title(\"Before Outlier Removal\", fontsize=15)\n",
    "axes1.spines['right'].set_visible(False)\n",
    "axes1.spines['top'].set_visible(False)\n",
    "\n",
    "# Dropping the outliers\n",
    "#enron_data.drop(['TOTAL'], axis = 0, inplace=True)\n",
    "#enron_data.drop(['THE TRAVEL AGENCY IN THE PARK'], axis = 0, inplace= True)\n",
    "\n",
    "axes2.scatter(enron_data.salary, enron_data.bonus)\n",
    "axes2.set_xlabel(\"Salary ($)\", fontsize=15)\n",
    "axes2.set_ylabel(\"Bonus ($)\", fontsize=15)\n",
    "axes2.set_title(\"After Outlier Removal\", fontsize=15)\n",
    "axes2.spines['right'].set_visible(False)\n",
    "axes2.spines['top'].set_visible(False)\n",
    "\n",
    "figure.tight_layout()\n",
    "plt.show()"
   ]
  },
  {
   "cell_type": "code",
   "execution_count": 30,
   "metadata": {},
   "outputs": [],
   "source": [
    "### Creating new features fraction_from_poi and fraction_to_poi\n",
    "enron_data[\"fraction_from_poi\"] = enron_data[\"from_poi_to_this_person\"].\\\n",
    "                                  divide(enron_data[\"to_messages\"], fill_value=0.0) \n",
    "\n",
    "enron_data[\"fraction_to_poi\"] = enron_data[\"from_this_person_to_poi\"].\\\n",
    "                                divide(enron_data[\"from_messages\"], fill_value=0.0)\n",
    "enron_data['shared_receipt_poi_ratio'] = enron_data['shared_receipt_with_poi'].\\\n",
    "                                 divide(enron_data['to_messages'], fill_value=0.0)\n",
    "\n",
    "enron_data['bonus_to_salary'] = enron_data['bonus'].divide(enron_data['salary'], fill_value=0.0)\n",
    "enron_data['bonus_to_total'] = enron_data['bonus'].divide(enron_data['total_payments'], fill_value=0.0)\n",
    "\n",
    "enron_data[\"fraction_from_poi\"] = enron_data[\"fraction_from_poi\"].fillna(0.0)\n",
    "enron_data[\"fraction_to_poi\"] = enron_data[\"fraction_to_poi\"].fillna(0.0)\n",
    "enron_data[\"shared_receipt_poi_ratio\"] = enron_data[\"shared_receipt_poi_ratio\"].fillna(0.0)\n",
    "enron_data[\"bonus_to_salary\"] = enron_data[\"bonus_to_salary\"].fillna(0.0)\n",
    "enron_data[\"bonus_to_total\"] = enron_data[\"bonus_to_total\"].fillna(0.0)"
   ]
  },
  {
   "cell_type": "code",
   "execution_count": 32,
   "metadata": {},
   "outputs": [
    {
     "name": "stdout",
     "output_type": "stream",
     "text": [
      "<class 'pandas.core.frame.DataFrame'>\n",
      "Int64Index: 146 entries, 0 to 32\n",
      "Data columns (total 27 columns):\n",
      "name                         145 non-null object\n",
      "bonus                        145 non-null float64\n",
      "deferral_payments            145 non-null float64\n",
      "deferred_income              145 non-null float64\n",
      "director_fees                145 non-null float64\n",
      "email_address                145 non-null object\n",
      "exercised_stock_options      145 non-null float64\n",
      "expenses                     145 non-null float64\n",
      "from_messages                145 non-null float64\n",
      "from_poi_to_this_person      145 non-null float64\n",
      "from_this_person_to_poi      145 non-null float64\n",
      "loan_advances                145 non-null float64\n",
      "long_term_incentive          145 non-null float64\n",
      "other                        145 non-null float64\n",
      "poi                          145 non-null float64\n",
      "restricted_stock             145 non-null float64\n",
      "restricted_stock_deferred    145 non-null float64\n",
      "salary                       145 non-null float64\n",
      "shared_receipt_with_poi      145 non-null float64\n",
      "to_messages                  145 non-null float64\n",
      "total_payments               145 non-null float64\n",
      "total_stock_value            145 non-null float64\n",
      "fraction_from_poi            146 non-null float64\n",
      "fraction_to_poi              146 non-null float64\n",
      "shared_receipt_poi_ratio     146 non-null float64\n",
      "bonus_to_salary              146 non-null float64\n",
      "bonus_to_total               146 non-null float64\n",
      "dtypes: float64(25), object(2)\n",
      "memory usage: 36.9+ KB\n"
     ]
    }
   ],
   "source": [
    "enron_data.info()"
   ]
  },
  {
   "cell_type": "code",
   "execution_count": 36,
   "metadata": {},
   "outputs": [
    {
     "name": "stdout",
     "output_type": "stream",
     "text": [
      "<class 'pandas.core.frame.DataFrame'>\n",
      "Int64Index: 146 entries, 0 to 32\n",
      "Data columns (total 27 columns):\n",
      "name                         146 non-null object\n",
      "bonus                        146 non-null float64\n",
      "deferral_payments            146 non-null float64\n",
      "deferred_income              146 non-null float64\n",
      "director_fees                146 non-null float64\n",
      "email_address                146 non-null object\n",
      "exercised_stock_options      146 non-null float64\n",
      "expenses                     146 non-null float64\n",
      "from_messages                146 non-null float64\n",
      "from_poi_to_this_person      146 non-null float64\n",
      "from_this_person_to_poi      146 non-null float64\n",
      "loan_advances                146 non-null float64\n",
      "long_term_incentive          146 non-null float64\n",
      "other                        146 non-null float64\n",
      "poi                          146 non-null float64\n",
      "restricted_stock             146 non-null float64\n",
      "restricted_stock_deferred    146 non-null float64\n",
      "salary                       146 non-null float64\n",
      "shared_receipt_with_poi      146 non-null float64\n",
      "to_messages                  146 non-null float64\n",
      "total_payments               146 non-null float64\n",
      "total_stock_value            146 non-null float64\n",
      "fraction_from_poi            146 non-null float64\n",
      "fraction_to_poi              146 non-null float64\n",
      "shared_receipt_poi_ratio     146 non-null float64\n",
      "bonus_to_salary              146 non-null float64\n",
      "bonus_to_total               146 non-null float64\n",
      "dtypes: float64(25), object(2)\n",
      "memory usage: 36.9+ KB\n"
     ]
    }
   ],
   "source": [
    "### Replacing the missing values with 0\n",
    "enron_data.fillna(0, inplace=True)\n",
    "enron_data.replace(to_replace='NaN', value=0.0, inplace=True)\n",
    "\n",
    "enron_data.info()"
   ]
  },
  {
   "cell_type": "code",
   "execution_count": 37,
   "metadata": {},
   "outputs": [],
   "source": [
    "### Selecing the most important features for the given data\n",
    "\n",
    "# Converting the boolean type of poi column to float values for classification\n",
    "enron_data[\"poi\"] = enron_data[\"poi\"].astype(float)\n",
    "\n",
    "features_list = ['to_messages', 'deferral_payments', 'bonus_to_salary',\n",
    "                 'loan_advances', 'bonus_to_total', 'restricted_stock_deferred',\n",
    "                 'deferred_income', 'total_stock_value', 'expenses',\n",
    "                 'from_poi_to_this_person', 'exercised_stock_options', 'from_messages',\n",
    "                 'other', 'from_this_person_to_poi', 'long_term_incentive',\n",
    "                 'shared_receipt_poi_ratio', 'restricted_stock', 'director_fees',\n",
    "                 'fraction_from_poi', 'fraction_to_poi']"
   ]
  },
  {
   "cell_type": "code",
   "execution_count": 38,
   "metadata": {},
   "outputs": [],
   "source": [
    "labels = enron_data[\"poi\"].tolist()\n",
    "features = enron_data[features_list].values.tolist()"
   ]
  },
  {
   "cell_type": "code",
   "execution_count": 39,
   "metadata": {},
   "outputs": [],
   "source": [
    "# Performing feature selection\n",
    "selector = SelectKBest(f_classif, k=19)\n",
    "selector.fit(features, labels)\n",
    "\n",
    "scores = -np.log10(selector.pvalues_)"
   ]
  },
  {
   "cell_type": "code",
   "execution_count": 40,
   "metadata": {},
   "outputs": [
    {
     "data": {
      "image/png": "[encoded data removed]",
      "text/plain": [
       "<Figure size 576x648 with 1 Axes>"
      ]
     },
     "metadata": {
      "needs_background": "light"
     },
     "output_type": "display_data"
    }
   ],
   "source": [
    "# Plotting the features wrt scores\n",
    "figure, axes = plt.subplots(figsize=(8,9))\n",
    "axes.barh(features_list, width=scores)\n",
    "axes.set_yticklabels(features_list, fontsize=14)\n",
    "axes.set_xlabel(\"Scores\")\n",
    "axes.set_title(\"Scores of Features\", fontsize=16)\n",
    "axes.spines['right'].set_visible(False)\n",
    "axes.spines['top'].set_visible(False)\n",
    "plt.show()"
   ]
  },
  {
   "cell_type": "code",
   "execution_count": 41,
   "metadata": {},
   "outputs": [],
   "source": [
    "### Updated Features\n",
    "\n",
    "# Selecting all the features with score > 2\n",
    "updated_features_list = [\"bonus_to_total\", \"loan_advances\", \"bonus_to_salary\", \"deferred_income\",\n",
    "                         \"total_stock_value\", \"exercised_stock_options\", \"long_term_incentive\",\n",
    "                         \"shared_receipt_poi_ratio\", \"restricted_stock\", \"fraction_to_poi\"]\n",
    "\n",
    "labels = enron_data[\"poi\"].tolist()\n",
    "features = enron_data[features_list].values.tolist()"
   ]
  },
  {
   "cell_type": "code",
   "execution_count": 42,
   "metadata": {},
   "outputs": [],
   "source": [
    "# Splitting up the data\n",
    "features_train, features_test, labels_train, labels_test = train_test_split(features, labels, test_size=0.3, random_state=67)"
   ]
  },
  {
   "cell_type": "code",
   "execution_count": 43,
   "metadata": {},
   "outputs": [
    {
     "name": "stderr",
     "output_type": "stream",
     "text": [
      "C:\\Users\\USER\\Anaconda3\\lib\\site-packages\\sklearn\\metrics\\classification.py:1437: UndefinedMetricWarning: Precision is ill-defined and being set to 0.0 due to no predicted samples.\n",
      "  'precision', 'predicted', average, warn_for)\n",
      "C:\\Users\\USER\\Anaconda3\\lib\\site-packages\\sklearn\\metrics\\classification.py:1437: UndefinedMetricWarning: F-score is ill-defined and being set to 0.0 due to no predicted samples.\n",
      "  'precision', 'predicted', average, warn_for)\n",
      "C:\\Users\\USER\\Anaconda3\\lib\\site-packages\\sklearn\\metrics\\classification.py:1437: UndefinedMetricWarning: Precision is ill-defined and being set to 0.0 due to no predicted samples.\n",
      "  'precision', 'predicted', average, warn_for)\n",
      "C:\\Users\\USER\\Anaconda3\\lib\\site-packages\\sklearn\\metrics\\classification.py:1437: UndefinedMetricWarning: F-score is ill-defined and being set to 0.0 due to no predicted samples.\n",
      "  'precision', 'predicted', average, warn_for)\n",
      "C:\\Users\\USER\\Anaconda3\\lib\\site-packages\\sklearn\\linear_model\\logistic.py:432: FutureWarning: Default solver will be changed to 'lbfgs' in 0.22. Specify a solver to silence this warning.\n",
      "  FutureWarning)\n"
     ]
    },
    {
     "data": {
      "text/html": [
       "<div>\n",
       "<style scoped>\n",
       "    .dataframe tbody tr th:only-of-type {\n",
       "        vertical-align: middle;\n",
       "    }\n",
       "\n",
       "    .dataframe tbody tr th {\n",
       "        vertical-align: top;\n",
       "    }\n",
       "\n",
       "    .dataframe thead th {\n",
       "        text-align: right;\n",
       "    }\n",
       "</style>\n",
       "<table border=\"1\" class=\"dataframe\">\n",
       "  <thead>\n",
       "    <tr style=\"text-align: right;\">\n",
       "      <th></th>\n",
       "      <th>Algorithm</th>\n",
       "      <th>Accuracy</th>\n",
       "      <th>Precision</th>\n",
       "      <th>Recall</th>\n",
       "      <th>F1-Score</th>\n",
       "    </tr>\n",
       "  </thead>\n",
       "  <tbody>\n",
       "    <tr>\n",
       "      <td>0</td>\n",
       "      <td>Decision Tree Classifier</td>\n",
       "      <td>0.863636</td>\n",
       "      <td>0.400000</td>\n",
       "      <td>0.4</td>\n",
       "      <td>0.4000</td>\n",
       "    </tr>\n",
       "    <tr>\n",
       "      <td>1</td>\n",
       "      <td>Gaussian Naive Bayes</td>\n",
       "      <td>0.500000</td>\n",
       "      <td>0.185185</td>\n",
       "      <td>1.0</td>\n",
       "      <td>0.3125</td>\n",
       "    </tr>\n",
       "    <tr>\n",
       "      <td>2</td>\n",
       "      <td>Random Forest Classifier</td>\n",
       "      <td>0.886364</td>\n",
       "      <td>0.000000</td>\n",
       "      <td>0.0</td>\n",
       "      <td>0.0000</td>\n",
       "    </tr>\n",
       "    <tr>\n",
       "      <td>3</td>\n",
       "      <td>K Nearest Neighbors</td>\n",
       "      <td>0.886364</td>\n",
       "      <td>0.000000</td>\n",
       "      <td>0.0</td>\n",
       "      <td>0.0000</td>\n",
       "    </tr>\n",
       "    <tr>\n",
       "      <td>4</td>\n",
       "      <td>Ada Boost Classifier</td>\n",
       "      <td>0.863636</td>\n",
       "      <td>0.000000</td>\n",
       "      <td>0.0</td>\n",
       "      <td>0.0000</td>\n",
       "    </tr>\n",
       "    <tr>\n",
       "      <td>5</td>\n",
       "      <td>Logistic Regression</td>\n",
       "      <td>0.840909</td>\n",
       "      <td>0.000000</td>\n",
       "      <td>0.0</td>\n",
       "      <td>0.0000</td>\n",
       "    </tr>\n",
       "  </tbody>\n",
       "</table>\n",
       "</div>"
      ],
      "text/plain": [
       "                  Algorithm  Accuracy  Precision  Recall  F1-Score\n",
       "0  Decision Tree Classifier  0.863636   0.400000     0.4    0.4000\n",
       "1      Gaussian Naive Bayes  0.500000   0.185185     1.0    0.3125\n",
       "2  Random Forest Classifier  0.886364   0.000000     0.0    0.0000\n",
       "3       K Nearest Neighbors  0.886364   0.000000     0.0    0.0000\n",
       "4      Ada Boost Classifier  0.863636   0.000000     0.0    0.0000\n",
       "5       Logistic Regression  0.840909   0.000000     0.0    0.0000"
      ]
     },
     "execution_count": 43,
     "metadata": {},
     "output_type": "execute_result"
    }
   ],
   "source": [
    "algorithms = []\n",
    "accuracy = []\n",
    "precision = []\n",
    "recall = []\n",
    "f1score = []\n",
    "\n",
    "models = [(\"Decision Tree Classifier\", DecisionTreeClassifier(random_state=42)),\n",
    "          (\"Gaussian Naive Bayes\", GaussianNB()),\n",
    "          (\"Random Forest Classifier\", RandomForestClassifier(random_state=42, n_estimators=100)),\n",
    "          (\"K Nearest Neighbors\", KNeighborsClassifier()),\n",
    "          (\"Ada Boost Classifier\", AdaBoostClassifier(random_state=42)),\n",
    "          (\"Logistic Regression\", LogisticRegression())]\n",
    "\n",
    "for name, model in models:\n",
    "    clf = model\n",
    "    clf.fit(features_train, labels_train)\n",
    "    predicitons = clf.predict(features_test)\n",
    "    algorithms.append(name)\n",
    "    accuracy.append(accuracy_score(labels_test, predicitons))\n",
    "    precision.append(precision_score(labels_test, predicitons))\n",
    "    recall.append(recall_score(labels_test, predicitons))\n",
    "    f1score.append(f1_score(labels_test, predicitons))\n",
    "\n",
    "evaluation_matrix = {\"Algorithm\": algorithms, \"Accuracy\": accuracy,\n",
    "              \"Precision\": precision, \"Recall\": recall,\n",
    "              \"F1-Score\": f1score}\n",
    "evaluation = pd.DataFrame(evaluation_matrix)\n",
    "evaluation"
   ]
  },
  {
   "cell_type": "code",
   "execution_count": null,
   "metadata": {},
   "outputs": [],
   "source": []
  }
 ],
 "metadata": {
  "kernelspec": {
   "display_name": "Python 3",
   "language": "python",
   "name": "python3"
  },
  "language_info": {
   "codemirror_mode": {
    "name": "ipython",
    "version": 3
   },
   "file_extension": ".py",
   "mimetype": "text/x-python",
   "name": "python",
   "nbconvert_exporter": "python",
   "pygments_lexer": "ipython3",
   "version": "3.7.4"
  }
 },
 "nbformat": 4,
 "nbformat_minor": 2
}
