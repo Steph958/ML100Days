{
 "cells": [
  {
   "cell_type": "markdown",
   "metadata": {},
   "source": [
    "# 資料說明:\n",
    "\n",
    "機器學習百日馬拉松期中考 - Enron Fraud Dataset 安隆公司詐欺案資料集\n",
    "\n",
    "安隆公司曾是一間能源公司，2001 年破產前是世界上最大的電力、天然氣及電信公司之一。擁有上千億資產的公司於 2002 年竟然在短短幾周內宣告破產，才揭露其財報在多年以來均是造假的醜聞。在本資料集中你將會扮演偵探的角色，透過高層經理人內部的 mail 來往的情報以及薪資、股票等財務特徵，訓練出一個機器學習模型來幫忙你找到可疑的詐欺犯罪者是誰! 我們已經先幫你找到幾位犯罪者 (Person-of-Interest, poi) 與清白的員工，請利用這些訓練資料來訓練屬於自己的詐欺犯機器學習模型吧!\n",
    "\n",
    "# 資料來源:\n",
    "\n",
    "https://www.kaggle.com/c/2020-ml100marathon-midterm/data\n",
    "\n",
    "# 關鍵問題:\n",
    "\n",
    "參考:\n",
    "https://docs.google.com/document/d/1XxV5_gN0E4oEYvk4ovYwepjNxCAMdAFqcSacHMrd7U0/edit?usp=sharing\n",
    "\n",
    "# 目標變數:POI\n",
    "\n",
    "A POI is anyone who has been indicted, settled without admitting the guilt and testified in exchange for immunity."
   ]
  },
  {
   "cell_type": "markdown",
   "metadata": {},
   "source": [
    "# STEP 1:載入套件 & 讀取資料"
   ]
  },
  {
   "cell_type": "code",
   "execution_count": 81,
   "metadata": {},
   "outputs": [],
   "source": [
    "### Importing Common Modules needed for project\n",
    "from time import time   # For calculating training time\n",
    "import pandas as pd    \n",
    "import pickle      # Pickle is used to load .pkl dataset files\n",
    "import matplotlib.pyplot as plt    \n",
    "from sklearn.feature_selection import SelectKBest, f_classif    # For Selecting K-Best features of availabel ones\n",
    "from sklearn.model_selection import train_test_split, GridSearchCV   \n",
    "from sklearn.model_selection import StratifiedShuffleSplit   # For Cross-Validation\n",
    "from sklearn.metrics import accuracy_score, precision_score, recall_score, f1_score \n",
    "import numpy as np     \n",
    "    \n",
    "### Importing Models from sklearn\n",
    "from sklearn.tree import DecisionTreeClassifier\n",
    "from sklearn.naive_bayes import GaussianNB\n",
    "from sklearn.ensemble import RandomForestClassifier\n",
    "from sklearn.svm import SVC\n",
    "from sklearn.neighbors import KNeighborsClassifier\n",
    "from sklearn.ensemble import AdaBoostClassifier\n",
    "from sklearn.linear_model import LogisticRegression\n",
    "\n",
    "import seaborn as sns\n",
    "%matplotlib inline\n",
    "\n",
    "import warnings\n",
    "warnings.filterwarnings('ignore')"
   ]
  },
  {
   "cell_type": "code",
   "execution_count": 82,
   "metadata": {},
   "outputs": [
    {
     "name": "stdout",
     "output_type": "stream",
     "text": [
      "(113, 22)\n",
      "(33, 21)\n"
     ]
    }
   ],
   "source": [
    "train = pd.read_csv('C:/Users/USER/Desktop/Github/ML100Days/Midtern Exam_Kaggle_Project/train_data.csv')\n",
    "test = pd.read_csv('C:/Users/USER/Desktop/Github/ML100Days/Midtern Exam_Kaggle_Project/test_features.csv')\n",
    "sample_submission = pd.read_csv('C:/Users/USER/Desktop/Github/ML100Days/Midtern Exam_Kaggle_Project/sample_submission.csv')\n",
    "\n",
    "print(train.shape) #多一個目標變數POI欄位\n",
    "print(test.shape)"
   ]
  },
  {
   "cell_type": "code",
   "execution_count": 83,
   "metadata": {},
   "outputs": [
    {
     "name": "stdout",
     "output_type": "stream",
     "text": [
      "(113, 22)\n",
      "(33, 21)\n",
      "(146, 22)\n"
     ]
    },
    {
     "data": {
      "text/html": [
       "<div>\n",
       "<style scoped>\n",
       "    .dataframe tbody tr th:only-of-type {\n",
       "        vertical-align: middle;\n",
       "    }\n",
       "\n",
       "    .dataframe tbody tr th {\n",
       "        vertical-align: top;\n",
       "    }\n",
       "\n",
       "    .dataframe thead th {\n",
       "        text-align: right;\n",
       "    }\n",
       "</style>\n",
       "<table border=\"1\" class=\"dataframe\">\n",
       "  <thead>\n",
       "    <tr style=\"text-align: right;\">\n",
       "      <th></th>\n",
       "      <th>bonus</th>\n",
       "      <th>deferral_payments</th>\n",
       "      <th>deferred_income</th>\n",
       "      <th>director_fees</th>\n",
       "      <th>email_address</th>\n",
       "      <th>exercised_stock_options</th>\n",
       "      <th>expenses</th>\n",
       "      <th>from_messages</th>\n",
       "      <th>from_poi_to_this_person</th>\n",
       "      <th>from_this_person_to_poi</th>\n",
       "      <th>...</th>\n",
       "      <th>name</th>\n",
       "      <th>other</th>\n",
       "      <th>poi</th>\n",
       "      <th>restricted_stock</th>\n",
       "      <th>restricted_stock_deferred</th>\n",
       "      <th>salary</th>\n",
       "      <th>shared_receipt_with_poi</th>\n",
       "      <th>to_messages</th>\n",
       "      <th>total_payments</th>\n",
       "      <th>total_stock_value</th>\n",
       "    </tr>\n",
       "  </thead>\n",
       "  <tbody>\n",
       "    <tr>\n",
       "      <td>0</td>\n",
       "      <td>1750000.0</td>\n",
       "      <td>NaN</td>\n",
       "      <td>-3504386.0</td>\n",
       "      <td>NaN</td>\n",
       "      <td>ken.rice@enron.com</td>\n",
       "      <td>19794175.0</td>\n",
       "      <td>46950.0</td>\n",
       "      <td>18.0</td>\n",
       "      <td>42.0</td>\n",
       "      <td>4.0</td>\n",
       "      <td>...</td>\n",
       "      <td>RICE KENNETH D</td>\n",
       "      <td>174839.0</td>\n",
       "      <td>True</td>\n",
       "      <td>2748364.0</td>\n",
       "      <td>NaN</td>\n",
       "      <td>420636.0</td>\n",
       "      <td>864.0</td>\n",
       "      <td>905.0</td>\n",
       "      <td>505050.0</td>\n",
       "      <td>22542539.0</td>\n",
       "    </tr>\n",
       "    <tr>\n",
       "      <td>1</td>\n",
       "      <td>5600000.0</td>\n",
       "      <td>NaN</td>\n",
       "      <td>NaN</td>\n",
       "      <td>NaN</td>\n",
       "      <td>jeff.skilling@enron.com</td>\n",
       "      <td>19250000.0</td>\n",
       "      <td>29336.0</td>\n",
       "      <td>108.0</td>\n",
       "      <td>88.0</td>\n",
       "      <td>30.0</td>\n",
       "      <td>...</td>\n",
       "      <td>SKILLING JEFFREY K</td>\n",
       "      <td>22122.0</td>\n",
       "      <td>True</td>\n",
       "      <td>6843672.0</td>\n",
       "      <td>NaN</td>\n",
       "      <td>1111258.0</td>\n",
       "      <td>2042.0</td>\n",
       "      <td>3627.0</td>\n",
       "      <td>8682716.0</td>\n",
       "      <td>26093672.0</td>\n",
       "    </tr>\n",
       "    <tr>\n",
       "      <td>2</td>\n",
       "      <td>200000.0</td>\n",
       "      <td>NaN</td>\n",
       "      <td>-4167.0</td>\n",
       "      <td>NaN</td>\n",
       "      <td>rex.shelby@enron.com</td>\n",
       "      <td>1624396.0</td>\n",
       "      <td>22884.0</td>\n",
       "      <td>39.0</td>\n",
       "      <td>13.0</td>\n",
       "      <td>14.0</td>\n",
       "      <td>...</td>\n",
       "      <td>SHELBY REX</td>\n",
       "      <td>1573324.0</td>\n",
       "      <td>True</td>\n",
       "      <td>869220.0</td>\n",
       "      <td>NaN</td>\n",
       "      <td>211844.0</td>\n",
       "      <td>91.0</td>\n",
       "      <td>225.0</td>\n",
       "      <td>2003885.0</td>\n",
       "      <td>2493616.0</td>\n",
       "    </tr>\n",
       "    <tr>\n",
       "      <td>3</td>\n",
       "      <td>800000.0</td>\n",
       "      <td>NaN</td>\n",
       "      <td>NaN</td>\n",
       "      <td>NaN</td>\n",
       "      <td>michael.kopper@enron.com</td>\n",
       "      <td>NaN</td>\n",
       "      <td>118134.0</td>\n",
       "      <td>NaN</td>\n",
       "      <td>NaN</td>\n",
       "      <td>NaN</td>\n",
       "      <td>...</td>\n",
       "      <td>KOPPER MICHAEL J</td>\n",
       "      <td>907502.0</td>\n",
       "      <td>True</td>\n",
       "      <td>985032.0</td>\n",
       "      <td>NaN</td>\n",
       "      <td>224305.0</td>\n",
       "      <td>NaN</td>\n",
       "      <td>NaN</td>\n",
       "      <td>2652612.0</td>\n",
       "      <td>985032.0</td>\n",
       "    </tr>\n",
       "    <tr>\n",
       "      <td>4</td>\n",
       "      <td>1250000.0</td>\n",
       "      <td>NaN</td>\n",
       "      <td>-262500.0</td>\n",
       "      <td>NaN</td>\n",
       "      <td>christopher.calger@enron.com</td>\n",
       "      <td>NaN</td>\n",
       "      <td>35818.0</td>\n",
       "      <td>144.0</td>\n",
       "      <td>199.0</td>\n",
       "      <td>25.0</td>\n",
       "      <td>...</td>\n",
       "      <td>CALGER CHRISTOPHER F</td>\n",
       "      <td>486.0</td>\n",
       "      <td>True</td>\n",
       "      <td>126027.0</td>\n",
       "      <td>NaN</td>\n",
       "      <td>240189.0</td>\n",
       "      <td>2188.0</td>\n",
       "      <td>2598.0</td>\n",
       "      <td>1639297.0</td>\n",
       "      <td>126027.0</td>\n",
       "    </tr>\n",
       "  </tbody>\n",
       "</table>\n",
       "<p>5 rows × 22 columns</p>\n",
       "</div>"
      ],
      "text/plain": [
       "       bonus  deferral_payments  deferred_income  director_fees  \\\n",
       "0  1750000.0                NaN       -3504386.0            NaN   \n",
       "1  5600000.0                NaN              NaN            NaN   \n",
       "2   200000.0                NaN          -4167.0            NaN   \n",
       "3   800000.0                NaN              NaN            NaN   \n",
       "4  1250000.0                NaN        -262500.0            NaN   \n",
       "\n",
       "                  email_address  exercised_stock_options  expenses  \\\n",
       "0            ken.rice@enron.com               19794175.0   46950.0   \n",
       "1       jeff.skilling@enron.com               19250000.0   29336.0   \n",
       "2          rex.shelby@enron.com                1624396.0   22884.0   \n",
       "3      michael.kopper@enron.com                      NaN  118134.0   \n",
       "4  christopher.calger@enron.com                      NaN   35818.0   \n",
       "\n",
       "   from_messages  from_poi_to_this_person  from_this_person_to_poi  ...  \\\n",
       "0           18.0                     42.0                      4.0  ...   \n",
       "1          108.0                     88.0                     30.0  ...   \n",
       "2           39.0                     13.0                     14.0  ...   \n",
       "3            NaN                      NaN                      NaN  ...   \n",
       "4          144.0                    199.0                     25.0  ...   \n",
       "\n",
       "                   name      other   poi  restricted_stock  \\\n",
       "0        RICE KENNETH D   174839.0  True         2748364.0   \n",
       "1    SKILLING JEFFREY K    22122.0  True         6843672.0   \n",
       "2            SHELBY REX  1573324.0  True          869220.0   \n",
       "3      KOPPER MICHAEL J   907502.0  True          985032.0   \n",
       "4  CALGER CHRISTOPHER F      486.0  True          126027.0   \n",
       "\n",
       "  restricted_stock_deferred     salary  shared_receipt_with_poi  to_messages  \\\n",
       "0                       NaN   420636.0                    864.0        905.0   \n",
       "1                       NaN  1111258.0                   2042.0       3627.0   \n",
       "2                       NaN   211844.0                     91.0        225.0   \n",
       "3                       NaN   224305.0                      NaN          NaN   \n",
       "4                       NaN   240189.0                   2188.0       2598.0   \n",
       "\n",
       "   total_payments  total_stock_value  \n",
       "0        505050.0         22542539.0  \n",
       "1       8682716.0         26093672.0  \n",
       "2       2003885.0          2493616.0  \n",
       "3       2652612.0           985032.0  \n",
       "4       1639297.0           126027.0  \n",
       "\n",
       "[5 rows x 22 columns]"
      ]
     },
     "execution_count": 83,
     "metadata": {},
     "output_type": "execute_result"
    }
   ],
   "source": [
    "train_Y = train['poi']\n",
    "ids = test['name']  #最後繳交檔案時需要用到\n",
    "\n",
    "enron_data = pd.concat([train,test])\n",
    "\n",
    "print(train.shape)\n",
    "print(test.shape)\n",
    "print(enron_data.shape)\n",
    "\n",
    "enron_data.head()"
   ]
  },
  {
   "cell_type": "code",
   "execution_count": 216,
   "metadata": {},
   "outputs": [
    {
     "data": {
      "text/plain": [
       "33"
      ]
     },
     "execution_count": 216,
     "metadata": {},
     "output_type": "execute_result"
    }
   ],
   "source": [
    "len(ids)"
   ]
  },
  {
   "cell_type": "code",
   "execution_count": 84,
   "metadata": {},
   "outputs": [
    {
     "name": "stdout",
     "output_type": "stream",
     "text": [
      "There are total of 146 people in the dataset\n",
      "Out of which 13 are POI\n"
     ]
    }
   ],
   "source": [
    "print(\"There are total of {} people in the dataset\".format(len(enron_data.index)))\n",
    "print(\"Out of which {} are POI\".format(enron_data['poi'].value_counts()[True]))"
   ]
  },
  {
   "cell_type": "code",
   "execution_count": 85,
   "metadata": {},
   "outputs": [
    {
     "data": {
      "text/html": [
       "<div>\n",
       "<style scoped>\n",
       "    .dataframe tbody tr th:only-of-type {\n",
       "        vertical-align: middle;\n",
       "    }\n",
       "\n",
       "    .dataframe tbody tr th {\n",
       "        vertical-align: top;\n",
       "    }\n",
       "\n",
       "    .dataframe thead th {\n",
       "        text-align: right;\n",
       "    }\n",
       "</style>\n",
       "<table border=\"1\" class=\"dataframe\">\n",
       "  <thead>\n",
       "    <tr style=\"text-align: right;\">\n",
       "      <th></th>\n",
       "      <th>count</th>\n",
       "      <th>mean</th>\n",
       "      <th>std</th>\n",
       "      <th>min</th>\n",
       "      <th>25%</th>\n",
       "      <th>50%</th>\n",
       "      <th>75%</th>\n",
       "      <th>max</th>\n",
       "    </tr>\n",
       "  </thead>\n",
       "  <tbody>\n",
       "    <tr>\n",
       "      <td>bonus</td>\n",
       "      <td>82.0</td>\n",
       "      <td>2.374235e+06</td>\n",
       "      <td>1.071333e+07</td>\n",
       "      <td>70000.0</td>\n",
       "      <td>431250.00</td>\n",
       "      <td>769375.0</td>\n",
       "      <td>1200000.00</td>\n",
       "      <td>97343619.0</td>\n",
       "    </tr>\n",
       "    <tr>\n",
       "      <td>deferral_payments</td>\n",
       "      <td>39.0</td>\n",
       "      <td>1.642674e+06</td>\n",
       "      <td>5.161930e+06</td>\n",
       "      <td>-102500.0</td>\n",
       "      <td>81573.00</td>\n",
       "      <td>227449.0</td>\n",
       "      <td>1002671.50</td>\n",
       "      <td>32083396.0</td>\n",
       "    </tr>\n",
       "    <tr>\n",
       "      <td>deferred_income</td>\n",
       "      <td>49.0</td>\n",
       "      <td>-1.140475e+06</td>\n",
       "      <td>4.025406e+06</td>\n",
       "      <td>-27992891.0</td>\n",
       "      <td>-694862.00</td>\n",
       "      <td>-159792.0</td>\n",
       "      <td>-38346.00</td>\n",
       "      <td>-833.0</td>\n",
       "    </tr>\n",
       "    <tr>\n",
       "      <td>director_fees</td>\n",
       "      <td>17.0</td>\n",
       "      <td>1.668049e+05</td>\n",
       "      <td>3.198914e+05</td>\n",
       "      <td>3285.0</td>\n",
       "      <td>98784.00</td>\n",
       "      <td>108579.0</td>\n",
       "      <td>113784.00</td>\n",
       "      <td>1398517.0</td>\n",
       "    </tr>\n",
       "    <tr>\n",
       "      <td>exercised_stock_options</td>\n",
       "      <td>102.0</td>\n",
       "      <td>5.987054e+06</td>\n",
       "      <td>3.106201e+07</td>\n",
       "      <td>3285.0</td>\n",
       "      <td>527886.25</td>\n",
       "      <td>1310813.5</td>\n",
       "      <td>2547724.00</td>\n",
       "      <td>311764000.0</td>\n",
       "    </tr>\n",
       "    <tr>\n",
       "      <td>expenses</td>\n",
       "      <td>95.0</td>\n",
       "      <td>1.087289e+05</td>\n",
       "      <td>5.335348e+05</td>\n",
       "      <td>148.0</td>\n",
       "      <td>22614.00</td>\n",
       "      <td>46950.0</td>\n",
       "      <td>79952.50</td>\n",
       "      <td>5235198.0</td>\n",
       "    </tr>\n",
       "    <tr>\n",
       "      <td>from_messages</td>\n",
       "      <td>86.0</td>\n",
       "      <td>6.087907e+02</td>\n",
       "      <td>1.841034e+03</td>\n",
       "      <td>12.0</td>\n",
       "      <td>22.75</td>\n",
       "      <td>41.0</td>\n",
       "      <td>145.50</td>\n",
       "      <td>14368.0</td>\n",
       "    </tr>\n",
       "    <tr>\n",
       "      <td>from_poi_to_this_person</td>\n",
       "      <td>86.0</td>\n",
       "      <td>6.489535e+01</td>\n",
       "      <td>8.697924e+01</td>\n",
       "      <td>0.0</td>\n",
       "      <td>10.00</td>\n",
       "      <td>35.0</td>\n",
       "      <td>72.25</td>\n",
       "      <td>528.0</td>\n",
       "    </tr>\n",
       "    <tr>\n",
       "      <td>from_this_person_to_poi</td>\n",
       "      <td>86.0</td>\n",
       "      <td>4.123256e+01</td>\n",
       "      <td>1.000731e+02</td>\n",
       "      <td>0.0</td>\n",
       "      <td>1.00</td>\n",
       "      <td>8.0</td>\n",
       "      <td>24.75</td>\n",
       "      <td>609.0</td>\n",
       "    </tr>\n",
       "    <tr>\n",
       "      <td>loan_advances</td>\n",
       "      <td>4.0</td>\n",
       "      <td>4.196250e+07</td>\n",
       "      <td>4.708321e+07</td>\n",
       "      <td>400000.0</td>\n",
       "      <td>1600000.00</td>\n",
       "      <td>41762500.0</td>\n",
       "      <td>82125000.00</td>\n",
       "      <td>83925000.0</td>\n",
       "    </tr>\n",
       "    <tr>\n",
       "      <td>long_term_incentive</td>\n",
       "      <td>66.0</td>\n",
       "      <td>1.470361e+06</td>\n",
       "      <td>5.942759e+06</td>\n",
       "      <td>69223.0</td>\n",
       "      <td>281250.00</td>\n",
       "      <td>442035.0</td>\n",
       "      <td>938672.00</td>\n",
       "      <td>48521928.0</td>\n",
       "    </tr>\n",
       "    <tr>\n",
       "      <td>other</td>\n",
       "      <td>93.0</td>\n",
       "      <td>9.190650e+05</td>\n",
       "      <td>4.589253e+06</td>\n",
       "      <td>2.0</td>\n",
       "      <td>1215.00</td>\n",
       "      <td>52382.0</td>\n",
       "      <td>362096.00</td>\n",
       "      <td>42667589.0</td>\n",
       "    </tr>\n",
       "    <tr>\n",
       "      <td>restricted_stock</td>\n",
       "      <td>110.0</td>\n",
       "      <td>2.321741e+06</td>\n",
       "      <td>1.251828e+07</td>\n",
       "      <td>-2604490.0</td>\n",
       "      <td>254018.00</td>\n",
       "      <td>451740.0</td>\n",
       "      <td>1002369.75</td>\n",
       "      <td>130322299.0</td>\n",
       "    </tr>\n",
       "    <tr>\n",
       "      <td>restricted_stock_deferred</td>\n",
       "      <td>18.0</td>\n",
       "      <td>1.664106e+05</td>\n",
       "      <td>4.201494e+06</td>\n",
       "      <td>-7576788.0</td>\n",
       "      <td>-389621.75</td>\n",
       "      <td>-146975.0</td>\n",
       "      <td>-75009.75</td>\n",
       "      <td>15456290.0</td>\n",
       "    </tr>\n",
       "    <tr>\n",
       "      <td>salary</td>\n",
       "      <td>95.0</td>\n",
       "      <td>5.621943e+05</td>\n",
       "      <td>2.716369e+06</td>\n",
       "      <td>477.0</td>\n",
       "      <td>211816.00</td>\n",
       "      <td>259996.0</td>\n",
       "      <td>312117.00</td>\n",
       "      <td>26704229.0</td>\n",
       "    </tr>\n",
       "    <tr>\n",
       "      <td>shared_receipt_with_poi</td>\n",
       "      <td>86.0</td>\n",
       "      <td>1.176465e+03</td>\n",
       "      <td>1.178318e+03</td>\n",
       "      <td>2.0</td>\n",
       "      <td>249.75</td>\n",
       "      <td>740.5</td>\n",
       "      <td>1888.25</td>\n",
       "      <td>5521.0</td>\n",
       "    </tr>\n",
       "    <tr>\n",
       "      <td>to_messages</td>\n",
       "      <td>86.0</td>\n",
       "      <td>2.073860e+03</td>\n",
       "      <td>2.582701e+03</td>\n",
       "      <td>57.0</td>\n",
       "      <td>541.25</td>\n",
       "      <td>1211.0</td>\n",
       "      <td>2634.75</td>\n",
       "      <td>15149.0</td>\n",
       "    </tr>\n",
       "    <tr>\n",
       "      <td>total_payments</td>\n",
       "      <td>125.0</td>\n",
       "      <td>5.081526e+06</td>\n",
       "      <td>2.906172e+07</td>\n",
       "      <td>148.0</td>\n",
       "      <td>394475.00</td>\n",
       "      <td>1101393.0</td>\n",
       "      <td>2093263.00</td>\n",
       "      <td>309886585.0</td>\n",
       "    </tr>\n",
       "    <tr>\n",
       "      <td>total_stock_value</td>\n",
       "      <td>126.0</td>\n",
       "      <td>6.773957e+06</td>\n",
       "      <td>3.895777e+07</td>\n",
       "      <td>-44093.0</td>\n",
       "      <td>494510.25</td>\n",
       "      <td>1102872.5</td>\n",
       "      <td>2949846.75</td>\n",
       "      <td>434509511.0</td>\n",
       "    </tr>\n",
       "  </tbody>\n",
       "</table>\n",
       "</div>"
      ],
      "text/plain": [
       "                           count          mean           std         min  \\\n",
       "bonus                       82.0  2.374235e+06  1.071333e+07     70000.0   \n",
       "deferral_payments           39.0  1.642674e+06  5.161930e+06   -102500.0   \n",
       "deferred_income             49.0 -1.140475e+06  4.025406e+06 -27992891.0   \n",
       "director_fees               17.0  1.668049e+05  3.198914e+05      3285.0   \n",
       "exercised_stock_options    102.0  5.987054e+06  3.106201e+07      3285.0   \n",
       "expenses                    95.0  1.087289e+05  5.335348e+05       148.0   \n",
       "from_messages               86.0  6.087907e+02  1.841034e+03        12.0   \n",
       "from_poi_to_this_person     86.0  6.489535e+01  8.697924e+01         0.0   \n",
       "from_this_person_to_poi     86.0  4.123256e+01  1.000731e+02         0.0   \n",
       "loan_advances                4.0  4.196250e+07  4.708321e+07    400000.0   \n",
       "long_term_incentive         66.0  1.470361e+06  5.942759e+06     69223.0   \n",
       "other                       93.0  9.190650e+05  4.589253e+06         2.0   \n",
       "restricted_stock           110.0  2.321741e+06  1.251828e+07  -2604490.0   \n",
       "restricted_stock_deferred   18.0  1.664106e+05  4.201494e+06  -7576788.0   \n",
       "salary                      95.0  5.621943e+05  2.716369e+06       477.0   \n",
       "shared_receipt_with_poi     86.0  1.176465e+03  1.178318e+03         2.0   \n",
       "to_messages                 86.0  2.073860e+03  2.582701e+03        57.0   \n",
       "total_payments             125.0  5.081526e+06  2.906172e+07       148.0   \n",
       "total_stock_value          126.0  6.773957e+06  3.895777e+07    -44093.0   \n",
       "\n",
       "                                  25%         50%          75%          max  \n",
       "bonus                       431250.00    769375.0   1200000.00   97343619.0  \n",
       "deferral_payments            81573.00    227449.0   1002671.50   32083396.0  \n",
       "deferred_income            -694862.00   -159792.0    -38346.00       -833.0  \n",
       "director_fees                98784.00    108579.0    113784.00    1398517.0  \n",
       "exercised_stock_options     527886.25   1310813.5   2547724.00  311764000.0  \n",
       "expenses                     22614.00     46950.0     79952.50    5235198.0  \n",
       "from_messages                   22.75        41.0       145.50      14368.0  \n",
       "from_poi_to_this_person         10.00        35.0        72.25        528.0  \n",
       "from_this_person_to_poi          1.00         8.0        24.75        609.0  \n",
       "loan_advances              1600000.00  41762500.0  82125000.00   83925000.0  \n",
       "long_term_incentive         281250.00    442035.0    938672.00   48521928.0  \n",
       "other                         1215.00     52382.0    362096.00   42667589.0  \n",
       "restricted_stock            254018.00    451740.0   1002369.75  130322299.0  \n",
       "restricted_stock_deferred  -389621.75   -146975.0    -75009.75   15456290.0  \n",
       "salary                      211816.00    259996.0    312117.00   26704229.0  \n",
       "shared_receipt_with_poi        249.75       740.5      1888.25       5521.0  \n",
       "to_messages                    541.25      1211.0      2634.75      15149.0  \n",
       "total_payments              394475.00   1101393.0   2093263.00  309886585.0  \n",
       "total_stock_value           494510.25   1102872.5   2949846.75  434509511.0  "
      ]
     },
     "execution_count": 85,
     "metadata": {},
     "output_type": "execute_result"
    }
   ],
   "source": [
    "### Describing the DataFrame\n",
    "enron_data.describe().transpose()"
   ]
  },
  {
   "cell_type": "code",
   "execution_count": 86,
   "metadata": {},
   "outputs": [],
   "source": [
    "#在開始胡搞瞎搞之前，先備份起來:\n",
    "enron_data_backup1 = enron_data.copy()"
   ]
  },
  {
   "cell_type": "code",
   "execution_count": 87,
   "metadata": {},
   "outputs": [
    {
     "name": "stdout",
     "output_type": "stream",
     "text": [
      "<class 'pandas.core.frame.DataFrame'>\n",
      "Int64Index: 146 entries, 0 to 32\n",
      "Data columns (total 22 columns):\n",
      "bonus                        146 non-null float64\n",
      "deferral_payments            146 non-null float64\n",
      "deferred_income              146 non-null float64\n",
      "director_fees                146 non-null float64\n",
      "email_address                146 non-null object\n",
      "exercised_stock_options      146 non-null float64\n",
      "expenses                     146 non-null float64\n",
      "from_messages                146 non-null float64\n",
      "from_poi_to_this_person      146 non-null float64\n",
      "from_this_person_to_poi      146 non-null float64\n",
      "loan_advances                146 non-null float64\n",
      "long_term_incentive          146 non-null float64\n",
      "name                         146 non-null object\n",
      "other                        146 non-null float64\n",
      "poi                          146 non-null object\n",
      "restricted_stock             146 non-null float64\n",
      "restricted_stock_deferred    146 non-null float64\n",
      "salary                       146 non-null float64\n",
      "shared_receipt_with_poi      146 non-null float64\n",
      "to_messages                  146 non-null float64\n",
      "total_payments               146 non-null float64\n",
      "total_stock_value            146 non-null float64\n",
      "dtypes: float64(19), object(3)\n",
      "memory usage: 26.2+ KB\n"
     ]
    }
   ],
   "source": [
    "### Replacing the missing values with 0\n",
    "enron_data.fillna(0, inplace=True)\n",
    "enron_data.replace(to_replace='NaN', value=0.0, inplace=True)\n",
    "\n",
    "enron_data.info()"
   ]
  },
  {
   "cell_type": "markdown",
   "metadata": {},
   "source": [
    "# STEP 2:資料前處理"
   ]
  },
  {
   "cell_type": "code",
   "execution_count": 51,
   "metadata": {},
   "outputs": [],
   "source": [
    "enron_data = enron_data_backup1"
   ]
  },
  {
   "cell_type": "code",
   "execution_count": 90,
   "metadata": {},
   "outputs": [
    {
     "name": "stdout",
     "output_type": "stream",
     "text": [
      "Populating the interactive namespace from numpy and matplotlib\n"
     ]
    }
   ],
   "source": [
    "import matplotlib.pyplot as plt\n",
    "%matplotlib inline\n",
    "%pylab inline\n",
    "import seaborn as sns"
   ]
  },
  {
   "cell_type": "code",
   "execution_count": 91,
   "metadata": {},
   "outputs": [
    {
     "name": "stdout",
     "output_type": "stream",
     "text": [
      "poi\n",
      "False    363955.939850\n",
      "True     384793.692308\n",
      "Name: salary, dtype: float64\n"
     ]
    },
    {
     "data": {
      "text/plain": [
       "<matplotlib.axes._subplots.AxesSubplot at 0x211fbe82288>"
      ]
     },
     "execution_count": 91,
     "metadata": {},
     "output_type": "execute_result"
    },
    {
     "data": {
      "image/png": "[encoded data removed]",
      "text/plain": [
       "<Figure size 432x288 with 1 Axes>"
      ]
     },
     "metadata": {
      "needs_background": "light"
     },
     "output_type": "display_data"
    }
   ],
   "source": [
    "#先看薪資:\n",
    "\n",
    "average_salary = enron_data.groupby('poi').mean()['salary']\n",
    "print(average_salary)\n",
    "\n",
    "sns.boxplot(x='poi', y='salary', data=enron_data)"
   ]
  },
  {
   "cell_type": "code",
   "execution_count": 92,
   "metadata": {},
   "outputs": [
    {
     "name": "stdout",
     "output_type": "stream",
     "text": [
      "poi\n",
      "False    1.305167e+06\n",
      "True     1.623077e+06\n",
      "Name: bonus, dtype: float64\n"
     ]
    },
    {
     "data": {
      "text/plain": [
       "<matplotlib.axes._subplots.AxesSubplot at 0x211fc93d688>"
      ]
     },
     "execution_count": 92,
     "metadata": {},
     "output_type": "execute_result"
    },
    {
     "data": {
      "image/png": "[encoded data removed]",
      "text/plain": [
       "<Figure size 432x288 with 1 Axes>"
      ]
     },
     "metadata": {
      "needs_background": "light"
     },
     "output_type": "display_data"
    }
   ],
   "source": [
    "#看看bonus:\n",
    "\n",
    "average_bonus = enron_data.groupby('poi').mean()['bonus']\n",
    "print(average_bonus)\n",
    "\n",
    "sns.boxplot(x='poi',y='bonus',data=enron_data)"
   ]
  },
  {
   "cell_type": "markdown",
   "metadata": {},
   "source": [
    "從EDA中可以察覺bonus和salary中有離群值:"
   ]
  },
  {
   "cell_type": "code",
   "execution_count": 78,
   "metadata": {},
   "outputs": [
    {
     "data": {
      "text/html": [
       "<div>\n",
       "<style scoped>\n",
       "    .dataframe tbody tr th:only-of-type {\n",
       "        vertical-align: middle;\n",
       "    }\n",
       "\n",
       "    .dataframe tbody tr th {\n",
       "        vertical-align: top;\n",
       "    }\n",
       "\n",
       "    .dataframe thead th {\n",
       "        text-align: right;\n",
       "    }\n",
       "</style>\n",
       "<table border=\"1\" class=\"dataframe\">\n",
       "  <thead>\n",
       "    <tr style=\"text-align: right;\">\n",
       "      <th></th>\n",
       "      <th>name</th>\n",
       "      <th>salary</th>\n",
       "      <th>bonus</th>\n",
       "      <th>exercised_stock_options</th>\n",
       "      <th>restricted_stock</th>\n",
       "      <th>total_stock_value</th>\n",
       "      <th>poi</th>\n",
       "    </tr>\n",
       "  </thead>\n",
       "  <tbody>\n",
       "    <tr>\n",
       "      <td>1</td>\n",
       "      <td>SKILLING JEFFREY K</td>\n",
       "      <td>1111258.0</td>\n",
       "      <td>5600000.0</td>\n",
       "      <td>19250000.0</td>\n",
       "      <td>6843672.0</td>\n",
       "      <td>26093672.0</td>\n",
       "      <td>True</td>\n",
       "    </tr>\n",
       "    <tr>\n",
       "      <td>8</td>\n",
       "      <td>LAY KENNETH L</td>\n",
       "      <td>1072321.0</td>\n",
       "      <td>7000000.0</td>\n",
       "      <td>34348384.0</td>\n",
       "      <td>14761694.0</td>\n",
       "      <td>49110078.0</td>\n",
       "      <td>True</td>\n",
       "    </tr>\n",
       "    <tr>\n",
       "      <td>14</td>\n",
       "      <td>ALLEN PHILLIP K</td>\n",
       "      <td>201955.0</td>\n",
       "      <td>4175000.0</td>\n",
       "      <td>1729541.0</td>\n",
       "      <td>126027.0</td>\n",
       "      <td>1729541.0</td>\n",
       "      <td>False</td>\n",
       "    </tr>\n",
       "    <tr>\n",
       "      <td>26</td>\n",
       "      <td>KITCHEN LOUISE</td>\n",
       "      <td>271442.0</td>\n",
       "      <td>3100000.0</td>\n",
       "      <td>81042.0</td>\n",
       "      <td>466101.0</td>\n",
       "      <td>547143.0</td>\n",
       "      <td>False</td>\n",
       "    </tr>\n",
       "    <tr>\n",
       "      <td>33</td>\n",
       "      <td>LAVORATO JOHN J</td>\n",
       "      <td>339288.0</td>\n",
       "      <td>8000000.0</td>\n",
       "      <td>4158995.0</td>\n",
       "      <td>1008149.0</td>\n",
       "      <td>5167144.0</td>\n",
       "      <td>False</td>\n",
       "    </tr>\n",
       "    <tr>\n",
       "      <td>47</td>\n",
       "      <td>WHALLEY LAWRENCE G</td>\n",
       "      <td>510364.0</td>\n",
       "      <td>3000000.0</td>\n",
       "      <td>3282960.0</td>\n",
       "      <td>2796177.0</td>\n",
       "      <td>6079137.0</td>\n",
       "      <td>False</td>\n",
       "    </tr>\n",
       "    <tr>\n",
       "      <td>0</td>\n",
       "      <td>BELDEN TIMOTHY N</td>\n",
       "      <td>213999.0</td>\n",
       "      <td>5249999.0</td>\n",
       "      <td>953136.0</td>\n",
       "      <td>157569.0</td>\n",
       "      <td>1110705.0</td>\n",
       "      <td>0</td>\n",
       "    </tr>\n",
       "    <tr>\n",
       "      <td>3</td>\n",
       "      <td>DELAINEY DAVID W</td>\n",
       "      <td>365163.0</td>\n",
       "      <td>3000000.0</td>\n",
       "      <td>2291113.0</td>\n",
       "      <td>1323148.0</td>\n",
       "      <td>3614261.0</td>\n",
       "      <td>0</td>\n",
       "    </tr>\n",
       "    <tr>\n",
       "      <td>20</td>\n",
       "      <td>TOTAL</td>\n",
       "      <td>26704229.0</td>\n",
       "      <td>97343619.0</td>\n",
       "      <td>311764000.0</td>\n",
       "      <td>130322299.0</td>\n",
       "      <td>434509511.0</td>\n",
       "      <td>0</td>\n",
       "    </tr>\n",
       "    <tr>\n",
       "      <td>21</td>\n",
       "      <td>FALLON JAMES B</td>\n",
       "      <td>304588.0</td>\n",
       "      <td>2500000.0</td>\n",
       "      <td>940257.0</td>\n",
       "      <td>1392142.0</td>\n",
       "      <td>2332399.0</td>\n",
       "      <td>0</td>\n",
       "    </tr>\n",
       "    <tr>\n",
       "      <td>32</td>\n",
       "      <td>MCMAHON JEFFREY</td>\n",
       "      <td>370448.0</td>\n",
       "      <td>2600000.0</td>\n",
       "      <td>1104054.0</td>\n",
       "      <td>558801.0</td>\n",
       "      <td>1662855.0</td>\n",
       "      <td>0</td>\n",
       "    </tr>\n",
       "  </tbody>\n",
       "</table>\n",
       "</div>"
      ],
      "text/plain": [
       "                  name      salary       bonus  exercised_stock_options  \\\n",
       "1   SKILLING JEFFREY K   1111258.0   5600000.0               19250000.0   \n",
       "8        LAY KENNETH L   1072321.0   7000000.0               34348384.0   \n",
       "14     ALLEN PHILLIP K    201955.0   4175000.0                1729541.0   \n",
       "26      KITCHEN LOUISE    271442.0   3100000.0                  81042.0   \n",
       "33     LAVORATO JOHN J    339288.0   8000000.0                4158995.0   \n",
       "47  WHALLEY LAWRENCE G    510364.0   3000000.0                3282960.0   \n",
       "0     BELDEN TIMOTHY N    213999.0   5249999.0                 953136.0   \n",
       "3     DELAINEY DAVID W    365163.0   3000000.0                2291113.0   \n",
       "20               TOTAL  26704229.0  97343619.0              311764000.0   \n",
       "21      FALLON JAMES B    304588.0   2500000.0                 940257.0   \n",
       "32     MCMAHON JEFFREY    370448.0   2600000.0                1104054.0   \n",
       "\n",
       "    restricted_stock  total_stock_value    poi  \n",
       "1          6843672.0         26093672.0   True  \n",
       "8         14761694.0         49110078.0   True  \n",
       "14          126027.0          1729541.0  False  \n",
       "26          466101.0           547143.0  False  \n",
       "33         1008149.0          5167144.0  False  \n",
       "47         2796177.0          6079137.0  False  \n",
       "0           157569.0          1110705.0      0  \n",
       "3          1323148.0          3614261.0      0  \n",
       "20       130322299.0        434509511.0      0  \n",
       "21         1392142.0          2332399.0      0  \n",
       "32          558801.0          1662855.0      0  "
      ]
     },
     "execution_count": 78,
     "metadata": {},
     "output_type": "execute_result"
    }
   ],
   "source": [
    "# oulier in bonus:\n",
    "\n",
    "enron_data[(enron_data['bonus']>2380000)][['name','salary','bonus',\n",
    "                                 'exercised_stock_options',\n",
    "                                 'restricted_stock','total_stock_value','poi']]\n",
    "#很明顯有一個爆量的'TOTAL'"
   ]
  },
  {
   "cell_type": "code",
   "execution_count": 79,
   "metadata": {},
   "outputs": [
    {
     "data": {
      "text/html": [
       "<div>\n",
       "<style scoped>\n",
       "    .dataframe tbody tr th:only-of-type {\n",
       "        vertical-align: middle;\n",
       "    }\n",
       "\n",
       "    .dataframe tbody tr th {\n",
       "        vertical-align: top;\n",
       "    }\n",
       "\n",
       "    .dataframe thead th {\n",
       "        text-align: right;\n",
       "    }\n",
       "</style>\n",
       "<table border=\"1\" class=\"dataframe\">\n",
       "  <thead>\n",
       "    <tr style=\"text-align: right;\">\n",
       "      <th></th>\n",
       "      <th>name</th>\n",
       "      <th>salary</th>\n",
       "      <th>bonus</th>\n",
       "      <th>exercised_stock_options</th>\n",
       "      <th>restricted_stock</th>\n",
       "      <th>total_stock_value</th>\n",
       "      <th>poi</th>\n",
       "    </tr>\n",
       "  </thead>\n",
       "  <tbody>\n",
       "    <tr>\n",
       "      <td>1</td>\n",
       "      <td>SKILLING JEFFREY K</td>\n",
       "      <td>1111258.0</td>\n",
       "      <td>5600000.0</td>\n",
       "      <td>19250000.0</td>\n",
       "      <td>6843672.0</td>\n",
       "      <td>26093672.0</td>\n",
       "      <td>True</td>\n",
       "    </tr>\n",
       "    <tr>\n",
       "      <td>8</td>\n",
       "      <td>LAY KENNETH L</td>\n",
       "      <td>1072321.0</td>\n",
       "      <td>7000000.0</td>\n",
       "      <td>34348384.0</td>\n",
       "      <td>14761694.0</td>\n",
       "      <td>49110078.0</td>\n",
       "      <td>True</td>\n",
       "    </tr>\n",
       "    <tr>\n",
       "      <td>110</td>\n",
       "      <td>PICKERING MARK R</td>\n",
       "      <td>655037.0</td>\n",
       "      <td>300000.0</td>\n",
       "      <td>28798.0</td>\n",
       "      <td>0.0</td>\n",
       "      <td>28798.0</td>\n",
       "      <td>False</td>\n",
       "    </tr>\n",
       "    <tr>\n",
       "      <td>6</td>\n",
       "      <td>FREVERT MARK A</td>\n",
       "      <td>1060932.0</td>\n",
       "      <td>2000000.0</td>\n",
       "      <td>10433518.0</td>\n",
       "      <td>4188667.0</td>\n",
       "      <td>14622185.0</td>\n",
       "      <td>0</td>\n",
       "    </tr>\n",
       "    <tr>\n",
       "      <td>20</td>\n",
       "      <td>TOTAL</td>\n",
       "      <td>26704229.0</td>\n",
       "      <td>97343619.0</td>\n",
       "      <td>311764000.0</td>\n",
       "      <td>130322299.0</td>\n",
       "      <td>434509511.0</td>\n",
       "      <td>0</td>\n",
       "    </tr>\n",
       "  </tbody>\n",
       "</table>\n",
       "</div>"
      ],
      "text/plain": [
       "                   name      salary       bonus  exercised_stock_options  \\\n",
       "1    SKILLING JEFFREY K   1111258.0   5600000.0               19250000.0   \n",
       "8         LAY KENNETH L   1072321.0   7000000.0               34348384.0   \n",
       "110    PICKERING MARK R    655037.0    300000.0                  28798.0   \n",
       "6        FREVERT MARK A   1060932.0   2000000.0               10433518.0   \n",
       "20                TOTAL  26704229.0  97343619.0              311764000.0   \n",
       "\n",
       "     restricted_stock  total_stock_value    poi  \n",
       "1           6843672.0         26093672.0   True  \n",
       "8          14761694.0         49110078.0   True  \n",
       "110               0.0            28798.0  False  \n",
       "6           4188667.0         14622185.0      0  \n",
       "20        130322299.0        434509511.0      0  "
      ]
     },
     "execution_count": 79,
     "metadata": {},
     "output_type": "execute_result"
    }
   ],
   "source": [
    "# oulier in salary:\n",
    "\n",
    "enron_data[(enron_data['salary']>563000)][['name','salary','bonus',\n",
    "                                 'exercised_stock_options',\n",
    "                                 'restricted_stock','total_stock_value','poi']]\n",
    "#離群的程度看似還好"
   ]
  },
  {
   "cell_type": "code",
   "execution_count": 80,
   "metadata": {},
   "outputs": [
    {
     "data": {
      "image/png": "[encoded data removed]",
      "text/plain": [
       "<Figure size 864x432 with 2 Axes>"
      ]
     },
     "metadata": {
      "needs_background": "light"
     },
     "output_type": "display_data"
    }
   ],
   "source": [
    "### Visualizing Salary v/s Balance Graphs for outlier identification\n",
    "figure, (axes1, axes2) = plt.subplots(ncols=2, figsize=(12, 6))\n",
    "\n",
    "axes1.scatter(enron_data.salary, enron_data.bonus)\n",
    "axes1.set_xlabel(\"Salary ($)\", fontsize=15)\n",
    "axes1.set_ylabel(\"Bonus ($)\", fontsize=15)\n",
    "axes1.set_title(\"Before Outlier Removal\", fontsize=15)\n",
    "axes1.spines['right'].set_visible(False)\n",
    "axes1.spines['top'].set_visible(False)\n",
    "\n",
    "\n",
    "\n",
    "# Dropping the outliers\n",
    "enron_data[enron_data['name']=='TOTAL']=None\n",
    "\n",
    "axes2.scatter(enron_data.salary, enron_data.bonus)\n",
    "axes2.set_xlabel(\"Salary ($)\", fontsize=15)\n",
    "axes2.set_ylabel(\"Bonus ($)\", fontsize=15)\n",
    "axes2.set_title(\"After Outlier Removal\", fontsize=15)\n",
    "axes2.spines['right'].set_visible(False)\n",
    "axes2.spines['top'].set_visible(False)\n",
    "\n",
    "figure.tight_layout()\n",
    "plt.show()"
   ]
  },
  {
   "cell_type": "markdown",
   "metadata": {},
   "source": [
    "# STEP 3:EDA"
   ]
  },
  {
   "cell_type": "code",
   "execution_count": 59,
   "metadata": {},
   "outputs": [
    {
     "name": "stdout",
     "output_type": "stream",
     "text": [
      "Populating the interactive namespace from numpy and matplotlib\n"
     ]
    }
   ],
   "source": [
    "import matplotlib.pyplot as plt\n",
    "%matplotlib inline\n",
    "%pylab inline\n",
    "import seaborn as sns"
   ]
  },
  {
   "cell_type": "code",
   "execution_count": 94,
   "metadata": {},
   "outputs": [],
   "source": [
    "features_using=[] #透過EDA來觀察變數狀態，決定要用哪些當作特徵使用"
   ]
  },
  {
   "cell_type": "code",
   "execution_count": 95,
   "metadata": {},
   "outputs": [
    {
     "name": "stdout",
     "output_type": "stream",
     "text": [
      "poi\n",
      "False    245779.770492\n",
      "True     416859.833333\n",
      "Name: salary, dtype: float64\n"
     ]
    },
    {
     "data": {
      "image/png": "[encoded data removed]",
      "text/plain": [
       "<Figure size 432x288 with 1 Axes>"
      ]
     },
     "metadata": {},
     "output_type": "display_data"
    }
   ],
   "source": [
    "#先看薪資:\n",
    "\n",
    "average_salary = enron.groupby('poi').mean()['salary']\n",
    "print(average_salary)\n",
    "\n",
    "sns.boxplot(x='poi', y='salary', data=enron)\n",
    "\n",
    "#poi有明顯較高的薪資 >> 好的特徵，可以用!\n",
    "features_using.append('salary')"
   ]
  },
  {
   "cell_type": "code",
   "execution_count": 65,
   "metadata": {},
   "outputs": [
    {
     "name": "stdout",
     "output_type": "stream",
     "text": [
      "poi\n",
      "False    9.778724e+05\n",
      "True     1.918182e+06\n",
      "Name: bonus, dtype: float64\n"
     ]
    },
    {
     "data": {
      "text/plain": [
       "<matplotlib.axes._subplots.AxesSubplot at 0x17ccb93de48>"
      ]
     },
     "execution_count": 65,
     "metadata": {},
     "output_type": "execute_result"
    },
    {
     "data": {
      "image/png": "[encoded data removed]",
      "text/plain": [
       "<Figure size 432x288 with 1 Axes>"
      ]
     },
     "metadata": {
      "needs_background": "light"
     },
     "output_type": "display_data"
    }
   ],
   "source": [
    "#看看bonus:\n",
    "\n",
    "average_bonus = enron.groupby('poi').mean()['bonus']\n",
    "print(average_bonus)\n",
    "\n",
    "sns.boxplot(x='poi',y='bonus',data=enron)\n",
    "\n",
    "#poi的bonus較高，但好像有離群值?"
   ]
  },
  {
   "cell_type": "code",
   "execution_count": 73,
   "metadata": {},
   "outputs": [
    {
     "data": {
      "text/html": [
       "<div>\n",
       "<style scoped>\n",
       "    .dataframe tbody tr th:only-of-type {\n",
       "        vertical-align: middle;\n",
       "    }\n",
       "\n",
       "    .dataframe tbody tr th {\n",
       "        vertical-align: top;\n",
       "    }\n",
       "\n",
       "    .dataframe thead th {\n",
       "        text-align: right;\n",
       "    }\n",
       "</style>\n",
       "<table border=\"1\" class=\"dataframe\">\n",
       "  <thead>\n",
       "    <tr style=\"text-align: right;\">\n",
       "      <th></th>\n",
       "      <th>name</th>\n",
       "      <th>salary</th>\n",
       "      <th>bonus</th>\n",
       "      <th>exercised_stock_options</th>\n",
       "      <th>restricted_stock</th>\n",
       "      <th>total_stock_value</th>\n",
       "      <th>poi</th>\n",
       "    </tr>\n",
       "  </thead>\n",
       "  <tbody>\n",
       "    <tr>\n",
       "      <td>8</td>\n",
       "      <td>LAY KENNETH L</td>\n",
       "      <td>1072321.0</td>\n",
       "      <td>7000000.0</td>\n",
       "      <td>34348384.0</td>\n",
       "      <td>14761694.0</td>\n",
       "      <td>49110078.0</td>\n",
       "      <td>True</td>\n",
       "    </tr>\n",
       "    <tr>\n",
       "      <td>33</td>\n",
       "      <td>LAVORATO JOHN J</td>\n",
       "      <td>339288.0</td>\n",
       "      <td>8000000.0</td>\n",
       "      <td>4158995.0</td>\n",
       "      <td>1008149.0</td>\n",
       "      <td>5167144.0</td>\n",
       "      <td>False</td>\n",
       "    </tr>\n",
       "    <tr>\n",
       "      <td>20</td>\n",
       "      <td>TOTAL</td>\n",
       "      <td>26704229.0</td>\n",
       "      <td>97343619.0</td>\n",
       "      <td>311764000.0</td>\n",
       "      <td>130322299.0</td>\n",
       "      <td>434509511.0</td>\n",
       "      <td>NaN</td>\n",
       "    </tr>\n",
       "  </tbody>\n",
       "</table>\n",
       "</div>"
      ],
      "text/plain": [
       "               name      salary       bonus  exercised_stock_options  \\\n",
       "8     LAY KENNETH L   1072321.0   7000000.0               34348384.0   \n",
       "33  LAVORATO JOHN J    339288.0   8000000.0                4158995.0   \n",
       "20            TOTAL  26704229.0  97343619.0              311764000.0   \n",
       "\n",
       "    restricted_stock  total_stock_value    poi  \n",
       "8         14761694.0         49110078.0   True  \n",
       "33         1008149.0          5167144.0  False  \n",
       "20       130322299.0        434509511.0    NaN  "
      ]
     },
     "execution_count": 73,
     "metadata": {},
     "output_type": "execute_result"
    }
   ],
   "source": [
    "# oulier in bonus:\n",
    "\n",
    "enron[(enron['bonus']>6000000)][['name','salary','bonus',\n",
    "                                 'exercised_stock_options',\n",
    "                                 'restricted_stock','total_stock_value','poi']]"
   ]
  },
  {
   "cell_type": "code",
   "execution_count": 96,
   "metadata": {},
   "outputs": [
    {
     "name": "stdout",
     "output_type": "stream",
     "text": [
      "poi\n",
      "False    8.345637e+05\n",
      "True     1.410000e+06\n",
      "Name: bonus, dtype: float64\n"
     ]
    },
    {
     "data": {
      "image/png": "[encoded data removed]",
      "text/plain": [
       "<Figure size 432x288 with 1 Axes>"
      ]
     },
     "metadata": {},
     "output_type": "display_data"
    }
   ],
   "source": [
    "#拿掉離群值對分布狀況影響還好而已\n",
    "\n",
    "outlier_TakeOut = enron[(enron['bonus']<6000000)][['name','salary','bonus',\n",
    "                                 'exercised_stock_options',\n",
    "                                 'restricted_stock','total_stock_value','poi']]\n",
    "\n",
    "average_bonus2 = outlier_TakeOut.groupby('poi').mean()['bonus']\n",
    "print(average_bonus2)\n",
    "\n",
    "sns.boxplot(x='poi',y='bonus',data=outlier_TakeOut)\n",
    "\n",
    "#去掉離群值之後，poi的bonus仍然顯著較高 >> 好特徵，可用!\n",
    "features_using.append('bonus')"
   ]
  },
  {
   "cell_type": "code",
   "execution_count": 68,
   "metadata": {},
   "outputs": [
    {
     "name": "stdout",
     "output_type": "stream",
     "text": [
      "poi\n",
      "False    1.462239e+06\n",
      "True     9.797537e+06\n",
      "Name: total_payments, dtype: float64\n"
     ]
    },
    {
     "data": {
      "text/plain": [
       "<matplotlib.axes._subplots.AxesSubplot at 0x17ccba01448>"
      ]
     },
     "execution_count": 68,
     "metadata": {},
     "output_type": "execute_result"
    },
    {
     "data": {
      "image/png": "[encoded data removed]",
      "text/plain": [
       "<Figure size 432x288 with 1 Axes>"
      ]
     },
     "metadata": {
      "needs_background": "light"
     },
     "output_type": "display_data"
    }
   ],
   "source": [
    "#看看總支付額:\n",
    "\n",
    "average_TotalPayments = enron.groupby('poi').mean()['total_payments']\n",
    "print(average_TotalPayments)\n",
    "\n",
    "sns.boxplot(x='poi',y='total_payments',data=enron)\n",
    "\n",
    "#這項依然是poi高出許多\n",
    "#有個超大離群值快突破天際了"
   ]
  },
  {
   "cell_type": "code",
   "execution_count": 69,
   "metadata": {},
   "outputs": [
    {
     "data": {
      "text/html": [
       "<div>\n",
       "<style scoped>\n",
       "    .dataframe tbody tr th:only-of-type {\n",
       "        vertical-align: middle;\n",
       "    }\n",
       "\n",
       "    .dataframe tbody tr th {\n",
       "        vertical-align: top;\n",
       "    }\n",
       "\n",
       "    .dataframe thead th {\n",
       "        text-align: right;\n",
       "    }\n",
       "</style>\n",
       "<table border=\"1\" class=\"dataframe\">\n",
       "  <thead>\n",
       "    <tr style=\"text-align: right;\">\n",
       "      <th></th>\n",
       "      <th>name</th>\n",
       "      <th>total_payments</th>\n",
       "      <th>poi</th>\n",
       "    </tr>\n",
       "  </thead>\n",
       "  <tbody>\n",
       "    <tr>\n",
       "      <td>8</td>\n",
       "      <td>LAY KENNETH L</td>\n",
       "      <td>103559793.0</td>\n",
       "      <td>True</td>\n",
       "    </tr>\n",
       "    <tr>\n",
       "      <td>20</td>\n",
       "      <td>TOTAL</td>\n",
       "      <td>309886585.0</td>\n",
       "      <td>NaN</td>\n",
       "    </tr>\n",
       "  </tbody>\n",
       "</table>\n",
       "</div>"
      ],
      "text/plain": [
       "             name  total_payments   poi\n",
       "8   LAY KENNETH L     103559793.0  True\n",
       "20          TOTAL     309886585.0   NaN"
      ]
     },
     "execution_count": 69,
     "metadata": {},
     "output_type": "execute_result"
    }
   ],
   "source": [
    "enron[(enron['total_payments']>40000000)][['name','total_payments','poi']]"
   ]
  },
  {
   "cell_type": "code",
   "execution_count": 76,
   "metadata": {},
   "outputs": [
    {
     "name": "stdout",
     "output_type": "stream",
     "text": [
      "poi\n",
      "False    1.462239e+06\n",
      "True     1.984015e+06\n",
      "Name: total_payments, dtype: float64\n"
     ]
    },
    {
     "data": {
      "text/plain": [
       "<matplotlib.axes._subplots.AxesSubplot at 0x17ccbc53888>"
      ]
     },
     "execution_count": 76,
     "metadata": {},
     "output_type": "execute_result"
    },
    {
     "data": {
      "image/png": "[encoded data removed]",
      "text/plain": [
       "<Figure size 432x288 with 1 Axes>"
      ]
     },
     "metadata": {
      "needs_background": "light"
     },
     "output_type": "display_data"
    }
   ],
   "source": [
    "#take Ken Lay out of the poi boxplot\n",
    "\n",
    "kl_not_in = enron[(enron['total_payments']<40000000)]\n",
    "\n",
    "average_TotalPayments2 = kl_not_in.groupby('poi').mean()['total_payments']\n",
    "print(average_TotalPayments2)\n",
    "\n",
    "sns.boxplot(x='poi',y='total_payments',data=kl_not_in)\n",
    "\n",
    "#去掉離群值之後好像就差沒多少了 >> 可以不用這個特徵"
   ]
  },
  {
   "cell_type": "code",
   "execution_count": 97,
   "metadata": {},
   "outputs": [
    {
     "name": "stdout",
     "output_type": "stream",
     "text": [
      "poi\n",
      "False    1.736226e+06\n",
      "True     1.297592e+07\n",
      "Name: exercised_stock_options, dtype: float64\n"
     ]
    },
    {
     "data": {
      "image/png": "[encoded data removed]",
      "text/plain": [
       "<Figure size 432x288 with 1 Axes>"
      ]
     },
     "metadata": {},
     "output_type": "display_data"
    }
   ],
   "source": [
    "#看看股票期權行使\n",
    "# Exercise 指的是購買期權從而使期權變成股票\n",
    "# https://kknews.cc/zh-tw/tech/2aqeyk9.html\n",
    "\n",
    "Average_OptionValue = enron.groupby('poi').mean()['exercised_stock_options']\n",
    "print(Average_OptionValue)\n",
    "\n",
    "sns.boxplot(x='poi',y='exercised_stock_options',data=enron)\n",
    "\n",
    "#超級顯著的差異 >> 好特徵，該用!!\n",
    "features_using.append('exercised_stock_options')"
   ]
  },
  {
   "cell_type": "code",
   "execution_count": 79,
   "metadata": {
    "scrolled": true
   },
   "outputs": [
    {
     "name": "stdout",
     "output_type": "stream",
     "text": [
      "poi\n",
      "False    1.739019e+06\n",
      "True     1.060641e+07\n",
      "Name: total_be, dtype: float64\n"
     ]
    },
    {
     "data": {
      "text/plain": [
       "<matplotlib.axes._subplots.AxesSubplot at 0x17ccbdc2588>"
      ]
     },
     "execution_count": 79,
     "metadata": {},
     "output_type": "execute_result"
    },
    {
     "data": {
      "image/png": "[encoded data removed]",
      "text/plain": [
       "<Figure size 432x288 with 1 Axes>"
      ]
     },
     "metadata": {
      "needs_background": "light"
     },
     "output_type": "display_data"
    }
   ],
   "source": [
    "#看看Total Bonus and Exercised Stock Options:\n",
    "\n",
    "average_total_sbe = enron.groupby('poi').mean()['total_be']\n",
    "print(average_total_sbe)\n",
    "\n",
    "sns.boxplot(x='poi',y='total_be',data=enron)\n",
    "\n",
    "#可能有重複特徵之嫌 >> 不用"
   ]
  },
  {
   "cell_type": "code",
   "execution_count": 98,
   "metadata": {},
   "outputs": [
    {
     "name": "stdout",
     "output_type": "stream",
     "text": [
      "poi\n",
      "False    2.288793e+06\n",
      "True     1.162399e+07\n",
      "Name: total_stock_value, dtype: float64\n"
     ]
    },
    {
     "data": {
      "image/png": "[encoded data removed]",
      "text/plain": [
       "<Figure size 432x288 with 1 Axes>"
      ]
     },
     "metadata": {},
     "output_type": "display_data"
    }
   ],
   "source": [
    "#再看Total Stock Value:\n",
    "\n",
    "average_stockvalue = enron.groupby('poi').mean()['total_stock_value']\n",
    "print(average_stockvalue)\n",
    "\n",
    "sns.boxplot(x='poi',y='total_stock_value',data=enron)\n",
    "\n",
    "#顯著特徵，可用\n",
    "features_using.append('total_stock_value')"
   ]
  },
  {
   "cell_type": "code",
   "execution_count": 81,
   "metadata": {},
   "outputs": [
    {
     "name": "stdout",
     "output_type": "stream",
     "text": [
      "poi\n",
      "False     3.159132\n",
      "True     21.421531\n",
      "Name: total_millions, dtype: float64\n"
     ]
    },
    {
     "data": {
      "text/plain": [
       "<matplotlib.axes._subplots.AxesSubplot at 0x17ccbea7c48>"
      ]
     },
     "execution_count": 81,
     "metadata": {},
     "output_type": "execute_result"
    },
    {
     "data": {
      "image/png": "[encoded data removed]",
      "text/plain": [
       "<Figure size 432x288 with 1 Axes>"
      ]
     },
     "metadata": {
      "needs_background": "light"
     },
     "output_type": "display_data"
    }
   ],
   "source": [
    "#接著是Total Payments and Stock Value in Millions:\n",
    "\n",
    "average_total_comp = enron.groupby('poi').mean()['total_millions']\n",
    "print(average_total_comp)\n",
    "\n",
    "sns.boxplot(x='poi',y='total_millions',data= enron)"
   ]
  },
  {
   "cell_type": "code",
   "execution_count": 83,
   "metadata": {},
   "outputs": [
    {
     "name": "stdout",
     "output_type": "stream",
     "text": [
      "poi\n",
      "False     3.159132\n",
      "True     10.484170\n",
      "Name: total_millions, dtype: float64\n"
     ]
    },
    {
     "data": {
      "text/plain": [
       "<matplotlib.axes._subplots.AxesSubplot at 0x17ccbfc0748>"
      ]
     },
     "execution_count": 83,
     "metadata": {},
     "output_type": "execute_result"
    },
    {
     "data": {
      "image/png": "[encoded data removed]",
      "text/plain": [
       "<Figure size 432x288 with 1 Axes>"
      ]
     },
     "metadata": {
      "needs_background": "light"
     },
     "output_type": "display_data"
    }
   ],
   "source": [
    "# Let's try that one again without Ken Lay...\n",
    "\n",
    "kl_not_in = enron[enron['total_millions']<140]\n",
    "\n",
    "average_total_comp2 = kl_not_in.groupby('poi').mean()['total_millions']\n",
    "print(average_total_comp2)\n",
    "\n",
    "sns.boxplot(x='poi',y='total_millions',data= kl_not_in)\n",
    "\n",
    "#雞肋~~用不用似乎皆可"
   ]
  },
  {
   "cell_type": "code",
   "execution_count": 84,
   "metadata": {},
   "outputs": [
    {
     "name": "stdout",
     "output_type": "stream",
     "text": [
      "poi\n",
      "False    1055.5\n",
      "True     1459.0\n",
      "Name: shared_receipt_with_poi, dtype: float64\n"
     ]
    },
    {
     "data": {
      "text/plain": [
       "<matplotlib.axes._subplots.AxesSubplot at 0x17ccc02e308>"
      ]
     },
     "execution_count": 84,
     "metadata": {},
     "output_type": "execute_result"
    },
    {
     "data": {
      "image/png": "[encoded data removed]",
      "text/plain": [
       "<Figure size 432x288 with 1 Axes>"
      ]
     },
     "metadata": {
      "needs_background": "light"
     },
     "output_type": "display_data"
    }
   ],
   "source": [
    "#再來是Shared Receipt with POI:\n",
    "\n",
    "average_shared_receipt = enron.groupby('poi').mean()['shared_receipt_with_poi']\n",
    "print(average_shared_receipt)\n",
    "\n",
    "sns.boxplot(x='poi',y='shared_receipt_with_poi',data= enron)\n",
    "\n",
    "#不怎麼顯著，不用"
   ]
  },
  {
   "cell_type": "code",
   "execution_count": 85,
   "metadata": {},
   "outputs": [
    {
     "name": "stdout",
     "output_type": "stream",
     "text": [
      "poi\n",
      "False    2181.839286\n",
      "True     1995.666667\n",
      "Name: to_messages, dtype: float64\n"
     ]
    },
    {
     "data": {
      "text/plain": [
       "<matplotlib.axes._subplots.AxesSubplot at 0x17ccc0b4948>"
      ]
     },
     "execution_count": 85,
     "metadata": {},
     "output_type": "execute_result"
    },
    {
     "data": {
      "image/png": "[encoded data removed]",
      "text/plain": [
       "<Figure size 432x288 with 1 Axes>"
      ]
     },
     "metadata": {
      "needs_background": "light"
     },
     "output_type": "display_data"
    }
   ],
   "source": [
    "#To Messages:\n",
    "\n",
    "average_to = enron.groupby('poi').mean()['to_messages']\n",
    "print(average_to)\n",
    "\n",
    "sns.boxplot(x='poi',y='to_messages',data= enron)\n",
    "\n",
    "#不怎麼顯著，不用"
   ]
  },
  {
   "cell_type": "code",
   "execution_count": 86,
   "metadata": {},
   "outputs": [
    {
     "name": "stdout",
     "output_type": "stream",
     "text": [
      "poi\n",
      "False    815.928571\n",
      "True      60.444444\n",
      "Name: from_messages, dtype: float64\n"
     ]
    },
    {
     "data": {
      "text/plain": [
       "<matplotlib.axes._subplots.AxesSubplot at 0x17ccc137608>"
      ]
     },
     "execution_count": 86,
     "metadata": {},
     "output_type": "execute_result"
    },
    {
     "data": {
      "image/png": "[encoded data removed]",
      "text/plain": [
       "<Figure size 432x288 with 1 Axes>"
      ]
     },
     "metadata": {
      "needs_background": "light"
     },
     "output_type": "display_data"
    }
   ],
   "source": [
    "#From Messages:\n",
    "\n",
    "average_from = enron.groupby('poi').mean()['from_messages']\n",
    "print(average_from)\n",
    "\n",
    "sns.boxplot(x='poi',y='from_messages',data= enron)"
   ]
  },
  {
   "cell_type": "code",
   "execution_count": 99,
   "metadata": {},
   "outputs": [
    {
     "name": "stdout",
     "output_type": "stream",
     "text": [
      "poi\n",
      "False    569.527273\n",
      "True      60.444444\n",
      "Name: from_messages, dtype: float64\n"
     ]
    },
    {
     "data": {
      "image/png": "[encoded data removed]",
      "text/plain": [
       "<Figure size 432x288 with 1 Axes>"
      ]
     },
     "metadata": {},
     "output_type": "display_data"
    }
   ],
   "source": [
    "outlier_takeOut = enron[enron['from_messages']<14000]\n",
    "\n",
    "average_from2 = outlier_takeOut.groupby('poi').mean()['from_messages']\n",
    "print(average_from2)\n",
    "\n",
    "sns.boxplot(x='poi',y='from_messages',data= outlier_takeOut)\n",
    "\n",
    "#差蠻多的，可用~~\n",
    "features_using.append('from_messages')"
   ]
  },
  {
   "cell_type": "code",
   "execution_count": 100,
   "metadata": {},
   "outputs": [
    {
     "name": "stdout",
     "output_type": "stream",
     "text": [
      "poi\n",
      "False    0.130899\n",
      "True     0.328700\n",
      "Name: fraction_to_poi, dtype: float64\n"
     ]
    },
    {
     "data": {
      "image/png": "[encoded data removed]",
      "text/plain": [
       "<Figure size 432x288 with 1 Axes>"
      ]
     },
     "metadata": {},
     "output_type": "display_data"
    }
   ],
   "source": [
    "#Fraction to POI:\n",
    "\n",
    "average_fraction_to = enron.groupby('poi').mean()['fraction_to_poi']\n",
    "print(average_fraction_to)\n",
    "\n",
    "sns.boxplot(x='poi',y='fraction_to_poi',data= enron)\n",
    "\n",
    "#又一個可用的特徵~~\n",
    "\n",
    "features_using.append('fraction_to_poi')"
   ]
  },
  {
   "cell_type": "code",
   "execution_count": 90,
   "metadata": {},
   "outputs": [
    {
     "name": "stdout",
     "output_type": "stream",
     "text": [
      "poi\n",
      "False    0.034720\n",
      "True     0.053177\n",
      "Name: fraction_from_poi, dtype: float64\n"
     ]
    },
    {
     "data": {
      "text/plain": [
       "<matplotlib.axes._subplots.AxesSubplot at 0x17ccd27a408>"
      ]
     },
     "execution_count": 90,
     "metadata": {},
     "output_type": "execute_result"
    },
    {
     "data": {
      "image/png": "[encoded data removed]",
      "text/plain": [
       "<Figure size 432x288 with 1 Axes>"
      ]
     },
     "metadata": {
      "needs_background": "light"
     },
     "output_type": "display_data"
    }
   ],
   "source": [
    "#Fraction from POI:\n",
    "\n",
    "average_fraction_from = enron.groupby('poi').mean()['fraction_from_poi']\n",
    "print(average_fraction_from)\n",
    "\n",
    "sns.boxplot(x='poi',y='fraction_from_poi',data= enron)\n",
    "\n",
    "#差不多，不用吧"
   ]
  },
  {
   "cell_type": "code",
   "execution_count": 101,
   "metadata": {},
   "outputs": [
    {
     "data": {
      "text/plain": [
       "['salary',\n",
       " 'bonus',\n",
       " 'exercised_stock_options',\n",
       " 'total_stock_value',\n",
       " 'from_messages',\n",
       " 'fraction_to_poi']"
      ]
     },
     "execution_count": 101,
     "metadata": {},
     "output_type": "execute_result"
    }
   ],
   "source": [
    "# 最後決定有哪些可以用的特徵:\n",
    "features_using"
   ]
  },
  {
   "cell_type": "code",
   "execution_count": 102,
   "metadata": {},
   "outputs": [
    {
     "data": {
      "image/png": "[encoded data removed]",
      "text/plain": [
       "<Figure size 1146.35x1080 with 42 Axes>"
      ]
     },
     "metadata": {},
     "output_type": "display_data"
    }
   ],
   "source": [
    "# Pairplot Analysis\n",
    "\n",
    "import seaborn as sns\n",
    "\n",
    "sns.set(style=\"ticks\", color_codes=True)\n",
    "\n",
    "g = sns.pairplot(enron, vars=features_using,\n",
    "                 dropna=True, diag_kind='kde',\n",
    "                 hue='poi', markers=['x','o'])"
   ]
  },
  {
   "cell_type": "code",
   "execution_count": 91,
   "metadata": {},
   "outputs": [
    {
     "data": {
      "image/png": "[encoded data removed]",
      "text/plain": [
       "<Figure size 786.35x720 with 20 Axes>"
      ]
     },
     "metadata": {},
     "output_type": "display_data"
    }
   ],
   "source": [
    "# Pairplot Analysis\n",
    "\n",
    "import seaborn as sns\n",
    "\n",
    "sns.set(style=\"ticks\", color_codes=True)\n",
    "\n",
    "g = sns.pairplot(enron, vars=['bonus','exercised_stock_options',\n",
    "                              'from_messages','fraction_to_poi'],\n",
    "                 dropna=True, diag_kind='kde', hue='poi', markers=['x','o'])"
   ]
  },
  {
   "cell_type": "code",
   "execution_count": 141,
   "metadata": {},
   "outputs": [
    {
     "data": {
      "text/plain": [
       "26"
      ]
     },
     "execution_count": 141,
     "metadata": {},
     "output_type": "execute_result"
    }
   ],
   "source": [
    "x = enron.columns\n",
    "#x\n",
    "\n",
    "features_full_list = x.tolist()\n",
    "len(features_full_list)"
   ]
  },
  {
   "cell_type": "markdown",
   "metadata": {},
   "source": [
    "# STEP 4:特徵工程(Feature Engineering)\n",
    "\n",
    "Feature engineering involves using human intuition to hypothesize what feature might contain pattern that can be exploited using machine learning, coding up the new feature, visualizing and repeating the same process again."
   ]
  },
  {
   "cell_type": "markdown",
   "metadata": {},
   "source": [
    " Our hypothesis here:\n",
    " \n",
    " \"POI's sent email to each other at a rate higher than for Non-POI's.\"\n",
    " \n",
    " >>\n",
    " \n",
    " 1.) fraction_from_poi:\n",
    "\n",
    "number of emails from POI to this person / total number of messages to this person, that is, \"from_poi_to_this_person / to_messages\"\n",
    " \n",
    " 2.)fraction_to_poi:\n",
    "\n",
    "number of emails from this person to POI / total number of messages from this person, that is, \"from_this_person_to_poi / from_messages\"\n",
    "\n",
    " 3.)shared_receipt_poi_ratio:\n",
    " \n",
    "\"shared_receipt_with_poi / to_messages\"\n"
   ]
  },
  {
   "cell_type": "code",
   "execution_count": 93,
   "metadata": {},
   "outputs": [],
   "source": [
    "### Creating new features fraction_from_poi and fraction_to_poi\n",
    "\n",
    "enron_data[\"fraction_from_poi\"] = enron_data[\"from_poi_to_this_person\"].\\\n",
    "                                  divide(enron_data[\"to_messages\"], fill_value=0.0) \n",
    "\n",
    "enron_data[\"fraction_to_poi\"] = enron_data[\"from_this_person_to_poi\"].\\\n",
    "                                divide(enron_data[\"from_messages\"], fill_value=0.0)\n",
    "\n",
    "enron_data['shared_receipt_poi_ratio'] = enron_data['shared_receipt_with_poi'].\\\n",
    "                                 divide(enron_data['to_messages'], fill_value=0.0)"
   ]
  },
  {
   "cell_type": "code",
   "execution_count": 94,
   "metadata": {},
   "outputs": [],
   "source": [
    "enron_data['bonus_to_salary'] = enron_data['bonus'].divide(enron_data['salary'], fill_value=0.0)\n",
    "\n",
    "enron_data['bonus_to_total'] = enron_data['bonus'].divide(enron_data['total_payments'], fill_value=0.0)"
   ]
  },
  {
   "cell_type": "code",
   "execution_count": 95,
   "metadata": {},
   "outputs": [],
   "source": [
    "#把NA值都用0先填上:\n",
    "enron_data[\"fraction_from_poi\"] = enron_data[\"fraction_from_poi\"].fillna(0.0)\n",
    "enron_data[\"fraction_to_poi\"] = enron_data[\"fraction_to_poi\"].fillna(0.0)\n",
    "enron_data[\"shared_receipt_poi_ratio\"] = enron_data[\"shared_receipt_poi_ratio\"].fillna(0.0)\n",
    "enron_data[\"bonus_to_salary\"] = enron_data[\"bonus_to_salary\"].fillna(0.0)\n",
    "enron_data[\"bonus_to_total\"] = enron_data[\"bonus_to_total\"].fillna(0.0)"
   ]
  },
  {
   "cell_type": "code",
   "execution_count": 96,
   "metadata": {},
   "outputs": [
    {
     "name": "stdout",
     "output_type": "stream",
     "text": [
      "<class 'pandas.core.frame.DataFrame'>\n",
      "Int64Index: 146 entries, 0 to 32\n",
      "Data columns (total 27 columns):\n",
      "bonus                        146 non-null float64\n",
      "deferral_payments            146 non-null float64\n",
      "deferred_income              146 non-null float64\n",
      "director_fees                146 non-null float64\n",
      "email_address                146 non-null object\n",
      "exercised_stock_options      146 non-null float64\n",
      "expenses                     146 non-null float64\n",
      "from_messages                146 non-null float64\n",
      "from_poi_to_this_person      146 non-null float64\n",
      "from_this_person_to_poi      146 non-null float64\n",
      "loan_advances                146 non-null float64\n",
      "long_term_incentive          146 non-null float64\n",
      "name                         146 non-null object\n",
      "other                        146 non-null float64\n",
      "poi                          146 non-null object\n",
      "restricted_stock             146 non-null float64\n",
      "restricted_stock_deferred    146 non-null float64\n",
      "salary                       146 non-null float64\n",
      "shared_receipt_with_poi      146 non-null float64\n",
      "to_messages                  146 non-null float64\n",
      "total_payments               146 non-null float64\n",
      "total_stock_value            146 non-null float64\n",
      "fraction_from_poi            146 non-null float64\n",
      "fraction_to_poi              146 non-null float64\n",
      "shared_receipt_poi_ratio     146 non-null float64\n",
      "bonus_to_salary              146 non-null float64\n",
      "bonus_to_total               146 non-null float64\n",
      "dtypes: float64(24), object(3)\n",
      "memory usage: 36.9+ KB\n"
     ]
    }
   ],
   "source": [
    "enron_data.info()"
   ]
  },
  {
   "cell_type": "code",
   "execution_count": 97,
   "metadata": {},
   "outputs": [],
   "source": [
    "###想到就先備份一下~\n",
    "enron_data_backup2 = enron_data"
   ]
  },
  {
   "cell_type": "code",
   "execution_count": 99,
   "metadata": {},
   "outputs": [
    {
     "data": {
      "text/plain": [
       "False    133\n",
       "True      13\n",
       "Name: poi, dtype: int64"
      ]
     },
     "execution_count": 99,
     "metadata": {},
     "output_type": "execute_result"
    }
   ],
   "source": [
    "enron_data[\"poi\"].value_counts()"
   ]
  },
  {
   "cell_type": "code",
   "execution_count": 100,
   "metadata": {},
   "outputs": [
    {
     "data": {
      "image/png": "[encoded data removed]",
      "text/plain": [
       "<Figure size 1296x432 with 3 Axes>"
      ]
     },
     "metadata": {
      "needs_background": "light"
     },
     "output_type": "display_data"
    }
   ],
   "source": [
    "### Visualizing the effect of new features\n",
    "\n",
    "figure, (axes1, axes2, axes3) = plt.subplots(nrows=1, ncols=3, figsize=(18,6))\n",
    "\n",
    "# Color scheme for plots\n",
    "colors = np.where(enron_data[\"poi\"] == 1, 'r', 'o') # POI\n",
    "colors[enron_data[\"poi\"] == 0] = 'b' #Non-POI\n",
    "\n",
    "# pic1\n",
    "axes1.scatter(enron_data[\"from_poi_to_this_person\"], enron_data[\"from_this_person_to_poi\"], color=colors)\n",
    "axes1.set_xlabel(\"Number of emails from POI to this person\", fontsize=13)\n",
    "axes1.set_ylabel(\"Number of emails from this person to POI\", fontsize=13)\n",
    "axes1.spines['right'].set_visible(False)\n",
    "axes1.spines['top'].set_visible(False)\n",
    "\n",
    "# pic2\n",
    "axes2.scatter(enron_data[\"fraction_from_poi\"], enron_data[\"fraction_to_poi\"], color=colors)\n",
    "axes2.set_xlabel(\"Fraction of emails from POI to this person\", fontsize=13)\n",
    "axes2.set_ylabel(\"Fraction of emails from this person to POI\", fontsize=13)\n",
    "axes2.spines['right'].set_visible(False)\n",
    "axes2.spines['top'].set_visible(False)\n",
    "\n",
    "#pic3\n",
    "axes3.scatter(enron_data[\"bonus_to_salary\"], enron_data[\"bonus_to_total\"], color=colors)\n",
    "axes3.set_xlabel(\"Bonus to Salary\", fontsize=13)\n",
    "axes3.set_ylabel(\"Bonus to Total Payments\", fontsize=13)\n",
    "axes3.spines['right'].set_visible(False)\n",
    "axes3.spines['top'].set_visible(False)\n",
    "\n",
    "figure.tight_layout()\n",
    "plt.show()\n"
   ]
  },
  {
   "cell_type": "markdown",
   "metadata": {},
   "source": [
    "# STEP 5: 特徵縮放(Feature Scaling)\n",
    "\n",
    "Algorithms like decision tree and linear regression don't require feature scaling, whereas Support Vector Machines (SVM) and k-means clustering does.\n",
    "\n",
    "SVM and K-Means clustering calculate Euclidean distance between points. If one of the features has a large range, the distance will be governed by this particular feature. These classifiers are affine transformation variant.\n",
    "\n",
    "In case of Linear Regression, there is a coefficient with each feature. If a feature has large ranges that do not effect the label, regression algorithm will make the corresponding coefficients small. Even in case of tree based algorithms, we don't have to worry about one dimension, when we are doing something with the other. These classifers are affine transformation invariant."
   ]
  },
  {
   "cell_type": "markdown",
   "metadata": {},
   "source": [
    "# STEP 5-1:特徵篩選(Feature Selection)\n",
    "Features  ≠  Information. We want to have the minimum number of features than capture trends and patterns in our data. We want to get rid of features that don't give us any information. Machine learning algorithm is just going to be as good as the features we put into it. It is critical that the methodology deployed for feature selection must be scientific and exhaustive without room for intuition."
   ]
  },
  {
   "cell_type": "code",
   "execution_count": 153,
   "metadata": {},
   "outputs": [],
   "source": [
    "# Converting the boolean type of poi column to float values for classification\n",
    "enron_data[\"poi\"] = enron_data[\"poi\"].astype(float)"
   ]
  },
  {
   "cell_type": "markdown",
   "metadata": {},
   "source": [
    "使用套件挑選重要特徵之前，先做資料型態轉換；而且字串欄位也要先丟掉:"
   ]
  },
  {
   "cell_type": "code",
   "execution_count": 110,
   "metadata": {},
   "outputs": [
    {
     "name": "stdout",
     "output_type": "stream",
     "text": [
      "<class 'pandas.core.frame.DataFrame'>\n",
      "Int64Index: 146 entries, 0 to 32\n",
      "Data columns (total 27 columns):\n",
      "bonus                        146 non-null float64\n",
      "deferral_payments            146 non-null float64\n",
      "deferred_income              146 non-null float64\n",
      "director_fees                146 non-null float64\n",
      "email_address                146 non-null object\n",
      "exercised_stock_options      146 non-null float64\n",
      "expenses                     146 non-null float64\n",
      "from_messages                146 non-null float64\n",
      "from_poi_to_this_person      146 non-null float64\n",
      "from_this_person_to_poi      146 non-null float64\n",
      "loan_advances                146 non-null float64\n",
      "long_term_incentive          146 non-null float64\n",
      "name                         146 non-null object\n",
      "other                        146 non-null float64\n",
      "poi                          146 non-null float64\n",
      "restricted_stock             146 non-null float64\n",
      "restricted_stock_deferred    146 non-null float64\n",
      "salary                       146 non-null float64\n",
      "shared_receipt_with_poi      146 non-null float64\n",
      "to_messages                  146 non-null float64\n",
      "total_payments               146 non-null float64\n",
      "total_stock_value            146 non-null float64\n",
      "fraction_from_poi            146 non-null float64\n",
      "fraction_to_poi              146 non-null float64\n",
      "shared_receipt_poi_ratio     146 non-null float64\n",
      "bonus_to_salary              146 non-null float64\n",
      "bonus_to_total               146 non-null float64\n",
      "dtypes: float64(25), object(2)\n",
      "memory usage: 36.9+ KB\n"
     ]
    }
   ],
   "source": [
    "enron_data.info()"
   ]
  },
  {
   "cell_type": "code",
   "execution_count": 111,
   "metadata": {},
   "outputs": [
    {
     "name": "stdout",
     "output_type": "stream",
     "text": [
      "<class 'pandas.core.frame.DataFrame'>\n",
      "Int64Index: 146 entries, 0 to 32\n",
      "Data columns (total 25 columns):\n",
      "bonus                        146 non-null float64\n",
      "deferral_payments            146 non-null float64\n",
      "deferred_income              146 non-null float64\n",
      "director_fees                146 non-null float64\n",
      "exercised_stock_options      146 non-null float64\n",
      "expenses                     146 non-null float64\n",
      "from_messages                146 non-null float64\n",
      "from_poi_to_this_person      146 non-null float64\n",
      "from_this_person_to_poi      146 non-null float64\n",
      "loan_advances                146 non-null float64\n",
      "long_term_incentive          146 non-null float64\n",
      "other                        146 non-null float64\n",
      "poi                          146 non-null float64\n",
      "restricted_stock             146 non-null float64\n",
      "restricted_stock_deferred    146 non-null float64\n",
      "salary                       146 non-null float64\n",
      "shared_receipt_with_poi      146 non-null float64\n",
      "to_messages                  146 non-null float64\n",
      "total_payments               146 non-null float64\n",
      "total_stock_value            146 non-null float64\n",
      "fraction_from_poi            146 non-null float64\n",
      "fraction_to_poi              146 non-null float64\n",
      "shared_receipt_poi_ratio     146 non-null float64\n",
      "bonus_to_salary              146 non-null float64\n",
      "bonus_to_total               146 non-null float64\n",
      "dtypes: float64(25)\n",
      "memory usage: 34.7 KB\n"
     ]
    }
   ],
   "source": [
    "enron_data.drop(['name'],axis=1,inplace=True)\n",
    "enron_data.drop(['email_address'],axis=1,inplace=True)\n",
    "enron_data.info()"
   ]
  },
  {
   "cell_type": "code",
   "execution_count": 154,
   "metadata": {},
   "outputs": [
    {
     "name": "stdout",
     "output_type": "stream",
     "text": [
      "['bonus', 'deferral_payments', 'deferred_income', 'director_fees', 'exercised_stock_options', 'expenses', 'from_messages', 'from_poi_to_this_person', 'from_this_person_to_poi', 'loan_advances', 'long_term_incentive', 'other', 'poi', 'restricted_stock', 'restricted_stock_deferred', 'salary', 'shared_receipt_with_poi', 'to_messages', 'total_payments', 'total_stock_value', 'fraction_from_poi', 'fraction_to_poi', 'shared_receipt_poi_ratio', 'bonus_to_salary', 'bonus_to_total']\n",
      "25\n"
     ]
    }
   ],
   "source": [
    "features_list = list(enron_data.columns)\n",
    "print(features_list)\n",
    "print(len(features_list))"
   ]
  },
  {
   "cell_type": "code",
   "execution_count": 156,
   "metadata": {},
   "outputs": [],
   "source": [
    "labels = enron_data[\"poi\"].tolist()\n",
    "#labels"
   ]
  },
  {
   "cell_type": "code",
   "execution_count": 157,
   "metadata": {},
   "outputs": [],
   "source": [
    "features = enron_data[features_list].values.tolist()\n",
    "#features"
   ]
  },
  {
   "cell_type": "code",
   "execution_count": 174,
   "metadata": {},
   "outputs": [
    {
     "data": {
      "text/plain": [
       "SelectKBest(k=19, score_func=<function f_classif at 0x00000211F936F048>)"
      ]
     },
     "execution_count": 174,
     "metadata": {},
     "output_type": "execute_result"
    }
   ],
   "source": [
    "# Performing feature selection\n",
    "\n",
    "from sklearn.feature_selection import SelectKBest, f_classif \n",
    "selector = SelectKBest(f_classif, k=19) #僅保留19個特徵 #注意第一項參數的設定要考慮到演算法的性質(分類or迴歸)\n",
    "selector.fit(features, labels)  #剛剛轉換過的list\n"
   ]
  },
  {
   "cell_type": "code",
   "execution_count": 181,
   "metadata": {},
   "outputs": [
    {
     "data": {
      "text/plain": [
       "array([0.89303297, 0.57970801, 0.92975055, 0.53954977, 0.48856736,\n",
       "       0.95942774, 0.4082793 , 0.17195119, 0.59241194, 0.04457043,\n",
       "       0.91005136, 0.620185  , 0.        , 0.75854677, 0.95728892,\n",
       "       0.97417428, 0.26570452, 0.78707749, 0.44680267, 0.54888155,\n",
       "       0.13262875, 0.01451212, 0.08424476, 0.35198626, 0.05415429])"
      ]
     },
     "execution_count": 181,
     "metadata": {},
     "output_type": "execute_result"
    }
   ],
   "source": [
    "#P-Value:\n",
    "scores = selector.pvalues_\n",
    "scores"
   ]
  },
  {
   "cell_type": "code",
   "execution_count": 176,
   "metadata": {},
   "outputs": [
    {
     "data": {
      "text/plain": [
       "array([1.81455203e-02, 3.08102682e-01, 7.79919799e-03, 3.78179415e-01,\n",
       "       4.82153235e-01, 2.59695618e-03, 6.87820728e-01, 1.88455765e+00,\n",
       "       2.87877344e-01, 4.10627812e+00, 1.28080315e-02, 2.46672831e-01,\n",
       "                  inf, 9.48482806e-02, 2.87824870e-03, 1.05168551e-03,\n",
       "       1.24847600e+00, 7.32304750e-02, 5.81935122e-01, 3.61026006e-01,\n",
       "       2.28729363e+00, 6.12202280e+00, 3.02268499e+00, 8.71924231e-01,\n",
       "       3.76929362e+00])"
      ]
     },
     "execution_count": 176,
     "metadata": {},
     "output_type": "execute_result"
    }
   ],
   "source": [
    "#卡方值:\n",
    "selector.scores_"
   ]
  },
  {
   "cell_type": "code",
   "execution_count": 177,
   "metadata": {},
   "outputs": [
    {
     "data": {
      "text/plain": [
       "{'k': 19,\n",
       " 'score_func': <function sklearn.feature_selection.univariate_selection.f_classif(X, y)>}"
      ]
     },
     "execution_count": 177,
     "metadata": {},
     "output_type": "execute_result"
    }
   ],
   "source": [
    "selector.get_params()"
   ]
  },
  {
   "cell_type": "code",
   "execution_count": 178,
   "metadata": {},
   "outputs": [
    {
     "data": {
      "text/plain": [
       "array([ 1,  3,  4,  6,  7,  8,  9, 11, 12, 13, 16, 17, 18, 19, 20, 21, 22,\n",
       "       23, 24], dtype=int64)"
      ]
     },
     "execution_count": 178,
     "metadata": {},
     "output_type": "execute_result"
    }
   ],
   "source": [
    "selector.get_support(indices=True)"
   ]
  },
  {
   "cell_type": "code",
   "execution_count": 179,
   "metadata": {},
   "outputs": [
    {
     "data": {
      "text/plain": [
       "array([[0.00000000e+00, 0.00000000e+00, 1.97941750e+07, ...,\n",
       "        9.54696133e-01, 4.16036668e+00, 3.46500347e+00],\n",
       "       [0.00000000e+00, 0.00000000e+00, 1.92500000e+07, ...,\n",
       "        5.62999724e-01, 5.03933380e+00, 6.44959480e-01],\n",
       "       [0.00000000e+00, 0.00000000e+00, 1.62439600e+06, ...,\n",
       "        4.04444444e-01, 9.44090935e-01, 9.98061266e-02],\n",
       "       ...,\n",
       "       [5.04610000e+05, 0.00000000e+00, 2.21827500e+06, ...,\n",
       "        1.36094675e-01, 0.00000000e+00, 0.00000000e+00],\n",
       "       [2.04075000e+05, 0.00000000e+00, 2.54936100e+06, ...,\n",
       "        0.00000000e+00, 8.45819747e-01, 2.28339436e-01],\n",
       "       [0.00000000e+00, 0.00000000e+00, 1.10405400e+06, ...,\n",
       "        9.46072187e-01, 7.01852892e+00, 6.34181763e-01]])"
      ]
     },
     "execution_count": 179,
     "metadata": {},
     "output_type": "execute_result"
    }
   ],
   "source": [
    "new_features_list = selector.fit_transform(features,labels)\n",
    "new_features_list"
   ]
  },
  {
   "cell_type": "markdown",
   "metadata": {},
   "source": [
    "SelectKBest如何選擇特徵?\n",
    "\n",
    "機器學習_ML_feature_selection_SelectKBest:\n",
    "https://martychen920.blogspot.com/2018/04/mlfeatureselectionselectkbest.html\n",
    "\n",
    "\n",
    "[特徵選擇]使用假設檢驗進行特徵選擇:\n",
    "https://ithelp.ithome.com.tw/articles/10205535\n"
   ]
  },
  {
   "cell_type": "code",
   "execution_count": 183,
   "metadata": {},
   "outputs": [
    {
     "data": {
      "image/png": "[encoded data removed]",
      "text/plain": [
       "<Figure size 576x648 with 1 Axes>"
      ]
     },
     "metadata": {
      "needs_background": "light"
     },
     "output_type": "display_data"
    }
   ],
   "source": [
    "# Plotting the features wrt scores\n",
    "\n",
    "figure, axes = plt.subplots(figsize=(8,9))\n",
    "\n",
    "axes.barh(features_list, width=scores) # P-Value\n",
    "\n",
    "axes.set_yticklabels(features_list, fontsize=14)\n",
    "axes.set_xlabel(\"Scores(P-Value)\")\n",
    "axes.set_title(\"Scores of Features\", fontsize=16)\n",
    "\n",
    "axes.spines['right'].set_visible(False)\n",
    "axes.spines['top'].set_visible(False)\n",
    "\n",
    "plt.show()"
   ]
  },
  {
   "cell_type": "code",
   "execution_count": 271,
   "metadata": {},
   "outputs": [],
   "source": [
    "### Updated Features\n",
    "# Selecting all the features with score < 0.5\n",
    "\n",
    "updated_features_list1 = [\"bonus_to_total\",\n",
    "                          \"bonus_to_salary\",\n",
    "                          \"shared_receipt_poi_ratio\",\n",
    "                          \"fraction_to_poi\",\n",
    "                          \"fraction_from_poi\",\n",
    "                          \"total_payments\",\n",
    "                          \"shared_receipt_with_poi\",\n",
    "                          \"loan_advances\",\n",
    "                          \"from_poi_to_this_person\",\n",
    "                          \"exercised_stock_options\"]\n",
    "                          "
   ]
  },
  {
   "cell_type": "code",
   "execution_count": 272,
   "metadata": {},
   "outputs": [],
   "source": [
    "updated_features_list2 = [\"bonus_to_total\",\n",
    "                         \"loan_advances\",\n",
    "                         \"bonus_to_salary\",\n",
    "                         \"deferred_income\",\n",
    "                         \"total_stock_value\",\n",
    "                         \"exercised_stock_options\",\n",
    "                         \"long_term_incentive\",\n",
    "                         \"shared_receipt_poi_ratio\",\n",
    "                         \"restricted_stock\",\n",
    "                         \"fraction_to_poi\"]"
   ]
  },
  {
   "cell_type": "code",
   "execution_count": 273,
   "metadata": {},
   "outputs": [],
   "source": [
    "labels = enron_data[\"poi\"].tolist()\n",
    "features = enron_data[updated_features_list2].values.tolist()\n",
    "#print(labels)\n",
    "#print(features)"
   ]
  },
  {
   "cell_type": "markdown",
   "metadata": {},
   "source": [
    "# STEP 6:使用模型"
   ]
  },
  {
   "cell_type": "code",
   "execution_count": 221,
   "metadata": {},
   "outputs": [
    {
     "data": {
      "text/plain": [
       "0.22602739726027396"
      ]
     },
     "execution_count": 221,
     "metadata": {},
     "output_type": "execute_result"
    }
   ],
   "source": [
    "33/146"
   ]
  },
  {
   "cell_type": "code",
   "execution_count": 274,
   "metadata": {},
   "outputs": [],
   "source": [
    "#Splitting up the data\n",
    "\n",
    "features_train,\\\n",
    "features_test,\\\n",
    "labels_train,\\\n",
    "labels_test = train_test_split(features, labels, test_size=0.226, random_state=67)"
   ]
  },
  {
   "cell_type": "markdown",
   "metadata": {},
   "source": [
    "#Splitting up the data\n",
    "\n",
    "features_train = features[:train.shape[0]]\n",
    "features_test = features[train.shape[0]:]\n",
    "labels_train = labels[:train.shape[0]]\n",
    "labels_test = labels[train.shape[0]:]"
   ]
  },
  {
   "cell_type": "code",
   "execution_count": 275,
   "metadata": {},
   "outputs": [
    {
     "name": "stdout",
     "output_type": "stream",
     "text": [
      "113\n",
      "33\n",
      "113\n",
      "33\n"
     ]
    }
   ],
   "source": [
    "print(len(features_train))\n",
    "print(len(features_test))\n",
    "print(len(labels_train))\n",
    "print(len(labels_test))"
   ]
  },
  {
   "cell_type": "code",
   "execution_count": 277,
   "metadata": {},
   "outputs": [
    {
     "data": {
      "text/html": [
       "<div>\n",
       "<style scoped>\n",
       "    .dataframe tbody tr th:only-of-type {\n",
       "        vertical-align: middle;\n",
       "    }\n",
       "\n",
       "    .dataframe tbody tr th {\n",
       "        vertical-align: top;\n",
       "    }\n",
       "\n",
       "    .dataframe thead th {\n",
       "        text-align: right;\n",
       "    }\n",
       "</style>\n",
       "<table border=\"1\" class=\"dataframe\">\n",
       "  <thead>\n",
       "    <tr style=\"text-align: right;\">\n",
       "      <th></th>\n",
       "      <th>Algorithm</th>\n",
       "      <th>Accuracy</th>\n",
       "      <th>Precision</th>\n",
       "      <th>Recall</th>\n",
       "      <th>F1-Score</th>\n",
       "    </tr>\n",
       "  </thead>\n",
       "  <tbody>\n",
       "    <tr>\n",
       "      <td>0</td>\n",
       "      <td>Decision Tree Classifier</td>\n",
       "      <td>0.848485</td>\n",
       "      <td>0.333333</td>\n",
       "      <td>0.25</td>\n",
       "      <td>0.285714</td>\n",
       "    </tr>\n",
       "    <tr>\n",
       "      <td>1</td>\n",
       "      <td>Gaussian Naive Bayes</td>\n",
       "      <td>0.515152</td>\n",
       "      <td>0.200000</td>\n",
       "      <td>1.00</td>\n",
       "      <td>0.333333</td>\n",
       "    </tr>\n",
       "    <tr>\n",
       "      <td>2</td>\n",
       "      <td>Random Forest Classifier</td>\n",
       "      <td>0.848485</td>\n",
       "      <td>0.000000</td>\n",
       "      <td>0.00</td>\n",
       "      <td>0.000000</td>\n",
       "    </tr>\n",
       "    <tr>\n",
       "      <td>3</td>\n",
       "      <td>K Nearest Neighbors</td>\n",
       "      <td>0.878788</td>\n",
       "      <td>0.000000</td>\n",
       "      <td>0.00</td>\n",
       "      <td>0.000000</td>\n",
       "    </tr>\n",
       "    <tr>\n",
       "      <td>4</td>\n",
       "      <td>Ada Boost Classifier</td>\n",
       "      <td>0.848485</td>\n",
       "      <td>0.000000</td>\n",
       "      <td>0.00</td>\n",
       "      <td>0.000000</td>\n",
       "    </tr>\n",
       "    <tr>\n",
       "      <td>5</td>\n",
       "      <td>Logistic Regression</td>\n",
       "      <td>0.666667</td>\n",
       "      <td>0.000000</td>\n",
       "      <td>0.00</td>\n",
       "      <td>0.000000</td>\n",
       "    </tr>\n",
       "  </tbody>\n",
       "</table>\n",
       "</div>"
      ],
      "text/plain": [
       "                  Algorithm  Accuracy  Precision  Recall  F1-Score\n",
       "0  Decision Tree Classifier  0.848485   0.333333    0.25  0.285714\n",
       "1      Gaussian Naive Bayes  0.515152   0.200000    1.00  0.333333\n",
       "2  Random Forest Classifier  0.848485   0.000000    0.00  0.000000\n",
       "3       K Nearest Neighbors  0.878788   0.000000    0.00  0.000000\n",
       "4      Ada Boost Classifier  0.848485   0.000000    0.00  0.000000\n",
       "5       Logistic Regression  0.666667   0.000000    0.00  0.000000"
      ]
     },
     "execution_count": 277,
     "metadata": {},
     "output_type": "execute_result"
    }
   ],
   "source": [
    "#嘗試比較多種演算法:\n",
    "\n",
    "algorithms = []\n",
    "accuracy = []\n",
    "precision = []\n",
    "recall = []\n",
    "f1score = []\n",
    "\n",
    "models = [(\"Decision Tree Classifier\", DecisionTreeClassifier(random_state=42)),\n",
    "          (\"Gaussian Naive Bayes\", GaussianNB()),\n",
    "          (\"Random Forest Classifier\", RandomForestClassifier(random_state=42, n_estimators=100)),\n",
    "          (\"K Nearest Neighbors\", KNeighborsClassifier()),\n",
    "          (\"Ada Boost Classifier\", AdaBoostClassifier(random_state=42)),\n",
    "          (\"Logistic Regression\", LogisticRegression())]\n",
    "\n",
    "for name, model in models:\n",
    "    \n",
    "    #擬合&預測\n",
    "    clf = model\n",
    "    clf.fit(features_train, labels_train)\n",
    "    predicitons = clf.predict(features_test)\n",
    "    \n",
    "    #加入list\n",
    "    algorithms.append(name)\n",
    "    accuracy.append(accuracy_score(labels_test, predicitons))\n",
    "    precision.append(precision_score(labels_test, predicitons))\n",
    "    recall.append(recall_score(labels_test, predicitons))\n",
    "    f1score.append(f1_score(labels_test, predicitons))\n",
    "\n",
    "evaluation_matrix = {\"Algorithm\": algorithms, \"Accuracy\": accuracy,\n",
    "              \"Precision\": precision, \"Recall\": recall,\n",
    "              \"F1-Score\": f1score} #字典\n",
    "\n",
    "evaluation = pd.DataFrame(evaluation_matrix) \n",
    "\n",
    "evaluation"
   ]
  },
  {
   "cell_type": "markdown",
   "metadata": {},
   "source": [
    "# STEP 6-1:Hyperparameters Optimization\n",
    "\n",
    "Parameter tuning for an algorithm means selecting the good and robust parameter or set of parameters for an algorithm to optimize its performance. Default parameters may not be customized very well for the particular dataset features and might result in poor performance. Scikit learn provides two methods for algorithm parameter tuning/Hyperparameter optimization- GridSearchCV and RandomizedSearchCV.\n",
    "\n",
    "Here GridSearchCV will be used to do exhaustive search over different parameters and find the best parameters.\n",
    "\n",
    "1.) Useing the 'f1' as \"scoring\" parameter to guide the parameter search process to minimize False positives and False negatives.\n",
    "\n",
    "2.) In the \"cv\" parameter, passing a cross validation object StratifiedShuffleSplit to validate my search results that best adapt to dataset characteristics.\n",
    "\n",
    "3.) Choosing Decision Tree Classifier as final algorithm, lets tune it below:"
   ]
  },
  {
   "cell_type": "code",
   "execution_count": 278,
   "metadata": {},
   "outputs": [
    {
     "data": {
      "text/plain": [
       "DecisionTreeClassifier(class_weight=None, criterion='gini', max_depth=5,\n",
       "                       max_features=None, max_leaf_nodes=None,\n",
       "                       min_impurity_decrease=0.0, min_impurity_split=None,\n",
       "                       min_samples_leaf=1, min_samples_split=6,\n",
       "                       min_weight_fraction_leaf=0.0, presort=False,\n",
       "                       random_state=None, splitter='best')"
      ]
     },
     "execution_count": 278,
     "metadata": {},
     "output_type": "execute_result"
    }
   ],
   "source": [
    "### Tuning the Hyper-Parameters\n",
    "clf_parameters = { 'criterion': ['gini', 'entropy'],\n",
    "                   'max_depth': [None, 1, 2, 4, 5, 10, 15, 20],\n",
    "                   'min_samples_split': [2, 4, 6, 8, 10, 20, 30, 40],\n",
    "                   'min_samples_leaf': [1, 2, 3, 4, 5, 6, 7, 8, 10, 20, 30] }\n",
    "\n",
    "cv = StratifiedShuffleSplit(n_splits=5, test_size=0.3, random_state=67)\n",
    "\n",
    "clf = GridSearchCV(DecisionTreeClassifier(),\n",
    "                   param_grid = clf_parameters,\n",
    "                   cv = cv,\n",
    "                   scoring = 'f1')\n",
    "\n",
    "clf.fit(features,labels)\n",
    "\n",
    "best_clf_parameters = clf.best_estimator_\n",
    "best_clf_parameters"
   ]
  },
  {
   "cell_type": "markdown",
   "metadata": {},
   "source": [
    "max_depth determines when the splitting of decision tree node stops. min_samples_split monitors the amount of observations in an internal node; if a certain threshold is not reached (e.g min 5 people) no further splitting can be done.\n",
    "\n",
    ">> To avoid overfitting."
   ]
  },
  {
   "cell_type": "markdown",
   "metadata": {},
   "source": [
    "# STEP 6-2: Validate & Evaluate\n",
    "\n",
    "Validation is the strategy to evaluate the performance of the model on unseen data. A classic mistake is to evaluate the performance of an algorithm on the same dataset it was trained on. It will make our algorithm perform better than it actually does. However, we will have no idea how our algorithm performs on unseen data.\n",
    "\n",
    "It is essential practice in data mining procedures to keep a subset of data as holdout data- test data. We train our model on training data and examine the generalization performance of the model on the test data. We hide the label for target variable of the test data from the model and let the model predict the values for target variable. Then we compare the values predicted by the model with the hidden true values. We can also use a more sophisticated holdout training and testing procedure called cross-validation.\n",
    "\n",
    "In our case, I used a variation of k-fold cross-validation called StratifiedShuffleSplit. \n",
    "\n",
    "\n",
    "StratifiedShuffleSplit will make randomly chosen training and test sets multiple times and average the results over all the tests. Data is first shuffled and then split into a pair of training and test sets. Stratification ensures training and test splits have class distribution (POI:Non-POI) that represents the overall data. \n",
    "\n",
    "Stratification is well suited in our case because of class imbalance (18 POI vs 128 Non-POI).\n",
    "\n",
    "There are a number of evaluation metrics for classification challenges. In balanced classes, where all the labels are equally represented, we look at the classification accuracy of the model.\n",
    "\n",
    "However, accuracy is not ideal for skewed classes. In our case, number of POI are small compared to non-POI (18 vs 128). We can have high accuracy by classifying many non-POI correctly and still not have a POI classiifed correctly. For imbalanced classes like we have, Precision and Recall are common measures of model performance:"
   ]
  },
  {
   "cell_type": "markdown",
   "metadata": {},
   "source": [
    "#Precision = True Positive / (True Positive + False Positive)\n",
    "\n",
    "#Recall = True Positive / (True Positive + False Negative)\n",
    "\n",
    "\n",
    "A good precision means that whenever a POI gets flagged in my test set, I know with a lot of confidence that it's very likely to be a real POI and not a false alarm. A low precision indicates a large number of False Positives, where non-POI gets flagged as POI.\n",
    "\n",
    "A good recall means nearly I am able to identify a POI everytime it shows up in test cases. A low recall indicates many False Negatives, where POIs don't get flagged correctly.\n",
    "\n",
    "\n",
    "F1 score conveys a balance between precision and recall. It is the harmonic mean of precision and recall:\n",
    "\n",
    "#F1 Score = 2 * (Precision * Recall) / ( Precision + Recall)\n",
    "\n",
    "A good F1-score means both my false positives and false negatives are low, I can identify my POI's reliably and accurately.\n"
   ]
  },
  {
   "cell_type": "markdown",
   "metadata": {},
   "source": [
    "# STEP 6-3: Final Algorithm Performance"
   ]
  },
  {
   "cell_type": "code",
   "execution_count": 279,
   "metadata": {},
   "outputs": [
    {
     "name": "stdout",
     "output_type": "stream",
     "text": [
      "Accuracy: 0.848\n",
      "Precision: 0.333\n",
      "Recall: 0.25\n",
      "F1-Score: 0.286\n",
      "Done in 0.014s\n"
     ]
    }
   ],
   "source": [
    "from time import time \n",
    "t0 = time() #運行時間\n",
    "\n",
    "clf = DecisionTreeClassifier(random_state=42)\n",
    "\n",
    "clf.fit(features_train, labels_train)\n",
    "predictions1 = clf.predict(features_test)\n",
    "\n",
    "accuracy.append((accuracy_score(labels_test, predictions1)))\n",
    "precision.append((precision_score(labels_test, predictions1)))\n",
    "recall.append((recall_score(labels_test, predictions1)))\n",
    "f1score.append((f1_score(labels_test, predictions1)))\n",
    "\n",
    "print(\"Accuracy:\", round(accuracy_score(labels_test, predictions1), 3))\n",
    "print(\"Precision:\", round(precision_score(labels_test, predictions1), 3))\n",
    "print(\"Recall:\", round(recall_score(labels_test, predictions1), 3))\n",
    "print(\"F1-Score:\", round(f1_score(labels_test, predictions1), 3))\n",
    "print(\"Done in\", str(round(time()-t0, 3)) + \"s\")"
   ]
  },
  {
   "cell_type": "code",
   "execution_count": 280,
   "metadata": {},
   "outputs": [
    {
     "name": "stdout",
     "output_type": "stream",
     "text": [
      "Accuracy: 0.818\n",
      "Precision: 0.0\n",
      "Recall: 0.0\n",
      "F1-Score: 0.0\n",
      "Done in 0.014s\n"
     ]
    }
   ],
   "source": [
    "t0 = time()\n",
    "\n",
    "clf2 = DecisionTreeClassifier(class_weight=None, criterion='entropy', max_depth=None,\n",
    "            max_features=None, max_leaf_nodes=None,\n",
    "            min_impurity_decrease=0.0, min_impurity_split=None,\n",
    "            min_samples_leaf=6, min_samples_split=2,\n",
    "            min_weight_fraction_leaf=0.0, presort=False, random_state=1,\n",
    "            splitter='best')\n",
    "\n",
    "clf2.fit(features_train, labels_train)\n",
    "predictions2 = clf2.predict(features_test)\n",
    "\n",
    "accuracy.append((accuracy_score(labels_test, predictions2)))\n",
    "precision.append((precision_score(labels_test, predictions2)))\n",
    "recall.append((recall_score(labels_test, predictions2)))\n",
    "f1score.append((f1_score(labels_test, predictions2)))\n",
    "\n",
    "print(\"Accuracy:\", round(accuracy_score(labels_test, predictions2), 3))\n",
    "print(\"Precision:\", round(precision_score(labels_test, predictions2), 3))\n",
    "print(\"Recall:\", round(recall_score(labels_test, predictions2), 3))\n",
    "print(\"F1-Score:\", round(f1_score(labels_test, predictions2), 3))\n",
    "print(\"Done in\", str(round(time()-t0, 3)) + \"s\")"
   ]
  },
  {
   "cell_type": "code",
   "execution_count": 281,
   "metadata": {},
   "outputs": [
    {
     "name": "stdout",
     "output_type": "stream",
     "text": [
      "Accuracy: 0.848\n",
      "Precision: 0.0\n",
      "Recall: 0.0\n",
      "F1-Score: 0.0\n",
      "Done in 0.014s\n"
     ]
    }
   ],
   "source": [
    "from time import time \n",
    "t0 = time() #運行時間\n",
    "\n",
    "best_clf_parameters.fit(features_train, labels_train)\n",
    "prediction3 = best_clf_parameters.predict(features_test)\n",
    "\n",
    "accuracy.append((accuracy_score(labels_test, prediction3)))\n",
    "precision.append((precision_score(labels_test, prediction3)))\n",
    "recall.append((recall_score(labels_test, prediction3)))\n",
    "f1score.append((f1_score(labels_test, prediction3)))\n",
    "\n",
    "print(\"Accuracy:\", round(accuracy_score(labels_test, prediction3), 3))\n",
    "print(\"Precision:\", round(precision_score(labels_test, prediction3), 3))\n",
    "print(\"Recall:\", round(recall_score(labels_test, prediction3), 3))\n",
    "print(\"F1-Score:\", round(f1_score(labels_test, prediction3), 3))\n",
    "print(\"Done in\", str(round(time()-t0, 3)) + \"s\")"
   ]
  },
  {
   "cell_type": "markdown",
   "metadata": {},
   "source": [
    "# Conclusion\n",
    "\n",
    "These numbers are quite good but we still can improve the strategy. One of the possible paths to improvement is digging in to the emails data more. The email features in the starter dataset were aggregated over all the messages for a given person. By digging into the text of each individual’s messages, it’s possible that more detailed patterns (say, messages to/from a specific address, rather than just messages to/from any POI address, or the usage of specific vocabulary terms) might emerge."
   ]
  },
  {
   "cell_type": "code",
   "execution_count": 283,
   "metadata": {},
   "outputs": [
    {
     "name": "stdout",
     "output_type": "stream",
     "text": [
      "33\n"
     ]
    },
    {
     "data": {
      "text/html": [
       "<div>\n",
       "<style scoped>\n",
       "    .dataframe tbody tr th:only-of-type {\n",
       "        vertical-align: middle;\n",
       "    }\n",
       "\n",
       "    .dataframe tbody tr th {\n",
       "        vertical-align: top;\n",
       "    }\n",
       "\n",
       "    .dataframe thead th {\n",
       "        text-align: right;\n",
       "    }\n",
       "</style>\n",
       "<table border=\"1\" class=\"dataframe\">\n",
       "  <thead>\n",
       "    <tr style=\"text-align: right;\">\n",
       "      <th></th>\n",
       "      <th>name</th>\n",
       "    </tr>\n",
       "  </thead>\n",
       "  <tbody>\n",
       "    <tr>\n",
       "      <td>0</td>\n",
       "      <td>BELDEN TIMOTHY N</td>\n",
       "    </tr>\n",
       "    <tr>\n",
       "      <td>1</td>\n",
       "      <td>BOWEN JR RAYMOND M</td>\n",
       "    </tr>\n",
       "    <tr>\n",
       "      <td>2</td>\n",
       "      <td>HANNON KEVIN P</td>\n",
       "    </tr>\n",
       "    <tr>\n",
       "      <td>3</td>\n",
       "      <td>DELAINEY DAVID W</td>\n",
       "    </tr>\n",
       "    <tr>\n",
       "      <td>4</td>\n",
       "      <td>CAUSEY RICHARD A</td>\n",
       "    </tr>\n",
       "    <tr>\n",
       "      <td>5</td>\n",
       "      <td>HICKERSON GARY J</td>\n",
       "    </tr>\n",
       "    <tr>\n",
       "      <td>6</td>\n",
       "      <td>FREVERT MARK A</td>\n",
       "    </tr>\n",
       "    <tr>\n",
       "      <td>7</td>\n",
       "      <td>CHAN RONNIE</td>\n",
       "    </tr>\n",
       "    <tr>\n",
       "      <td>8</td>\n",
       "      <td>DONAHUE JR JEFFREY M</td>\n",
       "    </tr>\n",
       "    <tr>\n",
       "      <td>9</td>\n",
       "      <td>REYNOLDS LAWRENCE</td>\n",
       "    </tr>\n",
       "    <tr>\n",
       "      <td>10</td>\n",
       "      <td>HORTON STANLEY C</td>\n",
       "    </tr>\n",
       "    <tr>\n",
       "      <td>11</td>\n",
       "      <td>LEWIS RICHARD</td>\n",
       "    </tr>\n",
       "    <tr>\n",
       "      <td>12</td>\n",
       "      <td>SHERRICK JEFFREY B</td>\n",
       "    </tr>\n",
       "    <tr>\n",
       "      <td>13</td>\n",
       "      <td>MEYER JEROME J</td>\n",
       "    </tr>\n",
       "    <tr>\n",
       "      <td>14</td>\n",
       "      <td>DERRICK JR. JAMES V</td>\n",
       "    </tr>\n",
       "    <tr>\n",
       "      <td>15</td>\n",
       "      <td>PIRO JIM</td>\n",
       "    </tr>\n",
       "    <tr>\n",
       "      <td>16</td>\n",
       "      <td>DETMERING TIMOTHY J</td>\n",
       "    </tr>\n",
       "    <tr>\n",
       "      <td>17</td>\n",
       "      <td>KISHKILL JOSEPH G</td>\n",
       "    </tr>\n",
       "    <tr>\n",
       "      <td>18</td>\n",
       "      <td>BAY FRANKLIN R</td>\n",
       "    </tr>\n",
       "    <tr>\n",
       "      <td>19</td>\n",
       "      <td>PRENTICE JAMES</td>\n",
       "    </tr>\n",
       "    <tr>\n",
       "      <td>20</td>\n",
       "      <td>TOTAL</td>\n",
       "    </tr>\n",
       "    <tr>\n",
       "      <td>21</td>\n",
       "      <td>FALLON JAMES B</td>\n",
       "    </tr>\n",
       "    <tr>\n",
       "      <td>22</td>\n",
       "      <td>METTS MARK</td>\n",
       "    </tr>\n",
       "    <tr>\n",
       "      <td>23</td>\n",
       "      <td>WODRASKA JOHN</td>\n",
       "    </tr>\n",
       "    <tr>\n",
       "      <td>24</td>\n",
       "      <td>MORDAUNT KRISTINA M</td>\n",
       "    </tr>\n",
       "    <tr>\n",
       "      <td>25</td>\n",
       "      <td>CARTER REBECCA C</td>\n",
       "    </tr>\n",
       "    <tr>\n",
       "      <td>26</td>\n",
       "      <td>BHATNAGAR SANJAY</td>\n",
       "    </tr>\n",
       "    <tr>\n",
       "      <td>27</td>\n",
       "      <td>WALTERS GARETH W</td>\n",
       "    </tr>\n",
       "    <tr>\n",
       "      <td>28</td>\n",
       "      <td>BIBI PHILIPPE A</td>\n",
       "    </tr>\n",
       "    <tr>\n",
       "      <td>29</td>\n",
       "      <td>SHERRIFF JOHN R</td>\n",
       "    </tr>\n",
       "    <tr>\n",
       "      <td>30</td>\n",
       "      <td>GIBBS DANA R</td>\n",
       "    </tr>\n",
       "    <tr>\n",
       "      <td>31</td>\n",
       "      <td>LINDHOLM TOD A</td>\n",
       "    </tr>\n",
       "    <tr>\n",
       "      <td>32</td>\n",
       "      <td>MCMAHON JEFFREY</td>\n",
       "    </tr>\n",
       "  </tbody>\n",
       "</table>\n",
       "</div>"
      ],
      "text/plain": [
       "                    name\n",
       "0       BELDEN TIMOTHY N\n",
       "1     BOWEN JR RAYMOND M\n",
       "2         HANNON KEVIN P\n",
       "3       DELAINEY DAVID W\n",
       "4       CAUSEY RICHARD A\n",
       "5       HICKERSON GARY J\n",
       "6         FREVERT MARK A\n",
       "7            CHAN RONNIE\n",
       "8   DONAHUE JR JEFFREY M\n",
       "9      REYNOLDS LAWRENCE\n",
       "10      HORTON STANLEY C\n",
       "11         LEWIS RICHARD\n",
       "12    SHERRICK JEFFREY B\n",
       "13        MEYER JEROME J\n",
       "14   DERRICK JR. JAMES V\n",
       "15              PIRO JIM\n",
       "16   DETMERING TIMOTHY J\n",
       "17     KISHKILL JOSEPH G\n",
       "18        BAY FRANKLIN R\n",
       "19        PRENTICE JAMES\n",
       "20                 TOTAL\n",
       "21        FALLON JAMES B\n",
       "22            METTS MARK\n",
       "23         WODRASKA JOHN\n",
       "24   MORDAUNT KRISTINA M\n",
       "25      CARTER REBECCA C\n",
       "26      BHATNAGAR SANJAY\n",
       "27      WALTERS GARETH W\n",
       "28       BIBI PHILIPPE A\n",
       "29       SHERRIFF JOHN R\n",
       "30          GIBBS DANA R\n",
       "31        LINDHOLM TOD A\n",
       "32       MCMAHON JEFFREY"
      ]
     },
     "execution_count": 283,
     "metadata": {},
     "output_type": "execute_result"
    }
   ],
   "source": [
    "# Submit to Kaggle:\n",
    "\n",
    "print(len(prediction3))\n",
    "\n",
    "sub = pd.DataFrame({'name': ids})\n",
    "sub\n",
    "\n",
    "# length is matched."
   ]
  },
  {
   "cell_type": "code",
   "execution_count": 284,
   "metadata": {},
   "outputs": [],
   "source": [
    "sub = pd.DataFrame({'name': ids, 'poi': prediction3})\n",
    "sub['poi'] = sub['poi'].map(lambda x:1 if x>0.5 else 0) \n",
    "sub.to_csv('EnronFraud_rf4.csv', index=False)"
   ]
  },
  {
   "cell_type": "code",
   "execution_count": 285,
   "metadata": {},
   "outputs": [
    {
     "data": {
      "text/html": [
       "<div>\n",
       "<style scoped>\n",
       "    .dataframe tbody tr th:only-of-type {\n",
       "        vertical-align: middle;\n",
       "    }\n",
       "\n",
       "    .dataframe tbody tr th {\n",
       "        vertical-align: top;\n",
       "    }\n",
       "\n",
       "    .dataframe thead th {\n",
       "        text-align: right;\n",
       "    }\n",
       "</style>\n",
       "<table border=\"1\" class=\"dataframe\">\n",
       "  <thead>\n",
       "    <tr style=\"text-align: right;\">\n",
       "      <th></th>\n",
       "      <th>name</th>\n",
       "      <th>poi</th>\n",
       "    </tr>\n",
       "  </thead>\n",
       "  <tbody>\n",
       "    <tr>\n",
       "      <td>0</td>\n",
       "      <td>BELDEN TIMOTHY N</td>\n",
       "      <td>0</td>\n",
       "    </tr>\n",
       "    <tr>\n",
       "      <td>1</td>\n",
       "      <td>BOWEN JR RAYMOND M</td>\n",
       "      <td>0</td>\n",
       "    </tr>\n",
       "    <tr>\n",
       "      <td>2</td>\n",
       "      <td>HANNON KEVIN P</td>\n",
       "      <td>0</td>\n",
       "    </tr>\n",
       "    <tr>\n",
       "      <td>3</td>\n",
       "      <td>DELAINEY DAVID W</td>\n",
       "      <td>0</td>\n",
       "    </tr>\n",
       "    <tr>\n",
       "      <td>4</td>\n",
       "      <td>CAUSEY RICHARD A</td>\n",
       "      <td>0</td>\n",
       "    </tr>\n",
       "    <tr>\n",
       "      <td>5</td>\n",
       "      <td>HICKERSON GARY J</td>\n",
       "      <td>0</td>\n",
       "    </tr>\n",
       "    <tr>\n",
       "      <td>6</td>\n",
       "      <td>FREVERT MARK A</td>\n",
       "      <td>0</td>\n",
       "    </tr>\n",
       "    <tr>\n",
       "      <td>7</td>\n",
       "      <td>CHAN RONNIE</td>\n",
       "      <td>0</td>\n",
       "    </tr>\n",
       "    <tr>\n",
       "      <td>8</td>\n",
       "      <td>DONAHUE JR JEFFREY M</td>\n",
       "      <td>0</td>\n",
       "    </tr>\n",
       "    <tr>\n",
       "      <td>9</td>\n",
       "      <td>REYNOLDS LAWRENCE</td>\n",
       "      <td>0</td>\n",
       "    </tr>\n",
       "    <tr>\n",
       "      <td>10</td>\n",
       "      <td>HORTON STANLEY C</td>\n",
       "      <td>0</td>\n",
       "    </tr>\n",
       "    <tr>\n",
       "      <td>11</td>\n",
       "      <td>LEWIS RICHARD</td>\n",
       "      <td>0</td>\n",
       "    </tr>\n",
       "    <tr>\n",
       "      <td>12</td>\n",
       "      <td>SHERRICK JEFFREY B</td>\n",
       "      <td>0</td>\n",
       "    </tr>\n",
       "    <tr>\n",
       "      <td>13</td>\n",
       "      <td>MEYER JEROME J</td>\n",
       "      <td>0</td>\n",
       "    </tr>\n",
       "    <tr>\n",
       "      <td>14</td>\n",
       "      <td>DERRICK JR. JAMES V</td>\n",
       "      <td>0</td>\n",
       "    </tr>\n",
       "    <tr>\n",
       "      <td>15</td>\n",
       "      <td>PIRO JIM</td>\n",
       "      <td>0</td>\n",
       "    </tr>\n",
       "    <tr>\n",
       "      <td>16</td>\n",
       "      <td>DETMERING TIMOTHY J</td>\n",
       "      <td>0</td>\n",
       "    </tr>\n",
       "    <tr>\n",
       "      <td>17</td>\n",
       "      <td>KISHKILL JOSEPH G</td>\n",
       "      <td>0</td>\n",
       "    </tr>\n",
       "    <tr>\n",
       "      <td>18</td>\n",
       "      <td>BAY FRANKLIN R</td>\n",
       "      <td>0</td>\n",
       "    </tr>\n",
       "    <tr>\n",
       "      <td>19</td>\n",
       "      <td>PRENTICE JAMES</td>\n",
       "      <td>0</td>\n",
       "    </tr>\n",
       "    <tr>\n",
       "      <td>20</td>\n",
       "      <td>TOTAL</td>\n",
       "      <td>0</td>\n",
       "    </tr>\n",
       "    <tr>\n",
       "      <td>21</td>\n",
       "      <td>FALLON JAMES B</td>\n",
       "      <td>0</td>\n",
       "    </tr>\n",
       "    <tr>\n",
       "      <td>22</td>\n",
       "      <td>METTS MARK</td>\n",
       "      <td>1</td>\n",
       "    </tr>\n",
       "    <tr>\n",
       "      <td>23</td>\n",
       "      <td>WODRASKA JOHN</td>\n",
       "      <td>0</td>\n",
       "    </tr>\n",
       "    <tr>\n",
       "      <td>24</td>\n",
       "      <td>MORDAUNT KRISTINA M</td>\n",
       "      <td>0</td>\n",
       "    </tr>\n",
       "    <tr>\n",
       "      <td>25</td>\n",
       "      <td>CARTER REBECCA C</td>\n",
       "      <td>0</td>\n",
       "    </tr>\n",
       "    <tr>\n",
       "      <td>26</td>\n",
       "      <td>BHATNAGAR SANJAY</td>\n",
       "      <td>0</td>\n",
       "    </tr>\n",
       "    <tr>\n",
       "      <td>27</td>\n",
       "      <td>WALTERS GARETH W</td>\n",
       "      <td>0</td>\n",
       "    </tr>\n",
       "    <tr>\n",
       "      <td>28</td>\n",
       "      <td>BIBI PHILIPPE A</td>\n",
       "      <td>0</td>\n",
       "    </tr>\n",
       "    <tr>\n",
       "      <td>29</td>\n",
       "      <td>SHERRIFF JOHN R</td>\n",
       "      <td>0</td>\n",
       "    </tr>\n",
       "    <tr>\n",
       "      <td>30</td>\n",
       "      <td>GIBBS DANA R</td>\n",
       "      <td>0</td>\n",
       "    </tr>\n",
       "    <tr>\n",
       "      <td>31</td>\n",
       "      <td>LINDHOLM TOD A</td>\n",
       "      <td>0</td>\n",
       "    </tr>\n",
       "    <tr>\n",
       "      <td>32</td>\n",
       "      <td>MCMAHON JEFFREY</td>\n",
       "      <td>0</td>\n",
       "    </tr>\n",
       "  </tbody>\n",
       "</table>\n",
       "</div>"
      ],
      "text/plain": [
       "                    name  poi\n",
       "0       BELDEN TIMOTHY N    0\n",
       "1     BOWEN JR RAYMOND M    0\n",
       "2         HANNON KEVIN P    0\n",
       "3       DELAINEY DAVID W    0\n",
       "4       CAUSEY RICHARD A    0\n",
       "5       HICKERSON GARY J    0\n",
       "6         FREVERT MARK A    0\n",
       "7            CHAN RONNIE    0\n",
       "8   DONAHUE JR JEFFREY M    0\n",
       "9      REYNOLDS LAWRENCE    0\n",
       "10      HORTON STANLEY C    0\n",
       "11         LEWIS RICHARD    0\n",
       "12    SHERRICK JEFFREY B    0\n",
       "13        MEYER JEROME J    0\n",
       "14   DERRICK JR. JAMES V    0\n",
       "15              PIRO JIM    0\n",
       "16   DETMERING TIMOTHY J    0\n",
       "17     KISHKILL JOSEPH G    0\n",
       "18        BAY FRANKLIN R    0\n",
       "19        PRENTICE JAMES    0\n",
       "20                 TOTAL    0\n",
       "21        FALLON JAMES B    0\n",
       "22            METTS MARK    1\n",
       "23         WODRASKA JOHN    0\n",
       "24   MORDAUNT KRISTINA M    0\n",
       "25      CARTER REBECCA C    0\n",
       "26      BHATNAGAR SANJAY    0\n",
       "27      WALTERS GARETH W    0\n",
       "28       BIBI PHILIPPE A    0\n",
       "29       SHERRIFF JOHN R    0\n",
       "30          GIBBS DANA R    0\n",
       "31        LINDHOLM TOD A    0\n",
       "32       MCMAHON JEFFREY    0"
      ]
     },
     "execution_count": 285,
     "metadata": {},
     "output_type": "execute_result"
    }
   ],
   "source": [
    "# check:\n",
    "sub = pd.read_csv('C:/Users/USER/Desktop/Github/ML100Days/Midtern Exam_Kaggle_Project/EnronFraud_rf4.csv')\n",
    "sub"
   ]
  },
  {
   "cell_type": "markdown",
   "metadata": {},
   "source": [
    "# 0.42857\n",
    "# 0.46428\n",
    "# 0.42857\n",
    "# 0.48214\n"
   ]
  }
 ],
 "metadata": {
  "kernelspec": {
   "display_name": "Python 3",
   "language": "python",
   "name": "python3"
  },
  "language_info": {
   "codemirror_mode": {
    "name": "ipython",
    "version": 3
   },
   "file_extension": ".py",
   "mimetype": "text/x-python",
   "name": "python",
   "nbconvert_exporter": "python",
   "pygments_lexer": "ipython3",
   "version": "3.7.4"
  }
 },
 "nbformat": 4,
 "nbformat_minor": 2
}
